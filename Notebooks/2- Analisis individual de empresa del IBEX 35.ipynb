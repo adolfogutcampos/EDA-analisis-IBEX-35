{
 "cells": [
  {
   "cell_type": "markdown",
   "metadata": {},
   "source": [
    "# Indice:\n",
    "\n",
    "- [0- Introduccion](#0--Introduccion)\n",
    "- [1- Importar librerias necesarias](#1--Importar-librerias-necesarias)\n",
    "    - [1.1- Importar datasets de archivos del repositorio](#11--Importar-datasets-de-archivos-del-repositorio)\n",
    "- [2- Seleccion de empresa dentro del IBEX-35](#2--Seleccion-de-empresa-dentro-del-IBEX-35)\n",
    "    - [2.1- Dataset de empresa individual](#21--Dataset-de-empresa-individual)\n",
    "- [3- Analisis individual de la empresa](#3--Analisis-individual-de-la-empresa)\n",
    "    - [3.1- Evolucion del precio de cierre de las acciones de la empresa en el periodo 2019-2024](#31--Evolucion-del-precio-de-cierre-de-las-acciones-de-la-empresa-en-el-periodo-2019-2024)\n",
    "        - [3.1.1- Evolucion entre Open y Close en la cotizacion de acciones de ACS (en EUR) entre 01/01/2019 a 30/04/2024](#311--Evolucion-entre-Open-y-Close-en-la-cotizacion-de-acciones-de-ACS-en-EUR-entre-01012019-a-30042024)\n",
    "    - [3.2- Analisis de estadistica descriptiva acerca de la empresa](#32--Analisis-de-estadistica-descriptiva-acerca-de-la-empresa)\n",
    "        - [3.2.1- Variaciones a lo largo del periodo 2019 a 2024 entre Open y Close](#321--Variaciones-a-lo-largo-del-periodo-2019-a-2024-entre-Open-y-Close)\n",
    "        - [3.2.2- Conceptos estadisticos en el analisis de datos de Close de la empresa entre 2019 y 2024](#322--Conceptos-estadisticos-en-el-analisis-de-datos-de-Close-de-la-empresa-entre-2019-y-2024)\n",
    "        - [3.2.3- Analisis multivariables de las cotizaciones de la empresa](#323--Analisis-multivariables-de-las-cotizaciones-de-la-empresa)\n",
    "    - [3.3- Variaciones importantes de precios dentro de los años 2019 a 2024 de la empresa a analizar](#33--Variaciones-importantes-de-precios-dentro-de-los-años-2019-a-2024-de-la-empresa-a-analizar)\n",
    "        - [3.3.1- Mayores incrementos de precio de cierre por mes de cada año](#331--Mayores-incrementos-de-precio-de-cierre-por-mes-de-cada-año)\n",
    "        - [3.3.2- Mayores 5 incrementos de precio de cierre de cada año](#332--Mayores-5-incrementos-de-precio-de-cierre-de-cada-año)\n",
    "        - [3.3.3- Mayores disminuciones de precio de cierre por mes de cada año](#333--Mayores-disminuciones-de-precio-de-cierre-por-mes-de-cada-año)\n",
    "        - [3.3.4- Mayores 5 incrementos en negativo de precio de cierre de cada año](#334--Mayores-5-incrementos-en-negativo-de-precio-de-cierre-de-cada-año)\n",
    "- [4- Analisis de rentabilidad de acciones y exposicion de dividendos](#4--Analisis-de-rentabilidad-de-acciones-y-exposicion-de-dividendos)\n",
    "    - [4.1- Analisis de rentabilidad de acciones de la empresa por año](#41--Analisis-de-rentabilidad-de-acciones-de-la-empresa-por-año)\n",
    "        - [4.1.1- Ejemplo de la variacion porcentual en el Close que ha habido de una fecha inicial respecto a otra fecha final](#411--Ejemplo-de-la-variacion-porcentual-en-el-Close-que-ha-habido-de-una-fecha-inicial-respecto-a-otra-fecha-final)\n",
    "        - [4.1.2- Rentabilidad de acciones de la empresa en cada mes de cada año](#412--Rentabilidad-de-acciones-de-la-empresa-en-cada-mes-de-cada-año)\n",
    "    - [4.2- Analisis de dividendos de acciones de la empresa por año](#42--Analisis-de-dividendos-de-acciones-de-la-empresa-por-año)\n",
    "\n",
    "   \n"
   ]
  },
  {
   "cell_type": "markdown",
   "metadata": {},
   "source": [
    "# 0- Introduccion\n",
    "\n",
    "El objetivo de este proyecto es analizar los datos financieros del precio de las acciones de una empresa del IBEX-35, tomando los datos de entre 01/01/2019 y 30/04/2024. Es decir, una serie temporal de 5 años y 4 meses.\n",
    "\n",
    "De entre las 35 empresas que conforman el IBEX-35, se va a tomar como referencia la empresa ACS (Actividades de Construcción y Servicios, S.A.). Por lo que mediante este archivo, se realizará un análisis de forma individual de ACS. No obstante, al cargar los datos de otra empresa, a través de uno de los datasets disponibles, se adaptarán los cambios a gusto del usuario para otra de las empresas del IBEX-35."
   ]
  },
  {
   "cell_type": "markdown",
   "metadata": {},
   "source": [
    "# 1- Importar librerias necesarias"
   ]
  },
  {
   "cell_type": "code",
   "execution_count": 65,
   "metadata": {},
   "outputs": [],
   "source": [
    "import pandas as pd\n",
    "import matplotlib.pyplot as plt\n",
    "import seaborn as sns\n",
    "import numpy as np\n",
    "\n",
    "import plotly as pl\n",
    "from plotly.offline import iplot\n",
    "import plotly.graph_objs as go\n",
    "import plotly.express as px\n",
    "\n",
    "from scipy import stats\n",
    "from scipy.stats import skew, kurtosis\n",
    "\n",
    "import warnings\n",
    "warnings.filterwarnings('ignore')"
   ]
  },
  {
   "cell_type": "markdown",
   "metadata": {},
   "source": [
    "## 1.1- Importar datasets de archivos del repositorio"
   ]
  },
  {
   "cell_type": "markdown",
   "metadata": {},
   "source": [
    "Aquí vamos a realizar la lectura (pd.read_csv) de los datasets de las 35 empresas. Vamos a ver la de ACS como ejemplo."
   ]
  },
  {
   "cell_type": "code",
   "execution_count": 66,
   "metadata": {},
   "outputs": [
    {
     "data": {
      "text/html": [
       "<div>\n",
       "<style scoped>\n",
       "    .dataframe tbody tr th:only-of-type {\n",
       "        vertical-align: middle;\n",
       "    }\n",
       "\n",
       "    .dataframe tbody tr th {\n",
       "        vertical-align: top;\n",
       "    }\n",
       "\n",
       "    .dataframe thead th {\n",
       "        text-align: right;\n",
       "    }\n",
       "</style>\n",
       "<table border=\"1\" class=\"dataframe\">\n",
       "  <thead>\n",
       "    <tr style=\"text-align: right;\">\n",
       "      <th></th>\n",
       "      <th>Date</th>\n",
       "      <th>Open</th>\n",
       "      <th>High</th>\n",
       "      <th>Low</th>\n",
       "      <th>Close</th>\n",
       "      <th>Volume</th>\n",
       "      <th>Dividends</th>\n",
       "      <th>Stock Splits</th>\n",
       "    </tr>\n",
       "  </thead>\n",
       "  <tbody>\n",
       "    <tr>\n",
       "      <th>0</th>\n",
       "      <td>2019-01-02</td>\n",
       "      <td>22.949238</td>\n",
       "      <td>22.949238</td>\n",
       "      <td>22.233563</td>\n",
       "      <td>22.656151</td>\n",
       "      <td>579957</td>\n",
       "      <td>0.0</td>\n",
       "      <td>0.0</td>\n",
       "    </tr>\n",
       "    <tr>\n",
       "      <th>1</th>\n",
       "      <td>2019-01-03</td>\n",
       "      <td>22.424411</td>\n",
       "      <td>22.921972</td>\n",
       "      <td>22.356252</td>\n",
       "      <td>22.710680</td>\n",
       "      <td>826120</td>\n",
       "      <td>0.0</td>\n",
       "      <td>0.0</td>\n",
       "    </tr>\n",
       "    <tr>\n",
       "      <th>2</th>\n",
       "      <td>2019-01-04</td>\n",
       "      <td>22.969682</td>\n",
       "      <td>23.167346</td>\n",
       "      <td>22.881075</td>\n",
       "      <td>23.051474</td>\n",
       "      <td>962645</td>\n",
       "      <td>0.0</td>\n",
       "      <td>0.0</td>\n",
       "    </tr>\n",
       "    <tr>\n",
       "      <th>3</th>\n",
       "      <td>2019-01-07</td>\n",
       "      <td>23.242326</td>\n",
       "      <td>23.378644</td>\n",
       "      <td>22.921976</td>\n",
       "      <td>23.126453</td>\n",
       "      <td>1501743</td>\n",
       "      <td>0.0</td>\n",
       "      <td>0.0</td>\n",
       "    </tr>\n",
       "    <tr>\n",
       "      <th>4</th>\n",
       "      <td>2019-01-08</td>\n",
       "      <td>23.119633</td>\n",
       "      <td>23.603565</td>\n",
       "      <td>23.065107</td>\n",
       "      <td>23.365009</td>\n",
       "      <td>1264760</td>\n",
       "      <td>0.0</td>\n",
       "      <td>0.0</td>\n",
       "    </tr>\n",
       "    <tr>\n",
       "      <th>...</th>\n",
       "      <td>...</td>\n",
       "      <td>...</td>\n",
       "      <td>...</td>\n",
       "      <td>...</td>\n",
       "      <td>...</td>\n",
       "      <td>...</td>\n",
       "      <td>...</td>\n",
       "      <td>...</td>\n",
       "    </tr>\n",
       "    <tr>\n",
       "      <th>1359</th>\n",
       "      <td>2024-04-23</td>\n",
       "      <td>38.500000</td>\n",
       "      <td>38.900002</td>\n",
       "      <td>38.459999</td>\n",
       "      <td>38.480000</td>\n",
       "      <td>391787</td>\n",
       "      <td>0.0</td>\n",
       "      <td>0.0</td>\n",
       "    </tr>\n",
       "    <tr>\n",
       "      <th>1360</th>\n",
       "      <td>2024-04-24</td>\n",
       "      <td>38.520000</td>\n",
       "      <td>38.700001</td>\n",
       "      <td>38.220001</td>\n",
       "      <td>38.360001</td>\n",
       "      <td>732447</td>\n",
       "      <td>0.0</td>\n",
       "      <td>0.0</td>\n",
       "    </tr>\n",
       "    <tr>\n",
       "      <th>1361</th>\n",
       "      <td>2024-04-25</td>\n",
       "      <td>38.480000</td>\n",
       "      <td>38.480000</td>\n",
       "      <td>37.360001</td>\n",
       "      <td>37.700001</td>\n",
       "      <td>503456</td>\n",
       "      <td>0.0</td>\n",
       "      <td>0.0</td>\n",
       "    </tr>\n",
       "    <tr>\n",
       "      <th>1362</th>\n",
       "      <td>2024-04-26</td>\n",
       "      <td>38.040001</td>\n",
       "      <td>38.080002</td>\n",
       "      <td>37.700001</td>\n",
       "      <td>37.820000</td>\n",
       "      <td>522897</td>\n",
       "      <td>0.0</td>\n",
       "      <td>0.0</td>\n",
       "    </tr>\n",
       "    <tr>\n",
       "      <th>1363</th>\n",
       "      <td>2024-04-29</td>\n",
       "      <td>37.799999</td>\n",
       "      <td>38.139999</td>\n",
       "      <td>37.799999</td>\n",
       "      <td>37.980000</td>\n",
       "      <td>341569</td>\n",
       "      <td>0.0</td>\n",
       "      <td>0.0</td>\n",
       "    </tr>\n",
       "  </tbody>\n",
       "</table>\n",
       "<p>1364 rows × 8 columns</p>\n",
       "</div>"
      ],
      "text/plain": [
       "            Date       Open       High        Low      Close   Volume  \\\n",
       "0     2019-01-02  22.949238  22.949238  22.233563  22.656151   579957   \n",
       "1     2019-01-03  22.424411  22.921972  22.356252  22.710680   826120   \n",
       "2     2019-01-04  22.969682  23.167346  22.881075  23.051474   962645   \n",
       "3     2019-01-07  23.242326  23.378644  22.921976  23.126453  1501743   \n",
       "4     2019-01-08  23.119633  23.603565  23.065107  23.365009  1264760   \n",
       "...          ...        ...        ...        ...        ...      ...   \n",
       "1359  2024-04-23  38.500000  38.900002  38.459999  38.480000   391787   \n",
       "1360  2024-04-24  38.520000  38.700001  38.220001  38.360001   732447   \n",
       "1361  2024-04-25  38.480000  38.480000  37.360001  37.700001   503456   \n",
       "1362  2024-04-26  38.040001  38.080002  37.700001  37.820000   522897   \n",
       "1363  2024-04-29  37.799999  38.139999  37.799999  37.980000   341569   \n",
       "\n",
       "      Dividends  Stock Splits  \n",
       "0           0.0           0.0  \n",
       "1           0.0           0.0  \n",
       "2           0.0           0.0  \n",
       "3           0.0           0.0  \n",
       "4           0.0           0.0  \n",
       "...         ...           ...  \n",
       "1359        0.0           0.0  \n",
       "1360        0.0           0.0  \n",
       "1361        0.0           0.0  \n",
       "1362        0.0           0.0  \n",
       "1363        0.0           0.0  \n",
       "\n",
       "[1364 rows x 8 columns]"
      ]
     },
     "execution_count": 66,
     "metadata": {},
     "output_type": "execute_result"
    }
   ],
   "source": [
    "ACS_dataset = pd.read_csv('../data/ACS_dataset.csv')\n",
    "ACS_dataset"
   ]
  },
  {
   "cell_type": "markdown",
   "metadata": {},
   "source": [
    "Vamos a enumerar de nuevo cada empresa..."
   ]
  },
  {
   "cell_type": "code",
   "execution_count": 67,
   "metadata": {},
   "outputs": [],
   "source": [
    "#1 Acciona\n",
    "ANA_dataset = pd.read_csv('../data/ANA_dataset.csv')\n",
    "#2 Acciona Energías\n",
    "ANE_dataset = pd.read_csv('../data/ANE_dataset.csv')\n",
    "#3 ACS\n",
    "ACS_dataset = pd.read_csv('../data/ACS_dataset.csv')\n",
    "#4 Acerinox\n",
    "ACX_dataset = pd.read_csv('../data/ACX_dataset.csv')\n",
    "#5 Aena\n",
    "AENA_dataset = pd.read_csv('../data/AENA_dataset.csv')\n",
    "#6 Amadeus\n",
    "AMS_dataset = pd.read_csv('../data/AMS_dataset.csv')\n",
    "#7 ArcelorMittal\n",
    "MTS_dataset = pd.read_csv('../data/MTS_dataset.csv')\n",
    "#8 Banco Sabadell\n",
    "SAB_dataset = pd.read_csv('../data/SAB_dataset.csv')\n",
    "#9 Banco Santander\n",
    "SAN_dataset = pd.read_csv('../data/SAN_dataset.csv')\n",
    "#10 Bankinter\n",
    "BKT_dataset = pd.read_csv('../data/BKT_dataset.csv')\n",
    "#11 BBVA\n",
    "BBVA_dataset = pd.read_csv('../data/BBVA_dataset.csv')\n",
    "#12 CaixaBank\n",
    "CABK_dataset = pd.read_csv('../data/CABK_dataset.csv')\n",
    "#13 Cellnex\n",
    "CLNX_dataset = pd.read_csv('../data/CLNX_dataset.csv')\n",
    "#14 Colonial\n",
    "COL_dataset = pd.read_csv('../data/COL_dataset.csv')\n",
    "#15 Enagás\n",
    "ENG_dataset = pd.read_csv('../data/ENG_dataset.csv')\n",
    "#16 Endesa\t\n",
    "ELE_dataset = pd.read_csv('../data/ELE_dataset.csv')\n",
    "#17 Ferrovial\n",
    "FER_dataset = pd.read_csv('../data/FER_dataset.csv')\n",
    "#18 Fluidra\n",
    "FDR_dataset = pd.read_csv('../data/FDR_dataset.csv')\n",
    "#19 Grifols\n",
    "GRF_dataset = pd.read_csv('../data/GRF_dataset.csv')\n",
    "#20 IAG\t\n",
    "IAG_dataset = pd.read_csv('../data/IAG_dataset.csv')\n",
    "#21 Iberdrola\n",
    "IBE_dataset = pd.read_csv('../data/IBE_dataset.csv')\n",
    "#22 Indra\n",
    "IDR_dataset = pd.read_csv('../data/IDR_dataset.csv')\n",
    "#23 Inditex\n",
    "ITX_dataset = pd.read_csv('../data/ITX_dataset.csv')\n",
    "#24 Logista\n",
    "LOG_dataset = pd.read_csv('../data/LOG_dataset.csv')\n",
    "#25 Mapfre\n",
    "MAP_dataset = pd.read_csv('../data/MAP_dataset.csv')\n",
    "#26 Meliá\n",
    "MEL_dataset = pd.read_csv('../data/MEL_dataset.csv')\n",
    "#27 Merlin Properties\n",
    "MRL_dataset = pd.read_csv('../data/MRL_dataset.csv')\n",
    "#28 Naturgy\n",
    "NTGY_dataset = pd.read_csv('../data/NTGY_dataset.csv')\n",
    "#29 Redeia\n",
    "RED_dataset = pd.read_csv('../data/RED_dataset.csv')\n",
    "#30 Repsol\n",
    "REP_dataset = pd.read_csv('../data/REP_dataset.csv')\n",
    "#31 Rovi\n",
    "ROVI_dataset = pd.read_csv('../data/ROVI_dataset.csv')\n",
    "#32 Sacyr\n",
    "SCYR_dataset = pd.read_csv('../data/SCYR_dataset.csv')\n",
    "#33 Solaria\n",
    "SLR_dataset = pd.read_csv('../data/SLR_dataset.csv')\n",
    "#34 Telefónica\n",
    "TEF_dataset = pd.read_csv('../data/TEF_dataset.csv')\n",
    "#35 Unicaja\n",
    "UNI_dataset = pd.read_csv('../data/UNI_dataset.csv')"
   ]
  },
  {
   "cell_type": "markdown",
   "metadata": {},
   "source": [
    "# 2- Seleccion de empresa dentro del IBEX-35"
   ]
  },
  {
   "cell_type": "markdown",
   "metadata": {},
   "source": [
    "Es aquí cuando vamos a escoger una empresa con el fin de analizarla de forma individual.\n",
    "\n",
    "Para ello, vamos a crear una variable llamada dataset_empresa, la cual va a contener el dataset de la empresa que elijamos de entre las 35.\n",
    "\n",
    "Como ejemplo, vamos a escoger el dataset de ACS. Generando una variable paralela mediante:\n",
    "\n",
    "dataset_empresa = ACS_dataset\n",
    "\n",
    "No obstante, podríamos cambiar el dataset al de otra empresa para realizar el analisis, cambiando en la siguiente celda las siglas de ACS por las de otra empresa. Como por ejemplo: ITX, quedando así como resultado: \n",
    "\n",
    "dataset_empresa = ITX_dataset"
   ]
  },
  {
   "cell_type": "code",
   "execution_count": 68,
   "metadata": {},
   "outputs": [],
   "source": [
    "dataset_empresa = ACS_dataset"
   ]
  },
  {
   "cell_type": "markdown",
   "metadata": {},
   "source": [
    "## 2.1- Dataset de empresa individual"
   ]
  },
  {
   "cell_type": "code",
   "execution_count": 69,
   "metadata": {},
   "outputs": [
    {
     "data": {
      "text/plain": [
       "Date             object\n",
       "Open            float64\n",
       "High            float64\n",
       "Low             float64\n",
       "Close           float64\n",
       "Volume            int64\n",
       "Dividends       float64\n",
       "Stock Splits    float64\n",
       "dtype: object"
      ]
     },
     "execution_count": 69,
     "metadata": {},
     "output_type": "execute_result"
    }
   ],
   "source": [
    "dataset_empresa.dtypes"
   ]
  },
  {
   "cell_type": "markdown",
   "metadata": {},
   "source": [
    "Vemos ahora el análisis probabilístico de las variables numéricas..."
   ]
  },
  {
   "cell_type": "code",
   "execution_count": 70,
   "metadata": {},
   "outputs": [
    {
     "data": {
      "text/html": [
       "<div>\n",
       "<style scoped>\n",
       "    .dataframe tbody tr th:only-of-type {\n",
       "        vertical-align: middle;\n",
       "    }\n",
       "\n",
       "    .dataframe tbody tr th {\n",
       "        vertical-align: top;\n",
       "    }\n",
       "\n",
       "    .dataframe thead th {\n",
       "        text-align: right;\n",
       "    }\n",
       "</style>\n",
       "<table border=\"1\" class=\"dataframe\">\n",
       "  <thead>\n",
       "    <tr style=\"text-align: right;\">\n",
       "      <th></th>\n",
       "      <th>Open</th>\n",
       "      <th>High</th>\n",
       "      <th>Low</th>\n",
       "      <th>Close</th>\n",
       "      <th>Volume</th>\n",
       "      <th>Dividends</th>\n",
       "      <th>Stock Splits</th>\n",
       "    </tr>\n",
       "  </thead>\n",
       "  <tbody>\n",
       "    <tr>\n",
       "      <th>count</th>\n",
       "      <td>1364.000000</td>\n",
       "      <td>1364.000000</td>\n",
       "      <td>1364.000000</td>\n",
       "      <td>1364.000000</td>\n",
       "      <td>1.364000e+03</td>\n",
       "      <td>1364.000000</td>\n",
       "      <td>1364.000000</td>\n",
       "    </tr>\n",
       "    <tr>\n",
       "      <th>mean</th>\n",
       "      <td>23.932132</td>\n",
       "      <td>24.187530</td>\n",
       "      <td>23.671461</td>\n",
       "      <td>23.932060</td>\n",
       "      <td>9.129687e+05</td>\n",
       "      <td>0.007355</td>\n",
       "      <td>0.000742</td>\n",
       "    </tr>\n",
       "    <tr>\n",
       "      <th>std</th>\n",
       "      <td>6.020882</td>\n",
       "      <td>6.016433</td>\n",
       "      <td>6.044513</td>\n",
       "      <td>6.048648</td>\n",
       "      <td>8.438943e+05</td>\n",
       "      <td>0.090808</td>\n",
       "      <td>0.027391</td>\n",
       "    </tr>\n",
       "    <tr>\n",
       "      <th>min</th>\n",
       "      <td>8.640305</td>\n",
       "      <td>8.971783</td>\n",
       "      <td>8.159478</td>\n",
       "      <td>8.337967</td>\n",
       "      <td>0.000000e+00</td>\n",
       "      <td>0.000000</td>\n",
       "      <td>0.000000</td>\n",
       "    </tr>\n",
       "    <tr>\n",
       "      <th>25%</th>\n",
       "      <td>19.537817</td>\n",
       "      <td>19.761738</td>\n",
       "      <td>19.343190</td>\n",
       "      <td>19.530540</td>\n",
       "      <td>4.896630e+05</td>\n",
       "      <td>0.000000</td>\n",
       "      <td>0.000000</td>\n",
       "    </tr>\n",
       "    <tr>\n",
       "      <th>50%</th>\n",
       "      <td>22.520894</td>\n",
       "      <td>22.738762</td>\n",
       "      <td>22.236563</td>\n",
       "      <td>22.499779</td>\n",
       "      <td>6.845935e+05</td>\n",
       "      <td>0.000000</td>\n",
       "      <td>0.000000</td>\n",
       "    </tr>\n",
       "    <tr>\n",
       "      <th>75%</th>\n",
       "      <td>26.651583</td>\n",
       "      <td>26.832844</td>\n",
       "      <td>26.360942</td>\n",
       "      <td>26.623633</td>\n",
       "      <td>1.029498e+06</td>\n",
       "      <td>0.000000</td>\n",
       "      <td>0.000000</td>\n",
       "    </tr>\n",
       "    <tr>\n",
       "      <th>max</th>\n",
       "      <td>40.580002</td>\n",
       "      <td>40.740002</td>\n",
       "      <td>40.369999</td>\n",
       "      <td>40.590000</td>\n",
       "      <td>1.473323e+07</td>\n",
       "      <td>1.484000</td>\n",
       "      <td>1.011628</td>\n",
       "    </tr>\n",
       "  </tbody>\n",
       "</table>\n",
       "</div>"
      ],
      "text/plain": [
       "              Open         High          Low        Close        Volume  \\\n",
       "count  1364.000000  1364.000000  1364.000000  1364.000000  1.364000e+03   \n",
       "mean     23.932132    24.187530    23.671461    23.932060  9.129687e+05   \n",
       "std       6.020882     6.016433     6.044513     6.048648  8.438943e+05   \n",
       "min       8.640305     8.971783     8.159478     8.337967  0.000000e+00   \n",
       "25%      19.537817    19.761738    19.343190    19.530540  4.896630e+05   \n",
       "50%      22.520894    22.738762    22.236563    22.499779  6.845935e+05   \n",
       "75%      26.651583    26.832844    26.360942    26.623633  1.029498e+06   \n",
       "max      40.580002    40.740002    40.369999    40.590000  1.473323e+07   \n",
       "\n",
       "         Dividends  Stock Splits  \n",
       "count  1364.000000   1364.000000  \n",
       "mean      0.007355      0.000742  \n",
       "std       0.090808      0.027391  \n",
       "min       0.000000      0.000000  \n",
       "25%       0.000000      0.000000  \n",
       "50%       0.000000      0.000000  \n",
       "75%       0.000000      0.000000  \n",
       "max       1.484000      1.011628  "
      ]
     },
     "execution_count": 70,
     "metadata": {},
     "output_type": "execute_result"
    }
   ],
   "source": [
    "dataset_empresa.describe()"
   ]
  },
  {
   "cell_type": "markdown",
   "metadata": {},
   "source": [
    "La columna Date, almacena 3 valores(dia, mes, año), tiene formato type-object. Vamos a pasarlo a datetime"
   ]
  },
  {
   "cell_type": "code",
   "execution_count": 71,
   "metadata": {},
   "outputs": [],
   "source": [
    "dataset_empresa['Date'] = pd.to_datetime(dataset_empresa['Date'])"
   ]
  },
  {
   "cell_type": "code",
   "execution_count": 72,
   "metadata": {},
   "outputs": [
    {
     "data": {
      "text/plain": [
       "Date            datetime64[ns]\n",
       "Open                   float64\n",
       "High                   float64\n",
       "Low                    float64\n",
       "Close                  float64\n",
       "Volume                   int64\n",
       "Dividends              float64\n",
       "Stock Splits           float64\n",
       "dtype: object"
      ]
     },
     "execution_count": 72,
     "metadata": {},
     "output_type": "execute_result"
    }
   ],
   "source": [
    "dataset_empresa.dtypes"
   ]
  },
  {
   "cell_type": "markdown",
   "metadata": {},
   "source": [
    "# 3- Analisis individual de la empresa"
   ]
  },
  {
   "cell_type": "markdown",
   "metadata": {},
   "source": [
    "## 3.1- Evolucion del precio de cierre de las acciones de la empresa en el periodo 2019-2024"
   ]
  },
  {
   "cell_type": "markdown",
   "metadata": {},
   "source": [
    "A partir del dataset de ACS, se muestra un gráfico de líneas interactivo creado con la librería plotly."
   ]
  },
  {
   "cell_type": "code",
   "execution_count": 73,
   "metadata": {},
   "outputs": [
    {
     "data": {
      "application/vnd.plotly.v1+json": {
       "config": {
        "linkText": "Export to plot.ly",
        "plotlyServerURL": "https://plot.ly",
        "showLink": false
       },
       "data": [
        {
         "marker": {
          "color": "rgba(16, 112, 2, 0.8)"
         },
         "type": "scatter",
         "x": [
          "2019-01-02T00:00:00",
          "2019-01-03T00:00:00",
          "2019-01-04T00:00:00",
          "2019-01-07T00:00:00",
          "2019-01-08T00:00:00",
          "2019-01-09T00:00:00",
          "2019-01-10T00:00:00",
          "2019-01-11T00:00:00",
          "2019-01-14T00:00:00",
          "2019-01-15T00:00:00",
          "2019-01-16T00:00:00",
          "2019-01-17T00:00:00",
          "2019-01-18T00:00:00",
          "2019-01-21T00:00:00",
          "2019-01-22T00:00:00",
          "2019-01-23T00:00:00",
          "2019-01-24T00:00:00",
          "2019-01-25T00:00:00",
          "2019-01-28T00:00:00",
          "2019-01-29T00:00:00",
          "2019-01-30T00:00:00",
          "2019-01-31T00:00:00",
          "2019-02-01T00:00:00",
          "2019-02-04T00:00:00",
          "2019-02-05T00:00:00",
          "2019-02-06T00:00:00",
          "2019-02-07T00:00:00",
          "2019-02-08T00:00:00",
          "2019-02-11T00:00:00",
          "2019-02-12T00:00:00",
          "2019-02-13T00:00:00",
          "2019-02-14T00:00:00",
          "2019-02-15T00:00:00",
          "2019-02-18T00:00:00",
          "2019-02-19T00:00:00",
          "2019-02-20T00:00:00",
          "2019-02-21T00:00:00",
          "2019-02-22T00:00:00",
          "2019-02-25T00:00:00",
          "2019-02-26T00:00:00",
          "2019-02-27T00:00:00",
          "2019-02-28T00:00:00",
          "2019-03-01T00:00:00",
          "2019-03-04T00:00:00",
          "2019-03-05T00:00:00",
          "2019-03-06T00:00:00",
          "2019-03-07T00:00:00",
          "2019-03-08T00:00:00",
          "2019-03-11T00:00:00",
          "2019-03-12T00:00:00",
          "2019-03-13T00:00:00",
          "2019-03-14T00:00:00",
          "2019-03-15T00:00:00",
          "2019-03-18T00:00:00",
          "2019-03-19T00:00:00",
          "2019-03-20T00:00:00",
          "2019-03-21T00:00:00",
          "2019-03-22T00:00:00",
          "2019-03-25T00:00:00",
          "2019-03-26T00:00:00",
          "2019-03-27T00:00:00",
          "2019-03-28T00:00:00",
          "2019-03-29T00:00:00",
          "2019-04-01T00:00:00",
          "2019-04-02T00:00:00",
          "2019-04-03T00:00:00",
          "2019-04-04T00:00:00",
          "2019-04-05T00:00:00",
          "2019-04-08T00:00:00",
          "2019-04-09T00:00:00",
          "2019-04-10T00:00:00",
          "2019-04-11T00:00:00",
          "2019-04-12T00:00:00",
          "2019-04-15T00:00:00",
          "2019-04-16T00:00:00",
          "2019-04-17T00:00:00",
          "2019-04-18T00:00:00",
          "2019-04-23T00:00:00",
          "2019-04-24T00:00:00",
          "2019-04-25T00:00:00",
          "2019-04-26T00:00:00",
          "2019-04-29T00:00:00",
          "2019-04-30T00:00:00",
          "2019-05-02T00:00:00",
          "2019-05-03T00:00:00",
          "2019-05-06T00:00:00",
          "2019-05-07T00:00:00",
          "2019-05-08T00:00:00",
          "2019-05-09T00:00:00",
          "2019-05-10T00:00:00",
          "2019-05-13T00:00:00",
          "2019-05-14T00:00:00",
          "2019-05-15T00:00:00",
          "2019-05-16T00:00:00",
          "2019-05-17T00:00:00",
          "2019-05-20T00:00:00",
          "2019-05-21T00:00:00",
          "2019-05-22T00:00:00",
          "2019-05-23T00:00:00",
          "2019-05-24T00:00:00",
          "2019-05-27T00:00:00",
          "2019-05-28T00:00:00",
          "2019-05-29T00:00:00",
          "2019-05-30T00:00:00",
          "2019-05-31T00:00:00",
          "2019-06-03T00:00:00",
          "2019-06-04T00:00:00",
          "2019-06-05T00:00:00",
          "2019-06-06T00:00:00",
          "2019-06-07T00:00:00",
          "2019-06-10T00:00:00",
          "2019-06-11T00:00:00",
          "2019-06-12T00:00:00",
          "2019-06-13T00:00:00",
          "2019-06-14T00:00:00",
          "2019-06-17T00:00:00",
          "2019-06-18T00:00:00",
          "2019-06-19T00:00:00",
          "2019-06-20T00:00:00",
          "2019-06-21T00:00:00",
          "2019-06-24T00:00:00",
          "2019-06-25T00:00:00",
          "2019-06-26T00:00:00",
          "2019-06-27T00:00:00",
          "2019-06-28T00:00:00",
          "2019-07-01T00:00:00",
          "2019-07-02T00:00:00",
          "2019-07-03T00:00:00",
          "2019-07-04T00:00:00",
          "2019-07-05T00:00:00",
          "2019-07-08T00:00:00",
          "2019-07-09T00:00:00",
          "2019-07-10T00:00:00",
          "2019-07-11T00:00:00",
          "2019-07-12T00:00:00",
          "2019-07-15T00:00:00",
          "2019-07-16T00:00:00",
          "2019-07-17T00:00:00",
          "2019-07-18T00:00:00",
          "2019-07-19T00:00:00",
          "2019-07-22T00:00:00",
          "2019-07-23T00:00:00",
          "2019-07-24T00:00:00",
          "2019-07-25T00:00:00",
          "2019-07-26T00:00:00",
          "2019-07-29T00:00:00",
          "2019-07-30T00:00:00",
          "2019-07-31T00:00:00",
          "2019-08-01T00:00:00",
          "2019-08-02T00:00:00",
          "2019-08-05T00:00:00",
          "2019-08-06T00:00:00",
          "2019-08-07T00:00:00",
          "2019-08-08T00:00:00",
          "2019-08-09T00:00:00",
          "2019-08-12T00:00:00",
          "2019-08-13T00:00:00",
          "2019-08-14T00:00:00",
          "2019-08-15T00:00:00",
          "2019-08-16T00:00:00",
          "2019-08-19T00:00:00",
          "2019-08-20T00:00:00",
          "2019-08-21T00:00:00",
          "2019-08-22T00:00:00",
          "2019-08-23T00:00:00",
          "2019-08-26T00:00:00",
          "2019-08-27T00:00:00",
          "2019-08-28T00:00:00",
          "2019-08-29T00:00:00",
          "2019-08-30T00:00:00",
          "2019-09-02T00:00:00",
          "2019-09-03T00:00:00",
          "2019-09-04T00:00:00",
          "2019-09-05T00:00:00",
          "2019-09-06T00:00:00",
          "2019-09-09T00:00:00",
          "2019-09-10T00:00:00",
          "2019-09-11T00:00:00",
          "2019-09-12T00:00:00",
          "2019-09-13T00:00:00",
          "2019-09-16T00:00:00",
          "2019-09-17T00:00:00",
          "2019-09-18T00:00:00",
          "2019-09-19T00:00:00",
          "2019-09-20T00:00:00",
          "2019-09-23T00:00:00",
          "2019-09-24T00:00:00",
          "2019-09-25T00:00:00",
          "2019-09-26T00:00:00",
          "2019-09-27T00:00:00",
          "2019-09-30T00:00:00",
          "2019-10-01T00:00:00",
          "2019-10-02T00:00:00",
          "2019-10-03T00:00:00",
          "2019-10-04T00:00:00",
          "2019-10-07T00:00:00",
          "2019-10-08T00:00:00",
          "2019-10-09T00:00:00",
          "2019-10-10T00:00:00",
          "2019-10-11T00:00:00",
          "2019-10-14T00:00:00",
          "2019-10-15T00:00:00",
          "2019-10-16T00:00:00",
          "2019-10-17T00:00:00",
          "2019-10-18T00:00:00",
          "2019-10-21T00:00:00",
          "2019-10-22T00:00:00",
          "2019-10-23T00:00:00",
          "2019-10-24T00:00:00",
          "2019-10-25T00:00:00",
          "2019-10-28T00:00:00",
          "2019-10-29T00:00:00",
          "2019-10-30T00:00:00",
          "2019-10-31T00:00:00",
          "2019-11-01T00:00:00",
          "2019-11-04T00:00:00",
          "2019-11-05T00:00:00",
          "2019-11-06T00:00:00",
          "2019-11-07T00:00:00",
          "2019-11-08T00:00:00",
          "2019-11-11T00:00:00",
          "2019-11-12T00:00:00",
          "2019-11-13T00:00:00",
          "2019-11-14T00:00:00",
          "2019-11-15T00:00:00",
          "2019-11-18T00:00:00",
          "2019-11-19T00:00:00",
          "2019-11-20T00:00:00",
          "2019-11-21T00:00:00",
          "2019-11-22T00:00:00",
          "2019-11-25T00:00:00",
          "2019-11-26T00:00:00",
          "2019-11-27T00:00:00",
          "2019-11-28T00:00:00",
          "2019-11-29T00:00:00",
          "2019-12-02T00:00:00",
          "2019-12-03T00:00:00",
          "2019-12-04T00:00:00",
          "2019-12-05T00:00:00",
          "2019-12-06T00:00:00",
          "2019-12-09T00:00:00",
          "2019-12-10T00:00:00",
          "2019-12-11T00:00:00",
          "2019-12-12T00:00:00",
          "2019-12-13T00:00:00",
          "2019-12-16T00:00:00",
          "2019-12-17T00:00:00",
          "2019-12-18T00:00:00",
          "2019-12-19T00:00:00",
          "2019-12-20T00:00:00",
          "2019-12-23T00:00:00",
          "2019-12-24T00:00:00",
          "2019-12-25T00:00:00",
          "2019-12-27T00:00:00",
          "2019-12-30T00:00:00",
          "2019-12-31T00:00:00",
          "2020-01-02T00:00:00",
          "2020-01-03T00:00:00",
          "2020-01-06T00:00:00",
          "2020-01-07T00:00:00",
          "2020-01-08T00:00:00",
          "2020-01-09T00:00:00",
          "2020-01-10T00:00:00",
          "2020-01-13T00:00:00",
          "2020-01-14T00:00:00",
          "2020-01-15T00:00:00",
          "2020-01-16T00:00:00",
          "2020-01-17T00:00:00",
          "2020-01-20T00:00:00",
          "2020-01-21T00:00:00",
          "2020-01-22T00:00:00",
          "2020-01-23T00:00:00",
          "2020-01-24T00:00:00",
          "2020-01-27T00:00:00",
          "2020-01-28T00:00:00",
          "2020-01-29T00:00:00",
          "2020-01-30T00:00:00",
          "2020-01-31T00:00:00",
          "2020-02-03T00:00:00",
          "2020-02-04T00:00:00",
          "2020-02-05T00:00:00",
          "2020-02-06T00:00:00",
          "2020-02-07T00:00:00",
          "2020-02-10T00:00:00",
          "2020-02-11T00:00:00",
          "2020-02-12T00:00:00",
          "2020-02-13T00:00:00",
          "2020-02-14T00:00:00",
          "2020-02-17T00:00:00",
          "2020-02-18T00:00:00",
          "2020-02-19T00:00:00",
          "2020-02-20T00:00:00",
          "2020-02-21T00:00:00",
          "2020-02-24T00:00:00",
          "2020-02-25T00:00:00",
          "2020-02-26T00:00:00",
          "2020-02-27T00:00:00",
          "2020-02-28T00:00:00",
          "2020-03-02T00:00:00",
          "2020-03-03T00:00:00",
          "2020-03-04T00:00:00",
          "2020-03-05T00:00:00",
          "2020-03-06T00:00:00",
          "2020-03-09T00:00:00",
          "2020-03-10T00:00:00",
          "2020-03-11T00:00:00",
          "2020-03-12T00:00:00",
          "2020-03-13T00:00:00",
          "2020-03-16T00:00:00",
          "2020-03-17T00:00:00",
          "2020-03-18T00:00:00",
          "2020-03-19T00:00:00",
          "2020-03-20T00:00:00",
          "2020-03-23T00:00:00",
          "2020-03-24T00:00:00",
          "2020-03-25T00:00:00",
          "2020-03-26T00:00:00",
          "2020-03-27T00:00:00",
          "2020-03-30T00:00:00",
          "2020-03-31T00:00:00",
          "2020-04-01T00:00:00",
          "2020-04-02T00:00:00",
          "2020-04-03T00:00:00",
          "2020-04-06T00:00:00",
          "2020-04-07T00:00:00",
          "2020-04-08T00:00:00",
          "2020-04-09T00:00:00",
          "2020-04-14T00:00:00",
          "2020-04-15T00:00:00",
          "2020-04-16T00:00:00",
          "2020-04-17T00:00:00",
          "2020-04-20T00:00:00",
          "2020-04-21T00:00:00",
          "2020-04-22T00:00:00",
          "2020-04-23T00:00:00",
          "2020-04-24T00:00:00",
          "2020-04-27T00:00:00",
          "2020-04-28T00:00:00",
          "2020-04-29T00:00:00",
          "2020-04-30T00:00:00",
          "2020-05-04T00:00:00",
          "2020-05-05T00:00:00",
          "2020-05-06T00:00:00",
          "2020-05-07T00:00:00",
          "2020-05-08T00:00:00",
          "2020-05-11T00:00:00",
          "2020-05-12T00:00:00",
          "2020-05-13T00:00:00",
          "2020-05-14T00:00:00",
          "2020-05-15T00:00:00",
          "2020-05-18T00:00:00",
          "2020-05-19T00:00:00",
          "2020-05-20T00:00:00",
          "2020-05-21T00:00:00",
          "2020-05-22T00:00:00",
          "2020-05-25T00:00:00",
          "2020-05-26T00:00:00",
          "2020-05-27T00:00:00",
          "2020-05-28T00:00:00",
          "2020-05-29T00:00:00",
          "2020-06-01T00:00:00",
          "2020-06-02T00:00:00",
          "2020-06-03T00:00:00",
          "2020-06-04T00:00:00",
          "2020-06-05T00:00:00",
          "2020-06-08T00:00:00",
          "2020-06-09T00:00:00",
          "2020-06-10T00:00:00",
          "2020-06-11T00:00:00",
          "2020-06-12T00:00:00",
          "2020-06-15T00:00:00",
          "2020-06-16T00:00:00",
          "2020-06-17T00:00:00",
          "2020-06-18T00:00:00",
          "2020-06-19T00:00:00",
          "2020-06-22T00:00:00",
          "2020-06-23T00:00:00",
          "2020-06-24T00:00:00",
          "2020-06-25T00:00:00",
          "2020-06-26T00:00:00",
          "2020-06-29T00:00:00",
          "2020-06-30T00:00:00",
          "2020-07-01T00:00:00",
          "2020-07-02T00:00:00",
          "2020-07-03T00:00:00",
          "2020-07-06T00:00:00",
          "2020-07-07T00:00:00",
          "2020-07-08T00:00:00",
          "2020-07-09T00:00:00",
          "2020-07-10T00:00:00",
          "2020-07-13T00:00:00",
          "2020-07-14T00:00:00",
          "2020-07-15T00:00:00",
          "2020-07-16T00:00:00",
          "2020-07-17T00:00:00",
          "2020-07-20T00:00:00",
          "2020-07-21T00:00:00",
          "2020-07-22T00:00:00",
          "2020-07-23T00:00:00",
          "2020-07-24T00:00:00",
          "2020-07-27T00:00:00",
          "2020-07-28T00:00:00",
          "2020-07-29T00:00:00",
          "2020-07-30T00:00:00",
          "2020-07-31T00:00:00",
          "2020-08-03T00:00:00",
          "2020-08-04T00:00:00",
          "2020-08-05T00:00:00",
          "2020-08-06T00:00:00",
          "2020-08-07T00:00:00",
          "2020-08-10T00:00:00",
          "2020-08-11T00:00:00",
          "2020-08-12T00:00:00",
          "2020-08-13T00:00:00",
          "2020-08-14T00:00:00",
          "2020-08-17T00:00:00",
          "2020-08-18T00:00:00",
          "2020-08-19T00:00:00",
          "2020-08-20T00:00:00",
          "2020-08-21T00:00:00",
          "2020-08-24T00:00:00",
          "2020-08-25T00:00:00",
          "2020-08-26T00:00:00",
          "2020-08-27T00:00:00",
          "2020-08-28T00:00:00",
          "2020-08-31T00:00:00",
          "2020-09-01T00:00:00",
          "2020-09-02T00:00:00",
          "2020-09-03T00:00:00",
          "2020-09-04T00:00:00",
          "2020-09-07T00:00:00",
          "2020-09-08T00:00:00",
          "2020-09-09T00:00:00",
          "2020-09-10T00:00:00",
          "2020-09-11T00:00:00",
          "2020-09-14T00:00:00",
          "2020-09-15T00:00:00",
          "2020-09-16T00:00:00",
          "2020-09-17T00:00:00",
          "2020-09-18T00:00:00",
          "2020-09-21T00:00:00",
          "2020-09-22T00:00:00",
          "2020-09-23T00:00:00",
          "2020-09-24T00:00:00",
          "2020-09-25T00:00:00",
          "2020-09-28T00:00:00",
          "2020-09-29T00:00:00",
          "2020-09-30T00:00:00",
          "2020-10-01T00:00:00",
          "2020-10-02T00:00:00",
          "2020-10-05T00:00:00",
          "2020-10-06T00:00:00",
          "2020-10-07T00:00:00",
          "2020-10-08T00:00:00",
          "2020-10-09T00:00:00",
          "2020-10-12T00:00:00",
          "2020-10-13T00:00:00",
          "2020-10-14T00:00:00",
          "2020-10-15T00:00:00",
          "2020-10-16T00:00:00",
          "2020-10-19T00:00:00",
          "2020-10-20T00:00:00",
          "2020-10-21T00:00:00",
          "2020-10-22T00:00:00",
          "2020-10-23T00:00:00",
          "2020-10-26T00:00:00",
          "2020-10-27T00:00:00",
          "2020-10-28T00:00:00",
          "2020-10-29T00:00:00",
          "2020-10-30T00:00:00",
          "2020-11-02T00:00:00",
          "2020-11-03T00:00:00",
          "2020-11-04T00:00:00",
          "2020-11-05T00:00:00",
          "2020-11-06T00:00:00",
          "2020-11-09T00:00:00",
          "2020-11-10T00:00:00",
          "2020-11-11T00:00:00",
          "2020-11-12T00:00:00",
          "2020-11-13T00:00:00",
          "2020-11-16T00:00:00",
          "2020-11-17T00:00:00",
          "2020-11-18T00:00:00",
          "2020-11-19T00:00:00",
          "2020-11-20T00:00:00",
          "2020-11-23T00:00:00",
          "2020-11-24T00:00:00",
          "2020-11-25T00:00:00",
          "2020-11-26T00:00:00",
          "2020-11-27T00:00:00",
          "2020-11-30T00:00:00",
          "2020-12-01T00:00:00",
          "2020-12-02T00:00:00",
          "2020-12-03T00:00:00",
          "2020-12-04T00:00:00",
          "2020-12-07T00:00:00",
          "2020-12-08T00:00:00",
          "2020-12-09T00:00:00",
          "2020-12-10T00:00:00",
          "2020-12-11T00:00:00",
          "2020-12-14T00:00:00",
          "2020-12-15T00:00:00",
          "2020-12-16T00:00:00",
          "2020-12-17T00:00:00",
          "2020-12-18T00:00:00",
          "2020-12-21T00:00:00",
          "2020-12-22T00:00:00",
          "2020-12-23T00:00:00",
          "2020-12-24T00:00:00",
          "2020-12-28T00:00:00",
          "2020-12-29T00:00:00",
          "2020-12-30T00:00:00",
          "2020-12-31T00:00:00",
          "2021-01-04T00:00:00",
          "2021-01-05T00:00:00",
          "2021-01-06T00:00:00",
          "2021-01-07T00:00:00",
          "2021-01-08T00:00:00",
          "2021-01-11T00:00:00",
          "2021-01-12T00:00:00",
          "2021-01-13T00:00:00",
          "2021-01-14T00:00:00",
          "2021-01-15T00:00:00",
          "2021-01-18T00:00:00",
          "2021-01-19T00:00:00",
          "2021-01-20T00:00:00",
          "2021-01-21T00:00:00",
          "2021-01-22T00:00:00",
          "2021-01-25T00:00:00",
          "2021-01-26T00:00:00",
          "2021-01-27T00:00:00",
          "2021-01-28T00:00:00",
          "2021-01-29T00:00:00",
          "2021-02-01T00:00:00",
          "2021-02-02T00:00:00",
          "2021-02-03T00:00:00",
          "2021-02-04T00:00:00",
          "2021-02-05T00:00:00",
          "2021-02-08T00:00:00",
          "2021-02-09T00:00:00",
          "2021-02-10T00:00:00",
          "2021-02-11T00:00:00",
          "2021-02-12T00:00:00",
          "2021-02-15T00:00:00",
          "2021-02-16T00:00:00",
          "2021-02-17T00:00:00",
          "2021-02-18T00:00:00",
          "2021-02-19T00:00:00",
          "2021-02-22T00:00:00",
          "2021-02-23T00:00:00",
          "2021-02-24T00:00:00",
          "2021-02-25T00:00:00",
          "2021-02-26T00:00:00",
          "2021-03-01T00:00:00",
          "2021-03-02T00:00:00",
          "2021-03-03T00:00:00",
          "2021-03-04T00:00:00",
          "2021-03-05T00:00:00",
          "2021-03-08T00:00:00",
          "2021-03-09T00:00:00",
          "2021-03-10T00:00:00",
          "2021-03-11T00:00:00",
          "2021-03-12T00:00:00",
          "2021-03-15T00:00:00",
          "2021-03-16T00:00:00",
          "2021-03-17T00:00:00",
          "2021-03-18T00:00:00",
          "2021-03-19T00:00:00",
          "2021-03-22T00:00:00",
          "2021-03-23T00:00:00",
          "2021-03-24T00:00:00",
          "2021-03-25T00:00:00",
          "2021-03-26T00:00:00",
          "2021-03-29T00:00:00",
          "2021-03-30T00:00:00",
          "2021-03-31T00:00:00",
          "2021-04-01T00:00:00",
          "2021-04-06T00:00:00",
          "2021-04-07T00:00:00",
          "2021-04-08T00:00:00",
          "2021-04-09T00:00:00",
          "2021-04-12T00:00:00",
          "2021-04-13T00:00:00",
          "2021-04-14T00:00:00",
          "2021-04-15T00:00:00",
          "2021-04-16T00:00:00",
          "2021-04-19T00:00:00",
          "2021-04-20T00:00:00",
          "2021-04-21T00:00:00",
          "2021-04-22T00:00:00",
          "2021-04-23T00:00:00",
          "2021-04-26T00:00:00",
          "2021-04-27T00:00:00",
          "2021-04-28T00:00:00",
          "2021-04-29T00:00:00",
          "2021-04-30T00:00:00",
          "2021-05-03T00:00:00",
          "2021-05-04T00:00:00",
          "2021-05-05T00:00:00",
          "2021-05-06T00:00:00",
          "2021-05-07T00:00:00",
          "2021-05-10T00:00:00",
          "2021-05-11T00:00:00",
          "2021-05-12T00:00:00",
          "2021-05-13T00:00:00",
          "2021-05-14T00:00:00",
          "2021-05-17T00:00:00",
          "2021-05-18T00:00:00",
          "2021-05-19T00:00:00",
          "2021-05-20T00:00:00",
          "2021-05-21T00:00:00",
          "2021-05-24T00:00:00",
          "2021-05-25T00:00:00",
          "2021-05-26T00:00:00",
          "2021-05-27T00:00:00",
          "2021-05-28T00:00:00",
          "2021-05-31T00:00:00",
          "2021-06-01T00:00:00",
          "2021-06-02T00:00:00",
          "2021-06-03T00:00:00",
          "2021-06-04T00:00:00",
          "2021-06-07T00:00:00",
          "2021-06-08T00:00:00",
          "2021-06-09T00:00:00",
          "2021-06-10T00:00:00",
          "2021-06-11T00:00:00",
          "2021-06-14T00:00:00",
          "2021-06-15T00:00:00",
          "2021-06-16T00:00:00",
          "2021-06-17T00:00:00",
          "2021-06-18T00:00:00",
          "2021-06-21T00:00:00",
          "2021-06-22T00:00:00",
          "2021-06-23T00:00:00",
          "2021-06-24T00:00:00",
          "2021-06-25T00:00:00",
          "2021-06-28T00:00:00",
          "2021-06-29T00:00:00",
          "2021-06-30T00:00:00",
          "2021-07-01T00:00:00",
          "2021-07-02T00:00:00",
          "2021-07-05T00:00:00",
          "2021-07-06T00:00:00",
          "2021-07-07T00:00:00",
          "2021-07-08T00:00:00",
          "2021-07-09T00:00:00",
          "2021-07-12T00:00:00",
          "2021-07-13T00:00:00",
          "2021-07-14T00:00:00",
          "2021-07-15T00:00:00",
          "2021-07-16T00:00:00",
          "2021-07-19T00:00:00",
          "2021-07-20T00:00:00",
          "2021-07-21T00:00:00",
          "2021-07-22T00:00:00",
          "2021-07-23T00:00:00",
          "2021-07-26T00:00:00",
          "2021-07-27T00:00:00",
          "2021-07-28T00:00:00",
          "2021-07-29T00:00:00",
          "2021-07-30T00:00:00",
          "2021-08-02T00:00:00",
          "2021-08-03T00:00:00",
          "2021-08-04T00:00:00",
          "2021-08-05T00:00:00",
          "2021-08-06T00:00:00",
          "2021-08-09T00:00:00",
          "2021-08-10T00:00:00",
          "2021-08-11T00:00:00",
          "2021-08-12T00:00:00",
          "2021-08-13T00:00:00",
          "2021-08-16T00:00:00",
          "2021-08-17T00:00:00",
          "2021-08-18T00:00:00",
          "2021-08-19T00:00:00",
          "2021-08-20T00:00:00",
          "2021-08-23T00:00:00",
          "2021-08-24T00:00:00",
          "2021-08-25T00:00:00",
          "2021-08-26T00:00:00",
          "2021-08-27T00:00:00",
          "2021-08-30T00:00:00",
          "2021-08-31T00:00:00",
          "2021-09-01T00:00:00",
          "2021-09-02T00:00:00",
          "2021-09-03T00:00:00",
          "2021-09-06T00:00:00",
          "2021-09-07T00:00:00",
          "2021-09-08T00:00:00",
          "2021-09-09T00:00:00",
          "2021-09-10T00:00:00",
          "2021-09-13T00:00:00",
          "2021-09-14T00:00:00",
          "2021-09-15T00:00:00",
          "2021-09-16T00:00:00",
          "2021-09-17T00:00:00",
          "2021-09-20T00:00:00",
          "2021-09-21T00:00:00",
          "2021-09-22T00:00:00",
          "2021-09-23T00:00:00",
          "2021-09-24T00:00:00",
          "2021-09-27T00:00:00",
          "2021-09-28T00:00:00",
          "2021-09-29T00:00:00",
          "2021-09-30T00:00:00",
          "2021-10-01T00:00:00",
          "2021-10-04T00:00:00",
          "2021-10-05T00:00:00",
          "2021-10-06T00:00:00",
          "2021-10-07T00:00:00",
          "2021-10-08T00:00:00",
          "2021-10-11T00:00:00",
          "2021-10-12T00:00:00",
          "2021-10-13T00:00:00",
          "2021-10-14T00:00:00",
          "2021-10-15T00:00:00",
          "2021-10-18T00:00:00",
          "2021-10-19T00:00:00",
          "2021-10-20T00:00:00",
          "2021-10-21T00:00:00",
          "2021-10-22T00:00:00",
          "2021-10-25T00:00:00",
          "2021-10-26T00:00:00",
          "2021-10-27T00:00:00",
          "2021-10-28T00:00:00",
          "2021-10-29T00:00:00",
          "2021-11-01T00:00:00",
          "2021-11-02T00:00:00",
          "2021-11-03T00:00:00",
          "2021-11-04T00:00:00",
          "2021-11-05T00:00:00",
          "2021-11-08T00:00:00",
          "2021-11-09T00:00:00",
          "2021-11-10T00:00:00",
          "2021-11-11T00:00:00",
          "2021-11-12T00:00:00",
          "2021-11-15T00:00:00",
          "2021-11-16T00:00:00",
          "2021-11-17T00:00:00",
          "2021-11-18T00:00:00",
          "2021-11-19T00:00:00",
          "2021-11-22T00:00:00",
          "2021-11-23T00:00:00",
          "2021-11-24T00:00:00",
          "2021-11-25T00:00:00",
          "2021-11-26T00:00:00",
          "2021-11-29T00:00:00",
          "2021-11-30T00:00:00",
          "2021-12-01T00:00:00",
          "2021-12-02T00:00:00",
          "2021-12-03T00:00:00",
          "2021-12-06T00:00:00",
          "2021-12-07T00:00:00",
          "2021-12-08T00:00:00",
          "2021-12-09T00:00:00",
          "2021-12-10T00:00:00",
          "2021-12-13T00:00:00",
          "2021-12-14T00:00:00",
          "2021-12-15T00:00:00",
          "2021-12-16T00:00:00",
          "2021-12-17T00:00:00",
          "2021-12-20T00:00:00",
          "2021-12-21T00:00:00",
          "2021-12-22T00:00:00",
          "2021-12-23T00:00:00",
          "2021-12-27T00:00:00",
          "2021-12-28T00:00:00",
          "2021-12-29T00:00:00",
          "2021-12-30T00:00:00",
          "2022-01-03T00:00:00",
          "2022-01-04T00:00:00",
          "2022-01-05T00:00:00",
          "2022-01-06T00:00:00",
          "2022-01-07T00:00:00",
          "2022-01-10T00:00:00",
          "2022-01-11T00:00:00",
          "2022-01-12T00:00:00",
          "2022-01-13T00:00:00",
          "2022-01-14T00:00:00",
          "2022-01-17T00:00:00",
          "2022-01-18T00:00:00",
          "2022-01-19T00:00:00",
          "2022-01-20T00:00:00",
          "2022-01-21T00:00:00",
          "2022-01-24T00:00:00",
          "2022-01-25T00:00:00",
          "2022-01-26T00:00:00",
          "2022-01-27T00:00:00",
          "2022-01-28T00:00:00",
          "2022-01-31T00:00:00",
          "2022-02-01T00:00:00",
          "2022-02-02T00:00:00",
          "2022-02-03T00:00:00",
          "2022-02-04T00:00:00",
          "2022-02-07T00:00:00",
          "2022-02-08T00:00:00",
          "2022-02-09T00:00:00",
          "2022-02-10T00:00:00",
          "2022-02-11T00:00:00",
          "2022-02-14T00:00:00",
          "2022-02-15T00:00:00",
          "2022-02-16T00:00:00",
          "2022-02-17T00:00:00",
          "2022-02-18T00:00:00",
          "2022-02-21T00:00:00",
          "2022-02-22T00:00:00",
          "2022-02-23T00:00:00",
          "2022-02-24T00:00:00",
          "2022-02-25T00:00:00",
          "2022-02-28T00:00:00",
          "2022-03-01T00:00:00",
          "2022-03-02T00:00:00",
          "2022-03-03T00:00:00",
          "2022-03-04T00:00:00",
          "2022-03-07T00:00:00",
          "2022-03-08T00:00:00",
          "2022-03-09T00:00:00",
          "2022-03-10T00:00:00",
          "2022-03-11T00:00:00",
          "2022-03-14T00:00:00",
          "2022-03-15T00:00:00",
          "2022-03-16T00:00:00",
          "2022-03-17T00:00:00",
          "2022-03-18T00:00:00",
          "2022-03-21T00:00:00",
          "2022-03-22T00:00:00",
          "2022-03-23T00:00:00",
          "2022-03-24T00:00:00",
          "2022-03-25T00:00:00",
          "2022-03-28T00:00:00",
          "2022-03-29T00:00:00",
          "2022-03-30T00:00:00",
          "2022-03-31T00:00:00",
          "2022-04-01T00:00:00",
          "2022-04-04T00:00:00",
          "2022-04-05T00:00:00",
          "2022-04-06T00:00:00",
          "2022-04-07T00:00:00",
          "2022-04-08T00:00:00",
          "2022-04-11T00:00:00",
          "2022-04-12T00:00:00",
          "2022-04-13T00:00:00",
          "2022-04-14T00:00:00",
          "2022-04-19T00:00:00",
          "2022-04-20T00:00:00",
          "2022-04-21T00:00:00",
          "2022-04-22T00:00:00",
          "2022-04-25T00:00:00",
          "2022-04-26T00:00:00",
          "2022-04-27T00:00:00",
          "2022-04-28T00:00:00",
          "2022-04-29T00:00:00",
          "2022-05-02T00:00:00",
          "2022-05-03T00:00:00",
          "2022-05-04T00:00:00",
          "2022-05-05T00:00:00",
          "2022-05-06T00:00:00",
          "2022-05-09T00:00:00",
          "2022-05-10T00:00:00",
          "2022-05-11T00:00:00",
          "2022-05-12T00:00:00",
          "2022-05-13T00:00:00",
          "2022-05-16T00:00:00",
          "2022-05-17T00:00:00",
          "2022-05-18T00:00:00",
          "2022-05-19T00:00:00",
          "2022-05-20T00:00:00",
          "2022-05-23T00:00:00",
          "2022-05-24T00:00:00",
          "2022-05-25T00:00:00",
          "2022-05-26T00:00:00",
          "2022-05-27T00:00:00",
          "2022-05-30T00:00:00",
          "2022-05-31T00:00:00",
          "2022-06-01T00:00:00",
          "2022-06-02T00:00:00",
          "2022-06-03T00:00:00",
          "2022-06-06T00:00:00",
          "2022-06-07T00:00:00",
          "2022-06-08T00:00:00",
          "2022-06-09T00:00:00",
          "2022-06-10T00:00:00",
          "2022-06-13T00:00:00",
          "2022-06-14T00:00:00",
          "2022-06-15T00:00:00",
          "2022-06-16T00:00:00",
          "2022-06-17T00:00:00",
          "2022-06-20T00:00:00",
          "2022-06-21T00:00:00",
          "2022-06-22T00:00:00",
          "2022-06-23T00:00:00",
          "2022-06-24T00:00:00",
          "2022-06-27T00:00:00",
          "2022-06-28T00:00:00",
          "2022-06-29T00:00:00",
          "2022-06-30T00:00:00",
          "2022-07-01T00:00:00",
          "2022-07-04T00:00:00",
          "2022-07-05T00:00:00",
          "2022-07-06T00:00:00",
          "2022-07-07T00:00:00",
          "2022-07-08T00:00:00",
          "2022-07-11T00:00:00",
          "2022-07-12T00:00:00",
          "2022-07-13T00:00:00",
          "2022-07-14T00:00:00",
          "2022-07-15T00:00:00",
          "2022-07-18T00:00:00",
          "2022-07-19T00:00:00",
          "2022-07-20T00:00:00",
          "2022-07-21T00:00:00",
          "2022-07-22T00:00:00",
          "2022-07-25T00:00:00",
          "2022-07-26T00:00:00",
          "2022-07-27T00:00:00",
          "2022-07-28T00:00:00",
          "2022-07-29T00:00:00",
          "2022-08-01T00:00:00",
          "2022-08-02T00:00:00",
          "2022-08-03T00:00:00",
          "2022-08-04T00:00:00",
          "2022-08-05T00:00:00",
          "2022-08-08T00:00:00",
          "2022-08-09T00:00:00",
          "2022-08-10T00:00:00",
          "2022-08-11T00:00:00",
          "2022-08-12T00:00:00",
          "2022-08-15T00:00:00",
          "2022-08-16T00:00:00",
          "2022-08-17T00:00:00",
          "2022-08-18T00:00:00",
          "2022-08-19T00:00:00",
          "2022-08-22T00:00:00",
          "2022-08-23T00:00:00",
          "2022-08-24T00:00:00",
          "2022-08-25T00:00:00",
          "2022-08-26T00:00:00",
          "2022-08-29T00:00:00",
          "2022-08-30T00:00:00",
          "2022-08-31T00:00:00",
          "2022-09-01T00:00:00",
          "2022-09-02T00:00:00",
          "2022-09-05T00:00:00",
          "2022-09-06T00:00:00",
          "2022-09-07T00:00:00",
          "2022-09-08T00:00:00",
          "2022-09-09T00:00:00",
          "2022-09-12T00:00:00",
          "2022-09-13T00:00:00",
          "2022-09-14T00:00:00",
          "2022-09-15T00:00:00",
          "2022-09-16T00:00:00",
          "2022-09-19T00:00:00",
          "2022-09-20T00:00:00",
          "2022-09-21T00:00:00",
          "2022-09-22T00:00:00",
          "2022-09-23T00:00:00",
          "2022-09-26T00:00:00",
          "2022-09-27T00:00:00",
          "2022-09-28T00:00:00",
          "2022-09-29T00:00:00",
          "2022-09-30T00:00:00",
          "2022-10-03T00:00:00",
          "2022-10-04T00:00:00",
          "2022-10-05T00:00:00",
          "2022-10-06T00:00:00",
          "2022-10-07T00:00:00",
          "2022-10-10T00:00:00",
          "2022-10-11T00:00:00",
          "2022-10-12T00:00:00",
          "2022-10-13T00:00:00",
          "2022-10-14T00:00:00",
          "2022-10-17T00:00:00",
          "2022-10-18T00:00:00",
          "2022-10-19T00:00:00",
          "2022-10-20T00:00:00",
          "2022-10-21T00:00:00",
          "2022-10-24T00:00:00",
          "2022-10-25T00:00:00",
          "2022-10-26T00:00:00",
          "2022-10-27T00:00:00",
          "2022-10-28T00:00:00",
          "2022-10-31T00:00:00",
          "2022-11-01T00:00:00",
          "2022-11-02T00:00:00",
          "2022-11-03T00:00:00",
          "2022-11-04T00:00:00",
          "2022-11-07T00:00:00",
          "2022-11-08T00:00:00",
          "2022-11-09T00:00:00",
          "2022-11-10T00:00:00",
          "2022-11-11T00:00:00",
          "2022-11-14T00:00:00",
          "2022-11-15T00:00:00",
          "2022-11-16T00:00:00",
          "2022-11-17T00:00:00",
          "2022-11-18T00:00:00",
          "2022-11-21T00:00:00",
          "2022-11-22T00:00:00",
          "2022-11-23T00:00:00",
          "2022-11-24T00:00:00",
          "2022-11-25T00:00:00",
          "2022-11-28T00:00:00",
          "2022-11-29T00:00:00",
          "2022-11-30T00:00:00",
          "2022-12-01T00:00:00",
          "2022-12-02T00:00:00",
          "2022-12-05T00:00:00",
          "2022-12-06T00:00:00",
          "2022-12-07T00:00:00",
          "2022-12-08T00:00:00",
          "2022-12-09T00:00:00",
          "2022-12-12T00:00:00",
          "2022-12-13T00:00:00",
          "2022-12-14T00:00:00",
          "2022-12-15T00:00:00",
          "2022-12-16T00:00:00",
          "2022-12-19T00:00:00",
          "2022-12-20T00:00:00",
          "2022-12-21T00:00:00",
          "2022-12-22T00:00:00",
          "2022-12-23T00:00:00",
          "2022-12-27T00:00:00",
          "2022-12-28T00:00:00",
          "2022-12-29T00:00:00",
          "2022-12-30T00:00:00",
          "2023-01-02T00:00:00",
          "2023-01-03T00:00:00",
          "2023-01-04T00:00:00",
          "2023-01-05T00:00:00",
          "2023-01-06T00:00:00",
          "2023-01-09T00:00:00",
          "2023-01-10T00:00:00",
          "2023-01-11T00:00:00",
          "2023-01-12T00:00:00",
          "2023-01-13T00:00:00",
          "2023-01-16T00:00:00",
          "2023-01-17T00:00:00",
          "2023-01-18T00:00:00",
          "2023-01-19T00:00:00",
          "2023-01-20T00:00:00",
          "2023-01-23T00:00:00",
          "2023-01-24T00:00:00",
          "2023-01-25T00:00:00",
          "2023-01-26T00:00:00",
          "2023-01-27T00:00:00",
          "2023-01-30T00:00:00",
          "2023-01-31T00:00:00",
          "2023-02-01T00:00:00",
          "2023-02-02T00:00:00",
          "2023-02-03T00:00:00",
          "2023-02-06T00:00:00",
          "2023-02-07T00:00:00",
          "2023-02-08T00:00:00",
          "2023-02-09T00:00:00",
          "2023-02-10T00:00:00",
          "2023-02-13T00:00:00",
          "2023-02-14T00:00:00",
          "2023-02-15T00:00:00",
          "2023-02-16T00:00:00",
          "2023-02-17T00:00:00",
          "2023-02-20T00:00:00",
          "2023-02-21T00:00:00",
          "2023-02-22T00:00:00",
          "2023-02-23T00:00:00",
          "2023-02-24T00:00:00",
          "2023-02-27T00:00:00",
          "2023-02-28T00:00:00",
          "2023-03-01T00:00:00",
          "2023-03-02T00:00:00",
          "2023-03-03T00:00:00",
          "2023-03-06T00:00:00",
          "2023-03-07T00:00:00",
          "2023-03-08T00:00:00",
          "2023-03-09T00:00:00",
          "2023-03-10T00:00:00",
          "2023-03-13T00:00:00",
          "2023-03-14T00:00:00",
          "2023-03-15T00:00:00",
          "2023-03-16T00:00:00",
          "2023-03-17T00:00:00",
          "2023-03-20T00:00:00",
          "2023-03-21T00:00:00",
          "2023-03-22T00:00:00",
          "2023-03-23T00:00:00",
          "2023-03-24T00:00:00",
          "2023-03-27T00:00:00",
          "2023-03-28T00:00:00",
          "2023-03-29T00:00:00",
          "2023-03-30T00:00:00",
          "2023-03-31T00:00:00",
          "2023-04-03T00:00:00",
          "2023-04-04T00:00:00",
          "2023-04-05T00:00:00",
          "2023-04-06T00:00:00",
          "2023-04-11T00:00:00",
          "2023-04-12T00:00:00",
          "2023-04-13T00:00:00",
          "2023-04-14T00:00:00",
          "2023-04-17T00:00:00",
          "2023-04-18T00:00:00",
          "2023-04-19T00:00:00",
          "2023-04-20T00:00:00",
          "2023-04-21T00:00:00",
          "2023-04-24T00:00:00",
          "2023-04-25T00:00:00",
          "2023-04-26T00:00:00",
          "2023-04-27T00:00:00",
          "2023-04-28T00:00:00",
          "2023-05-02T00:00:00",
          "2023-05-03T00:00:00",
          "2023-05-04T00:00:00",
          "2023-05-05T00:00:00",
          "2023-05-08T00:00:00",
          "2023-05-09T00:00:00",
          "2023-05-10T00:00:00",
          "2023-05-11T00:00:00",
          "2023-05-12T00:00:00",
          "2023-05-15T00:00:00",
          "2023-05-16T00:00:00",
          "2023-05-17T00:00:00",
          "2023-05-18T00:00:00",
          "2023-05-19T00:00:00",
          "2023-05-22T00:00:00",
          "2023-05-23T00:00:00",
          "2023-05-24T00:00:00",
          "2023-05-25T00:00:00",
          "2023-05-26T00:00:00",
          "2023-05-29T00:00:00",
          "2023-05-30T00:00:00",
          "2023-05-31T00:00:00",
          "2023-06-01T00:00:00",
          "2023-06-02T00:00:00",
          "2023-06-05T00:00:00",
          "2023-06-06T00:00:00",
          "2023-06-07T00:00:00",
          "2023-06-08T00:00:00",
          "2023-06-09T00:00:00",
          "2023-06-12T00:00:00",
          "2023-06-13T00:00:00",
          "2023-06-14T00:00:00",
          "2023-06-15T00:00:00",
          "2023-06-16T00:00:00",
          "2023-06-19T00:00:00",
          "2023-06-20T00:00:00",
          "2023-06-21T00:00:00",
          "2023-06-22T00:00:00",
          "2023-06-23T00:00:00",
          "2023-06-26T00:00:00",
          "2023-06-27T00:00:00",
          "2023-06-28T00:00:00",
          "2023-06-29T00:00:00",
          "2023-06-30T00:00:00",
          "2023-07-03T00:00:00",
          "2023-07-04T00:00:00",
          "2023-07-05T00:00:00",
          "2023-07-06T00:00:00",
          "2023-07-07T00:00:00",
          "2023-07-10T00:00:00",
          "2023-07-11T00:00:00",
          "2023-07-12T00:00:00",
          "2023-07-13T00:00:00",
          "2023-07-14T00:00:00",
          "2023-07-17T00:00:00",
          "2023-07-18T00:00:00",
          "2023-07-19T00:00:00",
          "2023-07-20T00:00:00",
          "2023-07-21T00:00:00",
          "2023-07-24T00:00:00",
          "2023-07-25T00:00:00",
          "2023-07-26T00:00:00",
          "2023-07-27T00:00:00",
          "2023-07-28T00:00:00",
          "2023-07-31T00:00:00",
          "2023-08-01T00:00:00",
          "2023-08-02T00:00:00",
          "2023-08-03T00:00:00",
          "2023-08-04T00:00:00",
          "2023-08-07T00:00:00",
          "2023-08-08T00:00:00",
          "2023-08-09T00:00:00",
          "2023-08-10T00:00:00",
          "2023-08-11T00:00:00",
          "2023-08-14T00:00:00",
          "2023-08-15T00:00:00",
          "2023-08-16T00:00:00",
          "2023-08-17T00:00:00",
          "2023-08-18T00:00:00",
          "2023-08-21T00:00:00",
          "2023-08-22T00:00:00",
          "2023-08-23T00:00:00",
          "2023-08-24T00:00:00",
          "2023-08-25T00:00:00",
          "2023-08-28T00:00:00",
          "2023-08-29T00:00:00",
          "2023-08-30T00:00:00",
          "2023-08-31T00:00:00",
          "2023-09-01T00:00:00",
          "2023-09-04T00:00:00",
          "2023-09-05T00:00:00",
          "2023-09-06T00:00:00",
          "2023-09-07T00:00:00",
          "2023-09-08T00:00:00",
          "2023-09-11T00:00:00",
          "2023-09-12T00:00:00",
          "2023-09-13T00:00:00",
          "2023-09-14T00:00:00",
          "2023-09-15T00:00:00",
          "2023-09-18T00:00:00",
          "2023-09-19T00:00:00",
          "2023-09-20T00:00:00",
          "2023-09-21T00:00:00",
          "2023-09-22T00:00:00",
          "2023-09-25T00:00:00",
          "2023-09-26T00:00:00",
          "2023-09-27T00:00:00",
          "2023-09-28T00:00:00",
          "2023-09-29T00:00:00",
          "2023-10-02T00:00:00",
          "2023-10-03T00:00:00",
          "2023-10-04T00:00:00",
          "2023-10-05T00:00:00",
          "2023-10-06T00:00:00",
          "2023-10-09T00:00:00",
          "2023-10-10T00:00:00",
          "2023-10-11T00:00:00",
          "2023-10-12T00:00:00",
          "2023-10-13T00:00:00",
          "2023-10-16T00:00:00",
          "2023-10-17T00:00:00",
          "2023-10-18T00:00:00",
          "2023-10-19T00:00:00",
          "2023-10-20T00:00:00",
          "2023-10-23T00:00:00",
          "2023-10-24T00:00:00",
          "2023-10-25T00:00:00",
          "2023-10-26T00:00:00",
          "2023-10-27T00:00:00",
          "2023-10-30T00:00:00",
          "2023-10-31T00:00:00",
          "2023-11-01T00:00:00",
          "2023-11-02T00:00:00",
          "2023-11-03T00:00:00",
          "2023-11-06T00:00:00",
          "2023-11-07T00:00:00",
          "2023-11-08T00:00:00",
          "2023-11-09T00:00:00",
          "2023-11-10T00:00:00",
          "2023-11-13T00:00:00",
          "2023-11-14T00:00:00",
          "2023-11-15T00:00:00",
          "2023-11-16T00:00:00",
          "2023-11-17T00:00:00",
          "2023-11-20T00:00:00",
          "2023-11-21T00:00:00",
          "2023-11-22T00:00:00",
          "2023-11-23T00:00:00",
          "2023-11-24T00:00:00",
          "2023-11-27T00:00:00",
          "2023-11-28T00:00:00",
          "2023-11-29T00:00:00",
          "2023-11-30T00:00:00",
          "2023-12-01T00:00:00",
          "2023-12-04T00:00:00",
          "2023-12-05T00:00:00",
          "2023-12-06T00:00:00",
          "2023-12-07T00:00:00",
          "2023-12-08T00:00:00",
          "2023-12-11T00:00:00",
          "2023-12-12T00:00:00",
          "2023-12-13T00:00:00",
          "2023-12-14T00:00:00",
          "2023-12-15T00:00:00",
          "2023-12-18T00:00:00",
          "2023-12-19T00:00:00",
          "2023-12-20T00:00:00",
          "2023-12-21T00:00:00",
          "2023-12-22T00:00:00",
          "2023-12-27T00:00:00",
          "2023-12-28T00:00:00",
          "2023-12-29T00:00:00",
          "2024-01-02T00:00:00",
          "2024-01-03T00:00:00",
          "2024-01-04T00:00:00",
          "2024-01-05T00:00:00",
          "2024-01-08T00:00:00",
          "2024-01-09T00:00:00",
          "2024-01-10T00:00:00",
          "2024-01-11T00:00:00",
          "2024-01-12T00:00:00",
          "2024-01-15T00:00:00",
          "2024-01-16T00:00:00",
          "2024-01-17T00:00:00",
          "2024-01-18T00:00:00",
          "2024-01-19T00:00:00",
          "2024-01-22T00:00:00",
          "2024-01-23T00:00:00",
          "2024-01-24T00:00:00",
          "2024-01-25T00:00:00",
          "2024-01-26T00:00:00",
          "2024-01-29T00:00:00",
          "2024-01-30T00:00:00",
          "2024-01-31T00:00:00",
          "2024-02-01T00:00:00",
          "2024-02-02T00:00:00",
          "2024-02-05T00:00:00",
          "2024-02-06T00:00:00",
          "2024-02-07T00:00:00",
          "2024-02-08T00:00:00",
          "2024-02-09T00:00:00",
          "2024-02-12T00:00:00",
          "2024-02-13T00:00:00",
          "2024-02-14T00:00:00",
          "2024-02-15T00:00:00",
          "2024-02-16T00:00:00",
          "2024-02-19T00:00:00",
          "2024-02-20T00:00:00",
          "2024-02-21T00:00:00",
          "2024-02-22T00:00:00",
          "2024-02-23T00:00:00",
          "2024-02-26T00:00:00",
          "2024-02-27T00:00:00",
          "2024-02-28T00:00:00",
          "2024-02-29T00:00:00",
          "2024-03-01T00:00:00",
          "2024-03-04T00:00:00",
          "2024-03-05T00:00:00",
          "2024-03-06T00:00:00",
          "2024-03-07T00:00:00",
          "2024-03-08T00:00:00",
          "2024-03-11T00:00:00",
          "2024-03-12T00:00:00",
          "2024-03-13T00:00:00",
          "2024-03-14T00:00:00",
          "2024-03-15T00:00:00",
          "2024-03-18T00:00:00",
          "2024-03-19T00:00:00",
          "2024-03-20T00:00:00",
          "2024-03-21T00:00:00",
          "2024-03-22T00:00:00",
          "2024-03-25T00:00:00",
          "2024-03-26T00:00:00",
          "2024-03-27T00:00:00",
          "2024-03-28T00:00:00",
          "2024-04-02T00:00:00",
          "2024-04-03T00:00:00",
          "2024-04-04T00:00:00",
          "2024-04-05T00:00:00",
          "2024-04-08T00:00:00",
          "2024-04-09T00:00:00",
          "2024-04-10T00:00:00",
          "2024-04-11T00:00:00",
          "2024-04-12T00:00:00",
          "2024-04-15T00:00:00",
          "2024-04-16T00:00:00",
          "2024-04-17T00:00:00",
          "2024-04-18T00:00:00",
          "2024-04-19T00:00:00",
          "2024-04-22T00:00:00",
          "2024-04-23T00:00:00",
          "2024-04-24T00:00:00",
          "2024-04-25T00:00:00",
          "2024-04-26T00:00:00",
          "2024-04-29T00:00:00"
         ],
         "y": [
          22.656150817871094,
          22.71068000793457,
          23.05147361755371,
          23.126453399658203,
          23.365009307861328,
          23.569486618041992,
          23.371824264526367,
          23.59675025939941,
          23.255958557128903,
          22.942419052124023,
          23.26958656311035,
          23.480884552001957,
          24.073862075805664,
          24.0806827545166,
          24.54692268371582,
          24.60906982421875,
          24.788593292236328,
          24.995744705200195,
          25.0440731048584,
          24.857646942138672,
          25.00954818725586,
          24.926692962646484,
          25.064790725708008,
          24.760974884033203,
          25.00264549255371,
          24.71954345703125,
          24.2983455657959,
          24.2845401763916,
          24.733360290527344,
          24.8852653503418,
          25.216697692871094,
          25.444564819335938,
          25.693140029907227,
          25.92790412902832,
          25.89338111877441,
          25.713851928710938,
          25.900287628173828,
          26.342199325561523,
          26.57696533203125,
          26.597679138183597,
          26.687442779541016,
          26.91530418395996,
          27.44007682800293,
          27.61960792541504,
          27.30887985229492,
          27.274364471435547,
          27.16388320922852,
          26.50101089477539,
          26.70815658569336,
          26.597679138183597,
          26.99125862121582,
          26.908403396606445,
          27.17078399658203,
          27.13625907897949,
          27.232933044433597,
          27.10863876342773,
          27.16388320922852,
          26.673633575439453,
          26.625293731689453,
          26.666725158691406,
          27.274364471435547,
          26.72196578979492,
          27.039594650268555,
          27.067214965820312,
          27.28126335144043,
          27.41245651245117,
          27.571273803710938,
          27.716272354125977,
          27.716272354125977,
          27.274364471435547,
          27.24673843383789,
          27.978660583496094,
          28.0615234375,
          28.15128326416016,
          27.799129486083984,
          27.8543701171875,
          28.15128326416016,
          27.799129486083984,
          27.888893127441406,
          27.957942962646484,
          27.957942962646484,
          28.19270896911621,
          28.26176071166992,
          27.91651153564453,
          27.70246696472168,
          26.72887420654297,
          26.507911682128903,
          26.079809188842773,
          25.589563369750977,
          26.003856658935547,
          25.60337448120117,
          25.62408828735352,
          25.644805908203125,
          25.796709060668945,
          26.017667770385746,
          26.05909919738769,
          26.397436141967773,
          26.41124725341797,
          25.672420501708984,
          25.74147224426269,
          26.072908401489254,
          26.2662410736084,
          25.61027717590332,
          25.7898063659668,
          25.479087829589844,
          25.389318466186523,
          25.72075653076172,
          25.82433319091797,
          25.6793270111084,
          25.75528335571289,
          26.33529663085937,
          26.473392486572266,
          26.031478881835938,
          26.141950607299805,
          25.73457145690918,
          25.907190322875977,
          26.35601043701172,
          26.362913131713867,
          26.61148834228516,
          26.2662410736084,
          26.08443832397461,
          25.93362236022949,
          24.9497127532959,
          24.9497127532959,
          25.21544075012207,
          25.617624282836918,
          25.739715576171875,
          26.39326286315918,
          26.27117156982422,
          25.96234893798828,
          26.43634986877441,
          26.62307929992676,
          26.579988479614254,
          27.42744255065918,
          27.621356964111328,
          27.980453491210938,
          28.188724517822266,
          27.39872169494629,
          26.256807327270508,
          26.42198944091797,
          26.43634986877441,
          26.74517250061035,
          26.953447341918945,
          27.01089859008789,
          26.967809677124023,
          26.99653434753418,
          25.919261932373047,
          26.28553581237793,
          26.5081729888916,
          25.56017303466797,
          24.569074630737305,
          24.31052589416504,
          24.425437927246094,
          25.17952919006348,
          24.841983795166016,
          24.31770896911621,
          24.461349487304688,
          23.807802200317383,
          23.54924964904785,
          23.7000732421875,
          24.26743698120117,
          23.743162155151367,
          24.15252685546875,
          23.9586181640625,
          23.771886825561523,
          24.016075134277344,
          24.20279884338379,
          24.130983352661133,
          24.705530166625977,
          24.683984756469727,
          24.82043838500977,
          24.84916305541992,
          24.971254348754883,
          25.035892486572266,
          25.064620971679688,
          25.35907554626465,
          26.098804473876957,
          26.429170608520508,
          26.20653533935547,
          25.912078857421875,
          25.761260986328125,
          25.926441192626957,
          25.83307647705078,
          25.876171112060547,
          25.926441192626957,
          25.373441696166992,
          25.21544075012207,
          24.96407699584961,
          25.438077926635746,
          25.667892456054688,
          26.328628540039062,
          25.991079330444336,
          24.899438858032227,
          25.00716781616211,
          25.251352310180664,
          25.36625289916992,
          24.98562431335449,
          24.978439331054688,
          25.2082576751709,
          25.991079330444336,
          25.95516967773437,
          26.062894821166992,
          25.782804489135746,
          25.840259552001957,
          25.667892456054688,
          25.67508125305176,
          25.739715576171875,
          25.89771842956543,
          25.969528198242188,
          26.149078369140625,
          26.328628540039062,
          26.479442596435547,
          26.29271507263184,
          26.13471984863281,
          26.46508407592773,
          26.71644401550293,
          26.38607788085937,
          26.38607788085937,
          25.876171112060547,
          25.588897705078125,
          25.68943977355957,
          25.57452964782715,
          24.597797393798828,
          24.61216354370117,
          24.885072708129883,
          24.877893447875977,
          25.050254821777344,
          25.064620971679688,
          24.676803588867188,
          24.913801193237305,
          24.791709899902344,
          25.086166381835938,
          25.10770797729492,
          25.380624771118164,
          25.373441696166992,
          24.84916305541992,
          24.080707550048828,
          24.54034805297852,
          24.525983810424805,
          24.96407699584961,
          25.035892486572266,
          25.2082576751709,
          25.13644027709961,
          25.31598472595215,
          25.380624771118164,
          25.646352767944336,
          25.57452964782715,
          25.04307746887207,
          24.98562431335449,
          24.841983795166016,
          24.9928035736084,
          25.409347534179688,
          25.409347534179688,
          25.27289390563965,
          25.27289390563965,
          25.603260040283203,
          25.27289390563965,
          24.96407699584961,
          24.80607414245605,
          24.877893447875977,
          24.9497127532959,
          24.6480770111084,
          24.504440307617188,
          24.569074630737305,
          24.6480770111084,
          23.91552734375,
          24.633708953857425,
          24.84916305541992,
          24.798891067504883,
          24.525983810424805,
          24.20279884338379,
          22.910066604614254,
          22.93161392211914,
          22.60124969482422,
          22.766433715820312,
          22.673065185546875,
          22.42170143127441,
          21.567066192626957,
          21.229515075683597,
          21.38751983642578,
          21.86870002746582,
          21.65324592590332,
          21.918975830078125,
          21.81842613220215,
          22.63715934753418,
          22.80952262878418,
          22.823888778686523,
          22.45042991638184,
          22.98188591003418,
          22.664411544799805,
          21.673620223999023,
          22.416711807250977,
          21.884889602661133,
          21.11993789672852,
          20.12186050415039,
          20.12186050415039,
          19.917871475219727,
          19.56089782714844,
          19.517183303833008,
          19.480758666992188,
          19.45890045166016,
          18.868799209594727,
          17.979995727539062,
          16.180540084838867,
          15.430157661437988,
          14.861912727355955,
          12.057085990905762,
          12.08987045288086,
          10.355982780456545,
          9.926152229309082,
          8.46910285949707,
          8.337966918945312,
          9.74402141571045,
          9.948007583618164,
          10.563613891601562,
          11.772961616516112,
          12.465063095092772,
          11.696468353271484,
          11.867671012878418,
          12.978673934936523,
          12.373997688293455,
          12.52698802947998,
          12.31207275390625,
          13.237298965454102,
          14.4575777053833,
          14.348299980163574,
          14.570500373840332,
          14.985756874084473,
          14.606926918029783,
          14.373797416687012,
          15.189745903015137,
          15.073182106018066,
          14.570500373840332,
          14.883766174316406,
          15.116893768310549,
          15.226170539855955,
          15.546720504760742,
          16.267963409423828,
          17.142192840576172,
          16.588516235351562,
          16.267963409423828,
          16.76336097717285,
          16.996484756469727,
          17.062055587768555,
          17.295183181762695,
          17.229616165161133,
          17.375322341918945,
          17.018341064453125,
          16.24610710144043,
          16.02754783630371,
          16.807071685791016,
          15.226170539855955,
          14.803627967834473,
          15.116893768310549,
          15.000328063964844,
          15.991125106811523,
          17.542882919311523,
          16.981916427612305,
          17.280609130859375,
          16.719648361206055,
          17.375322341918945,
          17.776010513305664,
          18.98535919189453,
          18.489965438842773,
          18.978076934814453,
          19.40062141418457,
          18.8032283782959,
          17.994565963745117,
          16.654083251953125,
          16.486522674560547,
          16.76336097717285,
          17.928998947143555,
          17.521026611328125,
          17.375322341918945,
          17.30246925354004,
          17.244184494018555,
          17.744348526000977,
          16.908226013183594,
          17.38047981262207,
          17.016613006591797,
          17.488861083984375,
          17.372737884521484,
          17.442413330078125,
          18.31722640991211,
          18.153470993041992,
          18.62914085388184,
          18.247047424316406,
          18.03650283813477,
          17.763578414916992,
          18.55116271972656,
          18.82408905029297,
          18.38741111755371,
          18.87867546081543,
          18.449790954589844,
          18.371809005737305,
          18.254844665527344,
          18.176862716674805,
          18.231449127197266,
          18.137874603271484,
          17.37368392944336,
          16.76544952392578,
          16.679672241210938,
          16.5393123626709,
          15.65814971923828,
          15.244860649108888,
          15.65814971923828,
          16.235193252563477,
          16.632884979248047,
          16.344362258911133,
          15.985661506652832,
          16.484724044799805,
          17.37368392944336,
          16.983789443969727,
          16.781044006347656,
          16.58609962463379,
          16.50031852722168,
          16.49252700805664,
          16.9292049407959,
          16.64068031311035,
          16.843427658081055,
          17.202131271362305,
          16.7342586517334,
          16.625085830688477,
          16.57050323486328,
          16.547107696533203,
          16.001256942749023,
          16.001256942749023,
          16.266386032104492,
          16.422344207763672,
          16.126022338867188,
          16.57830047607422,
          16.094831466674805,
          16.328767776489258,
          16.289779663085938,
          16.56270408630371,
          16.46133041381836,
          16.41454315185547,
          16.65627670288086,
          16.50031852722168,
          15.81410789489746,
          14.196046829223633,
          14.433883666992188,
          15.127893447875977,
          15.096704483032228,
          14.808181762695312,
          15.346235275268556,
          14.812079429626465,
          15.100598335266112,
          14.511859893798828,
          18.26264190673828,
          18.84748268127441,
          19.47911071777344,
          19.198389053344727,
          19.603878021240234,
          19.198389053344727,
          18.894269943237305,
          18.30942916870117,
          18.62914085388184,
          18.20805549621582,
          18.176862716674805,
          18.083290100097656,
          17.958526611328125,
          17.615415573120117,
          17.670001983642578,
          17.85715103149414,
          16.960397720336914,
          16.37555503845215,
          15.65814971923828,
          15.95447063446045,
          15.90768337249756,
          17.178735733032227,
          17.41267204284668,
          16.97599220275879,
          17.615415573120117,
          17.490652084350586,
          19.284164428710938,
          20.10294532775879,
          19.533695220947266,
          19.346546173095703,
          19.697452545166016,
          20.23550796508789,
          20.23550796508789,
          20.352474212646484,
          19.90799331665039,
          19.853412628173828,
          20.547422409057617,
          21.63912582397461,
          21.740497589111328,
          21.12446594238281,
          20.91391944885254,
          20.656593322753903,
          20.57081794738769,
          20.929519653320312,
          20.765764236450195,
          21.459775924682617,
          21.14786148071289,
          20.88273048400879,
          21.30381774902344,
          20.68778419494629,
          20.80475234985352,
          20.67998695373535,
          21.30381774902344,
          21.023090362548828,
          20.8359432220459,
          20.5162296295166,
          20.414857864379883,
          20.734569549560547,
          21.280420303344727,
          21.23363494873047,
          21.31161499023437,
          21.22583770751953,
          21.381797790527344,
          21.17125129699707,
          21.06208229064941,
          21.405187606811523,
          21.873062133789062,
          21.63132667541504,
          21.6859130859375,
          21.935443878173828,
          22.71523094177246,
          22.34093475341797,
          22.808809280395508,
          22.54368019104004,
          22.64505386352539,
          22.57487297058105,
          22.50469207763672,
          21.545549392700195,
          21.408578872680664,
          20.988338470458984,
          20.81389617919922,
          20.19542694091797,
          20.82182502746582,
          20.39365577697754,
          20.78218078613281,
          21.18656539916992,
          20.956619262695312,
          20.93283462524414,
          20.98040771484375,
          20.98040771484375,
          20.48087310791016,
          19.806900024414062,
          20.28264808654785,
          20.298507690429688,
          20.734603881835938,
          20.330224990844727,
          20.020984649658203,
          19.79897117614746,
          19.99720001220703,
          20.15578269958496,
          20.69495964050293,
          20.488805770874023,
          20.377796173095703,
          20.09234619140625,
          20.98040771484375,
          20.97248077392578,
          20.472946166992188,
          20.916976928710938,
          20.68703269958496,
          20.98040771484375,
          21.448225021362305,
          21.6068058013916,
          21.265853881835938,
          21.440296173095703,
          21.876394271850582,
          21.979476928710938,
          21.678171157836918,
          22.003263473510746,
          21.487873077392575,
          21.01212310791016,
          20.615671157836918,
          20.84561538696289,
          20.869403839111328,
          21.14691925048828,
          21.376861572265625,
          21.947757720947266,
          22.40764808654785,
          22.37593078613281,
          22.1380558013916,
          22.21735191345215,
          22.066696166992188,
          21.892253875732425,
          21.92397117614746,
          21.85260772705078,
          22.08255195617676,
          21.9556884765625,
          22.24906539916992,
          22.518653869628903,
          21.5830192565918,
          21.472013473510746,
          21.57509422302246,
          21.440296173095703,
          21.694026947021484,
          21.75746154785156,
          21.598878860473636,
          21.464082717895508,
          21.51165580749512,
          21.487873077392575,
          21.5909481048584,
          22.18563270568848,
          22.45522117614746,
          22.49486541748047,
          22.4790096282959,
          21.828821182250977,
          21.931903839111328,
          21.376861572265625,
          21.115203857421875,
          21.09141540527344,
          20.93283462524414,
          20.346080780029297,
          20.56809425354004,
          20.512592315673828,
          20.56016540527344,
          20.243000030517575,
          20.10027885437012,
          20.005126953125,
          20.06063270568848,
          20.219213485717773,
          20.385725021362305,
          20.385725021362305,
          20.35401153564453,
          19.933767318725582,
          20.0130615234375,
          20.068559646606445,
          20.044776916503903,
          19.8306884765625,
          20.15578269958496,
          20.274717330932617,
          20.25092887878418,
          19.99720001220703,
          19.58488655090332,
          19.34701156616211,
          19.299436569213867,
          19.202978134155277,
          18.918365478515625,
          18.96859169006348,
          19.077411651611328,
          18.683977127075195,
          18.8848819732666,
          18.909992218017575,
          19.26994514465332,
          19.43736267089844,
          19.46247673034668,
          19.12763977050781,
          18.683977127075195,
          18.13986587524414,
          18.51655960083008,
          18.7844295501709,
          18.633750915527344,
          18.51655960083008,
          18.064525604248047,
          18.005929946899414,
          17.419963836669922,
          17.495302200317383,
          18.13986587524414,
          18.29891395568848,
          18.432849884033203,
          18.541671752929688,
          18.47470474243164,
          18.93511009216309,
          18.851396560668945,
          18.55004501342773,
          18.909992218017575,
          18.8848819732666,
          18.83465576171875,
          19.13600730895996,
          19.110897064208984,
          19.0020751953125,
          19.052303314208984,
          19.362024307250977,
          19.454105377197266,
          19.655010223388672,
          19.28668594360352,
          19.2197208404541,
          19.43736267089844,
          19.043928146362305,
          18.976961135864254,
          19.09415435791016,
          19.21134757995605,
          19.25320243835449,
          19.25320243835449,
          19.27831649780273,
          19.12763977050781,
          19.13600730895996,
          19.680124282836918,
          19.638267517089844,
          19.47921562194824,
          19.48759078979492,
          19.588041305541992,
          19.546188354492188,
          19.17786407470703,
          18.83465576171875,
          19.588041305541992,
          19.546188354492188,
          19.14438247680664,
          19.362024307250977,
          19.08578491210937,
          18.851396560668945,
          18.99370574951172,
          19.521074295043945,
          19.638267517089844,
          19.62152671813965,
          20.056814193725582,
          19.66337776184082,
          19.77220344543457,
          19.629892349243164,
          19.454105377197266,
          19.378767013549805,
          19.110897064208984,
          18.75931739807129,
          19.02718544006348,
          19.052303314208984,
          18.851396560668945,
          18.792800903320312,
          18.667238235473636,
          18.65886688232422,
          19.02718544006348,
          18.75931739807129,
          18.918365478515625,
          19.25320243835449,
          19.29505920410156,
          19.303428649902344,
          19.08578491210937,
          19.244829177856445,
          19.0020751953125,
          18.943477630615234,
          18.943477630615234,
          19.26994514465332,
          19.01881599426269,
          18.82628631591797,
          18.633750915527344,
          19.5127010345459,
          19.353656768798828,
          19.42899513244629,
          19.554555892944336,
          19.311798095703125,
          19.40387916564941,
          19.638267517089844,
          19.353656768798828,
          19.12763977050781,
          18.792800903320312,
          18.19009017944336,
          18.315656661987305,
          18.64212417602539,
          18.67560768127441,
          18.75094413757324,
          17.595752716064453,
          18.031044006347656,
          17.754802703857422,
          18.123125076293945,
          17.98919105529785,
          17.871994018554688,
          18.273801803588867,
          18.432849884033203,
          18.1733512878418,
          17.922222137451172,
          17.947336196899414,
          17.7213191986084,
          17.830141067504883,
          17.687833786010742,
          18.08964157104492,
          18.206832885742188,
          18.04778480529785,
          18.52493095397949,
          18.809541702270508,
          19.244829177856445,
          19.34527969360352,
          19.40387916564941,
          19.521074295043945,
          19.7303466796875,
          19.78894424438477,
          19.9479923248291,
          19.981475830078125,
          19.95636558532715,
          19.864282608032227,
          20.240976333618164,
          20.69300842285156,
          20.77671813964844,
          20.62604141235352,
          20.4753475189209,
          20.543628692626957,
          20.22783660888672,
          19.49382972717285,
          19.690134048461918,
          19.72426986694336,
          19.18657112121582,
          19.195106506347656,
          19.49382972717285,
          19.39994430541992,
          18.99026679992676,
          19.0244083404541,
          19.24631690979004,
          19.13536262512207,
          19.41701316833496,
          19.126827239990234,
          18.82810401916504,
          19.007339477539062,
          19.502365112304688,
          19.382875442504883,
          19.288991928100582,
          18.742753982543945,
          19.0244083404541,
          19.229248046875,
          19.143896102905277,
          19.050012588500977,
          18.73422241210937,
          18.563520431518555,
          18.793964385986328,
          18.051424026489254,
          18.64033508300781,
          18.62326431274414,
          18.33307647705078,
          19.092687606811523,
          18.776893615722656,
          18.15384292602539,
          17.752700805664062,
          18.529380798339844,
          19.382875442504883,
          19.41701316833496,
          19.920578002929688,
          20.40707015991211,
          20.46681404113769,
          20.82528305053711,
          21.03012084960937,
          20.569232940673828,
          20.60337257385254,
          21.055727005004883,
          20.80821228027344,
          20.978912353515625,
          21.013050079345703,
          21.08133125305176,
          21.27763557434082,
          21.072797775268555,
          20.910633087158203,
          20.987445831298828,
          20.688724517822266,
          20.816747665405277,
          20.02299690246582,
          20.09981155395508,
          20.543628692626957,
          20.902097702026367,
          20.978912353515625,
          21.14961051940918,
          21.26056480407715,
          21.11547088623047,
          21.269100189208984,
          21.3117733001709,
          20.961841583251957,
          20.7911434173584,
          21.03012084960937,
          21.04718971252441,
          21.20935440063477,
          20.987445831298828,
          20.663116455078125,
          21.08133125305176,
          20.84235382080078,
          20.82528305053711,
          20.671653747558597,
          20.176626205444336,
          20.398534774780277,
          21.0045166015625,
          20.816747665405277,
          20.74846839904785,
          20.987445831298828,
          21.41419219970703,
          21.76412773132324,
          21.47393798828125,
          21.704381942749023,
          21.95189666748047,
          22.01164054870605,
          22.071386337280277,
          22.446924209594727,
          22.702970504760746,
          22.77978515625,
          22.532276153564453,
          22.472524642944336,
          22.574949264526367,
          22.64322662353516,
          22.91634750366211,
          22.959020614624023,
          22.88220596313477,
          21.883617401123047,
          21.61050033569336,
          20.78260612487793,
          20.50095558166504,
          20.569232940673828,
          20.46681404113769,
          20.902097702026367,
          20.902097702026367,
          20.6801872253418,
          20.24490547180176,
          20.065671920776367,
          20.31318473815918,
          20.031532287597656,
          20.33025550842285,
          20.05713653564453,
          19.741342544555664,
          19.70598030090332,
          19.87027359008789,
          19.07619285583496,
          18.975793838500977,
          19.450416564941406,
          19.79725456237793,
          19.614707946777344,
          19.78812599182129,
          19.42303466796875,
          19.231359481811523,
          19.72423553466797,
          19.87027359008789,
          20.09845733642578,
          19.87940216064453,
          19.87940216064453,
          20.281003952026367,
          20.554826736450195,
          20.545698165893555,
          20.792137145996094,
          20.61871719360352,
          21.36716079711914,
          20.8012638092041,
          21.121965408325195,
          21.25003242492676,
          21.24088287353516,
          21.167701721191406,
          21.46957778930664,
          21.872074127197266,
          21.93610572814941,
          21.881221771240234,
          21.93610572814941,
          22.073320388793945,
          22.41178703308105,
          22.027585983276367,
          22.027585983276367,
          21.84463119506836,
          21.08537483215332,
          21.112817764282227,
          20.92986297607422,
          20.756059646606445,
          20.509071350097656,
          20.435890197753903,
          20.381004333496094,
          20.316970825195312,
          20.48162651062012,
          20.69202423095703,
          20.509071350097656,
          20.48162651062012,
          20.69202423095703,
          20.627992630004883,
          21.048784255981445,
          21.50616836547852,
          21.07622528076172,
          21.030487060546875,
          21.304916381835938,
          20.966455459594727,
          20.884126663208008,
          20.435890197753903,
          20.69202423095703,
          20.600547790527344,
          20.24378776550293,
          20.17060661315918,
          20.289527893066406,
          20.65543365478516,
          20.682876586914062,
          21.15855598449707,
          21.08537483215332,
          21.670825958251957,
          21.414690017700195,
          21.067079544067383,
          20.8475341796875,
          20.45418357849121,
          20.5639591217041,
          20.39929962158203,
          20.554807662963867,
          20.737762451171875,
          21.176851272583008,
          21.68912124633789,
          21.808040618896484,
          21.588497161865234,
          21.698266983032227,
          22.20138931274414,
          22.6038875579834,
          23.070417404174805,
          23.363142013549805,
          23.44547271728516,
          23.73819923400879,
          23.73819923400879,
          23.70160484313965,
          23.390586853027344,
          23.55524444580078,
          23.67416381835937,
          23.73819923400879,
          23.81138038635254,
          24.03092193603516,
          23.976036071777344,
          23.9394474029541,
          24.24131965637207,
          23.976036071777344,
          23.85711669921875,
          24.19558334350586,
          24.33279800415039,
          24.60722541809082,
          24.671260833740234,
          24.890804290771484,
          24.31450080871582,
          24.24131965637207,
          24.54319190979004,
          24.75358772277832,
          24.845067977905277,
          24.973133087158203,
          24.85421371459961,
          24.909099578857425,
          24.890804290771484,
          24.652963638305664,
          24.936542510986328,
          24.744441986083984,
          24.735292434692383,
          24.62552070617676,
          24.32364845275879,
          23.893709182739254,
          23.902856826782227,
          23.99433135986328,
          24.433422088623047,
          24.479158401489254,
          24.64381599426269,
          24.662111282348636,
          24.58893203735352,
          24.68955612182617,
          24.488306045532227,
          24.85421371459961,
          24.89995002746582,
          25.028018951416016,
          25.119495391845703,
          25.52199363708496,
          25.9793758392334,
          25.814720153808597,
          25.60432243347168,
          26.06170463562012,
          25.897045135498047,
          26.04341125488281,
          26.006820678710938,
          26.06170463562012,
          25.659210205078125,
          25.6737117767334,
          25.09656524658203,
          25.115184783935547,
          25.09656524658203,
          25.180347442626957,
          25.208271026611328,
          25.16172790527344,
          25.264123916625977,
          25.468917846679688,
          25.841272354125977,
          26.036754608154297,
          25.375829696655277,
          25.347904205322266,
          25.431684494018555,
          25.468917846679688,
          25.152420043945312,
          25.236196517944336,
          25.48753547668457,
          25.52477264404297,
          25.45030212402344,
          25.580623626708984,
          25.226890563964844,
          25.14310836791992,
          24.882463455200195,
          25.841272354125977,
          25.99951934814453,
          26.157772064208984,
          26.67906379699707,
          26.88385772705078,
          26.59528541564941,
          26.74422836303711,
          26.71629905700684,
          26.73491859436035,
          26.921092987060547,
          26.576669692993164,
          26.30671119689941,
          26.064682006835938,
          26.72560691833496,
          26.092609405517575,
          26.502197265625,
          26.213623046875,
          26.59528541564941,
          27.107271194458008,
          26.98625373840332,
          26.98625373840332,
          26.1391544342041,
          26.120534896850582,
          26.148462295532227,
          26.73491859436035,
          27.135196685791016,
          27.321372985839844,
          27.377227783203125,
          27.470314025878903,
          27.54478454589844,
          27.377227783203125,
          27.339990615844727,
          27.851974487304688,
          28.075387954711918,
          28.57806205749512,
          28.71769523620605,
          28.93179702758789,
          29.220373153686523,
          29.20175170898437,
          29.546180725097656,
          29.620651245117188,
          29.20175170898437,
          29.155208587646484,
          28.95972442626953,
          29.043502807617188,
          28.913179397583008,
          29.332077026367188,
          29.09004783630371,
          29.564796447753903,
          29.76028251647949,
          29.77890014648437,
          29.8254451751709,
          29.490327835083008,
          29.071430206298828,
          28.6339168548584,
          28.801475524902344,
          28.848018646240234,
          29.06212043762207,
          29.11797523498535,
          29.313459396362305,
          28.94110679626465,
          28.689769744873047,
          28.792165756225582,
          28.95972442626953,
          29.024887084960938,
          29.10866355895996,
          28.969032287597656,
          29.37862205505371,
          29.155208587646484,
          29.229679107666016,
          29.09004783630371,
          29.00626945495605,
          29.14590072631836,
          29.304149627685547,
          29.66719436645508,
          29.211061477661133,
          29.071430206298828,
          29.155208587646484,
          29.443782806396484,
          28.97834014892578,
          28.95972442626953,
          29.09935569763184,
          28.94110679626465,
          28.82939910888672,
          28.88525390625,
          29.12728309631348,
          29.26691627502441,
          29.518253326416016,
          29.94645881652832,
          29.574106216430664,
          29.426807403564453,
          29.123943328857425,
          28.55729103088379,
          28.742918014526367,
          28.928546905517575,
          29.35841941833496,
          29.46588897705078,
          29.29003143310547,
          29.07509422302246,
          28.95785522460937,
          29.055553436279297,
          29.60266494750977,
          30.091157913208008,
          29.954381942749023,
          29.74921226501465,
          29.876220703125,
          30.823898315429688,
          31.107223510742188,
          31.20492172241211,
          31.058374404907227,
          30.911827087402344,
          30.7066593170166,
          30.433103561401367,
          30.63827133178711,
          30.7164306640625,
          30.66758155822754,
          30.911827087402344,
          31.03883552551269,
          31.06814384460449,
          30.95090675354004,
          30.784818649291992,
          30.804357528686523,
          30.56011199951172,
          30.57965087890625,
          30.58942031860352,
          31.009525299072266,
          31.01929473876953,
          31.185382843017575,
          30.941137313842773,
          31.283082962036133,
          31.43939781188965,
          31.59571647644043,
          31.64456558227539,
          31.58594512939453,
          31.62502670288086,
          31.51755714416504,
          31.498018264770508,
          31.64456558227539,
          31.732494354248047,
          32.181907653808594,
          32.10375213623047,
          31.908349990844727,
          32.181907653808594,
          32.64109420776367,
          32.84625625610352,
          33.46175765991211,
          33.56922912597656,
          33.37383270263672,
          33.2761344909668,
          33.05142593383789,
          33.10027313232422,
          33.022117614746094,
          33.15889358520508,
          33.2859001159668,
          32.94395446777344,
          32.680171966552734,
          32.59224319458008,
          31.29285049438477,
          32.16236877441406,
          32.133060455322266,
          32.67040252685547,
          32.75832748413086,
          32.84625625610352,
          32.4359245300293,
          32.36753463745117,
          32.34799575805664,
          31.996280670166016,
          31.76180458068848,
          31.507787704467773,
          31.664106369018555,
          31.869272232055664,
          31.76180458068848,
          31.996280670166016,
          32.65085983276367,
          32.963497161865234,
          33.38359832763672,
          33.20774459838867,
          33.40314102172852,
          33.110042572021484,
          32.72901916503906,
          32.4163818359375,
          32.49454498291016,
          32.55316162109375,
          32.49454498291016,
          33.0025749206543,
          33.63761520385742,
          34.380126953125,
          34.74161148071289,
          35.06401443481445,
          35.13240432739258,
          35.34733963012695,
          35.2301025390625,
          35.17148208618164,
          35.39619064331055,
          35.57204818725586,
          35.5329704284668,
          35.91399383544922,
          35.80652618408203,
          36.19731903076172,
          36.08008193969727,
          36.31455993652344,
          36.21686172485352,
          36.20708847045898,
          36.588111877441406,
          36.59788513183594,
          37.105918884277344,
          38.17082977294922,
          38.66909408569336,
          38.8644905090332,
          38.39553451538086,
          38.44438552856445,
          38.57139587402344,
          38.85472106933594,
          38.95241928100586,
          39.23574447631836,
          39.186893463134766,
          39.23574447631836,
          39.42137145996094,
          38.50300598144531,
          39.020809173583984,
          38.78633117675781,
          39.05988693237305,
          38.6300163269043,
          38.52254486083984,
          38.66909408569336,
          39.26505661010742,
          39.33344268798828,
          38.85472106933594,
          38.76679229736328,
          38.757022857666016,
          39.43999862670898,
          39.75,
          39.33000183105469,
          39.65999984741211,
          39.5,
          39.619998931884766,
          35.65999984741211,
          36.2400016784668,
          36.59000015258789,
          36.61000061035156,
          36.86000061035156,
          36.459999084472656,
          36.5,
          36.04999923706055,
          35.939998626708984,
          35.72999954223633,
          36.209999084472656,
          36.38999938964844,
          36.5099983215332,
          36.93000030517578,
          36.38999938964844,
          36.45000076293945,
          36.630001068115234,
          36.72999954223633,
          37.06999969482422,
          37.15999984741211,
          36.93999862670898,
          37.52999877929688,
          37.77000045776367,
          37.93999862670898,
          37.130001068115234,
          37.7400016784668,
          38,
          38.5,
          39.150001525878906,
          39.06999969482422,
          38.77000045776367,
          39.040000915527344,
          39.93000030517578,
          40.119998931884766,
          39.86000061035156,
          40.13999938964844,
          39.70000076293945,
          40.34999847412109,
          40.59000015258789,
          40.459999084472656,
          40.06999969482422,
          40,
          40.040000915527344,
          38.77999877929688,
          38.47999954223633,
          38.720001220703125,
          38.2400016784668,
          37.900001525878906,
          37.880001068115234,
          37.77999877929688,
          37.540000915527344,
          37.59999847412109,
          37.91999816894531,
          37.63999938964844,
          38.13999938964844,
          38.65999984741211,
          38.27999877929688,
          38.220001220703125,
          38.459999084472656,
          38.47999954223633,
          38.36000061035156,
          37.70000076293945,
          37.81999969482422,
          37.97999954223633
         ]
        }
       ],
       "layout": {
        "barmode": "overlay",
        "template": {
         "data": {
          "bar": [
           {
            "error_x": {
             "color": "#2a3f5f"
            },
            "error_y": {
             "color": "#2a3f5f"
            },
            "marker": {
             "line": {
              "color": "#E5ECF6",
              "width": 0.5
             },
             "pattern": {
              "fillmode": "overlay",
              "size": 10,
              "solidity": 0.2
             }
            },
            "type": "bar"
           }
          ],
          "barpolar": [
           {
            "marker": {
             "line": {
              "color": "#E5ECF6",
              "width": 0.5
             },
             "pattern": {
              "fillmode": "overlay",
              "size": 10,
              "solidity": 0.2
             }
            },
            "type": "barpolar"
           }
          ],
          "carpet": [
           {
            "aaxis": {
             "endlinecolor": "#2a3f5f",
             "gridcolor": "white",
             "linecolor": "white",
             "minorgridcolor": "white",
             "startlinecolor": "#2a3f5f"
            },
            "baxis": {
             "endlinecolor": "#2a3f5f",
             "gridcolor": "white",
             "linecolor": "white",
             "minorgridcolor": "white",
             "startlinecolor": "#2a3f5f"
            },
            "type": "carpet"
           }
          ],
          "choropleth": [
           {
            "colorbar": {
             "outlinewidth": 0,
             "ticks": ""
            },
            "type": "choropleth"
           }
          ],
          "contour": [
           {
            "colorbar": {
             "outlinewidth": 0,
             "ticks": ""
            },
            "colorscale": [
             [
              0,
              "#0d0887"
             ],
             [
              0.1111111111111111,
              "#46039f"
             ],
             [
              0.2222222222222222,
              "#7201a8"
             ],
             [
              0.3333333333333333,
              "#9c179e"
             ],
             [
              0.4444444444444444,
              "#bd3786"
             ],
             [
              0.5555555555555556,
              "#d8576b"
             ],
             [
              0.6666666666666666,
              "#ed7953"
             ],
             [
              0.7777777777777778,
              "#fb9f3a"
             ],
             [
              0.8888888888888888,
              "#fdca26"
             ],
             [
              1,
              "#f0f921"
             ]
            ],
            "type": "contour"
           }
          ],
          "contourcarpet": [
           {
            "colorbar": {
             "outlinewidth": 0,
             "ticks": ""
            },
            "type": "contourcarpet"
           }
          ],
          "heatmap": [
           {
            "colorbar": {
             "outlinewidth": 0,
             "ticks": ""
            },
            "colorscale": [
             [
              0,
              "#0d0887"
             ],
             [
              0.1111111111111111,
              "#46039f"
             ],
             [
              0.2222222222222222,
              "#7201a8"
             ],
             [
              0.3333333333333333,
              "#9c179e"
             ],
             [
              0.4444444444444444,
              "#bd3786"
             ],
             [
              0.5555555555555556,
              "#d8576b"
             ],
             [
              0.6666666666666666,
              "#ed7953"
             ],
             [
              0.7777777777777778,
              "#fb9f3a"
             ],
             [
              0.8888888888888888,
              "#fdca26"
             ],
             [
              1,
              "#f0f921"
             ]
            ],
            "type": "heatmap"
           }
          ],
          "heatmapgl": [
           {
            "colorbar": {
             "outlinewidth": 0,
             "ticks": ""
            },
            "colorscale": [
             [
              0,
              "#0d0887"
             ],
             [
              0.1111111111111111,
              "#46039f"
             ],
             [
              0.2222222222222222,
              "#7201a8"
             ],
             [
              0.3333333333333333,
              "#9c179e"
             ],
             [
              0.4444444444444444,
              "#bd3786"
             ],
             [
              0.5555555555555556,
              "#d8576b"
             ],
             [
              0.6666666666666666,
              "#ed7953"
             ],
             [
              0.7777777777777778,
              "#fb9f3a"
             ],
             [
              0.8888888888888888,
              "#fdca26"
             ],
             [
              1,
              "#f0f921"
             ]
            ],
            "type": "heatmapgl"
           }
          ],
          "histogram": [
           {
            "marker": {
             "pattern": {
              "fillmode": "overlay",
              "size": 10,
              "solidity": 0.2
             }
            },
            "type": "histogram"
           }
          ],
          "histogram2d": [
           {
            "colorbar": {
             "outlinewidth": 0,
             "ticks": ""
            },
            "colorscale": [
             [
              0,
              "#0d0887"
             ],
             [
              0.1111111111111111,
              "#46039f"
             ],
             [
              0.2222222222222222,
              "#7201a8"
             ],
             [
              0.3333333333333333,
              "#9c179e"
             ],
             [
              0.4444444444444444,
              "#bd3786"
             ],
             [
              0.5555555555555556,
              "#d8576b"
             ],
             [
              0.6666666666666666,
              "#ed7953"
             ],
             [
              0.7777777777777778,
              "#fb9f3a"
             ],
             [
              0.8888888888888888,
              "#fdca26"
             ],
             [
              1,
              "#f0f921"
             ]
            ],
            "type": "histogram2d"
           }
          ],
          "histogram2dcontour": [
           {
            "colorbar": {
             "outlinewidth": 0,
             "ticks": ""
            },
            "colorscale": [
             [
              0,
              "#0d0887"
             ],
             [
              0.1111111111111111,
              "#46039f"
             ],
             [
              0.2222222222222222,
              "#7201a8"
             ],
             [
              0.3333333333333333,
              "#9c179e"
             ],
             [
              0.4444444444444444,
              "#bd3786"
             ],
             [
              0.5555555555555556,
              "#d8576b"
             ],
             [
              0.6666666666666666,
              "#ed7953"
             ],
             [
              0.7777777777777778,
              "#fb9f3a"
             ],
             [
              0.8888888888888888,
              "#fdca26"
             ],
             [
              1,
              "#f0f921"
             ]
            ],
            "type": "histogram2dcontour"
           }
          ],
          "mesh3d": [
           {
            "colorbar": {
             "outlinewidth": 0,
             "ticks": ""
            },
            "type": "mesh3d"
           }
          ],
          "parcoords": [
           {
            "line": {
             "colorbar": {
              "outlinewidth": 0,
              "ticks": ""
             }
            },
            "type": "parcoords"
           }
          ],
          "pie": [
           {
            "automargin": true,
            "type": "pie"
           }
          ],
          "scatter": [
           {
            "fillpattern": {
             "fillmode": "overlay",
             "size": 10,
             "solidity": 0.2
            },
            "type": "scatter"
           }
          ],
          "scatter3d": [
           {
            "line": {
             "colorbar": {
              "outlinewidth": 0,
              "ticks": ""
             }
            },
            "marker": {
             "colorbar": {
              "outlinewidth": 0,
              "ticks": ""
             }
            },
            "type": "scatter3d"
           }
          ],
          "scattercarpet": [
           {
            "marker": {
             "colorbar": {
              "outlinewidth": 0,
              "ticks": ""
             }
            },
            "type": "scattercarpet"
           }
          ],
          "scattergeo": [
           {
            "marker": {
             "colorbar": {
              "outlinewidth": 0,
              "ticks": ""
             }
            },
            "type": "scattergeo"
           }
          ],
          "scattergl": [
           {
            "marker": {
             "colorbar": {
              "outlinewidth": 0,
              "ticks": ""
             }
            },
            "type": "scattergl"
           }
          ],
          "scattermapbox": [
           {
            "marker": {
             "colorbar": {
              "outlinewidth": 0,
              "ticks": ""
             }
            },
            "type": "scattermapbox"
           }
          ],
          "scatterpolar": [
           {
            "marker": {
             "colorbar": {
              "outlinewidth": 0,
              "ticks": ""
             }
            },
            "type": "scatterpolar"
           }
          ],
          "scatterpolargl": [
           {
            "marker": {
             "colorbar": {
              "outlinewidth": 0,
              "ticks": ""
             }
            },
            "type": "scatterpolargl"
           }
          ],
          "scatterternary": [
           {
            "marker": {
             "colorbar": {
              "outlinewidth": 0,
              "ticks": ""
             }
            },
            "type": "scatterternary"
           }
          ],
          "surface": [
           {
            "colorbar": {
             "outlinewidth": 0,
             "ticks": ""
            },
            "colorscale": [
             [
              0,
              "#0d0887"
             ],
             [
              0.1111111111111111,
              "#46039f"
             ],
             [
              0.2222222222222222,
              "#7201a8"
             ],
             [
              0.3333333333333333,
              "#9c179e"
             ],
             [
              0.4444444444444444,
              "#bd3786"
             ],
             [
              0.5555555555555556,
              "#d8576b"
             ],
             [
              0.6666666666666666,
              "#ed7953"
             ],
             [
              0.7777777777777778,
              "#fb9f3a"
             ],
             [
              0.8888888888888888,
              "#fdca26"
             ],
             [
              1,
              "#f0f921"
             ]
            ],
            "type": "surface"
           }
          ],
          "table": [
           {
            "cells": {
             "fill": {
              "color": "#EBF0F8"
             },
             "line": {
              "color": "white"
             }
            },
            "header": {
             "fill": {
              "color": "#C8D4E3"
             },
             "line": {
              "color": "white"
             }
            },
            "type": "table"
           }
          ]
         },
         "layout": {
          "annotationdefaults": {
           "arrowcolor": "#2a3f5f",
           "arrowhead": 0,
           "arrowwidth": 1
          },
          "autotypenumbers": "strict",
          "coloraxis": {
           "colorbar": {
            "outlinewidth": 0,
            "ticks": ""
           }
          },
          "colorscale": {
           "diverging": [
            [
             0,
             "#8e0152"
            ],
            [
             0.1,
             "#c51b7d"
            ],
            [
             0.2,
             "#de77ae"
            ],
            [
             0.3,
             "#f1b6da"
            ],
            [
             0.4,
             "#fde0ef"
            ],
            [
             0.5,
             "#f7f7f7"
            ],
            [
             0.6,
             "#e6f5d0"
            ],
            [
             0.7,
             "#b8e186"
            ],
            [
             0.8,
             "#7fbc41"
            ],
            [
             0.9,
             "#4d9221"
            ],
            [
             1,
             "#276419"
            ]
           ],
           "sequential": [
            [
             0,
             "#0d0887"
            ],
            [
             0.1111111111111111,
             "#46039f"
            ],
            [
             0.2222222222222222,
             "#7201a8"
            ],
            [
             0.3333333333333333,
             "#9c179e"
            ],
            [
             0.4444444444444444,
             "#bd3786"
            ],
            [
             0.5555555555555556,
             "#d8576b"
            ],
            [
             0.6666666666666666,
             "#ed7953"
            ],
            [
             0.7777777777777778,
             "#fb9f3a"
            ],
            [
             0.8888888888888888,
             "#fdca26"
            ],
            [
             1,
             "#f0f921"
            ]
           ],
           "sequentialminus": [
            [
             0,
             "#0d0887"
            ],
            [
             0.1111111111111111,
             "#46039f"
            ],
            [
             0.2222222222222222,
             "#7201a8"
            ],
            [
             0.3333333333333333,
             "#9c179e"
            ],
            [
             0.4444444444444444,
             "#bd3786"
            ],
            [
             0.5555555555555556,
             "#d8576b"
            ],
            [
             0.6666666666666666,
             "#ed7953"
            ],
            [
             0.7777777777777778,
             "#fb9f3a"
            ],
            [
             0.8888888888888888,
             "#fdca26"
            ],
            [
             1,
             "#f0f921"
            ]
           ]
          },
          "colorway": [
           "#636efa",
           "#EF553B",
           "#00cc96",
           "#ab63fa",
           "#FFA15A",
           "#19d3f3",
           "#FF6692",
           "#B6E880",
           "#FF97FF",
           "#FECB52"
          ],
          "font": {
           "color": "#2a3f5f"
          },
          "geo": {
           "bgcolor": "white",
           "lakecolor": "white",
           "landcolor": "#E5ECF6",
           "showlakes": true,
           "showland": true,
           "subunitcolor": "white"
          },
          "hoverlabel": {
           "align": "left"
          },
          "hovermode": "closest",
          "mapbox": {
           "style": "light"
          },
          "paper_bgcolor": "white",
          "plot_bgcolor": "#E5ECF6",
          "polar": {
           "angularaxis": {
            "gridcolor": "white",
            "linecolor": "white",
            "ticks": ""
           },
           "bgcolor": "#E5ECF6",
           "radialaxis": {
            "gridcolor": "white",
            "linecolor": "white",
            "ticks": ""
           }
          },
          "scene": {
           "xaxis": {
            "backgroundcolor": "#E5ECF6",
            "gridcolor": "white",
            "gridwidth": 2,
            "linecolor": "white",
            "showbackground": true,
            "ticks": "",
            "zerolinecolor": "white"
           },
           "yaxis": {
            "backgroundcolor": "#E5ECF6",
            "gridcolor": "white",
            "gridwidth": 2,
            "linecolor": "white",
            "showbackground": true,
            "ticks": "",
            "zerolinecolor": "white"
           },
           "zaxis": {
            "backgroundcolor": "#E5ECF6",
            "gridcolor": "white",
            "gridwidth": 2,
            "linecolor": "white",
            "showbackground": true,
            "ticks": "",
            "zerolinecolor": "white"
           }
          },
          "shapedefaults": {
           "line": {
            "color": "#2a3f5f"
           }
          },
          "ternary": {
           "aaxis": {
            "gridcolor": "white",
            "linecolor": "white",
            "ticks": ""
           },
           "baxis": {
            "gridcolor": "white",
            "linecolor": "white",
            "ticks": ""
           },
           "bgcolor": "#E5ECF6",
           "caxis": {
            "gridcolor": "white",
            "linecolor": "white",
            "ticks": ""
           }
          },
          "title": {
           "x": 0.05
          },
          "xaxis": {
           "automargin": true,
           "gridcolor": "white",
           "linecolor": "white",
           "ticks": "",
           "title": {
            "standoff": 15
           },
           "zerolinecolor": "white",
           "zerolinewidth": 2
          },
          "yaxis": {
           "automargin": true,
           "gridcolor": "white",
           "linecolor": "white",
           "ticks": "",
           "title": {
            "standoff": 15
           },
           "zerolinecolor": "white",
           "zerolinewidth": 2
          }
         }
        },
        "title": {
         "text": "Cotización acciones de empresa (€) entre 01/01/2019 - 30/04/2024"
        },
        "xaxis": {
         "title": {
          "text": "Fechas"
         }
        },
        "yaxis": {
         "title": {
          "text": "Close o Precio de Cierre (€)"
         }
        }
       }
      }
     },
     "metadata": {},
     "output_type": "display_data"
    }
   ],
   "source": [
    "import plotly.graph_objs as go\n",
    "\n",
    "#1 Date con Close\n",
    "trace1 = go.Scatter(\n",
    "    x= dataset_empresa['Date'],\n",
    "    y= dataset_empresa['Close'],\n",
    "    marker = dict(color = 'rgba(16, 112, 2, 0.8)'),\n",
    ")\n",
    "\n",
    "layout = go.Layout(barmode='overlay',\n",
    "                   title='Cotización acciones de empresa (€) entre 01/01/2019 - 30/04/2024',\n",
    "                   xaxis=dict(title='Fechas'),\n",
    "                   yaxis=dict( title='Close o Precio de Cierre (€)'),\n",
    ")\n",
    "data = [trace1]\n",
    "fig = go.Figure(data=data, layout=layout)\n",
    "iplot(fig)"
   ]
  },
  {
   "cell_type": "markdown",
   "metadata": {},
   "source": [
    "Como podemos ver, ACS ha obtenido a lo largo del período 2019-2024 una volatilidad alta en los precios de sus acciones."
   ]
  },
  {
   "cell_type": "markdown",
   "metadata": {},
   "source": [
    "### 3.1.1- Evolucion entre Open y Close en la cotizacion de acciones de ACS (en EUR) entre 01/01/2019 - 30/04/2024"
   ]
  },
  {
   "cell_type": "code",
   "execution_count": 74,
   "metadata": {},
   "outputs": [
    {
     "data": {
      "application/vnd.plotly.v1+json": {
       "config": {
        "linkText": "Export to plot.ly",
        "plotlyServerURL": "https://plot.ly",
        "showLink": false
       },
       "data": [
        {
         "marker": {
          "color": "rgba(16, 112, 2, 0.8)"
         },
         "mode": "lines",
         "name": "Open o Precio de Apertura (€)",
         "type": "scatter",
         "x": [
          "2019-01-02T00:00:00",
          "2019-01-03T00:00:00",
          "2019-01-04T00:00:00",
          "2019-01-07T00:00:00",
          "2019-01-08T00:00:00",
          "2019-01-09T00:00:00",
          "2019-01-10T00:00:00",
          "2019-01-11T00:00:00",
          "2019-01-14T00:00:00",
          "2019-01-15T00:00:00",
          "2019-01-16T00:00:00",
          "2019-01-17T00:00:00",
          "2019-01-18T00:00:00",
          "2019-01-21T00:00:00",
          "2019-01-22T00:00:00",
          "2019-01-23T00:00:00",
          "2019-01-24T00:00:00",
          "2019-01-25T00:00:00",
          "2019-01-28T00:00:00",
          "2019-01-29T00:00:00",
          "2019-01-30T00:00:00",
          "2019-01-31T00:00:00",
          "2019-02-01T00:00:00",
          "2019-02-04T00:00:00",
          "2019-02-05T00:00:00",
          "2019-02-06T00:00:00",
          "2019-02-07T00:00:00",
          "2019-02-08T00:00:00",
          "2019-02-11T00:00:00",
          "2019-02-12T00:00:00",
          "2019-02-13T00:00:00",
          "2019-02-14T00:00:00",
          "2019-02-15T00:00:00",
          "2019-02-18T00:00:00",
          "2019-02-19T00:00:00",
          "2019-02-20T00:00:00",
          "2019-02-21T00:00:00",
          "2019-02-22T00:00:00",
          "2019-02-25T00:00:00",
          "2019-02-26T00:00:00",
          "2019-02-27T00:00:00",
          "2019-02-28T00:00:00",
          "2019-03-01T00:00:00",
          "2019-03-04T00:00:00",
          "2019-03-05T00:00:00",
          "2019-03-06T00:00:00",
          "2019-03-07T00:00:00",
          "2019-03-08T00:00:00",
          "2019-03-11T00:00:00",
          "2019-03-12T00:00:00",
          "2019-03-13T00:00:00",
          "2019-03-14T00:00:00",
          "2019-03-15T00:00:00",
          "2019-03-18T00:00:00",
          "2019-03-19T00:00:00",
          "2019-03-20T00:00:00",
          "2019-03-21T00:00:00",
          "2019-03-22T00:00:00",
          "2019-03-25T00:00:00",
          "2019-03-26T00:00:00",
          "2019-03-27T00:00:00",
          "2019-03-28T00:00:00",
          "2019-03-29T00:00:00",
          "2019-04-01T00:00:00",
          "2019-04-02T00:00:00",
          "2019-04-03T00:00:00",
          "2019-04-04T00:00:00",
          "2019-04-05T00:00:00",
          "2019-04-08T00:00:00",
          "2019-04-09T00:00:00",
          "2019-04-10T00:00:00",
          "2019-04-11T00:00:00",
          "2019-04-12T00:00:00",
          "2019-04-15T00:00:00",
          "2019-04-16T00:00:00",
          "2019-04-17T00:00:00",
          "2019-04-18T00:00:00",
          "2019-04-23T00:00:00",
          "2019-04-24T00:00:00",
          "2019-04-25T00:00:00",
          "2019-04-26T00:00:00",
          "2019-04-29T00:00:00",
          "2019-04-30T00:00:00",
          "2019-05-02T00:00:00",
          "2019-05-03T00:00:00",
          "2019-05-06T00:00:00",
          "2019-05-07T00:00:00",
          "2019-05-08T00:00:00",
          "2019-05-09T00:00:00",
          "2019-05-10T00:00:00",
          "2019-05-13T00:00:00",
          "2019-05-14T00:00:00",
          "2019-05-15T00:00:00",
          "2019-05-16T00:00:00",
          "2019-05-17T00:00:00",
          "2019-05-20T00:00:00",
          "2019-05-21T00:00:00",
          "2019-05-22T00:00:00",
          "2019-05-23T00:00:00",
          "2019-05-24T00:00:00",
          "2019-05-27T00:00:00",
          "2019-05-28T00:00:00",
          "2019-05-29T00:00:00",
          "2019-05-30T00:00:00",
          "2019-05-31T00:00:00",
          "2019-06-03T00:00:00",
          "2019-06-04T00:00:00",
          "2019-06-05T00:00:00",
          "2019-06-06T00:00:00",
          "2019-06-07T00:00:00",
          "2019-06-10T00:00:00",
          "2019-06-11T00:00:00",
          "2019-06-12T00:00:00",
          "2019-06-13T00:00:00",
          "2019-06-14T00:00:00",
          "2019-06-17T00:00:00",
          "2019-06-18T00:00:00",
          "2019-06-19T00:00:00",
          "2019-06-20T00:00:00",
          "2019-06-21T00:00:00",
          "2019-06-24T00:00:00",
          "2019-06-25T00:00:00",
          "2019-06-26T00:00:00",
          "2019-06-27T00:00:00",
          "2019-06-28T00:00:00",
          "2019-07-01T00:00:00",
          "2019-07-02T00:00:00",
          "2019-07-03T00:00:00",
          "2019-07-04T00:00:00",
          "2019-07-05T00:00:00",
          "2019-07-08T00:00:00",
          "2019-07-09T00:00:00",
          "2019-07-10T00:00:00",
          "2019-07-11T00:00:00",
          "2019-07-12T00:00:00",
          "2019-07-15T00:00:00",
          "2019-07-16T00:00:00",
          "2019-07-17T00:00:00",
          "2019-07-18T00:00:00",
          "2019-07-19T00:00:00",
          "2019-07-22T00:00:00",
          "2019-07-23T00:00:00",
          "2019-07-24T00:00:00",
          "2019-07-25T00:00:00",
          "2019-07-26T00:00:00",
          "2019-07-29T00:00:00",
          "2019-07-30T00:00:00",
          "2019-07-31T00:00:00",
          "2019-08-01T00:00:00",
          "2019-08-02T00:00:00",
          "2019-08-05T00:00:00",
          "2019-08-06T00:00:00",
          "2019-08-07T00:00:00",
          "2019-08-08T00:00:00",
          "2019-08-09T00:00:00",
          "2019-08-12T00:00:00",
          "2019-08-13T00:00:00",
          "2019-08-14T00:00:00",
          "2019-08-15T00:00:00",
          "2019-08-16T00:00:00",
          "2019-08-19T00:00:00",
          "2019-08-20T00:00:00",
          "2019-08-21T00:00:00",
          "2019-08-22T00:00:00",
          "2019-08-23T00:00:00",
          "2019-08-26T00:00:00",
          "2019-08-27T00:00:00",
          "2019-08-28T00:00:00",
          "2019-08-29T00:00:00",
          "2019-08-30T00:00:00",
          "2019-09-02T00:00:00",
          "2019-09-03T00:00:00",
          "2019-09-04T00:00:00",
          "2019-09-05T00:00:00",
          "2019-09-06T00:00:00",
          "2019-09-09T00:00:00",
          "2019-09-10T00:00:00",
          "2019-09-11T00:00:00",
          "2019-09-12T00:00:00",
          "2019-09-13T00:00:00",
          "2019-09-16T00:00:00",
          "2019-09-17T00:00:00",
          "2019-09-18T00:00:00",
          "2019-09-19T00:00:00",
          "2019-09-20T00:00:00",
          "2019-09-23T00:00:00",
          "2019-09-24T00:00:00",
          "2019-09-25T00:00:00",
          "2019-09-26T00:00:00",
          "2019-09-27T00:00:00",
          "2019-09-30T00:00:00",
          "2019-10-01T00:00:00",
          "2019-10-02T00:00:00",
          "2019-10-03T00:00:00",
          "2019-10-04T00:00:00",
          "2019-10-07T00:00:00",
          "2019-10-08T00:00:00",
          "2019-10-09T00:00:00",
          "2019-10-10T00:00:00",
          "2019-10-11T00:00:00",
          "2019-10-14T00:00:00",
          "2019-10-15T00:00:00",
          "2019-10-16T00:00:00",
          "2019-10-17T00:00:00",
          "2019-10-18T00:00:00",
          "2019-10-21T00:00:00",
          "2019-10-22T00:00:00",
          "2019-10-23T00:00:00",
          "2019-10-24T00:00:00",
          "2019-10-25T00:00:00",
          "2019-10-28T00:00:00",
          "2019-10-29T00:00:00",
          "2019-10-30T00:00:00",
          "2019-10-31T00:00:00",
          "2019-11-01T00:00:00",
          "2019-11-04T00:00:00",
          "2019-11-05T00:00:00",
          "2019-11-06T00:00:00",
          "2019-11-07T00:00:00",
          "2019-11-08T00:00:00",
          "2019-11-11T00:00:00",
          "2019-11-12T00:00:00",
          "2019-11-13T00:00:00",
          "2019-11-14T00:00:00",
          "2019-11-15T00:00:00",
          "2019-11-18T00:00:00",
          "2019-11-19T00:00:00",
          "2019-11-20T00:00:00",
          "2019-11-21T00:00:00",
          "2019-11-22T00:00:00",
          "2019-11-25T00:00:00",
          "2019-11-26T00:00:00",
          "2019-11-27T00:00:00",
          "2019-11-28T00:00:00",
          "2019-11-29T00:00:00",
          "2019-12-02T00:00:00",
          "2019-12-03T00:00:00",
          "2019-12-04T00:00:00",
          "2019-12-05T00:00:00",
          "2019-12-06T00:00:00",
          "2019-12-09T00:00:00",
          "2019-12-10T00:00:00",
          "2019-12-11T00:00:00",
          "2019-12-12T00:00:00",
          "2019-12-13T00:00:00",
          "2019-12-16T00:00:00",
          "2019-12-17T00:00:00",
          "2019-12-18T00:00:00",
          "2019-12-19T00:00:00",
          "2019-12-20T00:00:00",
          "2019-12-23T00:00:00",
          "2019-12-24T00:00:00",
          "2019-12-25T00:00:00",
          "2019-12-27T00:00:00",
          "2019-12-30T00:00:00",
          "2019-12-31T00:00:00",
          "2020-01-02T00:00:00",
          "2020-01-03T00:00:00",
          "2020-01-06T00:00:00",
          "2020-01-07T00:00:00",
          "2020-01-08T00:00:00",
          "2020-01-09T00:00:00",
          "2020-01-10T00:00:00",
          "2020-01-13T00:00:00",
          "2020-01-14T00:00:00",
          "2020-01-15T00:00:00",
          "2020-01-16T00:00:00",
          "2020-01-17T00:00:00",
          "2020-01-20T00:00:00",
          "2020-01-21T00:00:00",
          "2020-01-22T00:00:00",
          "2020-01-23T00:00:00",
          "2020-01-24T00:00:00",
          "2020-01-27T00:00:00",
          "2020-01-28T00:00:00",
          "2020-01-29T00:00:00",
          "2020-01-30T00:00:00",
          "2020-01-31T00:00:00",
          "2020-02-03T00:00:00",
          "2020-02-04T00:00:00",
          "2020-02-05T00:00:00",
          "2020-02-06T00:00:00",
          "2020-02-07T00:00:00",
          "2020-02-10T00:00:00",
          "2020-02-11T00:00:00",
          "2020-02-12T00:00:00",
          "2020-02-13T00:00:00",
          "2020-02-14T00:00:00",
          "2020-02-17T00:00:00",
          "2020-02-18T00:00:00",
          "2020-02-19T00:00:00",
          "2020-02-20T00:00:00",
          "2020-02-21T00:00:00",
          "2020-02-24T00:00:00",
          "2020-02-25T00:00:00",
          "2020-02-26T00:00:00",
          "2020-02-27T00:00:00",
          "2020-02-28T00:00:00",
          "2020-03-02T00:00:00",
          "2020-03-03T00:00:00",
          "2020-03-04T00:00:00",
          "2020-03-05T00:00:00",
          "2020-03-06T00:00:00",
          "2020-03-09T00:00:00",
          "2020-03-10T00:00:00",
          "2020-03-11T00:00:00",
          "2020-03-12T00:00:00",
          "2020-03-13T00:00:00",
          "2020-03-16T00:00:00",
          "2020-03-17T00:00:00",
          "2020-03-18T00:00:00",
          "2020-03-19T00:00:00",
          "2020-03-20T00:00:00",
          "2020-03-23T00:00:00",
          "2020-03-24T00:00:00",
          "2020-03-25T00:00:00",
          "2020-03-26T00:00:00",
          "2020-03-27T00:00:00",
          "2020-03-30T00:00:00",
          "2020-03-31T00:00:00",
          "2020-04-01T00:00:00",
          "2020-04-02T00:00:00",
          "2020-04-03T00:00:00",
          "2020-04-06T00:00:00",
          "2020-04-07T00:00:00",
          "2020-04-08T00:00:00",
          "2020-04-09T00:00:00",
          "2020-04-14T00:00:00",
          "2020-04-15T00:00:00",
          "2020-04-16T00:00:00",
          "2020-04-17T00:00:00",
          "2020-04-20T00:00:00",
          "2020-04-21T00:00:00",
          "2020-04-22T00:00:00",
          "2020-04-23T00:00:00",
          "2020-04-24T00:00:00",
          "2020-04-27T00:00:00",
          "2020-04-28T00:00:00",
          "2020-04-29T00:00:00",
          "2020-04-30T00:00:00",
          "2020-05-04T00:00:00",
          "2020-05-05T00:00:00",
          "2020-05-06T00:00:00",
          "2020-05-07T00:00:00",
          "2020-05-08T00:00:00",
          "2020-05-11T00:00:00",
          "2020-05-12T00:00:00",
          "2020-05-13T00:00:00",
          "2020-05-14T00:00:00",
          "2020-05-15T00:00:00",
          "2020-05-18T00:00:00",
          "2020-05-19T00:00:00",
          "2020-05-20T00:00:00",
          "2020-05-21T00:00:00",
          "2020-05-22T00:00:00",
          "2020-05-25T00:00:00",
          "2020-05-26T00:00:00",
          "2020-05-27T00:00:00",
          "2020-05-28T00:00:00",
          "2020-05-29T00:00:00",
          "2020-06-01T00:00:00",
          "2020-06-02T00:00:00",
          "2020-06-03T00:00:00",
          "2020-06-04T00:00:00",
          "2020-06-05T00:00:00",
          "2020-06-08T00:00:00",
          "2020-06-09T00:00:00",
          "2020-06-10T00:00:00",
          "2020-06-11T00:00:00",
          "2020-06-12T00:00:00",
          "2020-06-15T00:00:00",
          "2020-06-16T00:00:00",
          "2020-06-17T00:00:00",
          "2020-06-18T00:00:00",
          "2020-06-19T00:00:00",
          "2020-06-22T00:00:00",
          "2020-06-23T00:00:00",
          "2020-06-24T00:00:00",
          "2020-06-25T00:00:00",
          "2020-06-26T00:00:00",
          "2020-06-29T00:00:00",
          "2020-06-30T00:00:00",
          "2020-07-01T00:00:00",
          "2020-07-02T00:00:00",
          "2020-07-03T00:00:00",
          "2020-07-06T00:00:00",
          "2020-07-07T00:00:00",
          "2020-07-08T00:00:00",
          "2020-07-09T00:00:00",
          "2020-07-10T00:00:00",
          "2020-07-13T00:00:00",
          "2020-07-14T00:00:00",
          "2020-07-15T00:00:00",
          "2020-07-16T00:00:00",
          "2020-07-17T00:00:00",
          "2020-07-20T00:00:00",
          "2020-07-21T00:00:00",
          "2020-07-22T00:00:00",
          "2020-07-23T00:00:00",
          "2020-07-24T00:00:00",
          "2020-07-27T00:00:00",
          "2020-07-28T00:00:00",
          "2020-07-29T00:00:00",
          "2020-07-30T00:00:00",
          "2020-07-31T00:00:00",
          "2020-08-03T00:00:00",
          "2020-08-04T00:00:00",
          "2020-08-05T00:00:00",
          "2020-08-06T00:00:00",
          "2020-08-07T00:00:00",
          "2020-08-10T00:00:00",
          "2020-08-11T00:00:00",
          "2020-08-12T00:00:00",
          "2020-08-13T00:00:00",
          "2020-08-14T00:00:00",
          "2020-08-17T00:00:00",
          "2020-08-18T00:00:00",
          "2020-08-19T00:00:00",
          "2020-08-20T00:00:00",
          "2020-08-21T00:00:00",
          "2020-08-24T00:00:00",
          "2020-08-25T00:00:00",
          "2020-08-26T00:00:00",
          "2020-08-27T00:00:00",
          "2020-08-28T00:00:00",
          "2020-08-31T00:00:00",
          "2020-09-01T00:00:00",
          "2020-09-02T00:00:00",
          "2020-09-03T00:00:00",
          "2020-09-04T00:00:00",
          "2020-09-07T00:00:00",
          "2020-09-08T00:00:00",
          "2020-09-09T00:00:00",
          "2020-09-10T00:00:00",
          "2020-09-11T00:00:00",
          "2020-09-14T00:00:00",
          "2020-09-15T00:00:00",
          "2020-09-16T00:00:00",
          "2020-09-17T00:00:00",
          "2020-09-18T00:00:00",
          "2020-09-21T00:00:00",
          "2020-09-22T00:00:00",
          "2020-09-23T00:00:00",
          "2020-09-24T00:00:00",
          "2020-09-25T00:00:00",
          "2020-09-28T00:00:00",
          "2020-09-29T00:00:00",
          "2020-09-30T00:00:00",
          "2020-10-01T00:00:00",
          "2020-10-02T00:00:00",
          "2020-10-05T00:00:00",
          "2020-10-06T00:00:00",
          "2020-10-07T00:00:00",
          "2020-10-08T00:00:00",
          "2020-10-09T00:00:00",
          "2020-10-12T00:00:00",
          "2020-10-13T00:00:00",
          "2020-10-14T00:00:00",
          "2020-10-15T00:00:00",
          "2020-10-16T00:00:00",
          "2020-10-19T00:00:00",
          "2020-10-20T00:00:00",
          "2020-10-21T00:00:00",
          "2020-10-22T00:00:00",
          "2020-10-23T00:00:00",
          "2020-10-26T00:00:00",
          "2020-10-27T00:00:00",
          "2020-10-28T00:00:00",
          "2020-10-29T00:00:00",
          "2020-10-30T00:00:00",
          "2020-11-02T00:00:00",
          "2020-11-03T00:00:00",
          "2020-11-04T00:00:00",
          "2020-11-05T00:00:00",
          "2020-11-06T00:00:00",
          "2020-11-09T00:00:00",
          "2020-11-10T00:00:00",
          "2020-11-11T00:00:00",
          "2020-11-12T00:00:00",
          "2020-11-13T00:00:00",
          "2020-11-16T00:00:00",
          "2020-11-17T00:00:00",
          "2020-11-18T00:00:00",
          "2020-11-19T00:00:00",
          "2020-11-20T00:00:00",
          "2020-11-23T00:00:00",
          "2020-11-24T00:00:00",
          "2020-11-25T00:00:00",
          "2020-11-26T00:00:00",
          "2020-11-27T00:00:00",
          "2020-11-30T00:00:00",
          "2020-12-01T00:00:00",
          "2020-12-02T00:00:00",
          "2020-12-03T00:00:00",
          "2020-12-04T00:00:00",
          "2020-12-07T00:00:00",
          "2020-12-08T00:00:00",
          "2020-12-09T00:00:00",
          "2020-12-10T00:00:00",
          "2020-12-11T00:00:00",
          "2020-12-14T00:00:00",
          "2020-12-15T00:00:00",
          "2020-12-16T00:00:00",
          "2020-12-17T00:00:00",
          "2020-12-18T00:00:00",
          "2020-12-21T00:00:00",
          "2020-12-22T00:00:00",
          "2020-12-23T00:00:00",
          "2020-12-24T00:00:00",
          "2020-12-28T00:00:00",
          "2020-12-29T00:00:00",
          "2020-12-30T00:00:00",
          "2020-12-31T00:00:00",
          "2021-01-04T00:00:00",
          "2021-01-05T00:00:00",
          "2021-01-06T00:00:00",
          "2021-01-07T00:00:00",
          "2021-01-08T00:00:00",
          "2021-01-11T00:00:00",
          "2021-01-12T00:00:00",
          "2021-01-13T00:00:00",
          "2021-01-14T00:00:00",
          "2021-01-15T00:00:00",
          "2021-01-18T00:00:00",
          "2021-01-19T00:00:00",
          "2021-01-20T00:00:00",
          "2021-01-21T00:00:00",
          "2021-01-22T00:00:00",
          "2021-01-25T00:00:00",
          "2021-01-26T00:00:00",
          "2021-01-27T00:00:00",
          "2021-01-28T00:00:00",
          "2021-01-29T00:00:00",
          "2021-02-01T00:00:00",
          "2021-02-02T00:00:00",
          "2021-02-03T00:00:00",
          "2021-02-04T00:00:00",
          "2021-02-05T00:00:00",
          "2021-02-08T00:00:00",
          "2021-02-09T00:00:00",
          "2021-02-10T00:00:00",
          "2021-02-11T00:00:00",
          "2021-02-12T00:00:00",
          "2021-02-15T00:00:00",
          "2021-02-16T00:00:00",
          "2021-02-17T00:00:00",
          "2021-02-18T00:00:00",
          "2021-02-19T00:00:00",
          "2021-02-22T00:00:00",
          "2021-02-23T00:00:00",
          "2021-02-24T00:00:00",
          "2021-02-25T00:00:00",
          "2021-02-26T00:00:00",
          "2021-03-01T00:00:00",
          "2021-03-02T00:00:00",
          "2021-03-03T00:00:00",
          "2021-03-04T00:00:00",
          "2021-03-05T00:00:00",
          "2021-03-08T00:00:00",
          "2021-03-09T00:00:00",
          "2021-03-10T00:00:00",
          "2021-03-11T00:00:00",
          "2021-03-12T00:00:00",
          "2021-03-15T00:00:00",
          "2021-03-16T00:00:00",
          "2021-03-17T00:00:00",
          "2021-03-18T00:00:00",
          "2021-03-19T00:00:00",
          "2021-03-22T00:00:00",
          "2021-03-23T00:00:00",
          "2021-03-24T00:00:00",
          "2021-03-25T00:00:00",
          "2021-03-26T00:00:00",
          "2021-03-29T00:00:00",
          "2021-03-30T00:00:00",
          "2021-03-31T00:00:00",
          "2021-04-01T00:00:00",
          "2021-04-06T00:00:00",
          "2021-04-07T00:00:00",
          "2021-04-08T00:00:00",
          "2021-04-09T00:00:00",
          "2021-04-12T00:00:00",
          "2021-04-13T00:00:00",
          "2021-04-14T00:00:00",
          "2021-04-15T00:00:00",
          "2021-04-16T00:00:00",
          "2021-04-19T00:00:00",
          "2021-04-20T00:00:00",
          "2021-04-21T00:00:00",
          "2021-04-22T00:00:00",
          "2021-04-23T00:00:00",
          "2021-04-26T00:00:00",
          "2021-04-27T00:00:00",
          "2021-04-28T00:00:00",
          "2021-04-29T00:00:00",
          "2021-04-30T00:00:00",
          "2021-05-03T00:00:00",
          "2021-05-04T00:00:00",
          "2021-05-05T00:00:00",
          "2021-05-06T00:00:00",
          "2021-05-07T00:00:00",
          "2021-05-10T00:00:00",
          "2021-05-11T00:00:00",
          "2021-05-12T00:00:00",
          "2021-05-13T00:00:00",
          "2021-05-14T00:00:00",
          "2021-05-17T00:00:00",
          "2021-05-18T00:00:00",
          "2021-05-19T00:00:00",
          "2021-05-20T00:00:00",
          "2021-05-21T00:00:00",
          "2021-05-24T00:00:00",
          "2021-05-25T00:00:00",
          "2021-05-26T00:00:00",
          "2021-05-27T00:00:00",
          "2021-05-28T00:00:00",
          "2021-05-31T00:00:00",
          "2021-06-01T00:00:00",
          "2021-06-02T00:00:00",
          "2021-06-03T00:00:00",
          "2021-06-04T00:00:00",
          "2021-06-07T00:00:00",
          "2021-06-08T00:00:00",
          "2021-06-09T00:00:00",
          "2021-06-10T00:00:00",
          "2021-06-11T00:00:00",
          "2021-06-14T00:00:00",
          "2021-06-15T00:00:00",
          "2021-06-16T00:00:00",
          "2021-06-17T00:00:00",
          "2021-06-18T00:00:00",
          "2021-06-21T00:00:00",
          "2021-06-22T00:00:00",
          "2021-06-23T00:00:00",
          "2021-06-24T00:00:00",
          "2021-06-25T00:00:00",
          "2021-06-28T00:00:00",
          "2021-06-29T00:00:00",
          "2021-06-30T00:00:00",
          "2021-07-01T00:00:00",
          "2021-07-02T00:00:00",
          "2021-07-05T00:00:00",
          "2021-07-06T00:00:00",
          "2021-07-07T00:00:00",
          "2021-07-08T00:00:00",
          "2021-07-09T00:00:00",
          "2021-07-12T00:00:00",
          "2021-07-13T00:00:00",
          "2021-07-14T00:00:00",
          "2021-07-15T00:00:00",
          "2021-07-16T00:00:00",
          "2021-07-19T00:00:00",
          "2021-07-20T00:00:00",
          "2021-07-21T00:00:00",
          "2021-07-22T00:00:00",
          "2021-07-23T00:00:00",
          "2021-07-26T00:00:00",
          "2021-07-27T00:00:00",
          "2021-07-28T00:00:00",
          "2021-07-29T00:00:00",
          "2021-07-30T00:00:00",
          "2021-08-02T00:00:00",
          "2021-08-03T00:00:00",
          "2021-08-04T00:00:00",
          "2021-08-05T00:00:00",
          "2021-08-06T00:00:00",
          "2021-08-09T00:00:00",
          "2021-08-10T00:00:00",
          "2021-08-11T00:00:00",
          "2021-08-12T00:00:00",
          "2021-08-13T00:00:00",
          "2021-08-16T00:00:00",
          "2021-08-17T00:00:00",
          "2021-08-18T00:00:00",
          "2021-08-19T00:00:00",
          "2021-08-20T00:00:00",
          "2021-08-23T00:00:00",
          "2021-08-24T00:00:00",
          "2021-08-25T00:00:00",
          "2021-08-26T00:00:00",
          "2021-08-27T00:00:00",
          "2021-08-30T00:00:00",
          "2021-08-31T00:00:00",
          "2021-09-01T00:00:00",
          "2021-09-02T00:00:00",
          "2021-09-03T00:00:00",
          "2021-09-06T00:00:00",
          "2021-09-07T00:00:00",
          "2021-09-08T00:00:00",
          "2021-09-09T00:00:00",
          "2021-09-10T00:00:00",
          "2021-09-13T00:00:00",
          "2021-09-14T00:00:00",
          "2021-09-15T00:00:00",
          "2021-09-16T00:00:00",
          "2021-09-17T00:00:00",
          "2021-09-20T00:00:00",
          "2021-09-21T00:00:00",
          "2021-09-22T00:00:00",
          "2021-09-23T00:00:00",
          "2021-09-24T00:00:00",
          "2021-09-27T00:00:00",
          "2021-09-28T00:00:00",
          "2021-09-29T00:00:00",
          "2021-09-30T00:00:00",
          "2021-10-01T00:00:00",
          "2021-10-04T00:00:00",
          "2021-10-05T00:00:00",
          "2021-10-06T00:00:00",
          "2021-10-07T00:00:00",
          "2021-10-08T00:00:00",
          "2021-10-11T00:00:00",
          "2021-10-12T00:00:00",
          "2021-10-13T00:00:00",
          "2021-10-14T00:00:00",
          "2021-10-15T00:00:00",
          "2021-10-18T00:00:00",
          "2021-10-19T00:00:00",
          "2021-10-20T00:00:00",
          "2021-10-21T00:00:00",
          "2021-10-22T00:00:00",
          "2021-10-25T00:00:00",
          "2021-10-26T00:00:00",
          "2021-10-27T00:00:00",
          "2021-10-28T00:00:00",
          "2021-10-29T00:00:00",
          "2021-11-01T00:00:00",
          "2021-11-02T00:00:00",
          "2021-11-03T00:00:00",
          "2021-11-04T00:00:00",
          "2021-11-05T00:00:00",
          "2021-11-08T00:00:00",
          "2021-11-09T00:00:00",
          "2021-11-10T00:00:00",
          "2021-11-11T00:00:00",
          "2021-11-12T00:00:00",
          "2021-11-15T00:00:00",
          "2021-11-16T00:00:00",
          "2021-11-17T00:00:00",
          "2021-11-18T00:00:00",
          "2021-11-19T00:00:00",
          "2021-11-22T00:00:00",
          "2021-11-23T00:00:00",
          "2021-11-24T00:00:00",
          "2021-11-25T00:00:00",
          "2021-11-26T00:00:00",
          "2021-11-29T00:00:00",
          "2021-11-30T00:00:00",
          "2021-12-01T00:00:00",
          "2021-12-02T00:00:00",
          "2021-12-03T00:00:00",
          "2021-12-06T00:00:00",
          "2021-12-07T00:00:00",
          "2021-12-08T00:00:00",
          "2021-12-09T00:00:00",
          "2021-12-10T00:00:00",
          "2021-12-13T00:00:00",
          "2021-12-14T00:00:00",
          "2021-12-15T00:00:00",
          "2021-12-16T00:00:00",
          "2021-12-17T00:00:00",
          "2021-12-20T00:00:00",
          "2021-12-21T00:00:00",
          "2021-12-22T00:00:00",
          "2021-12-23T00:00:00",
          "2021-12-27T00:00:00",
          "2021-12-28T00:00:00",
          "2021-12-29T00:00:00",
          "2021-12-30T00:00:00",
          "2022-01-03T00:00:00",
          "2022-01-04T00:00:00",
          "2022-01-05T00:00:00",
          "2022-01-06T00:00:00",
          "2022-01-07T00:00:00",
          "2022-01-10T00:00:00",
          "2022-01-11T00:00:00",
          "2022-01-12T00:00:00",
          "2022-01-13T00:00:00",
          "2022-01-14T00:00:00",
          "2022-01-17T00:00:00",
          "2022-01-18T00:00:00",
          "2022-01-19T00:00:00",
          "2022-01-20T00:00:00",
          "2022-01-21T00:00:00",
          "2022-01-24T00:00:00",
          "2022-01-25T00:00:00",
          "2022-01-26T00:00:00",
          "2022-01-27T00:00:00",
          "2022-01-28T00:00:00",
          "2022-01-31T00:00:00",
          "2022-02-01T00:00:00",
          "2022-02-02T00:00:00",
          "2022-02-03T00:00:00",
          "2022-02-04T00:00:00",
          "2022-02-07T00:00:00",
          "2022-02-08T00:00:00",
          "2022-02-09T00:00:00",
          "2022-02-10T00:00:00",
          "2022-02-11T00:00:00",
          "2022-02-14T00:00:00",
          "2022-02-15T00:00:00",
          "2022-02-16T00:00:00",
          "2022-02-17T00:00:00",
          "2022-02-18T00:00:00",
          "2022-02-21T00:00:00",
          "2022-02-22T00:00:00",
          "2022-02-23T00:00:00",
          "2022-02-24T00:00:00",
          "2022-02-25T00:00:00",
          "2022-02-28T00:00:00",
          "2022-03-01T00:00:00",
          "2022-03-02T00:00:00",
          "2022-03-03T00:00:00",
          "2022-03-04T00:00:00",
          "2022-03-07T00:00:00",
          "2022-03-08T00:00:00",
          "2022-03-09T00:00:00",
          "2022-03-10T00:00:00",
          "2022-03-11T00:00:00",
          "2022-03-14T00:00:00",
          "2022-03-15T00:00:00",
          "2022-03-16T00:00:00",
          "2022-03-17T00:00:00",
          "2022-03-18T00:00:00",
          "2022-03-21T00:00:00",
          "2022-03-22T00:00:00",
          "2022-03-23T00:00:00",
          "2022-03-24T00:00:00",
          "2022-03-25T00:00:00",
          "2022-03-28T00:00:00",
          "2022-03-29T00:00:00",
          "2022-03-30T00:00:00",
          "2022-03-31T00:00:00",
          "2022-04-01T00:00:00",
          "2022-04-04T00:00:00",
          "2022-04-05T00:00:00",
          "2022-04-06T00:00:00",
          "2022-04-07T00:00:00",
          "2022-04-08T00:00:00",
          "2022-04-11T00:00:00",
          "2022-04-12T00:00:00",
          "2022-04-13T00:00:00",
          "2022-04-14T00:00:00",
          "2022-04-19T00:00:00",
          "2022-04-20T00:00:00",
          "2022-04-21T00:00:00",
          "2022-04-22T00:00:00",
          "2022-04-25T00:00:00",
          "2022-04-26T00:00:00",
          "2022-04-27T00:00:00",
          "2022-04-28T00:00:00",
          "2022-04-29T00:00:00",
          "2022-05-02T00:00:00",
          "2022-05-03T00:00:00",
          "2022-05-04T00:00:00",
          "2022-05-05T00:00:00",
          "2022-05-06T00:00:00",
          "2022-05-09T00:00:00",
          "2022-05-10T00:00:00",
          "2022-05-11T00:00:00",
          "2022-05-12T00:00:00",
          "2022-05-13T00:00:00",
          "2022-05-16T00:00:00",
          "2022-05-17T00:00:00",
          "2022-05-18T00:00:00",
          "2022-05-19T00:00:00",
          "2022-05-20T00:00:00",
          "2022-05-23T00:00:00",
          "2022-05-24T00:00:00",
          "2022-05-25T00:00:00",
          "2022-05-26T00:00:00",
          "2022-05-27T00:00:00",
          "2022-05-30T00:00:00",
          "2022-05-31T00:00:00",
          "2022-06-01T00:00:00",
          "2022-06-02T00:00:00",
          "2022-06-03T00:00:00",
          "2022-06-06T00:00:00",
          "2022-06-07T00:00:00",
          "2022-06-08T00:00:00",
          "2022-06-09T00:00:00",
          "2022-06-10T00:00:00",
          "2022-06-13T00:00:00",
          "2022-06-14T00:00:00",
          "2022-06-15T00:00:00",
          "2022-06-16T00:00:00",
          "2022-06-17T00:00:00",
          "2022-06-20T00:00:00",
          "2022-06-21T00:00:00",
          "2022-06-22T00:00:00",
          "2022-06-23T00:00:00",
          "2022-06-24T00:00:00",
          "2022-06-27T00:00:00",
          "2022-06-28T00:00:00",
          "2022-06-29T00:00:00",
          "2022-06-30T00:00:00",
          "2022-07-01T00:00:00",
          "2022-07-04T00:00:00",
          "2022-07-05T00:00:00",
          "2022-07-06T00:00:00",
          "2022-07-07T00:00:00",
          "2022-07-08T00:00:00",
          "2022-07-11T00:00:00",
          "2022-07-12T00:00:00",
          "2022-07-13T00:00:00",
          "2022-07-14T00:00:00",
          "2022-07-15T00:00:00",
          "2022-07-18T00:00:00",
          "2022-07-19T00:00:00",
          "2022-07-20T00:00:00",
          "2022-07-21T00:00:00",
          "2022-07-22T00:00:00",
          "2022-07-25T00:00:00",
          "2022-07-26T00:00:00",
          "2022-07-27T00:00:00",
          "2022-07-28T00:00:00",
          "2022-07-29T00:00:00",
          "2022-08-01T00:00:00",
          "2022-08-02T00:00:00",
          "2022-08-03T00:00:00",
          "2022-08-04T00:00:00",
          "2022-08-05T00:00:00",
          "2022-08-08T00:00:00",
          "2022-08-09T00:00:00",
          "2022-08-10T00:00:00",
          "2022-08-11T00:00:00",
          "2022-08-12T00:00:00",
          "2022-08-15T00:00:00",
          "2022-08-16T00:00:00",
          "2022-08-17T00:00:00",
          "2022-08-18T00:00:00",
          "2022-08-19T00:00:00",
          "2022-08-22T00:00:00",
          "2022-08-23T00:00:00",
          "2022-08-24T00:00:00",
          "2022-08-25T00:00:00",
          "2022-08-26T00:00:00",
          "2022-08-29T00:00:00",
          "2022-08-30T00:00:00",
          "2022-08-31T00:00:00",
          "2022-09-01T00:00:00",
          "2022-09-02T00:00:00",
          "2022-09-05T00:00:00",
          "2022-09-06T00:00:00",
          "2022-09-07T00:00:00",
          "2022-09-08T00:00:00",
          "2022-09-09T00:00:00",
          "2022-09-12T00:00:00",
          "2022-09-13T00:00:00",
          "2022-09-14T00:00:00",
          "2022-09-15T00:00:00",
          "2022-09-16T00:00:00",
          "2022-09-19T00:00:00",
          "2022-09-20T00:00:00",
          "2022-09-21T00:00:00",
          "2022-09-22T00:00:00",
          "2022-09-23T00:00:00",
          "2022-09-26T00:00:00",
          "2022-09-27T00:00:00",
          "2022-09-28T00:00:00",
          "2022-09-29T00:00:00",
          "2022-09-30T00:00:00",
          "2022-10-03T00:00:00",
          "2022-10-04T00:00:00",
          "2022-10-05T00:00:00",
          "2022-10-06T00:00:00",
          "2022-10-07T00:00:00",
          "2022-10-10T00:00:00",
          "2022-10-11T00:00:00",
          "2022-10-12T00:00:00",
          "2022-10-13T00:00:00",
          "2022-10-14T00:00:00",
          "2022-10-17T00:00:00",
          "2022-10-18T00:00:00",
          "2022-10-19T00:00:00",
          "2022-10-20T00:00:00",
          "2022-10-21T00:00:00",
          "2022-10-24T00:00:00",
          "2022-10-25T00:00:00",
          "2022-10-26T00:00:00",
          "2022-10-27T00:00:00",
          "2022-10-28T00:00:00",
          "2022-10-31T00:00:00",
          "2022-11-01T00:00:00",
          "2022-11-02T00:00:00",
          "2022-11-03T00:00:00",
          "2022-11-04T00:00:00",
          "2022-11-07T00:00:00",
          "2022-11-08T00:00:00",
          "2022-11-09T00:00:00",
          "2022-11-10T00:00:00",
          "2022-11-11T00:00:00",
          "2022-11-14T00:00:00",
          "2022-11-15T00:00:00",
          "2022-11-16T00:00:00",
          "2022-11-17T00:00:00",
          "2022-11-18T00:00:00",
          "2022-11-21T00:00:00",
          "2022-11-22T00:00:00",
          "2022-11-23T00:00:00",
          "2022-11-24T00:00:00",
          "2022-11-25T00:00:00",
          "2022-11-28T00:00:00",
          "2022-11-29T00:00:00",
          "2022-11-30T00:00:00",
          "2022-12-01T00:00:00",
          "2022-12-02T00:00:00",
          "2022-12-05T00:00:00",
          "2022-12-06T00:00:00",
          "2022-12-07T00:00:00",
          "2022-12-08T00:00:00",
          "2022-12-09T00:00:00",
          "2022-12-12T00:00:00",
          "2022-12-13T00:00:00",
          "2022-12-14T00:00:00",
          "2022-12-15T00:00:00",
          "2022-12-16T00:00:00",
          "2022-12-19T00:00:00",
          "2022-12-20T00:00:00",
          "2022-12-21T00:00:00",
          "2022-12-22T00:00:00",
          "2022-12-23T00:00:00",
          "2022-12-27T00:00:00",
          "2022-12-28T00:00:00",
          "2022-12-29T00:00:00",
          "2022-12-30T00:00:00",
          "2023-01-02T00:00:00",
          "2023-01-03T00:00:00",
          "2023-01-04T00:00:00",
          "2023-01-05T00:00:00",
          "2023-01-06T00:00:00",
          "2023-01-09T00:00:00",
          "2023-01-10T00:00:00",
          "2023-01-11T00:00:00",
          "2023-01-12T00:00:00",
          "2023-01-13T00:00:00",
          "2023-01-16T00:00:00",
          "2023-01-17T00:00:00",
          "2023-01-18T00:00:00",
          "2023-01-19T00:00:00",
          "2023-01-20T00:00:00",
          "2023-01-23T00:00:00",
          "2023-01-24T00:00:00",
          "2023-01-25T00:00:00",
          "2023-01-26T00:00:00",
          "2023-01-27T00:00:00",
          "2023-01-30T00:00:00",
          "2023-01-31T00:00:00",
          "2023-02-01T00:00:00",
          "2023-02-02T00:00:00",
          "2023-02-03T00:00:00",
          "2023-02-06T00:00:00",
          "2023-02-07T00:00:00",
          "2023-02-08T00:00:00",
          "2023-02-09T00:00:00",
          "2023-02-10T00:00:00",
          "2023-02-13T00:00:00",
          "2023-02-14T00:00:00",
          "2023-02-15T00:00:00",
          "2023-02-16T00:00:00",
          "2023-02-17T00:00:00",
          "2023-02-20T00:00:00",
          "2023-02-21T00:00:00",
          "2023-02-22T00:00:00",
          "2023-02-23T00:00:00",
          "2023-02-24T00:00:00",
          "2023-02-27T00:00:00",
          "2023-02-28T00:00:00",
          "2023-03-01T00:00:00",
          "2023-03-02T00:00:00",
          "2023-03-03T00:00:00",
          "2023-03-06T00:00:00",
          "2023-03-07T00:00:00",
          "2023-03-08T00:00:00",
          "2023-03-09T00:00:00",
          "2023-03-10T00:00:00",
          "2023-03-13T00:00:00",
          "2023-03-14T00:00:00",
          "2023-03-15T00:00:00",
          "2023-03-16T00:00:00",
          "2023-03-17T00:00:00",
          "2023-03-20T00:00:00",
          "2023-03-21T00:00:00",
          "2023-03-22T00:00:00",
          "2023-03-23T00:00:00",
          "2023-03-24T00:00:00",
          "2023-03-27T00:00:00",
          "2023-03-28T00:00:00",
          "2023-03-29T00:00:00",
          "2023-03-30T00:00:00",
          "2023-03-31T00:00:00",
          "2023-04-03T00:00:00",
          "2023-04-04T00:00:00",
          "2023-04-05T00:00:00",
          "2023-04-06T00:00:00",
          "2023-04-11T00:00:00",
          "2023-04-12T00:00:00",
          "2023-04-13T00:00:00",
          "2023-04-14T00:00:00",
          "2023-04-17T00:00:00",
          "2023-04-18T00:00:00",
          "2023-04-19T00:00:00",
          "2023-04-20T00:00:00",
          "2023-04-21T00:00:00",
          "2023-04-24T00:00:00",
          "2023-04-25T00:00:00",
          "2023-04-26T00:00:00",
          "2023-04-27T00:00:00",
          "2023-04-28T00:00:00",
          "2023-05-02T00:00:00",
          "2023-05-03T00:00:00",
          "2023-05-04T00:00:00",
          "2023-05-05T00:00:00",
          "2023-05-08T00:00:00",
          "2023-05-09T00:00:00",
          "2023-05-10T00:00:00",
          "2023-05-11T00:00:00",
          "2023-05-12T00:00:00",
          "2023-05-15T00:00:00",
          "2023-05-16T00:00:00",
          "2023-05-17T00:00:00",
          "2023-05-18T00:00:00",
          "2023-05-19T00:00:00",
          "2023-05-22T00:00:00",
          "2023-05-23T00:00:00",
          "2023-05-24T00:00:00",
          "2023-05-25T00:00:00",
          "2023-05-26T00:00:00",
          "2023-05-29T00:00:00",
          "2023-05-30T00:00:00",
          "2023-05-31T00:00:00",
          "2023-06-01T00:00:00",
          "2023-06-02T00:00:00",
          "2023-06-05T00:00:00",
          "2023-06-06T00:00:00",
          "2023-06-07T00:00:00",
          "2023-06-08T00:00:00",
          "2023-06-09T00:00:00",
          "2023-06-12T00:00:00",
          "2023-06-13T00:00:00",
          "2023-06-14T00:00:00",
          "2023-06-15T00:00:00",
          "2023-06-16T00:00:00",
          "2023-06-19T00:00:00",
          "2023-06-20T00:00:00",
          "2023-06-21T00:00:00",
          "2023-06-22T00:00:00",
          "2023-06-23T00:00:00",
          "2023-06-26T00:00:00",
          "2023-06-27T00:00:00",
          "2023-06-28T00:00:00",
          "2023-06-29T00:00:00",
          "2023-06-30T00:00:00",
          "2023-07-03T00:00:00",
          "2023-07-04T00:00:00",
          "2023-07-05T00:00:00",
          "2023-07-06T00:00:00",
          "2023-07-07T00:00:00",
          "2023-07-10T00:00:00",
          "2023-07-11T00:00:00",
          "2023-07-12T00:00:00",
          "2023-07-13T00:00:00",
          "2023-07-14T00:00:00",
          "2023-07-17T00:00:00",
          "2023-07-18T00:00:00",
          "2023-07-19T00:00:00",
          "2023-07-20T00:00:00",
          "2023-07-21T00:00:00",
          "2023-07-24T00:00:00",
          "2023-07-25T00:00:00",
          "2023-07-26T00:00:00",
          "2023-07-27T00:00:00",
          "2023-07-28T00:00:00",
          "2023-07-31T00:00:00",
          "2023-08-01T00:00:00",
          "2023-08-02T00:00:00",
          "2023-08-03T00:00:00",
          "2023-08-04T00:00:00",
          "2023-08-07T00:00:00",
          "2023-08-08T00:00:00",
          "2023-08-09T00:00:00",
          "2023-08-10T00:00:00",
          "2023-08-11T00:00:00",
          "2023-08-14T00:00:00",
          "2023-08-15T00:00:00",
          "2023-08-16T00:00:00",
          "2023-08-17T00:00:00",
          "2023-08-18T00:00:00",
          "2023-08-21T00:00:00",
          "2023-08-22T00:00:00",
          "2023-08-23T00:00:00",
          "2023-08-24T00:00:00",
          "2023-08-25T00:00:00",
          "2023-08-28T00:00:00",
          "2023-08-29T00:00:00",
          "2023-08-30T00:00:00",
          "2023-08-31T00:00:00",
          "2023-09-01T00:00:00",
          "2023-09-04T00:00:00",
          "2023-09-05T00:00:00",
          "2023-09-06T00:00:00",
          "2023-09-07T00:00:00",
          "2023-09-08T00:00:00",
          "2023-09-11T00:00:00",
          "2023-09-12T00:00:00",
          "2023-09-13T00:00:00",
          "2023-09-14T00:00:00",
          "2023-09-15T00:00:00",
          "2023-09-18T00:00:00",
          "2023-09-19T00:00:00",
          "2023-09-20T00:00:00",
          "2023-09-21T00:00:00",
          "2023-09-22T00:00:00",
          "2023-09-25T00:00:00",
          "2023-09-26T00:00:00",
          "2023-09-27T00:00:00",
          "2023-09-28T00:00:00",
          "2023-09-29T00:00:00",
          "2023-10-02T00:00:00",
          "2023-10-03T00:00:00",
          "2023-10-04T00:00:00",
          "2023-10-05T00:00:00",
          "2023-10-06T00:00:00",
          "2023-10-09T00:00:00",
          "2023-10-10T00:00:00",
          "2023-10-11T00:00:00",
          "2023-10-12T00:00:00",
          "2023-10-13T00:00:00",
          "2023-10-16T00:00:00",
          "2023-10-17T00:00:00",
          "2023-10-18T00:00:00",
          "2023-10-19T00:00:00",
          "2023-10-20T00:00:00",
          "2023-10-23T00:00:00",
          "2023-10-24T00:00:00",
          "2023-10-25T00:00:00",
          "2023-10-26T00:00:00",
          "2023-10-27T00:00:00",
          "2023-10-30T00:00:00",
          "2023-10-31T00:00:00",
          "2023-11-01T00:00:00",
          "2023-11-02T00:00:00",
          "2023-11-03T00:00:00",
          "2023-11-06T00:00:00",
          "2023-11-07T00:00:00",
          "2023-11-08T00:00:00",
          "2023-11-09T00:00:00",
          "2023-11-10T00:00:00",
          "2023-11-13T00:00:00",
          "2023-11-14T00:00:00",
          "2023-11-15T00:00:00",
          "2023-11-16T00:00:00",
          "2023-11-17T00:00:00",
          "2023-11-20T00:00:00",
          "2023-11-21T00:00:00",
          "2023-11-22T00:00:00",
          "2023-11-23T00:00:00",
          "2023-11-24T00:00:00",
          "2023-11-27T00:00:00",
          "2023-11-28T00:00:00",
          "2023-11-29T00:00:00",
          "2023-11-30T00:00:00",
          "2023-12-01T00:00:00",
          "2023-12-04T00:00:00",
          "2023-12-05T00:00:00",
          "2023-12-06T00:00:00",
          "2023-12-07T00:00:00",
          "2023-12-08T00:00:00",
          "2023-12-11T00:00:00",
          "2023-12-12T00:00:00",
          "2023-12-13T00:00:00",
          "2023-12-14T00:00:00",
          "2023-12-15T00:00:00",
          "2023-12-18T00:00:00",
          "2023-12-19T00:00:00",
          "2023-12-20T00:00:00",
          "2023-12-21T00:00:00",
          "2023-12-22T00:00:00",
          "2023-12-27T00:00:00",
          "2023-12-28T00:00:00",
          "2023-12-29T00:00:00",
          "2024-01-02T00:00:00",
          "2024-01-03T00:00:00",
          "2024-01-04T00:00:00",
          "2024-01-05T00:00:00",
          "2024-01-08T00:00:00",
          "2024-01-09T00:00:00",
          "2024-01-10T00:00:00",
          "2024-01-11T00:00:00",
          "2024-01-12T00:00:00",
          "2024-01-15T00:00:00",
          "2024-01-16T00:00:00",
          "2024-01-17T00:00:00",
          "2024-01-18T00:00:00",
          "2024-01-19T00:00:00",
          "2024-01-22T00:00:00",
          "2024-01-23T00:00:00",
          "2024-01-24T00:00:00",
          "2024-01-25T00:00:00",
          "2024-01-26T00:00:00",
          "2024-01-29T00:00:00",
          "2024-01-30T00:00:00",
          "2024-01-31T00:00:00",
          "2024-02-01T00:00:00",
          "2024-02-02T00:00:00",
          "2024-02-05T00:00:00",
          "2024-02-06T00:00:00",
          "2024-02-07T00:00:00",
          "2024-02-08T00:00:00",
          "2024-02-09T00:00:00",
          "2024-02-12T00:00:00",
          "2024-02-13T00:00:00",
          "2024-02-14T00:00:00",
          "2024-02-15T00:00:00",
          "2024-02-16T00:00:00",
          "2024-02-19T00:00:00",
          "2024-02-20T00:00:00",
          "2024-02-21T00:00:00",
          "2024-02-22T00:00:00",
          "2024-02-23T00:00:00",
          "2024-02-26T00:00:00",
          "2024-02-27T00:00:00",
          "2024-02-28T00:00:00",
          "2024-02-29T00:00:00",
          "2024-03-01T00:00:00",
          "2024-03-04T00:00:00",
          "2024-03-05T00:00:00",
          "2024-03-06T00:00:00",
          "2024-03-07T00:00:00",
          "2024-03-08T00:00:00",
          "2024-03-11T00:00:00",
          "2024-03-12T00:00:00",
          "2024-03-13T00:00:00",
          "2024-03-14T00:00:00",
          "2024-03-15T00:00:00",
          "2024-03-18T00:00:00",
          "2024-03-19T00:00:00",
          "2024-03-20T00:00:00",
          "2024-03-21T00:00:00",
          "2024-03-22T00:00:00",
          "2024-03-25T00:00:00",
          "2024-03-26T00:00:00",
          "2024-03-27T00:00:00",
          "2024-03-28T00:00:00",
          "2024-04-02T00:00:00",
          "2024-04-03T00:00:00",
          "2024-04-04T00:00:00",
          "2024-04-05T00:00:00",
          "2024-04-08T00:00:00",
          "2024-04-09T00:00:00",
          "2024-04-10T00:00:00",
          "2024-04-11T00:00:00",
          "2024-04-12T00:00:00",
          "2024-04-15T00:00:00",
          "2024-04-16T00:00:00",
          "2024-04-17T00:00:00",
          "2024-04-18T00:00:00",
          "2024-04-19T00:00:00",
          "2024-04-22T00:00:00",
          "2024-04-23T00:00:00",
          "2024-04-24T00:00:00",
          "2024-04-25T00:00:00",
          "2024-04-26T00:00:00",
          "2024-04-29T00:00:00"
         ],
         "y": [
          22.94923774878194,
          22.424410821687307,
          22.96968167631227,
          23.24232622119065,
          23.11963347581621,
          23.569486618041992,
          23.337743411321405,
          23.43316636709037,
          23.583121133042145,
          23.453613434957607,
          23.017398220404864,
          23.15371933550715,
          23.71261872345541,
          24.135208967794952,
          24.160246316223933,
          24.42263834509197,
          24.657402468428177,
          24.995744705200195,
          24.981928407780693,
          24.995747201238828,
          24.85763981107208,
          25.15455421023001,
          25.071694804586897,
          25.01645778785281,
          24.80930730628968,
          24.9957412447746,
          24.698827409852534,
          24.21549138337573,
          24.44335427492548,
          24.885265350341797,
          24.905979487689617,
          25.37551602453756,
          25.444563845221676,
          25.71385368315237,
          25.921000101420308,
          25.630992321953613,
          25.838142912911103,
          25.886474125416424,
          26.349104058625723,
          26.4388666613123,
          26.646012974408155,
          26.652917219148087,
          27.136260046674067,
          27.61960792541504,
          27.564360054027187,
          27.260553646656486,
          27.29507404091678,
          26.646012545768983,
          26.507914312197386,
          26.749587535733188,
          26.501010385515656,
          26.99126301744281,
          26.860063156536302,
          27.19149970299608,
          27.205311396515864,
          27.184594284627764,
          27.09483175672883,
          27.29507263415824,
          26.58386659794844,
          26.680535980540835,
          26.75649451484951,
          27.20530724973561,
          26.86006726320628,
          27.15007458381697,
          27.246737628393287,
          27.44697957045269,
          27.41246131395404,
          27.522936822048912,
          27.6541303128948,
          27.64032334936941,
          27.27436007894759,
          27.288170038306404,
          28.013189546740403,
          28.137472440998625,
          28.096039501500684,
          27.72317662543207,
          27.916515258247216,
          28.268662780885567,
          27.688650869723563,
          27.86127520169484,
          28.102944604073944,
          27.81984607376413,
          28.22723498748291,
          28.171994409912287,
          27.97175805243453,
          27.232933313393207,
          26.73577291375871,
          26.37671920908886,
          25.98314385030103,
          25.78980357314025,
          26.100526814602603,
          25.769089934791424,
          26.59768083004257,
          25.65170741241531,
          25.90028509612444,
          26.0936249261856,
          26.06600037390932,
          26.431962155687856,
          26.114334823614666,
          25.74837632363757,
          25.865762035492576,
          26.07290555232748,
          26.03147662004916,
          25.755283304136537,
          25.479087829589844,
          25.354795408882676,
          25.19598522811783,
          25.85885625421673,
          25.948618076891176,
          25.67932782318416,
          25.865763247155257,
          26.314580009104837,
          26.314580783727497,
          26.05218693817425,
          26.05219645372922,
          25.789807643416488,
          25.817428229390984,
          26.369817210861903,
          26.494105677764,
          26.673632346247437,
          26.472258580770887,
          26.07007769409816,
          25.955169820350235,
          25.043076643604596,
          24.69834883906549,
          25.48116892744792,
          25.69662688994598,
          25.8402604999113,
          26.42917265348469,
          26.21371387955054,
          26.2568058539363,
          26.43634876529083,
          26.61589617332756,
          26.795441132131906,
          27.44181017436505,
          27.77217994855784,
          27.97326723671465,
          28.21745104315784,
          26.82417165643553,
          26.443535167397112,
          26.493806059870845,
          26.57280668920246,
          26.702082368853382,
          26.953445169081636,
          27.082719301464167,
          26.83853329580401,
          27.269447983762355,
          26.084443275953497,
          26.235262294552925,
          25.876175228990466,
          25.26571334946788,
          24.525980371914883,
          24.403892200181836,
          24.906621275863007,
          25.09334875150441,
          24.949713259263472,
          24.202800751000822,
          24.44698474093819,
          23.843706036637847,
          23.61389033125622,
          23.84370896587723,
          24.195616846067832,
          23.82216274098325,
          24.01607435936109,
          24.181252802013542,
          23.534890915608504,
          23.915526187703357,
          24.059162417522657,
          24.1668925208529,
          24.71271146973781,
          24.67680205713425,
          24.80607160629417,
          25.078982974596972,
          25.17234782738028,
          25.035891490486662,
          25.10771059122749,
          25.35907438380933,
          26.17780564553436,
          26.572807151953697,
          26.22089724546958,
          25.754077229892797,
          25.660711511230044,
          25.854619429594727,
          25.79716919029349,
          25.847439278044835,
          25.85462313549955,
          25.49553243290364,
          25.13644282227186,
          24.841984117150893,
          25.56734758838973,
          25.67508122947688,
          26.19217186649344,
          25.904895866226124,
          25.150804153518425,
          25.179531368559832,
          25.25852705637156,
          25.50990004005358,
          25.043076509733098,
          25.10052904783493,
          25.32317008178452,
          25.96235066263836,
          26.170623449321397,
          26.06289616527105,
          25.703804212452077,
          25.8187125290629,
          25.696626981997536,
          25.63917068912595,
          25.66071816736511,
          25.890529060258185,
          25.876170456931312,
          26.091628293364405,
          26.38607870647249,
          26.500988580848336,
          26.407627796860517,
          26.242445799377823,
          26.50098951470729,
          26.81698962109629,
          26.393261637062423,
          26.52971835535006,
          26.21371828604652,
          25.445258573659075,
          25.79716788874199,
          25.495528500179603,
          24.54752636820843,
          24.74143639673845,
          24.899439173228725,
          24.9066185099364,
          24.95689234598292,
          24.88507710866789,
          24.74861914620346,
          25.035891085517484,
          24.899441364861467,
          25.107707977294925,
          25.165170253460428,
          25.28725878759533,
          25.502710233635348,
          24.942528263841595,
          24.15252772934861,
          24.53316756741451,
          24.569075672313588,
          24.97125530858253,
          25.07898332236774,
          25.29443857330703,
          25.30880374096109,
          25.63198976080784,
          25.61762328365893,
          25.64635058090488,
          25.56735036026191,
          25.14362540712075,
          25.078984010295297,
          24.906623432377945,
          25.05743771194761,
          25.409347534179688,
          25.517075089780626,
          25.337528308111175,
          25.18671302547381,
          25.7325295648775,
          25.21544197837457,
          24.92098376136944,
          24.8635287071372,
          24.813257410304576,
          25.24416808921536,
          24.755802508872662,
          24.62653082761268,
          24.55471311453046,
          24.504440196477564,
          23.937070315980414,
          24.97843740279716,
          24.97125409559397,
          24.683984891530542,
          24.61216487208828,
          23.053702916675864,
          23.125524065481617,
          22.874160384748137,
          22.62997836739052,
          22.730518598658,
          22.47915623312348,
          22.421704584924484,
          21.56706289856496,
          21.409065563816817,
          21.37315390030752,
          22.04824719188452,
          21.54552026194127,
          21.904609025591892,
          22.091339373106084,
          22.63715959142812,
          22.65870671600145,
          22.895705012396583,
          22.694611885788248,
          22.97767794688122,
          22.933968970795178,
          21.68090205955596,
          22.241866513069123,
          21.331210288204534,
          21.19279268901114,
          20.114574715684057,
          19.954297601717897,
          19.67017622471572,
          19.866875841464644,
          19.85959154827834,
          19.539038491651333,
          19.626465043776815,
          18.577386791287964,
          17.06205583533912,
          16.304388970943197,
          15.56858089220333,
          14.082385725627296,
          14.308229133903248,
          11.397773205489395,
          10.782169050279547,
          9.747663851603138,
          8.640304591757925,
          9.164844120560137,
          9.507249742773697,
          10.614610200916411,
          11.037151910839386,
          11.488838447031997,
          12.472347905957657,
          11.43419827274293,
          12.159082400681912,
          12.483276084495774,
          12.42135041885873,
          12.530629534764593,
          13.477711705097576,
          13.64527206011001,
          14.31187384873412,
          14.752631031087107,
          15.269881494982451,
          15.007615781003516,
          14.643351900425207,
          14.78905705429608,
          15.2990246874042,
          14.73077507107574,
          14.643353412866544,
          14.781772796315636,
          14.86190926377811,
          15.422871958420671,
          15.663286556881612,
          16.318959231479525,
          17.273331278582255,
          16.26067762111645,
          16.610370663721504,
          16.69050418680509,
          17.047485416612645,
          17.26604143503506,
          17.57930730337135,
          17.22233062178199,
          17.05476718962337,
          16.92363479396774,
          16.246106003263474,
          16.12225816159702,
          16.90177803264856,
          15.000330210650382,
          14.61421231031818,
          14.956616148326034,
          15.204317506587763,
          16.25339251710012,
          17.484597842442774,
          17.28789491792509,
          16.97463126920162,
          17.083910478797257,
          17.44088952788885,
          18.052847278292106,
          18.79594607401397,
          18.8760829201144,
          18.94165046477402,
          19.39333362293031,
          18.70851974717455,
          17.513743148616957,
          16.595801081386526,
          16.02754975261697,
          17.51373995065632,
          17.914429668796014,
          17.419032856249302,
          17.535597627288567,
          17.26604045139198,
          17.481125169309188,
          17.713379419457105,
          16.954677308731082,
          17.512091462457192,
          16.799836886422142,
          17.41918950268087,
          17.303059985245593,
          17.662203988273284,
          18.34062047325717,
          18.46538526036671,
          18.621344899382635,
          18.052098251742816,
          18.20026057957428,
          17.670003009831504,
          18.71491814276519,
          18.613549920378205,
          18.59015352714242,
          18.83968535169893,
          18.449787569929207,
          18.379610994046352,
          18.551160128220644,
          18.091087396577347,
          18.325024073417087,
          17.935130871294874,
          17.326898030265614,
          16.726459992223145,
          16.67187717065184,
          16.539309444859732,
          15.6893397181799,
          15.221467581579269,
          15.899885046575209,
          16.375553869015885,
          16.57829948388592,
          16.180609478952256,
          16.087032717079456,
          16.726458448902225,
          17.256714453850456,
          16.991587372593735,
          16.765450678948152,
          16.52371239893577,
          16.640685736699567,
          16.469130403669837,
          16.586095615328293,
          16.749852165566022,
          16.991587898598482,
          17.233323989484816,
          16.671873576904886,
          16.53151394293754,
          16.640681686830384,
          16.757651875456965,
          16.344363596790995,
          16.071438065731204,
          16.391153373821574,
          16.375553478966225,
          16.2351923249603,
          16.56270446567917,
          16.04804429420601,
          16.3053750788665,
          16.289779054165933,
          16.734256930405103,
          16.50811864813356,
          16.41454103836941,
          16.4145414991442,
          16.547108973427562,
          15.658150485677773,
          14.660022471566664,
          14.605434278582486,
          14.874465641553671,
          15.061611401716045,
          15.100601080734036,
          15.233164651871997,
          14.737997835351244,
          15.15518538744072,
          14.81597720139958,
          18.26264187299009,
          18.86307909818913,
          19.40893242045604,
          19.44792086989327,
          19.58828345317693,
          19.24517351644215,
          18.76170672845392,
          18.293831208256563,
          18.2704371458328,
          18.27823515172592,
          18.27043806763587,
          17.96632356683932,
          18.091086957572244,
          17.545235668069726,
          17.607618406294407,
          17.61542029257433,
          16.929205082420477,
          16.06363952332458,
          15.73613029027482,
          15.790713995001958,
          15.92327708719787,
          17.38927817107631,
          16.882418207867225,
          17.06176712312984,
          17.40487654609165,
          18.02090583963301,
          19.25297485571078,
          20.1029420991634,
          19.20618444134855,
          19.15160099602968,
          19.95478447174719,
          20.14193396884859,
          20.18092014450257,
          20.09514278174548,
          19.90799733561249,
          20.05615557650268,
          20.63319977378,
          21.810677704313296,
          21.787286881929088,
          21.054281162778,
          20.851541280911785,
          20.812553675821384,
          20.43045432985777,
          20.742370361104868,
          20.81255189631845,
          21.444181913701883,
          21.085475381732262,
          21.069880512343467,
          21.23363573086187,
          20.67218906989522,
          21.030892070574787,
          20.73457082418081,
          21.350601553714515,
          21.21024219792157,
          20.7189745238138,
          19.95478335952707,
          20.633198608932183,
          20.91392132631025,
          21.296018108076343,
          21.451976732278556,
          21.436381070470677,
          21.22583912052028,
          21.38179464297053,
          21.43638127171588,
          20.89052691599912,
          21.59233716213786,
          22.04461492569185,
          21.795084001584296,
          21.685911237746406,
          22.029017736135398,
          22.71523373226832,
          22.340934803472933,
          22.6528495933686,
          22.434511988158956,
          22.7776178834304,
          22.62166145779954,
          22.48909374406788,
          21.495797804140988,
          21.503730081771856,
          20.61566923765875,
          20.694960685738145,
          19.92583592203568,
          20.45708870743101,
          20.61566954081344,
          20.86940227255672,
          21.440295127654142,
          20.980409704897912,
          20.97247802567291,
          21.091414183583787,
          21.02798032801584,
          20.06063172664932,
          19.87033479705917,
          20.195429359153007,
          20.465014343148297,
          20.798041563582444,
          20.24299910540516,
          19.925837032654968,
          19.798971534101916,
          19.862405575919095,
          20.15578053332052,
          20.67117488433307,
          20.61567004216916,
          19.981338196005296,
          20.29057524506513,
          21.09141694742216,
          21.027983150414915,
          20.306436653769527,
          20.718749931837923,
          21.027981260042928,
          21.09141500381166,
          21.329286568755272,
          21.50372618396679,
          21.24206769781582,
          21.551301509805363,
          22.02705201109348,
          21.97154827605315,
          21.836752222654308,
          21.820895597804697,
          21.43236602905094,
          20.94076398421979,
          20.583955493298205,
          20.85354598757873,
          21.0200549223548,
          21.210350339231383,
          21.70988387697692,
          21.971548774374877,
          22.52658418299357,
          22.64551920517516,
          22.21735191345215,
          22.399718665130724,
          22.161843427576077,
          22.04290733854641,
          21.90811096139773,
          21.88432502575571,
          22.114271567943845,
          21.90018504901784,
          22.27285185152366,
          22.463150540341868,
          21.70195764883028,
          21.567164532312116,
          21.46408371252465,
          21.368932628835783,
          21.64645353676104,
          21.80503703634012,
          21.678169032893404,
          21.40857902683995,
          21.40858229252154,
          21.51958549141255,
          21.89225559244973,
          22.16184407731319,
          22.590014039033505,
          22.613803648673706,
          22.21734687300241,
          21.828827034487016,
          21.638521425630028,
          21.09141631744468,
          21.249998488282262,
          21.186564813532684,
          20.81389730534138,
          20.4174408593168,
          20.599812787854123,
          20.61566864131082,
          20.65531326572273,
          20.36986842885342,
          20.09234741697865,
          20.1399234840212,
          20.14785239993619,
          20.290576395626665,
          20.41744071996017,
          20.385727237690517,
          20.5363793901921,
          19.981344287963527,
          20.076489335934905,
          20.100280161053824,
          20.12406557954842,
          19.83068987441358,
          20.258859481387663,
          20.40158226752536,
          20.36193820880382,
          19.981340443480967,
          19.65624650244824,
          19.394586722272983,
          19.57130006868392,
          19.25320433443951,
          19.152751849221875,
          19.136007838064536,
          19.08578371203555,
          18.759316395636517,
          18.901622256864048,
          19.043928723552668,
          19.33691183114145,
          19.470848307066124,
          19.43736388544459,
          19.253202314836216,
          18.62538016841932,
          18.265430066829406,
          18.633752471900987,
          18.83465420817326,
          18.55841425396368,
          18.43284749732387,
          18.16497859241094,
          17.89710817522106,
          17.830141053188235,
          17.654349966869933,
          18.28217241673156,
          18.41610834472544,
          18.374251533889915,
          18.47470474243164,
          18.56678809843888,
          19.01881678604689,
          18.742576765129336,
          18.83465449164085,
          18.96859128155393,
          19.085785302039888,
          18.82628323324341,
          19.18623479033074,
          19.136010740548077,
          18.99370711306876,
          19.169492595191123,
          19.36202450066652,
          19.57967248694356,
          19.47921766539731,
          19.127641562629023,
          19.202976301332807,
          19.069041260745585,
          19.018815786208645,
          19.00207347698752,
          19.253202230472823,
          19.278315551975496,
          19.169493136417124,
          19.29505803597178,
          19.32017150093848,
          19.127637348383168,
          19.236462996011827,
          19.62989594011581,
          19.6131511400672,
          19.537817022147745,
          19.52107354080106,
          19.470849006906445,
          19.454106723415165,
          19.177864572131845,
          18.993702999165823,
          19.663380741582294,
          19.53781753850367,
          19.194604092904164,
          19.47921833038941,
          18.893251213213677,
          18.935107937378906,
          19.144380805721624,
          19.62989594011581,
          19.588043639379293,
          19.83079939933152,
          20.04844117284093,
          19.671752595770712,
          19.989844250095405,
          19.33691138750369,
          19.46247631817524,
          19.42062116021918,
          18.926737638791412,
          18.89324991504355,
          19.01044865408035,
          18.976962133502163,
          18.734204711135057,
          18.78443062796376,
          18.851398628185585,
          18.834653728546925,
          19.027188491064145,
          18.80954305224025,
          18.90162207805837,
          19.17786519942516,
          19.403879489105723,
          19.244831948690965,
          19.27831386482034,
          19.278317863060558,
          18.97696232210322,
          19.027186936536623,
          19.127639645767072,
          19.253202361795093,
          19.002074899201265,
          18.97696131283039,
          18.60026710053555,
          19.47922074435506,
          19.370397321348904,
          19.42062036841198,
          19.52944292083584,
          19.76382948072699,
          19.345283320586997,
          19.6215278754782,
          19.33691303941092,
          19.16949440210914,
          18.843026302287832,
          18.307285085113985,
          18.16497982238184,
          18.68397925844902,
          18.66723483953746,
          18.240315619393712,
          17.779914467888666,
          17.83014205568899,
          17.863623958326176,
          17.805029268648873,
          18.114751962039577,
          18.039413805748914,
          18.533302350278117,
          18.37425461526173,
          18.181721645590745,
          17.871996844512406,
          17.98919028953169,
          17.779914835734147,
          17.796656200439795,
          17.93896448261855,
          17.938963419524825,
          17.645979821507318,
          18.27380301631248,
          18.474702870378163,
          18.918361959752332,
          19.11089496466384,
          19.345281363158527,
          19.43736337448418,
          19.43736250877496,
          19.755461167482164,
          19.98984697735497,
          19.94799114092531,
          19.67175295501629,
          19.99821813941841,
          19.97310686142077,
          20.40002584527732,
          20.81857279441138,
          20.81857315059691,
          20.637510400194788,
          20.637511865932662,
          20.40707067920131,
          20.074206527733903,
          19.493830462278275,
          19.459688247746616,
          19.60478336482845,
          19.40847959370032,
          19.323131249422698,
          19.237779768469544,
          19.331665406171457,
          19.229247513422813,
          19.160967666642424,
          19.29752717572304,
          19.263384218926955,
          19.587715794168894,
          19.28045532253404,
          18.862246087618185,
          19.178036031653217,
          19.476760264271867,
          19.203642683197504,
          18.81956763688356,
          18.60619605825269,
          19.143897153971945,
          19.306060649622765,
          19.13536182836598,
          19.126829643981303,
          18.21358786153885,
          18.60619637602315,
          17.80391023580005,
          18.60619604429307,
          18.170911375683666,
          18.546449578323656,
          18.19651727584572,
          19.050012499488197,
          18.589126370496235,
          17.71856176600445,
          17.675886712378173,
          19.075617522942128,
          19.382874133729626,
          19.51943525399278,
          20.21076657523952,
          20.22783583876412,
          20.739933806561677,
          20.927700446059507,
          21.11546902707351,
          20.483882654525715,
          20.782608110983084,
          20.9874463405845,
          20.89356310817952,
          21.15814344660726,
          21.072795670393585,
          21.27763557434082,
          21.12400798264855,
          21.14961295555893,
          20.9106305300972,
          21.09840288326123,
          20.808212082864923,
          20.774072202412928,
          19.98032163186944,
          20.347325116671996,
          20.543629571109403,
          20.646050955441687,
          20.936235779118014,
          21.28616990459527,
          21.209355710752927,
          21.21788998468269,
          21.30323936458284,
          21.081331507699183,
          20.646050036116165,
          20.936236028636028,
          20.95330654131662,
          21.226423918536597,
          21.320308842821756,
          20.86795394529624,
          20.808212370095536,
          21.132542232909003,
          21.2520309172565,
          20.85942339874033,
          20.518024823360864,
          20.483884017044264,
          20.449744882615786,
          20.620442441713912,
          20.611908956470383,
          20.782606674936552,
          21.03865459544141,
          21.44833421544438,
          21.661707628317668,
          21.747056560914917,
          21.98603570475574,
          21.781196285845574,
          21.84094370402813,
          22.148200222996152,
          22.44692280103665,
          22.70296985921177,
          22.720044174576486,
          22.907808013649905,
          22.51520347593865,
          22.75418095909338,
          22.83099661380718,
          22.75418308891428,
          22.873672027257754,
          22.660297807127677,
          21.76412931329056,
          21.26909807908594,
          20.825283037944025,
          20.79114160809276,
          20.483883559841065,
          20.52656005221863,
          21.09840128637562,
          21.081329942174133,
          20.552165044408344,
          20.13394999211892,
          20.13395067767697,
          20.33879021210277,
          20.16809260321433,
          20.09981115407424,
          20.014459766258224,
          19.82463600559121,
          19.88852790830328,
          19.906784613991164,
          19.16746683374597,
          18.95753761721388,
          19.468669789796937,
          19.605579907050444,
          19.505177902959083,
          19.62383570677045,
          19.386523837391184,
          19.276995051780997,
          19.943292624099296,
          19.76987255796948,
          20.23536930052495,
          19.806383124683173,
          19.861145858049795,
          20.244496263415023,
          20.600461117744995,
          20.60046239971372,
          20.88341098081876,
          20.974685036714853,
          21.36715997081678,
          20.756059868667812,
          21.067079663546764,
          21.21344137294177,
          21.140258455140447,
          21.35980648042176,
          21.524463524454777,
          21.771447899779822,
          22.00928799522623,
          21.908662462576608,
          22.055025466686725,
          22.10076626031784,
          22.37519659541566,
          21.99099437064373,
          21.98184753450359,
          21.67082649949307,
          21.03048796297025,
          21.067079309872984,
          21.04878548725453,
          20.89327356254546,
          20.326118891870944,
          20.536513822239694,
          20.35356067263377,
          20.106572671092653,
          20.65543438435549,
          20.234642206959144,
          20.417593401816397,
          20.298675437187303,
          20.83838867606544,
          20.67372863269012,
          21.2225891148183,
          21.50616742750553,
          21.03963540421143,
          20.993895666077737,
          21.140259881196307,
          20.87497831921674,
          20.94816041036496,
          20.399300162942595,
          20.408446683749688,
          20.591400114035537,
          20.09742515790293,
          20.25293804502204,
          20.124868542331303,
          20.6096951324116,
          20.78350211870008,
          20.939011915318385,
          21.268327064474825,
          21.46957655151196,
          21.55190471198821,
          20.98474874340903,
          20.67372793876565,
          20.34441473494696,
          20.71032036971068,
          20.280378544894123,
          20.81094213825021,
          20.77435413270542,
          21.39639541505004,
          21.73485916199992,
          21.817189886245878,
          21.39639458440297,
          21.890368563496946,
          22.265421786524843,
          22.59473884038293,
          22.97894158092869,
          23.189338497296067,
          23.482065006625675,
          23.9760385376647,
          23.78393463786233,
          23.55524469667304,
          23.50035967521504,
          23.61927904841808,
          23.573541390329115,
          23.655869124011897,
          23.78393606715888,
          23.555242278924943,
          23.976037248441028,
          23.966888756644277,
          24.314500068723657,
          24.049217793415963,
          24.058368765535324,
          23.94859577247356,
          24.424272659800405,
          24.607225954887834,
          24.680408268883376,
          24.405977185795106,
          24.24131965637207,
          24.195581321632176,
          24.680408033313377,
          24.790181441070988,
          24.781031981946185,
          24.918246828690148,
          24.808474855805077,
          24.86336102442655,
          24.863361428681948,
          24.65296326844392,
          24.790180176089507,
          24.753587356788124,
          24.652962206306597,
          24.479159712658795,
          24.30535288673909,
          23.93944843891995,
          23.78393534275929,
          24.104106403051247,
          24.49745332371305,
          24.497453087747623,
          24.70784947068004,
          24.689556766750787,
          24.588931395057354,
          24.64381730386879,
          24.588931148985427,
          24.881655105543643,
          25.000575684968023,
          24.92739429130051,
          25.156088107638112,
          25.595173643069657,
          25.94278638646702,
          25.87875156976608,
          25.54028785843825,
          26.061702961660064,
          25.979378138211505,
          26.034263946535315,
          26.06170463562012,
          26.034264082140933,
          25.74818241528133,
          25.496845146462512,
          25.133801994607897,
          25.20827210057712,
          25.19896465442553,
          25.18034431430234,
          25.16172790527344,
          25.161728361261343,
          25.31997657555557,
          25.4875363679648,
          25.75749106992247,
          25.934358558585565,
          25.37583091918837,
          25.46891891528128,
          25.60854961479813,
          25.42237589425977,
          25.282742236960903,
          25.357211413262338,
          25.552697562238407,
          25.59924340385097,
          25.33859450331524,
          25.664404906135807,
          25.152417870842783,
          25.012787522706866,
          24.873154042005687,
          25.831960871387015,
          26.09260913228384,
          26.26016848686939,
          26.65113810142681,
          26.88385666229736,
          26.669755925730907,
          26.80007919936258,
          26.71629958713772,
          26.669754363399715,
          26.911786677839213,
          26.26016906868185,
          26.260169003366027,
          26.064680712008357,
          26.809389091071743,
          26.35325598427119,
          26.68837358470752,
          26.055373750191933,
          26.809388639445203,
          27.08865108704876,
          26.98625373840332,
          26.437037006807103,
          26.353254513376008,
          26.21362343063528,
          26.316021466591828,
          26.893169349929885,
          27.172431711721377,
          27.38653549070077,
          27.46100631831794,
          27.42376998673992,
          27.50755005745998,
          27.47962238891428,
          27.2655189080256,
          27.84266653295368,
          28.112621032390727,
          28.5687539571668,
          28.717694617144776,
          28.8200932328212,
          29.20175170898437,
          29.21106373686921,
          29.508946181552545,
          29.49032654207405,
          29.183135301045706,
          29.16451913441781,
          29.024885597867947,
          29.117974097915734,
          28.857328279759464,
          29.387930388263804,
          29.25760619003909,
          29.481018964246086,
          29.62065115722393,
          29.788208957518165,
          29.732355164129316,
          29.30414982405841,
          29.21106296331945,
          28.66184195249604,
          28.848018646240234,
          28.90387145822349,
          29.11797523498535,
          29.201754331961855,
          29.285533275256284,
          28.78285579721144,
          28.73631232777738,
          28.95972442626953,
          29.17382836290809,
          29.183134193143644,
          28.922488364959012,
          29.20175405826292,
          29.36931279165345,
          29.31345745136721,
          29.18313568475095,
          28.95041602749297,
          28.95041731383406,
          29.173827361077954,
          29.37862131359384,
          29.7416636340125,
          29.21106197695457,
          29.006269109785887,
          29.164519253592623,
          29.322768411378032,
          28.93179771187102,
          29.015577352049892,
          28.903872375046667,
          28.838708612003327,
          28.82009276982435,
          28.987651319620124,
          29.173828425149143,
          29.32276991794448,
          29.602034121121783,
          29.9464576118724,
          29.65151374596282,
          29.397498805823165,
          28.92854664053168,
          28.53775094271949,
          28.606140417587945,
          29.10440322162222,
          29.46588897705078,
          28.967624950749848,
          29.290031881214546,
          28.967623918043778,
          29.036012279192335,
          29.114173713081183,
          29.661284498036512,
          30.110699895296545,
          29.68082386934015,
          29.69059478630516,
          29.80783165881765,
          30.5308027108166,
          30.775050181557877,
          31.26354148189075,
          31.058374461193196,
          30.71642989576363,
          30.677349176570097,
          30.521031925732807,
          30.481953734352025,
          30.54057157174249,
          30.872746656652552,
          30.970447127358227,
          31.107222388730086,
          30.823898655701505,
          30.95090717919904,
          30.75550840524808,
          30.755508493828277,
          30.45264278220874,
          30.638271327866807,
          30.71643055184524,
          31.087683133586697,
          31.1072238659345,
          31.077914110322272,
          31.165843553911937,
          31.45893896923288,
          31.4393985248716,
          31.664106740050418,
          31.673874681933743,
          31.693416985703152,
          31.566406267837728,
          31.458939719392852,
          31.35147083709444,
          31.849733757525115,
          31.82042451379523,
          32.19167792443217,
          32.064667939946375,
          31.84973436517369,
          32.2405287352889,
          32.60200876434084,
          32.8267209279454,
          33.40314247634348,
          33.51060950027545,
          33.14912261698455,
          33.21751257299391,
          32.95372388015797,
          33.15889440977743,
          33.119815040488014,
          33.17843318049472,
          33.344519901458604,
          32.72901920626745,
          32.59224319458008,
          32.72901810963284,
          31.439396872563957,
          31.9865111982461,
          32.51408457690339,
          32.54339360732857,
          32.83648756290997,
          32.87556853965208,
          32.650860680119195,
          32.33822706390318,
          32.26983803328126,
          31.82042428302026,
          31.585944792397203,
          31.46870798940051,
          31.52732835944345,
          31.84973413418615,
          31.439399135093517,
          32.152596155099026,
          32.66062995661882,
          33.00257405189387,
          33.26636053035205,
          33.491070574849005,
          33.55945903204759,
          33.11004346934521,
          32.53362123834585,
          32.32845833129444,
          32.48477322806263,
          32.45546643610191,
          33.11004185885669,
          33.21751237662604,
          33.76462385700138,
          34.272657619655824,
          34.78068839270878,
          34.90769797686439,
          35.08355475147364,
          35.39619295599591,
          35.26918410358611,
          35.13240199436721,
          35.396192847251214,
          35.318032767932586,
          35.4645811376086,
          35.95307166903605,
          35.93353414267354,
          36.07031324550953,
          36.14846951766255,
          36.490415318110514,
          36.07031167681548,
          36.24616613143453,
          36.60765382557153,
          36.6369650142412,
          37.20361598063543,
          38.38576802921372,
          38.66909400913907,
          38.5030052235243,
          38.395534521175406,
          38.56162340983108,
          38.44438691933787,
          38.87425842047698,
          38.8840300372037,
          39.12827753182388,
          39.07942652890733,
          39.35298306630181,
          39.28459195301262,
          38.47369820986912,
          38.68863293245409,
          38.678862627254034,
          39.020809335429966,
          38.454156462702606,
          38.600705687619104,
          38.903569686221,
          39.12827750294996,
          39.15758450728646,
          38.49323493509692,
          38.76679155141016,
          39.25,
          39.5,
          39.79999923706055,
          39.54999923706055,
          39.630001068115234,
          39.47999954223633,
          39.61000061035156,
          35.959999084472656,
          36.52999877929688,
          36.43999862670898,
          36.77999877929688,
          36.84999847412109,
          36.70000076293945,
          36.470001220703125,
          36.09999847412109,
          35.939998626708984,
          35.91999816894531,
          36.13999938964844,
          36.29999923706055,
          36.79999923706055,
          37.130001068115234,
          36.34999847412109,
          36.380001068115234,
          36.5,
          36.900001525878906,
          37.18000030517578,
          37,
          36.86000061035156,
          37.38999938964844,
          37.150001525878906,
          36.86000061035156,
          37.0099983215332,
          37.68000030517578,
          37.83000183105469,
          38.5,
          39.18999862670898,
          38.84999847412109,
          38.72999954223633,
          39.04999923706055,
          39.95000076293945,
          39.97999954223633,
          40,
          39.54999923706055,
          39.70000076293945,
          40.5,
          40.58000183105469,
          40.4900016784668,
          40.06999969482422,
          40.040000915527344,
          39,
          38.77999877929688,
          38.400001525878906,
          38.7400016784668,
          38,
          37.880001068115234,
          37.81999969482422,
          37.79999923706055,
          37.619998931884766,
          37.84000015258789,
          37.79999923706055,
          37.400001525878906,
          37.91999816894531,
          38.79999923706055,
          38.15999984741211,
          38.5,
          38.5,
          38.52000045776367,
          38.47999954223633,
          38.040000915527344,
          37.79999923706055
         ]
        },
        {
         "marker": {
          "color": "rgba(80, 26, 80, 0.5)"
         },
         "mode": "lines+markers",
         "name": "Close o Precio de Cierre (€)",
         "type": "scatter",
         "x": [
          "2019-01-02T00:00:00",
          "2019-01-03T00:00:00",
          "2019-01-04T00:00:00",
          "2019-01-07T00:00:00",
          "2019-01-08T00:00:00",
          "2019-01-09T00:00:00",
          "2019-01-10T00:00:00",
          "2019-01-11T00:00:00",
          "2019-01-14T00:00:00",
          "2019-01-15T00:00:00",
          "2019-01-16T00:00:00",
          "2019-01-17T00:00:00",
          "2019-01-18T00:00:00",
          "2019-01-21T00:00:00",
          "2019-01-22T00:00:00",
          "2019-01-23T00:00:00",
          "2019-01-24T00:00:00",
          "2019-01-25T00:00:00",
          "2019-01-28T00:00:00",
          "2019-01-29T00:00:00",
          "2019-01-30T00:00:00",
          "2019-01-31T00:00:00",
          "2019-02-01T00:00:00",
          "2019-02-04T00:00:00",
          "2019-02-05T00:00:00",
          "2019-02-06T00:00:00",
          "2019-02-07T00:00:00",
          "2019-02-08T00:00:00",
          "2019-02-11T00:00:00",
          "2019-02-12T00:00:00",
          "2019-02-13T00:00:00",
          "2019-02-14T00:00:00",
          "2019-02-15T00:00:00",
          "2019-02-18T00:00:00",
          "2019-02-19T00:00:00",
          "2019-02-20T00:00:00",
          "2019-02-21T00:00:00",
          "2019-02-22T00:00:00",
          "2019-02-25T00:00:00",
          "2019-02-26T00:00:00",
          "2019-02-27T00:00:00",
          "2019-02-28T00:00:00",
          "2019-03-01T00:00:00",
          "2019-03-04T00:00:00",
          "2019-03-05T00:00:00",
          "2019-03-06T00:00:00",
          "2019-03-07T00:00:00",
          "2019-03-08T00:00:00",
          "2019-03-11T00:00:00",
          "2019-03-12T00:00:00",
          "2019-03-13T00:00:00",
          "2019-03-14T00:00:00",
          "2019-03-15T00:00:00",
          "2019-03-18T00:00:00",
          "2019-03-19T00:00:00",
          "2019-03-20T00:00:00",
          "2019-03-21T00:00:00",
          "2019-03-22T00:00:00",
          "2019-03-25T00:00:00",
          "2019-03-26T00:00:00",
          "2019-03-27T00:00:00",
          "2019-03-28T00:00:00",
          "2019-03-29T00:00:00",
          "2019-04-01T00:00:00",
          "2019-04-02T00:00:00",
          "2019-04-03T00:00:00",
          "2019-04-04T00:00:00",
          "2019-04-05T00:00:00",
          "2019-04-08T00:00:00",
          "2019-04-09T00:00:00",
          "2019-04-10T00:00:00",
          "2019-04-11T00:00:00",
          "2019-04-12T00:00:00",
          "2019-04-15T00:00:00",
          "2019-04-16T00:00:00",
          "2019-04-17T00:00:00",
          "2019-04-18T00:00:00",
          "2019-04-23T00:00:00",
          "2019-04-24T00:00:00",
          "2019-04-25T00:00:00",
          "2019-04-26T00:00:00",
          "2019-04-29T00:00:00",
          "2019-04-30T00:00:00",
          "2019-05-02T00:00:00",
          "2019-05-03T00:00:00",
          "2019-05-06T00:00:00",
          "2019-05-07T00:00:00",
          "2019-05-08T00:00:00",
          "2019-05-09T00:00:00",
          "2019-05-10T00:00:00",
          "2019-05-13T00:00:00",
          "2019-05-14T00:00:00",
          "2019-05-15T00:00:00",
          "2019-05-16T00:00:00",
          "2019-05-17T00:00:00",
          "2019-05-20T00:00:00",
          "2019-05-21T00:00:00",
          "2019-05-22T00:00:00",
          "2019-05-23T00:00:00",
          "2019-05-24T00:00:00",
          "2019-05-27T00:00:00",
          "2019-05-28T00:00:00",
          "2019-05-29T00:00:00",
          "2019-05-30T00:00:00",
          "2019-05-31T00:00:00",
          "2019-06-03T00:00:00",
          "2019-06-04T00:00:00",
          "2019-06-05T00:00:00",
          "2019-06-06T00:00:00",
          "2019-06-07T00:00:00",
          "2019-06-10T00:00:00",
          "2019-06-11T00:00:00",
          "2019-06-12T00:00:00",
          "2019-06-13T00:00:00",
          "2019-06-14T00:00:00",
          "2019-06-17T00:00:00",
          "2019-06-18T00:00:00",
          "2019-06-19T00:00:00",
          "2019-06-20T00:00:00",
          "2019-06-21T00:00:00",
          "2019-06-24T00:00:00",
          "2019-06-25T00:00:00",
          "2019-06-26T00:00:00",
          "2019-06-27T00:00:00",
          "2019-06-28T00:00:00",
          "2019-07-01T00:00:00",
          "2019-07-02T00:00:00",
          "2019-07-03T00:00:00",
          "2019-07-04T00:00:00",
          "2019-07-05T00:00:00",
          "2019-07-08T00:00:00",
          "2019-07-09T00:00:00",
          "2019-07-10T00:00:00",
          "2019-07-11T00:00:00",
          "2019-07-12T00:00:00",
          "2019-07-15T00:00:00",
          "2019-07-16T00:00:00",
          "2019-07-17T00:00:00",
          "2019-07-18T00:00:00",
          "2019-07-19T00:00:00",
          "2019-07-22T00:00:00",
          "2019-07-23T00:00:00",
          "2019-07-24T00:00:00",
          "2019-07-25T00:00:00",
          "2019-07-26T00:00:00",
          "2019-07-29T00:00:00",
          "2019-07-30T00:00:00",
          "2019-07-31T00:00:00",
          "2019-08-01T00:00:00",
          "2019-08-02T00:00:00",
          "2019-08-05T00:00:00",
          "2019-08-06T00:00:00",
          "2019-08-07T00:00:00",
          "2019-08-08T00:00:00",
          "2019-08-09T00:00:00",
          "2019-08-12T00:00:00",
          "2019-08-13T00:00:00",
          "2019-08-14T00:00:00",
          "2019-08-15T00:00:00",
          "2019-08-16T00:00:00",
          "2019-08-19T00:00:00",
          "2019-08-20T00:00:00",
          "2019-08-21T00:00:00",
          "2019-08-22T00:00:00",
          "2019-08-23T00:00:00",
          "2019-08-26T00:00:00",
          "2019-08-27T00:00:00",
          "2019-08-28T00:00:00",
          "2019-08-29T00:00:00",
          "2019-08-30T00:00:00",
          "2019-09-02T00:00:00",
          "2019-09-03T00:00:00",
          "2019-09-04T00:00:00",
          "2019-09-05T00:00:00",
          "2019-09-06T00:00:00",
          "2019-09-09T00:00:00",
          "2019-09-10T00:00:00",
          "2019-09-11T00:00:00",
          "2019-09-12T00:00:00",
          "2019-09-13T00:00:00",
          "2019-09-16T00:00:00",
          "2019-09-17T00:00:00",
          "2019-09-18T00:00:00",
          "2019-09-19T00:00:00",
          "2019-09-20T00:00:00",
          "2019-09-23T00:00:00",
          "2019-09-24T00:00:00",
          "2019-09-25T00:00:00",
          "2019-09-26T00:00:00",
          "2019-09-27T00:00:00",
          "2019-09-30T00:00:00",
          "2019-10-01T00:00:00",
          "2019-10-02T00:00:00",
          "2019-10-03T00:00:00",
          "2019-10-04T00:00:00",
          "2019-10-07T00:00:00",
          "2019-10-08T00:00:00",
          "2019-10-09T00:00:00",
          "2019-10-10T00:00:00",
          "2019-10-11T00:00:00",
          "2019-10-14T00:00:00",
          "2019-10-15T00:00:00",
          "2019-10-16T00:00:00",
          "2019-10-17T00:00:00",
          "2019-10-18T00:00:00",
          "2019-10-21T00:00:00",
          "2019-10-22T00:00:00",
          "2019-10-23T00:00:00",
          "2019-10-24T00:00:00",
          "2019-10-25T00:00:00",
          "2019-10-28T00:00:00",
          "2019-10-29T00:00:00",
          "2019-10-30T00:00:00",
          "2019-10-31T00:00:00",
          "2019-11-01T00:00:00",
          "2019-11-04T00:00:00",
          "2019-11-05T00:00:00",
          "2019-11-06T00:00:00",
          "2019-11-07T00:00:00",
          "2019-11-08T00:00:00",
          "2019-11-11T00:00:00",
          "2019-11-12T00:00:00",
          "2019-11-13T00:00:00",
          "2019-11-14T00:00:00",
          "2019-11-15T00:00:00",
          "2019-11-18T00:00:00",
          "2019-11-19T00:00:00",
          "2019-11-20T00:00:00",
          "2019-11-21T00:00:00",
          "2019-11-22T00:00:00",
          "2019-11-25T00:00:00",
          "2019-11-26T00:00:00",
          "2019-11-27T00:00:00",
          "2019-11-28T00:00:00",
          "2019-11-29T00:00:00",
          "2019-12-02T00:00:00",
          "2019-12-03T00:00:00",
          "2019-12-04T00:00:00",
          "2019-12-05T00:00:00",
          "2019-12-06T00:00:00",
          "2019-12-09T00:00:00",
          "2019-12-10T00:00:00",
          "2019-12-11T00:00:00",
          "2019-12-12T00:00:00",
          "2019-12-13T00:00:00",
          "2019-12-16T00:00:00",
          "2019-12-17T00:00:00",
          "2019-12-18T00:00:00",
          "2019-12-19T00:00:00",
          "2019-12-20T00:00:00",
          "2019-12-23T00:00:00",
          "2019-12-24T00:00:00",
          "2019-12-25T00:00:00",
          "2019-12-27T00:00:00",
          "2019-12-30T00:00:00",
          "2019-12-31T00:00:00",
          "2020-01-02T00:00:00",
          "2020-01-03T00:00:00",
          "2020-01-06T00:00:00",
          "2020-01-07T00:00:00",
          "2020-01-08T00:00:00",
          "2020-01-09T00:00:00",
          "2020-01-10T00:00:00",
          "2020-01-13T00:00:00",
          "2020-01-14T00:00:00",
          "2020-01-15T00:00:00",
          "2020-01-16T00:00:00",
          "2020-01-17T00:00:00",
          "2020-01-20T00:00:00",
          "2020-01-21T00:00:00",
          "2020-01-22T00:00:00",
          "2020-01-23T00:00:00",
          "2020-01-24T00:00:00",
          "2020-01-27T00:00:00",
          "2020-01-28T00:00:00",
          "2020-01-29T00:00:00",
          "2020-01-30T00:00:00",
          "2020-01-31T00:00:00",
          "2020-02-03T00:00:00",
          "2020-02-04T00:00:00",
          "2020-02-05T00:00:00",
          "2020-02-06T00:00:00",
          "2020-02-07T00:00:00",
          "2020-02-10T00:00:00",
          "2020-02-11T00:00:00",
          "2020-02-12T00:00:00",
          "2020-02-13T00:00:00",
          "2020-02-14T00:00:00",
          "2020-02-17T00:00:00",
          "2020-02-18T00:00:00",
          "2020-02-19T00:00:00",
          "2020-02-20T00:00:00",
          "2020-02-21T00:00:00",
          "2020-02-24T00:00:00",
          "2020-02-25T00:00:00",
          "2020-02-26T00:00:00",
          "2020-02-27T00:00:00",
          "2020-02-28T00:00:00",
          "2020-03-02T00:00:00",
          "2020-03-03T00:00:00",
          "2020-03-04T00:00:00",
          "2020-03-05T00:00:00",
          "2020-03-06T00:00:00",
          "2020-03-09T00:00:00",
          "2020-03-10T00:00:00",
          "2020-03-11T00:00:00",
          "2020-03-12T00:00:00",
          "2020-03-13T00:00:00",
          "2020-03-16T00:00:00",
          "2020-03-17T00:00:00",
          "2020-03-18T00:00:00",
          "2020-03-19T00:00:00",
          "2020-03-20T00:00:00",
          "2020-03-23T00:00:00",
          "2020-03-24T00:00:00",
          "2020-03-25T00:00:00",
          "2020-03-26T00:00:00",
          "2020-03-27T00:00:00",
          "2020-03-30T00:00:00",
          "2020-03-31T00:00:00",
          "2020-04-01T00:00:00",
          "2020-04-02T00:00:00",
          "2020-04-03T00:00:00",
          "2020-04-06T00:00:00",
          "2020-04-07T00:00:00",
          "2020-04-08T00:00:00",
          "2020-04-09T00:00:00",
          "2020-04-14T00:00:00",
          "2020-04-15T00:00:00",
          "2020-04-16T00:00:00",
          "2020-04-17T00:00:00",
          "2020-04-20T00:00:00",
          "2020-04-21T00:00:00",
          "2020-04-22T00:00:00",
          "2020-04-23T00:00:00",
          "2020-04-24T00:00:00",
          "2020-04-27T00:00:00",
          "2020-04-28T00:00:00",
          "2020-04-29T00:00:00",
          "2020-04-30T00:00:00",
          "2020-05-04T00:00:00",
          "2020-05-05T00:00:00",
          "2020-05-06T00:00:00",
          "2020-05-07T00:00:00",
          "2020-05-08T00:00:00",
          "2020-05-11T00:00:00",
          "2020-05-12T00:00:00",
          "2020-05-13T00:00:00",
          "2020-05-14T00:00:00",
          "2020-05-15T00:00:00",
          "2020-05-18T00:00:00",
          "2020-05-19T00:00:00",
          "2020-05-20T00:00:00",
          "2020-05-21T00:00:00",
          "2020-05-22T00:00:00",
          "2020-05-25T00:00:00",
          "2020-05-26T00:00:00",
          "2020-05-27T00:00:00",
          "2020-05-28T00:00:00",
          "2020-05-29T00:00:00",
          "2020-06-01T00:00:00",
          "2020-06-02T00:00:00",
          "2020-06-03T00:00:00",
          "2020-06-04T00:00:00",
          "2020-06-05T00:00:00",
          "2020-06-08T00:00:00",
          "2020-06-09T00:00:00",
          "2020-06-10T00:00:00",
          "2020-06-11T00:00:00",
          "2020-06-12T00:00:00",
          "2020-06-15T00:00:00",
          "2020-06-16T00:00:00",
          "2020-06-17T00:00:00",
          "2020-06-18T00:00:00",
          "2020-06-19T00:00:00",
          "2020-06-22T00:00:00",
          "2020-06-23T00:00:00",
          "2020-06-24T00:00:00",
          "2020-06-25T00:00:00",
          "2020-06-26T00:00:00",
          "2020-06-29T00:00:00",
          "2020-06-30T00:00:00",
          "2020-07-01T00:00:00",
          "2020-07-02T00:00:00",
          "2020-07-03T00:00:00",
          "2020-07-06T00:00:00",
          "2020-07-07T00:00:00",
          "2020-07-08T00:00:00",
          "2020-07-09T00:00:00",
          "2020-07-10T00:00:00",
          "2020-07-13T00:00:00",
          "2020-07-14T00:00:00",
          "2020-07-15T00:00:00",
          "2020-07-16T00:00:00",
          "2020-07-17T00:00:00",
          "2020-07-20T00:00:00",
          "2020-07-21T00:00:00",
          "2020-07-22T00:00:00",
          "2020-07-23T00:00:00",
          "2020-07-24T00:00:00",
          "2020-07-27T00:00:00",
          "2020-07-28T00:00:00",
          "2020-07-29T00:00:00",
          "2020-07-30T00:00:00",
          "2020-07-31T00:00:00",
          "2020-08-03T00:00:00",
          "2020-08-04T00:00:00",
          "2020-08-05T00:00:00",
          "2020-08-06T00:00:00",
          "2020-08-07T00:00:00",
          "2020-08-10T00:00:00",
          "2020-08-11T00:00:00",
          "2020-08-12T00:00:00",
          "2020-08-13T00:00:00",
          "2020-08-14T00:00:00",
          "2020-08-17T00:00:00",
          "2020-08-18T00:00:00",
          "2020-08-19T00:00:00",
          "2020-08-20T00:00:00",
          "2020-08-21T00:00:00",
          "2020-08-24T00:00:00",
          "2020-08-25T00:00:00",
          "2020-08-26T00:00:00",
          "2020-08-27T00:00:00",
          "2020-08-28T00:00:00",
          "2020-08-31T00:00:00",
          "2020-09-01T00:00:00",
          "2020-09-02T00:00:00",
          "2020-09-03T00:00:00",
          "2020-09-04T00:00:00",
          "2020-09-07T00:00:00",
          "2020-09-08T00:00:00",
          "2020-09-09T00:00:00",
          "2020-09-10T00:00:00",
          "2020-09-11T00:00:00",
          "2020-09-14T00:00:00",
          "2020-09-15T00:00:00",
          "2020-09-16T00:00:00",
          "2020-09-17T00:00:00",
          "2020-09-18T00:00:00",
          "2020-09-21T00:00:00",
          "2020-09-22T00:00:00",
          "2020-09-23T00:00:00",
          "2020-09-24T00:00:00",
          "2020-09-25T00:00:00",
          "2020-09-28T00:00:00",
          "2020-09-29T00:00:00",
          "2020-09-30T00:00:00",
          "2020-10-01T00:00:00",
          "2020-10-02T00:00:00",
          "2020-10-05T00:00:00",
          "2020-10-06T00:00:00",
          "2020-10-07T00:00:00",
          "2020-10-08T00:00:00",
          "2020-10-09T00:00:00",
          "2020-10-12T00:00:00",
          "2020-10-13T00:00:00",
          "2020-10-14T00:00:00",
          "2020-10-15T00:00:00",
          "2020-10-16T00:00:00",
          "2020-10-19T00:00:00",
          "2020-10-20T00:00:00",
          "2020-10-21T00:00:00",
          "2020-10-22T00:00:00",
          "2020-10-23T00:00:00",
          "2020-10-26T00:00:00",
          "2020-10-27T00:00:00",
          "2020-10-28T00:00:00",
          "2020-10-29T00:00:00",
          "2020-10-30T00:00:00",
          "2020-11-02T00:00:00",
          "2020-11-03T00:00:00",
          "2020-11-04T00:00:00",
          "2020-11-05T00:00:00",
          "2020-11-06T00:00:00",
          "2020-11-09T00:00:00",
          "2020-11-10T00:00:00",
          "2020-11-11T00:00:00",
          "2020-11-12T00:00:00",
          "2020-11-13T00:00:00",
          "2020-11-16T00:00:00",
          "2020-11-17T00:00:00",
          "2020-11-18T00:00:00",
          "2020-11-19T00:00:00",
          "2020-11-20T00:00:00",
          "2020-11-23T00:00:00",
          "2020-11-24T00:00:00",
          "2020-11-25T00:00:00",
          "2020-11-26T00:00:00",
          "2020-11-27T00:00:00",
          "2020-11-30T00:00:00",
          "2020-12-01T00:00:00",
          "2020-12-02T00:00:00",
          "2020-12-03T00:00:00",
          "2020-12-04T00:00:00",
          "2020-12-07T00:00:00",
          "2020-12-08T00:00:00",
          "2020-12-09T00:00:00",
          "2020-12-10T00:00:00",
          "2020-12-11T00:00:00",
          "2020-12-14T00:00:00",
          "2020-12-15T00:00:00",
          "2020-12-16T00:00:00",
          "2020-12-17T00:00:00",
          "2020-12-18T00:00:00",
          "2020-12-21T00:00:00",
          "2020-12-22T00:00:00",
          "2020-12-23T00:00:00",
          "2020-12-24T00:00:00",
          "2020-12-28T00:00:00",
          "2020-12-29T00:00:00",
          "2020-12-30T00:00:00",
          "2020-12-31T00:00:00",
          "2021-01-04T00:00:00",
          "2021-01-05T00:00:00",
          "2021-01-06T00:00:00",
          "2021-01-07T00:00:00",
          "2021-01-08T00:00:00",
          "2021-01-11T00:00:00",
          "2021-01-12T00:00:00",
          "2021-01-13T00:00:00",
          "2021-01-14T00:00:00",
          "2021-01-15T00:00:00",
          "2021-01-18T00:00:00",
          "2021-01-19T00:00:00",
          "2021-01-20T00:00:00",
          "2021-01-21T00:00:00",
          "2021-01-22T00:00:00",
          "2021-01-25T00:00:00",
          "2021-01-26T00:00:00",
          "2021-01-27T00:00:00",
          "2021-01-28T00:00:00",
          "2021-01-29T00:00:00",
          "2021-02-01T00:00:00",
          "2021-02-02T00:00:00",
          "2021-02-03T00:00:00",
          "2021-02-04T00:00:00",
          "2021-02-05T00:00:00",
          "2021-02-08T00:00:00",
          "2021-02-09T00:00:00",
          "2021-02-10T00:00:00",
          "2021-02-11T00:00:00",
          "2021-02-12T00:00:00",
          "2021-02-15T00:00:00",
          "2021-02-16T00:00:00",
          "2021-02-17T00:00:00",
          "2021-02-18T00:00:00",
          "2021-02-19T00:00:00",
          "2021-02-22T00:00:00",
          "2021-02-23T00:00:00",
          "2021-02-24T00:00:00",
          "2021-02-25T00:00:00",
          "2021-02-26T00:00:00",
          "2021-03-01T00:00:00",
          "2021-03-02T00:00:00",
          "2021-03-03T00:00:00",
          "2021-03-04T00:00:00",
          "2021-03-05T00:00:00",
          "2021-03-08T00:00:00",
          "2021-03-09T00:00:00",
          "2021-03-10T00:00:00",
          "2021-03-11T00:00:00",
          "2021-03-12T00:00:00",
          "2021-03-15T00:00:00",
          "2021-03-16T00:00:00",
          "2021-03-17T00:00:00",
          "2021-03-18T00:00:00",
          "2021-03-19T00:00:00",
          "2021-03-22T00:00:00",
          "2021-03-23T00:00:00",
          "2021-03-24T00:00:00",
          "2021-03-25T00:00:00",
          "2021-03-26T00:00:00",
          "2021-03-29T00:00:00",
          "2021-03-30T00:00:00",
          "2021-03-31T00:00:00",
          "2021-04-01T00:00:00",
          "2021-04-06T00:00:00",
          "2021-04-07T00:00:00",
          "2021-04-08T00:00:00",
          "2021-04-09T00:00:00",
          "2021-04-12T00:00:00",
          "2021-04-13T00:00:00",
          "2021-04-14T00:00:00",
          "2021-04-15T00:00:00",
          "2021-04-16T00:00:00",
          "2021-04-19T00:00:00",
          "2021-04-20T00:00:00",
          "2021-04-21T00:00:00",
          "2021-04-22T00:00:00",
          "2021-04-23T00:00:00",
          "2021-04-26T00:00:00",
          "2021-04-27T00:00:00",
          "2021-04-28T00:00:00",
          "2021-04-29T00:00:00",
          "2021-04-30T00:00:00",
          "2021-05-03T00:00:00",
          "2021-05-04T00:00:00",
          "2021-05-05T00:00:00",
          "2021-05-06T00:00:00",
          "2021-05-07T00:00:00",
          "2021-05-10T00:00:00",
          "2021-05-11T00:00:00",
          "2021-05-12T00:00:00",
          "2021-05-13T00:00:00",
          "2021-05-14T00:00:00",
          "2021-05-17T00:00:00",
          "2021-05-18T00:00:00",
          "2021-05-19T00:00:00",
          "2021-05-20T00:00:00",
          "2021-05-21T00:00:00",
          "2021-05-24T00:00:00",
          "2021-05-25T00:00:00",
          "2021-05-26T00:00:00",
          "2021-05-27T00:00:00",
          "2021-05-28T00:00:00",
          "2021-05-31T00:00:00",
          "2021-06-01T00:00:00",
          "2021-06-02T00:00:00",
          "2021-06-03T00:00:00",
          "2021-06-04T00:00:00",
          "2021-06-07T00:00:00",
          "2021-06-08T00:00:00",
          "2021-06-09T00:00:00",
          "2021-06-10T00:00:00",
          "2021-06-11T00:00:00",
          "2021-06-14T00:00:00",
          "2021-06-15T00:00:00",
          "2021-06-16T00:00:00",
          "2021-06-17T00:00:00",
          "2021-06-18T00:00:00",
          "2021-06-21T00:00:00",
          "2021-06-22T00:00:00",
          "2021-06-23T00:00:00",
          "2021-06-24T00:00:00",
          "2021-06-25T00:00:00",
          "2021-06-28T00:00:00",
          "2021-06-29T00:00:00",
          "2021-06-30T00:00:00",
          "2021-07-01T00:00:00",
          "2021-07-02T00:00:00",
          "2021-07-05T00:00:00",
          "2021-07-06T00:00:00",
          "2021-07-07T00:00:00",
          "2021-07-08T00:00:00",
          "2021-07-09T00:00:00",
          "2021-07-12T00:00:00",
          "2021-07-13T00:00:00",
          "2021-07-14T00:00:00",
          "2021-07-15T00:00:00",
          "2021-07-16T00:00:00",
          "2021-07-19T00:00:00",
          "2021-07-20T00:00:00",
          "2021-07-21T00:00:00",
          "2021-07-22T00:00:00",
          "2021-07-23T00:00:00",
          "2021-07-26T00:00:00",
          "2021-07-27T00:00:00",
          "2021-07-28T00:00:00",
          "2021-07-29T00:00:00",
          "2021-07-30T00:00:00",
          "2021-08-02T00:00:00",
          "2021-08-03T00:00:00",
          "2021-08-04T00:00:00",
          "2021-08-05T00:00:00",
          "2021-08-06T00:00:00",
          "2021-08-09T00:00:00",
          "2021-08-10T00:00:00",
          "2021-08-11T00:00:00",
          "2021-08-12T00:00:00",
          "2021-08-13T00:00:00",
          "2021-08-16T00:00:00",
          "2021-08-17T00:00:00",
          "2021-08-18T00:00:00",
          "2021-08-19T00:00:00",
          "2021-08-20T00:00:00",
          "2021-08-23T00:00:00",
          "2021-08-24T00:00:00",
          "2021-08-25T00:00:00",
          "2021-08-26T00:00:00",
          "2021-08-27T00:00:00",
          "2021-08-30T00:00:00",
          "2021-08-31T00:00:00",
          "2021-09-01T00:00:00",
          "2021-09-02T00:00:00",
          "2021-09-03T00:00:00",
          "2021-09-06T00:00:00",
          "2021-09-07T00:00:00",
          "2021-09-08T00:00:00",
          "2021-09-09T00:00:00",
          "2021-09-10T00:00:00",
          "2021-09-13T00:00:00",
          "2021-09-14T00:00:00",
          "2021-09-15T00:00:00",
          "2021-09-16T00:00:00",
          "2021-09-17T00:00:00",
          "2021-09-20T00:00:00",
          "2021-09-21T00:00:00",
          "2021-09-22T00:00:00",
          "2021-09-23T00:00:00",
          "2021-09-24T00:00:00",
          "2021-09-27T00:00:00",
          "2021-09-28T00:00:00",
          "2021-09-29T00:00:00",
          "2021-09-30T00:00:00",
          "2021-10-01T00:00:00",
          "2021-10-04T00:00:00",
          "2021-10-05T00:00:00",
          "2021-10-06T00:00:00",
          "2021-10-07T00:00:00",
          "2021-10-08T00:00:00",
          "2021-10-11T00:00:00",
          "2021-10-12T00:00:00",
          "2021-10-13T00:00:00",
          "2021-10-14T00:00:00",
          "2021-10-15T00:00:00",
          "2021-10-18T00:00:00",
          "2021-10-19T00:00:00",
          "2021-10-20T00:00:00",
          "2021-10-21T00:00:00",
          "2021-10-22T00:00:00",
          "2021-10-25T00:00:00",
          "2021-10-26T00:00:00",
          "2021-10-27T00:00:00",
          "2021-10-28T00:00:00",
          "2021-10-29T00:00:00",
          "2021-11-01T00:00:00",
          "2021-11-02T00:00:00",
          "2021-11-03T00:00:00",
          "2021-11-04T00:00:00",
          "2021-11-05T00:00:00",
          "2021-11-08T00:00:00",
          "2021-11-09T00:00:00",
          "2021-11-10T00:00:00",
          "2021-11-11T00:00:00",
          "2021-11-12T00:00:00",
          "2021-11-15T00:00:00",
          "2021-11-16T00:00:00",
          "2021-11-17T00:00:00",
          "2021-11-18T00:00:00",
          "2021-11-19T00:00:00",
          "2021-11-22T00:00:00",
          "2021-11-23T00:00:00",
          "2021-11-24T00:00:00",
          "2021-11-25T00:00:00",
          "2021-11-26T00:00:00",
          "2021-11-29T00:00:00",
          "2021-11-30T00:00:00",
          "2021-12-01T00:00:00",
          "2021-12-02T00:00:00",
          "2021-12-03T00:00:00",
          "2021-12-06T00:00:00",
          "2021-12-07T00:00:00",
          "2021-12-08T00:00:00",
          "2021-12-09T00:00:00",
          "2021-12-10T00:00:00",
          "2021-12-13T00:00:00",
          "2021-12-14T00:00:00",
          "2021-12-15T00:00:00",
          "2021-12-16T00:00:00",
          "2021-12-17T00:00:00",
          "2021-12-20T00:00:00",
          "2021-12-21T00:00:00",
          "2021-12-22T00:00:00",
          "2021-12-23T00:00:00",
          "2021-12-27T00:00:00",
          "2021-12-28T00:00:00",
          "2021-12-29T00:00:00",
          "2021-12-30T00:00:00",
          "2022-01-03T00:00:00",
          "2022-01-04T00:00:00",
          "2022-01-05T00:00:00",
          "2022-01-06T00:00:00",
          "2022-01-07T00:00:00",
          "2022-01-10T00:00:00",
          "2022-01-11T00:00:00",
          "2022-01-12T00:00:00",
          "2022-01-13T00:00:00",
          "2022-01-14T00:00:00",
          "2022-01-17T00:00:00",
          "2022-01-18T00:00:00",
          "2022-01-19T00:00:00",
          "2022-01-20T00:00:00",
          "2022-01-21T00:00:00",
          "2022-01-24T00:00:00",
          "2022-01-25T00:00:00",
          "2022-01-26T00:00:00",
          "2022-01-27T00:00:00",
          "2022-01-28T00:00:00",
          "2022-01-31T00:00:00",
          "2022-02-01T00:00:00",
          "2022-02-02T00:00:00",
          "2022-02-03T00:00:00",
          "2022-02-04T00:00:00",
          "2022-02-07T00:00:00",
          "2022-02-08T00:00:00",
          "2022-02-09T00:00:00",
          "2022-02-10T00:00:00",
          "2022-02-11T00:00:00",
          "2022-02-14T00:00:00",
          "2022-02-15T00:00:00",
          "2022-02-16T00:00:00",
          "2022-02-17T00:00:00",
          "2022-02-18T00:00:00",
          "2022-02-21T00:00:00",
          "2022-02-22T00:00:00",
          "2022-02-23T00:00:00",
          "2022-02-24T00:00:00",
          "2022-02-25T00:00:00",
          "2022-02-28T00:00:00",
          "2022-03-01T00:00:00",
          "2022-03-02T00:00:00",
          "2022-03-03T00:00:00",
          "2022-03-04T00:00:00",
          "2022-03-07T00:00:00",
          "2022-03-08T00:00:00",
          "2022-03-09T00:00:00",
          "2022-03-10T00:00:00",
          "2022-03-11T00:00:00",
          "2022-03-14T00:00:00",
          "2022-03-15T00:00:00",
          "2022-03-16T00:00:00",
          "2022-03-17T00:00:00",
          "2022-03-18T00:00:00",
          "2022-03-21T00:00:00",
          "2022-03-22T00:00:00",
          "2022-03-23T00:00:00",
          "2022-03-24T00:00:00",
          "2022-03-25T00:00:00",
          "2022-03-28T00:00:00",
          "2022-03-29T00:00:00",
          "2022-03-30T00:00:00",
          "2022-03-31T00:00:00",
          "2022-04-01T00:00:00",
          "2022-04-04T00:00:00",
          "2022-04-05T00:00:00",
          "2022-04-06T00:00:00",
          "2022-04-07T00:00:00",
          "2022-04-08T00:00:00",
          "2022-04-11T00:00:00",
          "2022-04-12T00:00:00",
          "2022-04-13T00:00:00",
          "2022-04-14T00:00:00",
          "2022-04-19T00:00:00",
          "2022-04-20T00:00:00",
          "2022-04-21T00:00:00",
          "2022-04-22T00:00:00",
          "2022-04-25T00:00:00",
          "2022-04-26T00:00:00",
          "2022-04-27T00:00:00",
          "2022-04-28T00:00:00",
          "2022-04-29T00:00:00",
          "2022-05-02T00:00:00",
          "2022-05-03T00:00:00",
          "2022-05-04T00:00:00",
          "2022-05-05T00:00:00",
          "2022-05-06T00:00:00",
          "2022-05-09T00:00:00",
          "2022-05-10T00:00:00",
          "2022-05-11T00:00:00",
          "2022-05-12T00:00:00",
          "2022-05-13T00:00:00",
          "2022-05-16T00:00:00",
          "2022-05-17T00:00:00",
          "2022-05-18T00:00:00",
          "2022-05-19T00:00:00",
          "2022-05-20T00:00:00",
          "2022-05-23T00:00:00",
          "2022-05-24T00:00:00",
          "2022-05-25T00:00:00",
          "2022-05-26T00:00:00",
          "2022-05-27T00:00:00",
          "2022-05-30T00:00:00",
          "2022-05-31T00:00:00",
          "2022-06-01T00:00:00",
          "2022-06-02T00:00:00",
          "2022-06-03T00:00:00",
          "2022-06-06T00:00:00",
          "2022-06-07T00:00:00",
          "2022-06-08T00:00:00",
          "2022-06-09T00:00:00",
          "2022-06-10T00:00:00",
          "2022-06-13T00:00:00",
          "2022-06-14T00:00:00",
          "2022-06-15T00:00:00",
          "2022-06-16T00:00:00",
          "2022-06-17T00:00:00",
          "2022-06-20T00:00:00",
          "2022-06-21T00:00:00",
          "2022-06-22T00:00:00",
          "2022-06-23T00:00:00",
          "2022-06-24T00:00:00",
          "2022-06-27T00:00:00",
          "2022-06-28T00:00:00",
          "2022-06-29T00:00:00",
          "2022-06-30T00:00:00",
          "2022-07-01T00:00:00",
          "2022-07-04T00:00:00",
          "2022-07-05T00:00:00",
          "2022-07-06T00:00:00",
          "2022-07-07T00:00:00",
          "2022-07-08T00:00:00",
          "2022-07-11T00:00:00",
          "2022-07-12T00:00:00",
          "2022-07-13T00:00:00",
          "2022-07-14T00:00:00",
          "2022-07-15T00:00:00",
          "2022-07-18T00:00:00",
          "2022-07-19T00:00:00",
          "2022-07-20T00:00:00",
          "2022-07-21T00:00:00",
          "2022-07-22T00:00:00",
          "2022-07-25T00:00:00",
          "2022-07-26T00:00:00",
          "2022-07-27T00:00:00",
          "2022-07-28T00:00:00",
          "2022-07-29T00:00:00",
          "2022-08-01T00:00:00",
          "2022-08-02T00:00:00",
          "2022-08-03T00:00:00",
          "2022-08-04T00:00:00",
          "2022-08-05T00:00:00",
          "2022-08-08T00:00:00",
          "2022-08-09T00:00:00",
          "2022-08-10T00:00:00",
          "2022-08-11T00:00:00",
          "2022-08-12T00:00:00",
          "2022-08-15T00:00:00",
          "2022-08-16T00:00:00",
          "2022-08-17T00:00:00",
          "2022-08-18T00:00:00",
          "2022-08-19T00:00:00",
          "2022-08-22T00:00:00",
          "2022-08-23T00:00:00",
          "2022-08-24T00:00:00",
          "2022-08-25T00:00:00",
          "2022-08-26T00:00:00",
          "2022-08-29T00:00:00",
          "2022-08-30T00:00:00",
          "2022-08-31T00:00:00",
          "2022-09-01T00:00:00",
          "2022-09-02T00:00:00",
          "2022-09-05T00:00:00",
          "2022-09-06T00:00:00",
          "2022-09-07T00:00:00",
          "2022-09-08T00:00:00",
          "2022-09-09T00:00:00",
          "2022-09-12T00:00:00",
          "2022-09-13T00:00:00",
          "2022-09-14T00:00:00",
          "2022-09-15T00:00:00",
          "2022-09-16T00:00:00",
          "2022-09-19T00:00:00",
          "2022-09-20T00:00:00",
          "2022-09-21T00:00:00",
          "2022-09-22T00:00:00",
          "2022-09-23T00:00:00",
          "2022-09-26T00:00:00",
          "2022-09-27T00:00:00",
          "2022-09-28T00:00:00",
          "2022-09-29T00:00:00",
          "2022-09-30T00:00:00",
          "2022-10-03T00:00:00",
          "2022-10-04T00:00:00",
          "2022-10-05T00:00:00",
          "2022-10-06T00:00:00",
          "2022-10-07T00:00:00",
          "2022-10-10T00:00:00",
          "2022-10-11T00:00:00",
          "2022-10-12T00:00:00",
          "2022-10-13T00:00:00",
          "2022-10-14T00:00:00",
          "2022-10-17T00:00:00",
          "2022-10-18T00:00:00",
          "2022-10-19T00:00:00",
          "2022-10-20T00:00:00",
          "2022-10-21T00:00:00",
          "2022-10-24T00:00:00",
          "2022-10-25T00:00:00",
          "2022-10-26T00:00:00",
          "2022-10-27T00:00:00",
          "2022-10-28T00:00:00",
          "2022-10-31T00:00:00",
          "2022-11-01T00:00:00",
          "2022-11-02T00:00:00",
          "2022-11-03T00:00:00",
          "2022-11-04T00:00:00",
          "2022-11-07T00:00:00",
          "2022-11-08T00:00:00",
          "2022-11-09T00:00:00",
          "2022-11-10T00:00:00",
          "2022-11-11T00:00:00",
          "2022-11-14T00:00:00",
          "2022-11-15T00:00:00",
          "2022-11-16T00:00:00",
          "2022-11-17T00:00:00",
          "2022-11-18T00:00:00",
          "2022-11-21T00:00:00",
          "2022-11-22T00:00:00",
          "2022-11-23T00:00:00",
          "2022-11-24T00:00:00",
          "2022-11-25T00:00:00",
          "2022-11-28T00:00:00",
          "2022-11-29T00:00:00",
          "2022-11-30T00:00:00",
          "2022-12-01T00:00:00",
          "2022-12-02T00:00:00",
          "2022-12-05T00:00:00",
          "2022-12-06T00:00:00",
          "2022-12-07T00:00:00",
          "2022-12-08T00:00:00",
          "2022-12-09T00:00:00",
          "2022-12-12T00:00:00",
          "2022-12-13T00:00:00",
          "2022-12-14T00:00:00",
          "2022-12-15T00:00:00",
          "2022-12-16T00:00:00",
          "2022-12-19T00:00:00",
          "2022-12-20T00:00:00",
          "2022-12-21T00:00:00",
          "2022-12-22T00:00:00",
          "2022-12-23T00:00:00",
          "2022-12-27T00:00:00",
          "2022-12-28T00:00:00",
          "2022-12-29T00:00:00",
          "2022-12-30T00:00:00",
          "2023-01-02T00:00:00",
          "2023-01-03T00:00:00",
          "2023-01-04T00:00:00",
          "2023-01-05T00:00:00",
          "2023-01-06T00:00:00",
          "2023-01-09T00:00:00",
          "2023-01-10T00:00:00",
          "2023-01-11T00:00:00",
          "2023-01-12T00:00:00",
          "2023-01-13T00:00:00",
          "2023-01-16T00:00:00",
          "2023-01-17T00:00:00",
          "2023-01-18T00:00:00",
          "2023-01-19T00:00:00",
          "2023-01-20T00:00:00",
          "2023-01-23T00:00:00",
          "2023-01-24T00:00:00",
          "2023-01-25T00:00:00",
          "2023-01-26T00:00:00",
          "2023-01-27T00:00:00",
          "2023-01-30T00:00:00",
          "2023-01-31T00:00:00",
          "2023-02-01T00:00:00",
          "2023-02-02T00:00:00",
          "2023-02-03T00:00:00",
          "2023-02-06T00:00:00",
          "2023-02-07T00:00:00",
          "2023-02-08T00:00:00",
          "2023-02-09T00:00:00",
          "2023-02-10T00:00:00",
          "2023-02-13T00:00:00",
          "2023-02-14T00:00:00",
          "2023-02-15T00:00:00",
          "2023-02-16T00:00:00",
          "2023-02-17T00:00:00",
          "2023-02-20T00:00:00",
          "2023-02-21T00:00:00",
          "2023-02-22T00:00:00",
          "2023-02-23T00:00:00",
          "2023-02-24T00:00:00",
          "2023-02-27T00:00:00",
          "2023-02-28T00:00:00",
          "2023-03-01T00:00:00",
          "2023-03-02T00:00:00",
          "2023-03-03T00:00:00",
          "2023-03-06T00:00:00",
          "2023-03-07T00:00:00",
          "2023-03-08T00:00:00",
          "2023-03-09T00:00:00",
          "2023-03-10T00:00:00",
          "2023-03-13T00:00:00",
          "2023-03-14T00:00:00",
          "2023-03-15T00:00:00",
          "2023-03-16T00:00:00",
          "2023-03-17T00:00:00",
          "2023-03-20T00:00:00",
          "2023-03-21T00:00:00",
          "2023-03-22T00:00:00",
          "2023-03-23T00:00:00",
          "2023-03-24T00:00:00",
          "2023-03-27T00:00:00",
          "2023-03-28T00:00:00",
          "2023-03-29T00:00:00",
          "2023-03-30T00:00:00",
          "2023-03-31T00:00:00",
          "2023-04-03T00:00:00",
          "2023-04-04T00:00:00",
          "2023-04-05T00:00:00",
          "2023-04-06T00:00:00",
          "2023-04-11T00:00:00",
          "2023-04-12T00:00:00",
          "2023-04-13T00:00:00",
          "2023-04-14T00:00:00",
          "2023-04-17T00:00:00",
          "2023-04-18T00:00:00",
          "2023-04-19T00:00:00",
          "2023-04-20T00:00:00",
          "2023-04-21T00:00:00",
          "2023-04-24T00:00:00",
          "2023-04-25T00:00:00",
          "2023-04-26T00:00:00",
          "2023-04-27T00:00:00",
          "2023-04-28T00:00:00",
          "2023-05-02T00:00:00",
          "2023-05-03T00:00:00",
          "2023-05-04T00:00:00",
          "2023-05-05T00:00:00",
          "2023-05-08T00:00:00",
          "2023-05-09T00:00:00",
          "2023-05-10T00:00:00",
          "2023-05-11T00:00:00",
          "2023-05-12T00:00:00",
          "2023-05-15T00:00:00",
          "2023-05-16T00:00:00",
          "2023-05-17T00:00:00",
          "2023-05-18T00:00:00",
          "2023-05-19T00:00:00",
          "2023-05-22T00:00:00",
          "2023-05-23T00:00:00",
          "2023-05-24T00:00:00",
          "2023-05-25T00:00:00",
          "2023-05-26T00:00:00",
          "2023-05-29T00:00:00",
          "2023-05-30T00:00:00",
          "2023-05-31T00:00:00",
          "2023-06-01T00:00:00",
          "2023-06-02T00:00:00",
          "2023-06-05T00:00:00",
          "2023-06-06T00:00:00",
          "2023-06-07T00:00:00",
          "2023-06-08T00:00:00",
          "2023-06-09T00:00:00",
          "2023-06-12T00:00:00",
          "2023-06-13T00:00:00",
          "2023-06-14T00:00:00",
          "2023-06-15T00:00:00",
          "2023-06-16T00:00:00",
          "2023-06-19T00:00:00",
          "2023-06-20T00:00:00",
          "2023-06-21T00:00:00",
          "2023-06-22T00:00:00",
          "2023-06-23T00:00:00",
          "2023-06-26T00:00:00",
          "2023-06-27T00:00:00",
          "2023-06-28T00:00:00",
          "2023-06-29T00:00:00",
          "2023-06-30T00:00:00",
          "2023-07-03T00:00:00",
          "2023-07-04T00:00:00",
          "2023-07-05T00:00:00",
          "2023-07-06T00:00:00",
          "2023-07-07T00:00:00",
          "2023-07-10T00:00:00",
          "2023-07-11T00:00:00",
          "2023-07-12T00:00:00",
          "2023-07-13T00:00:00",
          "2023-07-14T00:00:00",
          "2023-07-17T00:00:00",
          "2023-07-18T00:00:00",
          "2023-07-19T00:00:00",
          "2023-07-20T00:00:00",
          "2023-07-21T00:00:00",
          "2023-07-24T00:00:00",
          "2023-07-25T00:00:00",
          "2023-07-26T00:00:00",
          "2023-07-27T00:00:00",
          "2023-07-28T00:00:00",
          "2023-07-31T00:00:00",
          "2023-08-01T00:00:00",
          "2023-08-02T00:00:00",
          "2023-08-03T00:00:00",
          "2023-08-04T00:00:00",
          "2023-08-07T00:00:00",
          "2023-08-08T00:00:00",
          "2023-08-09T00:00:00",
          "2023-08-10T00:00:00",
          "2023-08-11T00:00:00",
          "2023-08-14T00:00:00",
          "2023-08-15T00:00:00",
          "2023-08-16T00:00:00",
          "2023-08-17T00:00:00",
          "2023-08-18T00:00:00",
          "2023-08-21T00:00:00",
          "2023-08-22T00:00:00",
          "2023-08-23T00:00:00",
          "2023-08-24T00:00:00",
          "2023-08-25T00:00:00",
          "2023-08-28T00:00:00",
          "2023-08-29T00:00:00",
          "2023-08-30T00:00:00",
          "2023-08-31T00:00:00",
          "2023-09-01T00:00:00",
          "2023-09-04T00:00:00",
          "2023-09-05T00:00:00",
          "2023-09-06T00:00:00",
          "2023-09-07T00:00:00",
          "2023-09-08T00:00:00",
          "2023-09-11T00:00:00",
          "2023-09-12T00:00:00",
          "2023-09-13T00:00:00",
          "2023-09-14T00:00:00",
          "2023-09-15T00:00:00",
          "2023-09-18T00:00:00",
          "2023-09-19T00:00:00",
          "2023-09-20T00:00:00",
          "2023-09-21T00:00:00",
          "2023-09-22T00:00:00",
          "2023-09-25T00:00:00",
          "2023-09-26T00:00:00",
          "2023-09-27T00:00:00",
          "2023-09-28T00:00:00",
          "2023-09-29T00:00:00",
          "2023-10-02T00:00:00",
          "2023-10-03T00:00:00",
          "2023-10-04T00:00:00",
          "2023-10-05T00:00:00",
          "2023-10-06T00:00:00",
          "2023-10-09T00:00:00",
          "2023-10-10T00:00:00",
          "2023-10-11T00:00:00",
          "2023-10-12T00:00:00",
          "2023-10-13T00:00:00",
          "2023-10-16T00:00:00",
          "2023-10-17T00:00:00",
          "2023-10-18T00:00:00",
          "2023-10-19T00:00:00",
          "2023-10-20T00:00:00",
          "2023-10-23T00:00:00",
          "2023-10-24T00:00:00",
          "2023-10-25T00:00:00",
          "2023-10-26T00:00:00",
          "2023-10-27T00:00:00",
          "2023-10-30T00:00:00",
          "2023-10-31T00:00:00",
          "2023-11-01T00:00:00",
          "2023-11-02T00:00:00",
          "2023-11-03T00:00:00",
          "2023-11-06T00:00:00",
          "2023-11-07T00:00:00",
          "2023-11-08T00:00:00",
          "2023-11-09T00:00:00",
          "2023-11-10T00:00:00",
          "2023-11-13T00:00:00",
          "2023-11-14T00:00:00",
          "2023-11-15T00:00:00",
          "2023-11-16T00:00:00",
          "2023-11-17T00:00:00",
          "2023-11-20T00:00:00",
          "2023-11-21T00:00:00",
          "2023-11-22T00:00:00",
          "2023-11-23T00:00:00",
          "2023-11-24T00:00:00",
          "2023-11-27T00:00:00",
          "2023-11-28T00:00:00",
          "2023-11-29T00:00:00",
          "2023-11-30T00:00:00",
          "2023-12-01T00:00:00",
          "2023-12-04T00:00:00",
          "2023-12-05T00:00:00",
          "2023-12-06T00:00:00",
          "2023-12-07T00:00:00",
          "2023-12-08T00:00:00",
          "2023-12-11T00:00:00",
          "2023-12-12T00:00:00",
          "2023-12-13T00:00:00",
          "2023-12-14T00:00:00",
          "2023-12-15T00:00:00",
          "2023-12-18T00:00:00",
          "2023-12-19T00:00:00",
          "2023-12-20T00:00:00",
          "2023-12-21T00:00:00",
          "2023-12-22T00:00:00",
          "2023-12-27T00:00:00",
          "2023-12-28T00:00:00",
          "2023-12-29T00:00:00",
          "2024-01-02T00:00:00",
          "2024-01-03T00:00:00",
          "2024-01-04T00:00:00",
          "2024-01-05T00:00:00",
          "2024-01-08T00:00:00",
          "2024-01-09T00:00:00",
          "2024-01-10T00:00:00",
          "2024-01-11T00:00:00",
          "2024-01-12T00:00:00",
          "2024-01-15T00:00:00",
          "2024-01-16T00:00:00",
          "2024-01-17T00:00:00",
          "2024-01-18T00:00:00",
          "2024-01-19T00:00:00",
          "2024-01-22T00:00:00",
          "2024-01-23T00:00:00",
          "2024-01-24T00:00:00",
          "2024-01-25T00:00:00",
          "2024-01-26T00:00:00",
          "2024-01-29T00:00:00",
          "2024-01-30T00:00:00",
          "2024-01-31T00:00:00",
          "2024-02-01T00:00:00",
          "2024-02-02T00:00:00",
          "2024-02-05T00:00:00",
          "2024-02-06T00:00:00",
          "2024-02-07T00:00:00",
          "2024-02-08T00:00:00",
          "2024-02-09T00:00:00",
          "2024-02-12T00:00:00",
          "2024-02-13T00:00:00",
          "2024-02-14T00:00:00",
          "2024-02-15T00:00:00",
          "2024-02-16T00:00:00",
          "2024-02-19T00:00:00",
          "2024-02-20T00:00:00",
          "2024-02-21T00:00:00",
          "2024-02-22T00:00:00",
          "2024-02-23T00:00:00",
          "2024-02-26T00:00:00",
          "2024-02-27T00:00:00",
          "2024-02-28T00:00:00",
          "2024-02-29T00:00:00",
          "2024-03-01T00:00:00",
          "2024-03-04T00:00:00",
          "2024-03-05T00:00:00",
          "2024-03-06T00:00:00",
          "2024-03-07T00:00:00",
          "2024-03-08T00:00:00",
          "2024-03-11T00:00:00",
          "2024-03-12T00:00:00",
          "2024-03-13T00:00:00",
          "2024-03-14T00:00:00",
          "2024-03-15T00:00:00",
          "2024-03-18T00:00:00",
          "2024-03-19T00:00:00",
          "2024-03-20T00:00:00",
          "2024-03-21T00:00:00",
          "2024-03-22T00:00:00",
          "2024-03-25T00:00:00",
          "2024-03-26T00:00:00",
          "2024-03-27T00:00:00",
          "2024-03-28T00:00:00",
          "2024-04-02T00:00:00",
          "2024-04-03T00:00:00",
          "2024-04-04T00:00:00",
          "2024-04-05T00:00:00",
          "2024-04-08T00:00:00",
          "2024-04-09T00:00:00",
          "2024-04-10T00:00:00",
          "2024-04-11T00:00:00",
          "2024-04-12T00:00:00",
          "2024-04-15T00:00:00",
          "2024-04-16T00:00:00",
          "2024-04-17T00:00:00",
          "2024-04-18T00:00:00",
          "2024-04-19T00:00:00",
          "2024-04-22T00:00:00",
          "2024-04-23T00:00:00",
          "2024-04-24T00:00:00",
          "2024-04-25T00:00:00",
          "2024-04-26T00:00:00",
          "2024-04-29T00:00:00"
         ],
         "y": [
          22.656150817871094,
          22.71068000793457,
          23.05147361755371,
          23.126453399658203,
          23.365009307861328,
          23.569486618041992,
          23.371824264526367,
          23.59675025939941,
          23.255958557128903,
          22.942419052124023,
          23.26958656311035,
          23.480884552001957,
          24.073862075805664,
          24.0806827545166,
          24.54692268371582,
          24.60906982421875,
          24.788593292236328,
          24.995744705200195,
          25.0440731048584,
          24.857646942138672,
          25.00954818725586,
          24.926692962646484,
          25.064790725708008,
          24.760974884033203,
          25.00264549255371,
          24.71954345703125,
          24.2983455657959,
          24.2845401763916,
          24.733360290527344,
          24.8852653503418,
          25.216697692871094,
          25.444564819335938,
          25.693140029907227,
          25.92790412902832,
          25.89338111877441,
          25.713851928710938,
          25.900287628173828,
          26.342199325561523,
          26.57696533203125,
          26.597679138183597,
          26.687442779541016,
          26.91530418395996,
          27.44007682800293,
          27.61960792541504,
          27.30887985229492,
          27.274364471435547,
          27.16388320922852,
          26.50101089477539,
          26.70815658569336,
          26.597679138183597,
          26.99125862121582,
          26.908403396606445,
          27.17078399658203,
          27.13625907897949,
          27.232933044433597,
          27.10863876342773,
          27.16388320922852,
          26.673633575439453,
          26.625293731689453,
          26.666725158691406,
          27.274364471435547,
          26.72196578979492,
          27.039594650268555,
          27.067214965820312,
          27.28126335144043,
          27.41245651245117,
          27.571273803710938,
          27.716272354125977,
          27.716272354125977,
          27.274364471435547,
          27.24673843383789,
          27.978660583496094,
          28.0615234375,
          28.15128326416016,
          27.799129486083984,
          27.8543701171875,
          28.15128326416016,
          27.799129486083984,
          27.888893127441406,
          27.957942962646484,
          27.957942962646484,
          28.19270896911621,
          28.26176071166992,
          27.91651153564453,
          27.70246696472168,
          26.72887420654297,
          26.507911682128903,
          26.079809188842773,
          25.589563369750977,
          26.003856658935547,
          25.60337448120117,
          25.62408828735352,
          25.644805908203125,
          25.796709060668945,
          26.017667770385746,
          26.05909919738769,
          26.397436141967773,
          26.41124725341797,
          25.672420501708984,
          25.74147224426269,
          26.072908401489254,
          26.2662410736084,
          25.61027717590332,
          25.7898063659668,
          25.479087829589844,
          25.389318466186523,
          25.72075653076172,
          25.82433319091797,
          25.6793270111084,
          25.75528335571289,
          26.33529663085937,
          26.473392486572266,
          26.031478881835938,
          26.141950607299805,
          25.73457145690918,
          25.907190322875977,
          26.35601043701172,
          26.362913131713867,
          26.61148834228516,
          26.2662410736084,
          26.08443832397461,
          25.93362236022949,
          24.9497127532959,
          24.9497127532959,
          25.21544075012207,
          25.617624282836918,
          25.739715576171875,
          26.39326286315918,
          26.27117156982422,
          25.96234893798828,
          26.43634986877441,
          26.62307929992676,
          26.579988479614254,
          27.42744255065918,
          27.621356964111328,
          27.980453491210938,
          28.188724517822266,
          27.39872169494629,
          26.256807327270508,
          26.42198944091797,
          26.43634986877441,
          26.74517250061035,
          26.953447341918945,
          27.01089859008789,
          26.967809677124023,
          26.99653434753418,
          25.919261932373047,
          26.28553581237793,
          26.5081729888916,
          25.56017303466797,
          24.569074630737305,
          24.31052589416504,
          24.425437927246094,
          25.17952919006348,
          24.841983795166016,
          24.31770896911621,
          24.461349487304688,
          23.807802200317383,
          23.54924964904785,
          23.7000732421875,
          24.26743698120117,
          23.743162155151367,
          24.15252685546875,
          23.9586181640625,
          23.771886825561523,
          24.016075134277344,
          24.20279884338379,
          24.130983352661133,
          24.705530166625977,
          24.683984756469727,
          24.82043838500977,
          24.84916305541992,
          24.971254348754883,
          25.035892486572266,
          25.064620971679688,
          25.35907554626465,
          26.098804473876957,
          26.429170608520508,
          26.20653533935547,
          25.912078857421875,
          25.761260986328125,
          25.926441192626957,
          25.83307647705078,
          25.876171112060547,
          25.926441192626957,
          25.373441696166992,
          25.21544075012207,
          24.96407699584961,
          25.438077926635746,
          25.667892456054688,
          26.328628540039062,
          25.991079330444336,
          24.899438858032227,
          25.00716781616211,
          25.251352310180664,
          25.36625289916992,
          24.98562431335449,
          24.978439331054688,
          25.2082576751709,
          25.991079330444336,
          25.95516967773437,
          26.062894821166992,
          25.782804489135746,
          25.840259552001957,
          25.667892456054688,
          25.67508125305176,
          25.739715576171875,
          25.89771842956543,
          25.969528198242188,
          26.149078369140625,
          26.328628540039062,
          26.479442596435547,
          26.29271507263184,
          26.13471984863281,
          26.46508407592773,
          26.71644401550293,
          26.38607788085937,
          26.38607788085937,
          25.876171112060547,
          25.588897705078125,
          25.68943977355957,
          25.57452964782715,
          24.597797393798828,
          24.61216354370117,
          24.885072708129883,
          24.877893447875977,
          25.050254821777344,
          25.064620971679688,
          24.676803588867188,
          24.913801193237305,
          24.791709899902344,
          25.086166381835938,
          25.10770797729492,
          25.380624771118164,
          25.373441696166992,
          24.84916305541992,
          24.080707550048828,
          24.54034805297852,
          24.525983810424805,
          24.96407699584961,
          25.035892486572266,
          25.2082576751709,
          25.13644027709961,
          25.31598472595215,
          25.380624771118164,
          25.646352767944336,
          25.57452964782715,
          25.04307746887207,
          24.98562431335449,
          24.841983795166016,
          24.9928035736084,
          25.409347534179688,
          25.409347534179688,
          25.27289390563965,
          25.27289390563965,
          25.603260040283203,
          25.27289390563965,
          24.96407699584961,
          24.80607414245605,
          24.877893447875977,
          24.9497127532959,
          24.6480770111084,
          24.504440307617188,
          24.569074630737305,
          24.6480770111084,
          23.91552734375,
          24.633708953857425,
          24.84916305541992,
          24.798891067504883,
          24.525983810424805,
          24.20279884338379,
          22.910066604614254,
          22.93161392211914,
          22.60124969482422,
          22.766433715820312,
          22.673065185546875,
          22.42170143127441,
          21.567066192626957,
          21.229515075683597,
          21.38751983642578,
          21.86870002746582,
          21.65324592590332,
          21.918975830078125,
          21.81842613220215,
          22.63715934753418,
          22.80952262878418,
          22.823888778686523,
          22.45042991638184,
          22.98188591003418,
          22.664411544799805,
          21.673620223999023,
          22.416711807250977,
          21.884889602661133,
          21.11993789672852,
          20.12186050415039,
          20.12186050415039,
          19.917871475219727,
          19.56089782714844,
          19.517183303833008,
          19.480758666992188,
          19.45890045166016,
          18.868799209594727,
          17.979995727539062,
          16.180540084838867,
          15.430157661437988,
          14.861912727355955,
          12.057085990905762,
          12.08987045288086,
          10.355982780456545,
          9.926152229309082,
          8.46910285949707,
          8.337966918945312,
          9.74402141571045,
          9.948007583618164,
          10.563613891601562,
          11.772961616516112,
          12.465063095092772,
          11.696468353271484,
          11.867671012878418,
          12.978673934936523,
          12.373997688293455,
          12.52698802947998,
          12.31207275390625,
          13.237298965454102,
          14.4575777053833,
          14.348299980163574,
          14.570500373840332,
          14.985756874084473,
          14.606926918029783,
          14.373797416687012,
          15.189745903015137,
          15.073182106018066,
          14.570500373840332,
          14.883766174316406,
          15.116893768310549,
          15.226170539855955,
          15.546720504760742,
          16.267963409423828,
          17.142192840576172,
          16.588516235351562,
          16.267963409423828,
          16.76336097717285,
          16.996484756469727,
          17.062055587768555,
          17.295183181762695,
          17.229616165161133,
          17.375322341918945,
          17.018341064453125,
          16.24610710144043,
          16.02754783630371,
          16.807071685791016,
          15.226170539855955,
          14.803627967834473,
          15.116893768310549,
          15.000328063964844,
          15.991125106811523,
          17.542882919311523,
          16.981916427612305,
          17.280609130859375,
          16.719648361206055,
          17.375322341918945,
          17.776010513305664,
          18.98535919189453,
          18.489965438842773,
          18.978076934814453,
          19.40062141418457,
          18.8032283782959,
          17.994565963745117,
          16.654083251953125,
          16.486522674560547,
          16.76336097717285,
          17.928998947143555,
          17.521026611328125,
          17.375322341918945,
          17.30246925354004,
          17.244184494018555,
          17.744348526000977,
          16.908226013183594,
          17.38047981262207,
          17.016613006591797,
          17.488861083984375,
          17.372737884521484,
          17.442413330078125,
          18.31722640991211,
          18.153470993041992,
          18.62914085388184,
          18.247047424316406,
          18.03650283813477,
          17.763578414916992,
          18.55116271972656,
          18.82408905029297,
          18.38741111755371,
          18.87867546081543,
          18.449790954589844,
          18.371809005737305,
          18.254844665527344,
          18.176862716674805,
          18.231449127197266,
          18.137874603271484,
          17.37368392944336,
          16.76544952392578,
          16.679672241210938,
          16.5393123626709,
          15.65814971923828,
          15.244860649108888,
          15.65814971923828,
          16.235193252563477,
          16.632884979248047,
          16.344362258911133,
          15.985661506652832,
          16.484724044799805,
          17.37368392944336,
          16.983789443969727,
          16.781044006347656,
          16.58609962463379,
          16.50031852722168,
          16.49252700805664,
          16.9292049407959,
          16.64068031311035,
          16.843427658081055,
          17.202131271362305,
          16.7342586517334,
          16.625085830688477,
          16.57050323486328,
          16.547107696533203,
          16.001256942749023,
          16.001256942749023,
          16.266386032104492,
          16.422344207763672,
          16.126022338867188,
          16.57830047607422,
          16.094831466674805,
          16.328767776489258,
          16.289779663085938,
          16.56270408630371,
          16.46133041381836,
          16.41454315185547,
          16.65627670288086,
          16.50031852722168,
          15.81410789489746,
          14.196046829223633,
          14.433883666992188,
          15.127893447875977,
          15.096704483032228,
          14.808181762695312,
          15.346235275268556,
          14.812079429626465,
          15.100598335266112,
          14.511859893798828,
          18.26264190673828,
          18.84748268127441,
          19.47911071777344,
          19.198389053344727,
          19.603878021240234,
          19.198389053344727,
          18.894269943237305,
          18.30942916870117,
          18.62914085388184,
          18.20805549621582,
          18.176862716674805,
          18.083290100097656,
          17.958526611328125,
          17.615415573120117,
          17.670001983642578,
          17.85715103149414,
          16.960397720336914,
          16.37555503845215,
          15.65814971923828,
          15.95447063446045,
          15.90768337249756,
          17.178735733032227,
          17.41267204284668,
          16.97599220275879,
          17.615415573120117,
          17.490652084350586,
          19.284164428710938,
          20.10294532775879,
          19.533695220947266,
          19.346546173095703,
          19.697452545166016,
          20.23550796508789,
          20.23550796508789,
          20.352474212646484,
          19.90799331665039,
          19.853412628173828,
          20.547422409057617,
          21.63912582397461,
          21.740497589111328,
          21.12446594238281,
          20.91391944885254,
          20.656593322753903,
          20.57081794738769,
          20.929519653320312,
          20.765764236450195,
          21.459775924682617,
          21.14786148071289,
          20.88273048400879,
          21.30381774902344,
          20.68778419494629,
          20.80475234985352,
          20.67998695373535,
          21.30381774902344,
          21.023090362548828,
          20.8359432220459,
          20.5162296295166,
          20.414857864379883,
          20.734569549560547,
          21.280420303344727,
          21.23363494873047,
          21.31161499023437,
          21.22583770751953,
          21.381797790527344,
          21.17125129699707,
          21.06208229064941,
          21.405187606811523,
          21.873062133789062,
          21.63132667541504,
          21.6859130859375,
          21.935443878173828,
          22.71523094177246,
          22.34093475341797,
          22.808809280395508,
          22.54368019104004,
          22.64505386352539,
          22.57487297058105,
          22.50469207763672,
          21.545549392700195,
          21.408578872680664,
          20.988338470458984,
          20.81389617919922,
          20.19542694091797,
          20.82182502746582,
          20.39365577697754,
          20.78218078613281,
          21.18656539916992,
          20.956619262695312,
          20.93283462524414,
          20.98040771484375,
          20.98040771484375,
          20.48087310791016,
          19.806900024414062,
          20.28264808654785,
          20.298507690429688,
          20.734603881835938,
          20.330224990844727,
          20.020984649658203,
          19.79897117614746,
          19.99720001220703,
          20.15578269958496,
          20.69495964050293,
          20.488805770874023,
          20.377796173095703,
          20.09234619140625,
          20.98040771484375,
          20.97248077392578,
          20.472946166992188,
          20.916976928710938,
          20.68703269958496,
          20.98040771484375,
          21.448225021362305,
          21.6068058013916,
          21.265853881835938,
          21.440296173095703,
          21.876394271850582,
          21.979476928710938,
          21.678171157836918,
          22.003263473510746,
          21.487873077392575,
          21.01212310791016,
          20.615671157836918,
          20.84561538696289,
          20.869403839111328,
          21.14691925048828,
          21.376861572265625,
          21.947757720947266,
          22.40764808654785,
          22.37593078613281,
          22.1380558013916,
          22.21735191345215,
          22.066696166992188,
          21.892253875732425,
          21.92397117614746,
          21.85260772705078,
          22.08255195617676,
          21.9556884765625,
          22.24906539916992,
          22.518653869628903,
          21.5830192565918,
          21.472013473510746,
          21.57509422302246,
          21.440296173095703,
          21.694026947021484,
          21.75746154785156,
          21.598878860473636,
          21.464082717895508,
          21.51165580749512,
          21.487873077392575,
          21.5909481048584,
          22.18563270568848,
          22.45522117614746,
          22.49486541748047,
          22.4790096282959,
          21.828821182250977,
          21.931903839111328,
          21.376861572265625,
          21.115203857421875,
          21.09141540527344,
          20.93283462524414,
          20.346080780029297,
          20.56809425354004,
          20.512592315673828,
          20.56016540527344,
          20.243000030517575,
          20.10027885437012,
          20.005126953125,
          20.06063270568848,
          20.219213485717773,
          20.385725021362305,
          20.385725021362305,
          20.35401153564453,
          19.933767318725582,
          20.0130615234375,
          20.068559646606445,
          20.044776916503903,
          19.8306884765625,
          20.15578269958496,
          20.274717330932617,
          20.25092887878418,
          19.99720001220703,
          19.58488655090332,
          19.34701156616211,
          19.299436569213867,
          19.202978134155277,
          18.918365478515625,
          18.96859169006348,
          19.077411651611328,
          18.683977127075195,
          18.8848819732666,
          18.909992218017575,
          19.26994514465332,
          19.43736267089844,
          19.46247673034668,
          19.12763977050781,
          18.683977127075195,
          18.13986587524414,
          18.51655960083008,
          18.7844295501709,
          18.633750915527344,
          18.51655960083008,
          18.064525604248047,
          18.005929946899414,
          17.419963836669922,
          17.495302200317383,
          18.13986587524414,
          18.29891395568848,
          18.432849884033203,
          18.541671752929688,
          18.47470474243164,
          18.93511009216309,
          18.851396560668945,
          18.55004501342773,
          18.909992218017575,
          18.8848819732666,
          18.83465576171875,
          19.13600730895996,
          19.110897064208984,
          19.0020751953125,
          19.052303314208984,
          19.362024307250977,
          19.454105377197266,
          19.655010223388672,
          19.28668594360352,
          19.2197208404541,
          19.43736267089844,
          19.043928146362305,
          18.976961135864254,
          19.09415435791016,
          19.21134757995605,
          19.25320243835449,
          19.25320243835449,
          19.27831649780273,
          19.12763977050781,
          19.13600730895996,
          19.680124282836918,
          19.638267517089844,
          19.47921562194824,
          19.48759078979492,
          19.588041305541992,
          19.546188354492188,
          19.17786407470703,
          18.83465576171875,
          19.588041305541992,
          19.546188354492188,
          19.14438247680664,
          19.362024307250977,
          19.08578491210937,
          18.851396560668945,
          18.99370574951172,
          19.521074295043945,
          19.638267517089844,
          19.62152671813965,
          20.056814193725582,
          19.66337776184082,
          19.77220344543457,
          19.629892349243164,
          19.454105377197266,
          19.378767013549805,
          19.110897064208984,
          18.75931739807129,
          19.02718544006348,
          19.052303314208984,
          18.851396560668945,
          18.792800903320312,
          18.667238235473636,
          18.65886688232422,
          19.02718544006348,
          18.75931739807129,
          18.918365478515625,
          19.25320243835449,
          19.29505920410156,
          19.303428649902344,
          19.08578491210937,
          19.244829177856445,
          19.0020751953125,
          18.943477630615234,
          18.943477630615234,
          19.26994514465332,
          19.01881599426269,
          18.82628631591797,
          18.633750915527344,
          19.5127010345459,
          19.353656768798828,
          19.42899513244629,
          19.554555892944336,
          19.311798095703125,
          19.40387916564941,
          19.638267517089844,
          19.353656768798828,
          19.12763977050781,
          18.792800903320312,
          18.19009017944336,
          18.315656661987305,
          18.64212417602539,
          18.67560768127441,
          18.75094413757324,
          17.595752716064453,
          18.031044006347656,
          17.754802703857422,
          18.123125076293945,
          17.98919105529785,
          17.871994018554688,
          18.273801803588867,
          18.432849884033203,
          18.1733512878418,
          17.922222137451172,
          17.947336196899414,
          17.7213191986084,
          17.830141067504883,
          17.687833786010742,
          18.08964157104492,
          18.206832885742188,
          18.04778480529785,
          18.52493095397949,
          18.809541702270508,
          19.244829177856445,
          19.34527969360352,
          19.40387916564941,
          19.521074295043945,
          19.7303466796875,
          19.78894424438477,
          19.9479923248291,
          19.981475830078125,
          19.95636558532715,
          19.864282608032227,
          20.240976333618164,
          20.69300842285156,
          20.77671813964844,
          20.62604141235352,
          20.4753475189209,
          20.543628692626957,
          20.22783660888672,
          19.49382972717285,
          19.690134048461918,
          19.72426986694336,
          19.18657112121582,
          19.195106506347656,
          19.49382972717285,
          19.39994430541992,
          18.99026679992676,
          19.0244083404541,
          19.24631690979004,
          19.13536262512207,
          19.41701316833496,
          19.126827239990234,
          18.82810401916504,
          19.007339477539062,
          19.502365112304688,
          19.382875442504883,
          19.288991928100582,
          18.742753982543945,
          19.0244083404541,
          19.229248046875,
          19.143896102905277,
          19.050012588500977,
          18.73422241210937,
          18.563520431518555,
          18.793964385986328,
          18.051424026489254,
          18.64033508300781,
          18.62326431274414,
          18.33307647705078,
          19.092687606811523,
          18.776893615722656,
          18.15384292602539,
          17.752700805664062,
          18.529380798339844,
          19.382875442504883,
          19.41701316833496,
          19.920578002929688,
          20.40707015991211,
          20.46681404113769,
          20.82528305053711,
          21.03012084960937,
          20.569232940673828,
          20.60337257385254,
          21.055727005004883,
          20.80821228027344,
          20.978912353515625,
          21.013050079345703,
          21.08133125305176,
          21.27763557434082,
          21.072797775268555,
          20.910633087158203,
          20.987445831298828,
          20.688724517822266,
          20.816747665405277,
          20.02299690246582,
          20.09981155395508,
          20.543628692626957,
          20.902097702026367,
          20.978912353515625,
          21.14961051940918,
          21.26056480407715,
          21.11547088623047,
          21.269100189208984,
          21.3117733001709,
          20.961841583251957,
          20.7911434173584,
          21.03012084960937,
          21.04718971252441,
          21.20935440063477,
          20.987445831298828,
          20.663116455078125,
          21.08133125305176,
          20.84235382080078,
          20.82528305053711,
          20.671653747558597,
          20.176626205444336,
          20.398534774780277,
          21.0045166015625,
          20.816747665405277,
          20.74846839904785,
          20.987445831298828,
          21.41419219970703,
          21.76412773132324,
          21.47393798828125,
          21.704381942749023,
          21.95189666748047,
          22.01164054870605,
          22.071386337280277,
          22.446924209594727,
          22.702970504760746,
          22.77978515625,
          22.532276153564453,
          22.472524642944336,
          22.574949264526367,
          22.64322662353516,
          22.91634750366211,
          22.959020614624023,
          22.88220596313477,
          21.883617401123047,
          21.61050033569336,
          20.78260612487793,
          20.50095558166504,
          20.569232940673828,
          20.46681404113769,
          20.902097702026367,
          20.902097702026367,
          20.6801872253418,
          20.24490547180176,
          20.065671920776367,
          20.31318473815918,
          20.031532287597656,
          20.33025550842285,
          20.05713653564453,
          19.741342544555664,
          19.70598030090332,
          19.87027359008789,
          19.07619285583496,
          18.975793838500977,
          19.450416564941406,
          19.79725456237793,
          19.614707946777344,
          19.78812599182129,
          19.42303466796875,
          19.231359481811523,
          19.72423553466797,
          19.87027359008789,
          20.09845733642578,
          19.87940216064453,
          19.87940216064453,
          20.281003952026367,
          20.554826736450195,
          20.545698165893555,
          20.792137145996094,
          20.61871719360352,
          21.36716079711914,
          20.8012638092041,
          21.121965408325195,
          21.25003242492676,
          21.24088287353516,
          21.167701721191406,
          21.46957778930664,
          21.872074127197266,
          21.93610572814941,
          21.881221771240234,
          21.93610572814941,
          22.073320388793945,
          22.41178703308105,
          22.027585983276367,
          22.027585983276367,
          21.84463119506836,
          21.08537483215332,
          21.112817764282227,
          20.92986297607422,
          20.756059646606445,
          20.509071350097656,
          20.435890197753903,
          20.381004333496094,
          20.316970825195312,
          20.48162651062012,
          20.69202423095703,
          20.509071350097656,
          20.48162651062012,
          20.69202423095703,
          20.627992630004883,
          21.048784255981445,
          21.50616836547852,
          21.07622528076172,
          21.030487060546875,
          21.304916381835938,
          20.966455459594727,
          20.884126663208008,
          20.435890197753903,
          20.69202423095703,
          20.600547790527344,
          20.24378776550293,
          20.17060661315918,
          20.289527893066406,
          20.65543365478516,
          20.682876586914062,
          21.15855598449707,
          21.08537483215332,
          21.670825958251957,
          21.414690017700195,
          21.067079544067383,
          20.8475341796875,
          20.45418357849121,
          20.5639591217041,
          20.39929962158203,
          20.554807662963867,
          20.737762451171875,
          21.176851272583008,
          21.68912124633789,
          21.808040618896484,
          21.588497161865234,
          21.698266983032227,
          22.20138931274414,
          22.6038875579834,
          23.070417404174805,
          23.363142013549805,
          23.44547271728516,
          23.73819923400879,
          23.73819923400879,
          23.70160484313965,
          23.390586853027344,
          23.55524444580078,
          23.67416381835937,
          23.73819923400879,
          23.81138038635254,
          24.03092193603516,
          23.976036071777344,
          23.9394474029541,
          24.24131965637207,
          23.976036071777344,
          23.85711669921875,
          24.19558334350586,
          24.33279800415039,
          24.60722541809082,
          24.671260833740234,
          24.890804290771484,
          24.31450080871582,
          24.24131965637207,
          24.54319190979004,
          24.75358772277832,
          24.845067977905277,
          24.973133087158203,
          24.85421371459961,
          24.909099578857425,
          24.890804290771484,
          24.652963638305664,
          24.936542510986328,
          24.744441986083984,
          24.735292434692383,
          24.62552070617676,
          24.32364845275879,
          23.893709182739254,
          23.902856826782227,
          23.99433135986328,
          24.433422088623047,
          24.479158401489254,
          24.64381599426269,
          24.662111282348636,
          24.58893203735352,
          24.68955612182617,
          24.488306045532227,
          24.85421371459961,
          24.89995002746582,
          25.028018951416016,
          25.119495391845703,
          25.52199363708496,
          25.9793758392334,
          25.814720153808597,
          25.60432243347168,
          26.06170463562012,
          25.897045135498047,
          26.04341125488281,
          26.006820678710938,
          26.06170463562012,
          25.659210205078125,
          25.6737117767334,
          25.09656524658203,
          25.115184783935547,
          25.09656524658203,
          25.180347442626957,
          25.208271026611328,
          25.16172790527344,
          25.264123916625977,
          25.468917846679688,
          25.841272354125977,
          26.036754608154297,
          25.375829696655277,
          25.347904205322266,
          25.431684494018555,
          25.468917846679688,
          25.152420043945312,
          25.236196517944336,
          25.48753547668457,
          25.52477264404297,
          25.45030212402344,
          25.580623626708984,
          25.226890563964844,
          25.14310836791992,
          24.882463455200195,
          25.841272354125977,
          25.99951934814453,
          26.157772064208984,
          26.67906379699707,
          26.88385772705078,
          26.59528541564941,
          26.74422836303711,
          26.71629905700684,
          26.73491859436035,
          26.921092987060547,
          26.576669692993164,
          26.30671119689941,
          26.064682006835938,
          26.72560691833496,
          26.092609405517575,
          26.502197265625,
          26.213623046875,
          26.59528541564941,
          27.107271194458008,
          26.98625373840332,
          26.98625373840332,
          26.1391544342041,
          26.120534896850582,
          26.148462295532227,
          26.73491859436035,
          27.135196685791016,
          27.321372985839844,
          27.377227783203125,
          27.470314025878903,
          27.54478454589844,
          27.377227783203125,
          27.339990615844727,
          27.851974487304688,
          28.075387954711918,
          28.57806205749512,
          28.71769523620605,
          28.93179702758789,
          29.220373153686523,
          29.20175170898437,
          29.546180725097656,
          29.620651245117188,
          29.20175170898437,
          29.155208587646484,
          28.95972442626953,
          29.043502807617188,
          28.913179397583008,
          29.332077026367188,
          29.09004783630371,
          29.564796447753903,
          29.76028251647949,
          29.77890014648437,
          29.8254451751709,
          29.490327835083008,
          29.071430206298828,
          28.6339168548584,
          28.801475524902344,
          28.848018646240234,
          29.06212043762207,
          29.11797523498535,
          29.313459396362305,
          28.94110679626465,
          28.689769744873047,
          28.792165756225582,
          28.95972442626953,
          29.024887084960938,
          29.10866355895996,
          28.969032287597656,
          29.37862205505371,
          29.155208587646484,
          29.229679107666016,
          29.09004783630371,
          29.00626945495605,
          29.14590072631836,
          29.304149627685547,
          29.66719436645508,
          29.211061477661133,
          29.071430206298828,
          29.155208587646484,
          29.443782806396484,
          28.97834014892578,
          28.95972442626953,
          29.09935569763184,
          28.94110679626465,
          28.82939910888672,
          28.88525390625,
          29.12728309631348,
          29.26691627502441,
          29.518253326416016,
          29.94645881652832,
          29.574106216430664,
          29.426807403564453,
          29.123943328857425,
          28.55729103088379,
          28.742918014526367,
          28.928546905517575,
          29.35841941833496,
          29.46588897705078,
          29.29003143310547,
          29.07509422302246,
          28.95785522460937,
          29.055553436279297,
          29.60266494750977,
          30.091157913208008,
          29.954381942749023,
          29.74921226501465,
          29.876220703125,
          30.823898315429688,
          31.107223510742188,
          31.20492172241211,
          31.058374404907227,
          30.911827087402344,
          30.7066593170166,
          30.433103561401367,
          30.63827133178711,
          30.7164306640625,
          30.66758155822754,
          30.911827087402344,
          31.03883552551269,
          31.06814384460449,
          30.95090675354004,
          30.784818649291992,
          30.804357528686523,
          30.56011199951172,
          30.57965087890625,
          30.58942031860352,
          31.009525299072266,
          31.01929473876953,
          31.185382843017575,
          30.941137313842773,
          31.283082962036133,
          31.43939781188965,
          31.59571647644043,
          31.64456558227539,
          31.58594512939453,
          31.62502670288086,
          31.51755714416504,
          31.498018264770508,
          31.64456558227539,
          31.732494354248047,
          32.181907653808594,
          32.10375213623047,
          31.908349990844727,
          32.181907653808594,
          32.64109420776367,
          32.84625625610352,
          33.46175765991211,
          33.56922912597656,
          33.37383270263672,
          33.2761344909668,
          33.05142593383789,
          33.10027313232422,
          33.022117614746094,
          33.15889358520508,
          33.2859001159668,
          32.94395446777344,
          32.680171966552734,
          32.59224319458008,
          31.29285049438477,
          32.16236877441406,
          32.133060455322266,
          32.67040252685547,
          32.75832748413086,
          32.84625625610352,
          32.4359245300293,
          32.36753463745117,
          32.34799575805664,
          31.996280670166016,
          31.76180458068848,
          31.507787704467773,
          31.664106369018555,
          31.869272232055664,
          31.76180458068848,
          31.996280670166016,
          32.65085983276367,
          32.963497161865234,
          33.38359832763672,
          33.20774459838867,
          33.40314102172852,
          33.110042572021484,
          32.72901916503906,
          32.4163818359375,
          32.49454498291016,
          32.55316162109375,
          32.49454498291016,
          33.0025749206543,
          33.63761520385742,
          34.380126953125,
          34.74161148071289,
          35.06401443481445,
          35.13240432739258,
          35.34733963012695,
          35.2301025390625,
          35.17148208618164,
          35.39619064331055,
          35.57204818725586,
          35.5329704284668,
          35.91399383544922,
          35.80652618408203,
          36.19731903076172,
          36.08008193969727,
          36.31455993652344,
          36.21686172485352,
          36.20708847045898,
          36.588111877441406,
          36.59788513183594,
          37.105918884277344,
          38.17082977294922,
          38.66909408569336,
          38.8644905090332,
          38.39553451538086,
          38.44438552856445,
          38.57139587402344,
          38.85472106933594,
          38.95241928100586,
          39.23574447631836,
          39.186893463134766,
          39.23574447631836,
          39.42137145996094,
          38.50300598144531,
          39.020809173583984,
          38.78633117675781,
          39.05988693237305,
          38.6300163269043,
          38.52254486083984,
          38.66909408569336,
          39.26505661010742,
          39.33344268798828,
          38.85472106933594,
          38.76679229736328,
          38.757022857666016,
          39.43999862670898,
          39.75,
          39.33000183105469,
          39.65999984741211,
          39.5,
          39.619998931884766,
          35.65999984741211,
          36.2400016784668,
          36.59000015258789,
          36.61000061035156,
          36.86000061035156,
          36.459999084472656,
          36.5,
          36.04999923706055,
          35.939998626708984,
          35.72999954223633,
          36.209999084472656,
          36.38999938964844,
          36.5099983215332,
          36.93000030517578,
          36.38999938964844,
          36.45000076293945,
          36.630001068115234,
          36.72999954223633,
          37.06999969482422,
          37.15999984741211,
          36.93999862670898,
          37.52999877929688,
          37.77000045776367,
          37.93999862670898,
          37.130001068115234,
          37.7400016784668,
          38,
          38.5,
          39.150001525878906,
          39.06999969482422,
          38.77000045776367,
          39.040000915527344,
          39.93000030517578,
          40.119998931884766,
          39.86000061035156,
          40.13999938964844,
          39.70000076293945,
          40.34999847412109,
          40.59000015258789,
          40.459999084472656,
          40.06999969482422,
          40,
          40.040000915527344,
          38.77999877929688,
          38.47999954223633,
          38.720001220703125,
          38.2400016784668,
          37.900001525878906,
          37.880001068115234,
          37.77999877929688,
          37.540000915527344,
          37.59999847412109,
          37.91999816894531,
          37.63999938964844,
          38.13999938964844,
          38.65999984741211,
          38.27999877929688,
          38.220001220703125,
          38.459999084472656,
          38.47999954223633,
          38.36000061035156,
          37.70000076293945,
          37.81999969482422,
          37.97999954223633
         ]
        }
       ],
       "layout": {
        "height": 600,
        "template": {
         "data": {
          "bar": [
           {
            "error_x": {
             "color": "#2a3f5f"
            },
            "error_y": {
             "color": "#2a3f5f"
            },
            "marker": {
             "line": {
              "color": "#E5ECF6",
              "width": 0.5
             },
             "pattern": {
              "fillmode": "overlay",
              "size": 10,
              "solidity": 0.2
             }
            },
            "type": "bar"
           }
          ],
          "barpolar": [
           {
            "marker": {
             "line": {
              "color": "#E5ECF6",
              "width": 0.5
             },
             "pattern": {
              "fillmode": "overlay",
              "size": 10,
              "solidity": 0.2
             }
            },
            "type": "barpolar"
           }
          ],
          "carpet": [
           {
            "aaxis": {
             "endlinecolor": "#2a3f5f",
             "gridcolor": "white",
             "linecolor": "white",
             "minorgridcolor": "white",
             "startlinecolor": "#2a3f5f"
            },
            "baxis": {
             "endlinecolor": "#2a3f5f",
             "gridcolor": "white",
             "linecolor": "white",
             "minorgridcolor": "white",
             "startlinecolor": "#2a3f5f"
            },
            "type": "carpet"
           }
          ],
          "choropleth": [
           {
            "colorbar": {
             "outlinewidth": 0,
             "ticks": ""
            },
            "type": "choropleth"
           }
          ],
          "contour": [
           {
            "colorbar": {
             "outlinewidth": 0,
             "ticks": ""
            },
            "colorscale": [
             [
              0,
              "#0d0887"
             ],
             [
              0.1111111111111111,
              "#46039f"
             ],
             [
              0.2222222222222222,
              "#7201a8"
             ],
             [
              0.3333333333333333,
              "#9c179e"
             ],
             [
              0.4444444444444444,
              "#bd3786"
             ],
             [
              0.5555555555555556,
              "#d8576b"
             ],
             [
              0.6666666666666666,
              "#ed7953"
             ],
             [
              0.7777777777777778,
              "#fb9f3a"
             ],
             [
              0.8888888888888888,
              "#fdca26"
             ],
             [
              1,
              "#f0f921"
             ]
            ],
            "type": "contour"
           }
          ],
          "contourcarpet": [
           {
            "colorbar": {
             "outlinewidth": 0,
             "ticks": ""
            },
            "type": "contourcarpet"
           }
          ],
          "heatmap": [
           {
            "colorbar": {
             "outlinewidth": 0,
             "ticks": ""
            },
            "colorscale": [
             [
              0,
              "#0d0887"
             ],
             [
              0.1111111111111111,
              "#46039f"
             ],
             [
              0.2222222222222222,
              "#7201a8"
             ],
             [
              0.3333333333333333,
              "#9c179e"
             ],
             [
              0.4444444444444444,
              "#bd3786"
             ],
             [
              0.5555555555555556,
              "#d8576b"
             ],
             [
              0.6666666666666666,
              "#ed7953"
             ],
             [
              0.7777777777777778,
              "#fb9f3a"
             ],
             [
              0.8888888888888888,
              "#fdca26"
             ],
             [
              1,
              "#f0f921"
             ]
            ],
            "type": "heatmap"
           }
          ],
          "heatmapgl": [
           {
            "colorbar": {
             "outlinewidth": 0,
             "ticks": ""
            },
            "colorscale": [
             [
              0,
              "#0d0887"
             ],
             [
              0.1111111111111111,
              "#46039f"
             ],
             [
              0.2222222222222222,
              "#7201a8"
             ],
             [
              0.3333333333333333,
              "#9c179e"
             ],
             [
              0.4444444444444444,
              "#bd3786"
             ],
             [
              0.5555555555555556,
              "#d8576b"
             ],
             [
              0.6666666666666666,
              "#ed7953"
             ],
             [
              0.7777777777777778,
              "#fb9f3a"
             ],
             [
              0.8888888888888888,
              "#fdca26"
             ],
             [
              1,
              "#f0f921"
             ]
            ],
            "type": "heatmapgl"
           }
          ],
          "histogram": [
           {
            "marker": {
             "pattern": {
              "fillmode": "overlay",
              "size": 10,
              "solidity": 0.2
             }
            },
            "type": "histogram"
           }
          ],
          "histogram2d": [
           {
            "colorbar": {
             "outlinewidth": 0,
             "ticks": ""
            },
            "colorscale": [
             [
              0,
              "#0d0887"
             ],
             [
              0.1111111111111111,
              "#46039f"
             ],
             [
              0.2222222222222222,
              "#7201a8"
             ],
             [
              0.3333333333333333,
              "#9c179e"
             ],
             [
              0.4444444444444444,
              "#bd3786"
             ],
             [
              0.5555555555555556,
              "#d8576b"
             ],
             [
              0.6666666666666666,
              "#ed7953"
             ],
             [
              0.7777777777777778,
              "#fb9f3a"
             ],
             [
              0.8888888888888888,
              "#fdca26"
             ],
             [
              1,
              "#f0f921"
             ]
            ],
            "type": "histogram2d"
           }
          ],
          "histogram2dcontour": [
           {
            "colorbar": {
             "outlinewidth": 0,
             "ticks": ""
            },
            "colorscale": [
             [
              0,
              "#0d0887"
             ],
             [
              0.1111111111111111,
              "#46039f"
             ],
             [
              0.2222222222222222,
              "#7201a8"
             ],
             [
              0.3333333333333333,
              "#9c179e"
             ],
             [
              0.4444444444444444,
              "#bd3786"
             ],
             [
              0.5555555555555556,
              "#d8576b"
             ],
             [
              0.6666666666666666,
              "#ed7953"
             ],
             [
              0.7777777777777778,
              "#fb9f3a"
             ],
             [
              0.8888888888888888,
              "#fdca26"
             ],
             [
              1,
              "#f0f921"
             ]
            ],
            "type": "histogram2dcontour"
           }
          ],
          "mesh3d": [
           {
            "colorbar": {
             "outlinewidth": 0,
             "ticks": ""
            },
            "type": "mesh3d"
           }
          ],
          "parcoords": [
           {
            "line": {
             "colorbar": {
              "outlinewidth": 0,
              "ticks": ""
             }
            },
            "type": "parcoords"
           }
          ],
          "pie": [
           {
            "automargin": true,
            "type": "pie"
           }
          ],
          "scatter": [
           {
            "fillpattern": {
             "fillmode": "overlay",
             "size": 10,
             "solidity": 0.2
            },
            "type": "scatter"
           }
          ],
          "scatter3d": [
           {
            "line": {
             "colorbar": {
              "outlinewidth": 0,
              "ticks": ""
             }
            },
            "marker": {
             "colorbar": {
              "outlinewidth": 0,
              "ticks": ""
             }
            },
            "type": "scatter3d"
           }
          ],
          "scattercarpet": [
           {
            "marker": {
             "colorbar": {
              "outlinewidth": 0,
              "ticks": ""
             }
            },
            "type": "scattercarpet"
           }
          ],
          "scattergeo": [
           {
            "marker": {
             "colorbar": {
              "outlinewidth": 0,
              "ticks": ""
             }
            },
            "type": "scattergeo"
           }
          ],
          "scattergl": [
           {
            "marker": {
             "colorbar": {
              "outlinewidth": 0,
              "ticks": ""
             }
            },
            "type": "scattergl"
           }
          ],
          "scattermapbox": [
           {
            "marker": {
             "colorbar": {
              "outlinewidth": 0,
              "ticks": ""
             }
            },
            "type": "scattermapbox"
           }
          ],
          "scatterpolar": [
           {
            "marker": {
             "colorbar": {
              "outlinewidth": 0,
              "ticks": ""
             }
            },
            "type": "scatterpolar"
           }
          ],
          "scatterpolargl": [
           {
            "marker": {
             "colorbar": {
              "outlinewidth": 0,
              "ticks": ""
             }
            },
            "type": "scatterpolargl"
           }
          ],
          "scatterternary": [
           {
            "marker": {
             "colorbar": {
              "outlinewidth": 0,
              "ticks": ""
             }
            },
            "type": "scatterternary"
           }
          ],
          "surface": [
           {
            "colorbar": {
             "outlinewidth": 0,
             "ticks": ""
            },
            "colorscale": [
             [
              0,
              "#0d0887"
             ],
             [
              0.1111111111111111,
              "#46039f"
             ],
             [
              0.2222222222222222,
              "#7201a8"
             ],
             [
              0.3333333333333333,
              "#9c179e"
             ],
             [
              0.4444444444444444,
              "#bd3786"
             ],
             [
              0.5555555555555556,
              "#d8576b"
             ],
             [
              0.6666666666666666,
              "#ed7953"
             ],
             [
              0.7777777777777778,
              "#fb9f3a"
             ],
             [
              0.8888888888888888,
              "#fdca26"
             ],
             [
              1,
              "#f0f921"
             ]
            ],
            "type": "surface"
           }
          ],
          "table": [
           {
            "cells": {
             "fill": {
              "color": "#EBF0F8"
             },
             "line": {
              "color": "white"
             }
            },
            "header": {
             "fill": {
              "color": "#C8D4E3"
             },
             "line": {
              "color": "white"
             }
            },
            "type": "table"
           }
          ]
         },
         "layout": {
          "annotationdefaults": {
           "arrowcolor": "#2a3f5f",
           "arrowhead": 0,
           "arrowwidth": 1
          },
          "autotypenumbers": "strict",
          "coloraxis": {
           "colorbar": {
            "outlinewidth": 0,
            "ticks": ""
           }
          },
          "colorscale": {
           "diverging": [
            [
             0,
             "#8e0152"
            ],
            [
             0.1,
             "#c51b7d"
            ],
            [
             0.2,
             "#de77ae"
            ],
            [
             0.3,
             "#f1b6da"
            ],
            [
             0.4,
             "#fde0ef"
            ],
            [
             0.5,
             "#f7f7f7"
            ],
            [
             0.6,
             "#e6f5d0"
            ],
            [
             0.7,
             "#b8e186"
            ],
            [
             0.8,
             "#7fbc41"
            ],
            [
             0.9,
             "#4d9221"
            ],
            [
             1,
             "#276419"
            ]
           ],
           "sequential": [
            [
             0,
             "#0d0887"
            ],
            [
             0.1111111111111111,
             "#46039f"
            ],
            [
             0.2222222222222222,
             "#7201a8"
            ],
            [
             0.3333333333333333,
             "#9c179e"
            ],
            [
             0.4444444444444444,
             "#bd3786"
            ],
            [
             0.5555555555555556,
             "#d8576b"
            ],
            [
             0.6666666666666666,
             "#ed7953"
            ],
            [
             0.7777777777777778,
             "#fb9f3a"
            ],
            [
             0.8888888888888888,
             "#fdca26"
            ],
            [
             1,
             "#f0f921"
            ]
           ],
           "sequentialminus": [
            [
             0,
             "#0d0887"
            ],
            [
             0.1111111111111111,
             "#46039f"
            ],
            [
             0.2222222222222222,
             "#7201a8"
            ],
            [
             0.3333333333333333,
             "#9c179e"
            ],
            [
             0.4444444444444444,
             "#bd3786"
            ],
            [
             0.5555555555555556,
             "#d8576b"
            ],
            [
             0.6666666666666666,
             "#ed7953"
            ],
            [
             0.7777777777777778,
             "#fb9f3a"
            ],
            [
             0.8888888888888888,
             "#fdca26"
            ],
            [
             1,
             "#f0f921"
            ]
           ]
          },
          "colorway": [
           "#636efa",
           "#EF553B",
           "#00cc96",
           "#ab63fa",
           "#FFA15A",
           "#19d3f3",
           "#FF6692",
           "#B6E880",
           "#FF97FF",
           "#FECB52"
          ],
          "font": {
           "color": "#2a3f5f"
          },
          "geo": {
           "bgcolor": "white",
           "lakecolor": "white",
           "landcolor": "#E5ECF6",
           "showlakes": true,
           "showland": true,
           "subunitcolor": "white"
          },
          "hoverlabel": {
           "align": "left"
          },
          "hovermode": "closest",
          "mapbox": {
           "style": "light"
          },
          "paper_bgcolor": "white",
          "plot_bgcolor": "#E5ECF6",
          "polar": {
           "angularaxis": {
            "gridcolor": "white",
            "linecolor": "white",
            "ticks": ""
           },
           "bgcolor": "#E5ECF6",
           "radialaxis": {
            "gridcolor": "white",
            "linecolor": "white",
            "ticks": ""
           }
          },
          "scene": {
           "xaxis": {
            "backgroundcolor": "#E5ECF6",
            "gridcolor": "white",
            "gridwidth": 2,
            "linecolor": "white",
            "showbackground": true,
            "ticks": "",
            "zerolinecolor": "white"
           },
           "yaxis": {
            "backgroundcolor": "#E5ECF6",
            "gridcolor": "white",
            "gridwidth": 2,
            "linecolor": "white",
            "showbackground": true,
            "ticks": "",
            "zerolinecolor": "white"
           },
           "zaxis": {
            "backgroundcolor": "#E5ECF6",
            "gridcolor": "white",
            "gridwidth": 2,
            "linecolor": "white",
            "showbackground": true,
            "ticks": "",
            "zerolinecolor": "white"
           }
          },
          "shapedefaults": {
           "line": {
            "color": "#2a3f5f"
           }
          },
          "ternary": {
           "aaxis": {
            "gridcolor": "white",
            "linecolor": "white",
            "ticks": ""
           },
           "baxis": {
            "gridcolor": "white",
            "linecolor": "white",
            "ticks": ""
           },
           "bgcolor": "#E5ECF6",
           "caxis": {
            "gridcolor": "white",
            "linecolor": "white",
            "ticks": ""
           }
          },
          "title": {
           "x": 0.05
          },
          "xaxis": {
           "automargin": true,
           "gridcolor": "white",
           "linecolor": "white",
           "ticks": "",
           "title": {
            "standoff": 15
           },
           "zerolinecolor": "white",
           "zerolinewidth": 2
          },
          "yaxis": {
           "automargin": true,
           "gridcolor": "white",
           "linecolor": "white",
           "ticks": "",
           "title": {
            "standoff": 15
           },
           "zerolinecolor": "white",
           "zerolinewidth": 2
          }
         }
        },
        "title": {
         "font": {
          "size": 15
         },
         "text": "Diferencia entre Open y Close en la cotización de acciones de ACS (€) entre 01/01/2019 - 30/04/2024"
        },
        "width": 1000,
        "xaxis": {
         "title": {
          "text": "Fechas"
         }
        },
        "yaxis": {
         "title": {
          "text": "Precio de la acción (€)"
         }
        }
       }
      }
     },
     "metadata": {},
     "output_type": "display_data"
    }
   ],
   "source": [
    "import plotly.graph_objs as go\n",
    "#1 Date con Open\n",
    "trace1 = go.Scatter(\n",
    "                    x = dataset_empresa['Date'],\n",
    "                    y = dataset_empresa['Open'],\n",
    "                    name = 'Open o Precio de Apertura (€)',\n",
    "                    mode= 'lines',\n",
    "                    marker = dict(color = 'rgba(16, 112, 2, 0.8)'),\n",
    "                    )\n",
    "#2 Date con Close\n",
    "trace2 = go.Scatter(\n",
    "                    x = dataset_empresa['Date'],\n",
    "                    y = dataset_empresa['Close'],\n",
    "                    name = 'Close o Precio de Cierre (€)',\n",
    "                    mode= 'lines+markers',\n",
    "                    marker = dict(color = 'rgba(80, 26, 80, 0.5)'),\n",
    "                    )\n",
    "\n",
    "data = [trace1, trace2]\n",
    "\n",
    "layout = dict(title = dict(text='Diferencia entre Open y Close en la cotización de acciones de ACS (€) entre 01/01/2019 - 30/04/2024',\n",
    "                           font=dict(size=15)),\n",
    "             xaxis= dict(title= 'Fechas'),\n",
    "             yaxis=dict(title= 'Precio de la acción (€)'),\n",
    "             width=1000,\n",
    "             height=600)\n",
    "\n",
    "fig = go.Figure(data=data, layout=layout)\n",
    "iplot(fig)"
   ]
  },
  {
   "cell_type": "markdown",
   "metadata": {},
   "source": [
    "## 3.2- Analisis de estadistica descriptiva acerca de la empresa"
   ]
  },
  {
   "cell_type": "markdown",
   "metadata": {},
   "source": [
    "### 3.2.1- Variaciones a lo largo del periodo 2019 a 2024 entre Open y Close"
   ]
  },
  {
   "cell_type": "markdown",
   "metadata": {},
   "source": [
    "Las medidas estadísticas de la media, mediana, moda y desviación estándar son herramientas fundamentales para comprender la distribución central de los datos en un conjunto de observaciones. Estas métricas ofrecen perspectivas significativas sobre la concentración de los valores y la presencia de asimetrías o sesgos en la distribución subyacente.\n",
    "\n",
    "Se muestra de forma adicicional el **IQR**, o rango intercuartílico, calculado como la diferencia entre Q3 y Q1. Representa el 50% de los datos de la muestra.\n",
    "\n",
    "En este análisis particular, se dirigirá la atención hacia las columnas \"Open\" y \"Close\", donde se explorarán dichas medidas en relación con los datos pertinentes.\n",
    "\n",
    "Por lo tanto, se tendrá en cuenta las siguientes métricas en las cotizaciones Open y Close:\n",
    "\n",
    "- Mínimo de precio de cotización de empresa\n",
    "- Máximo de precio de cotización de empresa\n",
    "- Media\n",
    "- Mediana (Percentil 50 o Segundo Cuartil Q2 (50%))\n",
    "- Moda\n",
    "- Desviación estándar\n",
    "- Rango intercuartílico (IQR)\n",
    "- Percentil 25 o Primer Cuartil (Q1) (25%)\n",
    "- Percentil 75 o Tercer Cuartil (Q3) (75%)"
   ]
  },
  {
   "cell_type": "markdown",
   "metadata": {},
   "source": [
    "Se muestra a continuación las métricas para las cotizaciones del precios de Open entre 2019-2024:"
   ]
  },
  {
   "cell_type": "code",
   "execution_count": 75,
   "metadata": {},
   "outputs": [
    {
     "name": "stdout",
     "output_type": "stream",
     "text": [
      "Precio minimo de Open: 8.64 €\n",
      "Precio máximo de Open: 40.58 €\n",
      "Media (Q2) de Open: 23.932 €\n",
      "Mediana de Open: 22.521 €\n",
      "Moda de Open: 37.8 €\n",
      "Desviación estándar de Open: 6.02 %\n",
      "Rango intercuartílico de Open: 7.114 €\n",
      "Percentil Q1 de Open: 19.538 €\n",
      "Percentil Q3 de Open: 26.652 €\n"
     ]
    }
   ],
   "source": [
    "minimo_open = dataset_empresa['Open'].min()\n",
    "maximo_open = dataset_empresa['Open'].max()\n",
    "media_open = dataset_empresa['Open'].mean()\n",
    "mediana_open = dataset_empresa['Open'].median()\n",
    "moda_open = dataset_empresa['Open'].mode().iloc[0]\n",
    "desviacion_open= dataset_empresa['Open'].std()\n",
    "rango_intercuartilico_open = dataset_empresa['Open'].quantile(0.75) - dataset_empresa['Open'].quantile(0.25)\n",
    "percentil_q1_open = dataset_empresa['Open'].quantile(0.25)\n",
    "percentil_q3_open = dataset_empresa['Open'].quantile(0.75)\n",
    "\n",
    "print(f\"Precio minimo de Open: {minimo_open.round(3)} €\")\n",
    "print(f\"Precio máximo de Open: {maximo_open.round(3)} €\")\n",
    "print(f\"Media (Q2) de Open: {media_open.round(3)} €\")\n",
    "print(f\"Mediana de Open: {mediana_open.round(3)} €\")\n",
    "print(f\"Moda de Open: {moda_open.round(3)} €\")\n",
    "print(f\"Desviación estándar de Open: {desviacion_open.round(2)} %\")\n",
    "print(f\"Rango intercuartílico de Open: {rango_intercuartilico_open.round(3)} €\")\n",
    "print(f\"Percentil Q1 de Open: {percentil_q1_open.round(3)} €\")\n",
    "print(f\"Percentil Q3 de Open: {percentil_q3_open.round(3)} €\")"
   ]
  },
  {
   "cell_type": "markdown",
   "metadata": {},
   "source": [
    "A continuación, se expone de forma visual un gráfico con los datos de Open."
   ]
  },
  {
   "cell_type": "code",
   "execution_count": 76,
   "metadata": {},
   "outputs": [
    {
     "data": {
      "text/plain": [
       "<matplotlib.lines.Line2D at 0x1da073b2450>"
      ]
     },
     "execution_count": 76,
     "metadata": {},
     "output_type": "execute_result"
    },
    {
     "data": {
      "image/png": "[encoded data removed]",
      "text/plain": [
       "<Figure size 1600x400 with 1 Axes>"
      ]
     },
     "metadata": {},
     "output_type": "display_data"
    }
   ],
   "source": [
    "import matplotlib.pyplot as plt\n",
    "import seaborn as sns\n",
    "\n",
    "sns.set(style=\"darkgrid\")\n",
    "plt.figure(figsize=(16, 4))\n",
    "plt.xticks(fontsize=16)\n",
    "plt.xlabel('Valores de la acción en Open (€)', fontsize=20)\n",
    "sns.boxplot(x= dataset_empresa['Open'])\n",
    "plt.axvline(dataset_empresa['Open'].mean(), c= 'y')"
   ]
  },
  {
   "cell_type": "markdown",
   "metadata": {},
   "source": [
    "Se muestra a continuación las métricas para las cotizaciones del precios de Close entre 2019-2024:"
   ]
  },
  {
   "cell_type": "code",
   "execution_count": 77,
   "metadata": {},
   "outputs": [
    {
     "name": "stdout",
     "output_type": "stream",
     "text": [
      "Precio minimo de Close: 8.338 €\n",
      "Precio máximo de Close: 40.59 €\n",
      "Media de Close: 23.932 €\n",
      "Mediana de Close: 22.5 €\n",
      "Moda de Close: 20.98 €\n",
      "Desviación estándar de Close: 6.05 %\n",
      "Rango intercuartílico de Close: 7.093 €\n",
      "Percentil Q1 de Close: 19.531 €\n",
      "Percentil Q3 de Close: 26.624 €\n"
     ]
    }
   ],
   "source": [
    "minimo_close = dataset_empresa['Close'].min()\n",
    "maximo_close = dataset_empresa['Close'].max()\n",
    "media_close = dataset_empresa['Close'].mean()\n",
    "mediana_close = dataset_empresa['Close'].median()\n",
    "moda_close = dataset_empresa['Close'].mode().iloc[0]\n",
    "desviacion_close= dataset_empresa['Close'].std()\n",
    "rango_intercuartilico_close = dataset_empresa['Close'].quantile(0.75) - dataset_empresa['Close'].quantile(0.25)\n",
    "percentil_q1_close = dataset_empresa['Close'].quantile(0.25)\n",
    "percentil_q3_close = dataset_empresa['Close'].quantile(0.75)\n",
    "\n",
    "print(f\"Precio minimo de Close: {minimo_close.round(3)} €\")\n",
    "print(f\"Precio máximo de Close: {maximo_close.round(3)} €\")\n",
    "print(f\"Media de Close: {media_close.round(3)} €\")\n",
    "print(f\"Mediana de Close: {mediana_close.round(3)} €\")\n",
    "print(f\"Moda de Close: {moda_close.round(3)} €\")\n",
    "print(f\"Desviación estándar de Close: {desviacion_close.round(2)} %\")\n",
    "print(f\"Rango intercuartílico de Close: {rango_intercuartilico_close.round(3)} €\")\n",
    "print(f\"Percentil Q1 de Close: {percentil_q1_close.round(3)} €\")\n",
    "print(f\"Percentil Q3 de Close: {percentil_q3_close.round(3)} €\")"
   ]
  },
  {
   "cell_type": "markdown",
   "metadata": {},
   "source": [
    "A continuación, se expone de forma visual un gráfico con los datos de Close:"
   ]
  },
  {
   "cell_type": "code",
   "execution_count": 78,
   "metadata": {},
   "outputs": [
    {
     "data": {
      "text/plain": [
       "<matplotlib.lines.Line2D at 0x1da0ea10bf0>"
      ]
     },
     "execution_count": 78,
     "metadata": {},
     "output_type": "execute_result"
    },
    {
     "data": {
      "image/png": "[encoded data removed]",
      "text/plain": [
       "<Figure size 1600x400 with 1 Axes>"
      ]
     },
     "metadata": {},
     "output_type": "display_data"
    }
   ],
   "source": [
    "import matplotlib.pyplot as plt\n",
    "import seaborn as sns\n",
    "\n",
    "sns.set(style=\"darkgrid\")\n",
    "plt.figure(figsize=(16, 4))\n",
    "plt.xticks(fontsize=16)\n",
    "plt.xlabel('Valores de la acción en Close (€)', fontsize=20)\n",
    "sns.boxplot(x= dataset_empresa['Close'])\n",
    "plt.axvline(dataset_empresa['Close'].mean(), c= 'y')"
   ]
  },
  {
   "cell_type": "markdown",
   "metadata": {},
   "source": [
    "Los datos proporcionados sobre los precios de apertura (Open) y de cierre (Close) son muy similares en las acciones de ACS entre 2019 y 2023. Estos datos sugieren una distribución sesgada hacia valores más bajos. Veamos cómo se interpretan estos datos:\n",
    "\n",
    "- Moda y Medias bajas: La moda (valor más frecuente) y las medias (media aritmética) son relativamente bajas en comparación con las medianas (valor central). Esto indica que hay una concentración de precios más bajos en la distribución.\n",
    "- Desviación Eestándar y Rango Intercuartílico (IQR): La alta desviación estándar sugiere una variabilidad significativa en los precios de apertura. Además, el amplio rango intercuartílico (diferencia entre Q3 y Q1) indica que ha habido cambios sustanciales en los precios a lo largo del período.\n",
    "- Eventos atípicos o condiciones del mercado: La variabilidad observada podría deberse a eventos atípicos o condiciones del mercado. Por ejemplo, noticias económicas, decisiones corporativas o factores macroeconómicos podrían haber influido en los precios."
   ]
  },
  {
   "cell_type": "markdown",
   "metadata": {},
   "source": [
    "### 3.2.2- Conceptos estadisticos en el analisis de datos de Close de la empresa entre 2019 y 2024"
   ]
  },
  {
   "cell_type": "markdown",
   "metadata": {},
   "source": [
    "A continuación, se mostrará los siguientes 4 conceptos:\n",
    "- Frecuencia\n",
    "- Densidad\n",
    "- Asimetría\n",
    "- Curtosis"
   ]
  },
  {
   "cell_type": "code",
   "execution_count": 79,
   "metadata": {},
   "outputs": [
    {
     "data": {
      "image/png": "[encoded data removed]",
      "text/plain": [
       "<Figure size 2000x600 with 1 Axes>"
      ]
     },
     "metadata": {},
     "output_type": "display_data"
    }
   ],
   "source": [
    "import plotly\n",
    "\n",
    "plt.figure(figsize=(20, 6))\n",
    "\n",
    "dataset_empresa['Close'].plot(kind='hist', bins=50, color='lightgreen', edgecolor='black')\n",
    "plt.title('Histograma de precios de cierre (Close) en las cotizaciones de la empresa (2019-2023)', fontsize=20)\n",
    "plt.xlabel('Valor de la acción (€)', fontsize=20)\n",
    "plt.ylabel('Frecuencia', fontsize=20)\n",
    "plt.grid(axis='y', linestyle='--', alpha=0.7)\n",
    "plt.xticks(fontsize=16)\n",
    "plt.yticks(fontsize=16)\n",
    "\n",
    "plt.show()"
   ]
  },
  {
   "cell_type": "markdown",
   "metadata": {},
   "source": [
    "La frecuencia en el eje y indica cuántas veces los precios de cierre de las acciones (variable “Close”) caen dentro de cada uno de los intervalos definidos por los bins. Por ejemplo, si tienes un bin que abarca el rango de 50 a 60 euros, la frecuencia en ese bin mostrará cuántas veces los precios de cierre se encuentran en ese rango."
   ]
  },
  {
   "cell_type": "code",
   "execution_count": 80,
   "metadata": {},
   "outputs": [
    {
     "data": {
      "image/png": "[encoded data removed]",
      "text/plain": [
       "<Figure size 2000x600 with 1 Axes>"
      ]
     },
     "metadata": {},
     "output_type": "display_data"
    }
   ],
   "source": [
    "plt.figure(figsize=(20, 6))\n",
    "sns.kdeplot(dataset_empresa['Close'], fill=True, label='Close', edgecolor='black')\n",
    "plt.title('Densidad del valor de la acciones con el precio de cierre (Close)', fontsize=20)\n",
    "plt.legend()\n",
    "plt.xlabel('Valores de la acción de Open(€)', fontsize=20)\n",
    "plt.ylabel('Frecuencia', fontsize=20)\n",
    "plt.xticks(fontsize=16)\n",
    "plt.yticks(fontsize=16)\n",
    "\n",
    "plt.show()"
   ]
  },
  {
   "cell_type": "markdown",
   "metadata": {},
   "source": [
    "La densidad o density en el eje y, indica la concentración de valores de la variable “Close” (precio de cierre) en diferentes rangos. Cuanto más alta sea la densidad en un punto particular del eje y, mayor será la probabilidad de que los valores de “Close” se encuentren en ese rango."
   ]
  },
  {
   "cell_type": "code",
   "execution_count": 81,
   "metadata": {},
   "outputs": [
    {
     "name": "stdout",
     "output_type": "stream",
     "text": [
      "Asimetría (Skewness) en Close 0.803\n",
      "Curtosis (Kurtosis) en Close: 0.349\n"
     ]
    }
   ],
   "source": [
    "from scipy.stats import skew, kurtosis\n",
    "\n",
    "skew_cls = skew(dataset_empresa['Close']).round(3)\n",
    "kurt_cls = kurtosis(dataset_empresa['Close']).round(3)\n",
    "\n",
    "print('Asimetría (Skewness) en Close',skew_cls)\n",
    "print('Curtosis (Kurtosis) en Close:',kurt_cls)"
   ]
  },
  {
   "cell_type": "markdown",
   "metadata": {},
   "source": [
    "La asimetría mide la simetría de la distribución. Un valor de asimetría de 0.532 indica que la distribución de los precios de cierre de las acciones tiene una ligera inclinación hacia la derecha, lo que significa que hay una mayor cantidad de valores menores que la media.\n",
    "\n",
    "La curtosis mide la “pesadez” de las colas de la distribución. Un valor de curtosis de 0.363 indica que la distribución tiene colas ligeramente más pesadas que una distribución normal (curtosis = 0), lo que significa que hay una mayor probabilidad de obtener valores extremos.\n",
    "\n",
    "Estos valores pueden ser útiles para entender el comportamiento de los precios de cierre de las acciones y para hacer predicciones sobre su comportamiento futuro. Sin embargo, siempre es importante tener en cuenta que estas son solo medidas estadísticas y no garantizan un comportamiento específico en el futuro. Si tienes alguna otra pregunta o necesitas más ayuda, no dudes en preguntar."
   ]
  },
  {
   "cell_type": "markdown",
   "metadata": {},
   "source": [
    "### 3.2.3- Analisis multivariables de las cotizaciones de la empresa"
   ]
  },
  {
   "cell_type": "markdown",
   "metadata": {},
   "source": [
    "Con el fin de realizar los análisis multivariables, primero agruparemos por años y meses y días las fechas en nuevas columnas en un dataset paralelo al troncal:"
   ]
  },
  {
   "cell_type": "code",
   "execution_count": 82,
   "metadata": {},
   "outputs": [
    {
     "data": {
      "text/html": [
       "<div>\n",
       "<style scoped>\n",
       "    .dataframe tbody tr th:only-of-type {\n",
       "        vertical-align: middle;\n",
       "    }\n",
       "\n",
       "    .dataframe tbody tr th {\n",
       "        vertical-align: top;\n",
       "    }\n",
       "\n",
       "    .dataframe thead th {\n",
       "        text-align: right;\n",
       "    }\n",
       "</style>\n",
       "<table border=\"1\" class=\"dataframe\">\n",
       "  <thead>\n",
       "    <tr style=\"text-align: right;\">\n",
       "      <th></th>\n",
       "      <th>Date</th>\n",
       "      <th>Open</th>\n",
       "      <th>High</th>\n",
       "      <th>Low</th>\n",
       "      <th>Close</th>\n",
       "      <th>Volume</th>\n",
       "      <th>Dividends</th>\n",
       "      <th>Stock Splits</th>\n",
       "      <th>Year</th>\n",
       "      <th>Month</th>\n",
       "      <th>Day</th>\n",
       "    </tr>\n",
       "  </thead>\n",
       "  <tbody>\n",
       "    <tr>\n",
       "      <th>0</th>\n",
       "      <td>2019-01-02</td>\n",
       "      <td>22.949238</td>\n",
       "      <td>22.949238</td>\n",
       "      <td>22.233563</td>\n",
       "      <td>22.656151</td>\n",
       "      <td>579957</td>\n",
       "      <td>0.0</td>\n",
       "      <td>0.0</td>\n",
       "      <td>2019</td>\n",
       "      <td>1</td>\n",
       "      <td>2</td>\n",
       "    </tr>\n",
       "    <tr>\n",
       "      <th>1</th>\n",
       "      <td>2019-01-03</td>\n",
       "      <td>22.424411</td>\n",
       "      <td>22.921972</td>\n",
       "      <td>22.356252</td>\n",
       "      <td>22.710680</td>\n",
       "      <td>826120</td>\n",
       "      <td>0.0</td>\n",
       "      <td>0.0</td>\n",
       "      <td>2019</td>\n",
       "      <td>1</td>\n",
       "      <td>3</td>\n",
       "    </tr>\n",
       "    <tr>\n",
       "      <th>2</th>\n",
       "      <td>2019-01-04</td>\n",
       "      <td>22.969682</td>\n",
       "      <td>23.167346</td>\n",
       "      <td>22.881075</td>\n",
       "      <td>23.051474</td>\n",
       "      <td>962645</td>\n",
       "      <td>0.0</td>\n",
       "      <td>0.0</td>\n",
       "      <td>2019</td>\n",
       "      <td>1</td>\n",
       "      <td>4</td>\n",
       "    </tr>\n",
       "    <tr>\n",
       "      <th>3</th>\n",
       "      <td>2019-01-07</td>\n",
       "      <td>23.242326</td>\n",
       "      <td>23.378644</td>\n",
       "      <td>22.921976</td>\n",
       "      <td>23.126453</td>\n",
       "      <td>1501743</td>\n",
       "      <td>0.0</td>\n",
       "      <td>0.0</td>\n",
       "      <td>2019</td>\n",
       "      <td>1</td>\n",
       "      <td>7</td>\n",
       "    </tr>\n",
       "    <tr>\n",
       "      <th>4</th>\n",
       "      <td>2019-01-08</td>\n",
       "      <td>23.119633</td>\n",
       "      <td>23.603565</td>\n",
       "      <td>23.065107</td>\n",
       "      <td>23.365009</td>\n",
       "      <td>1264760</td>\n",
       "      <td>0.0</td>\n",
       "      <td>0.0</td>\n",
       "      <td>2019</td>\n",
       "      <td>1</td>\n",
       "      <td>8</td>\n",
       "    </tr>\n",
       "    <tr>\n",
       "      <th>...</th>\n",
       "      <td>...</td>\n",
       "      <td>...</td>\n",
       "      <td>...</td>\n",
       "      <td>...</td>\n",
       "      <td>...</td>\n",
       "      <td>...</td>\n",
       "      <td>...</td>\n",
       "      <td>...</td>\n",
       "      <td>...</td>\n",
       "      <td>...</td>\n",
       "      <td>...</td>\n",
       "    </tr>\n",
       "    <tr>\n",
       "      <th>1359</th>\n",
       "      <td>2024-04-23</td>\n",
       "      <td>38.500000</td>\n",
       "      <td>38.900002</td>\n",
       "      <td>38.459999</td>\n",
       "      <td>38.480000</td>\n",
       "      <td>391787</td>\n",
       "      <td>0.0</td>\n",
       "      <td>0.0</td>\n",
       "      <td>2024</td>\n",
       "      <td>4</td>\n",
       "      <td>23</td>\n",
       "    </tr>\n",
       "    <tr>\n",
       "      <th>1360</th>\n",
       "      <td>2024-04-24</td>\n",
       "      <td>38.520000</td>\n",
       "      <td>38.700001</td>\n",
       "      <td>38.220001</td>\n",
       "      <td>38.360001</td>\n",
       "      <td>732447</td>\n",
       "      <td>0.0</td>\n",
       "      <td>0.0</td>\n",
       "      <td>2024</td>\n",
       "      <td>4</td>\n",
       "      <td>24</td>\n",
       "    </tr>\n",
       "    <tr>\n",
       "      <th>1361</th>\n",
       "      <td>2024-04-25</td>\n",
       "      <td>38.480000</td>\n",
       "      <td>38.480000</td>\n",
       "      <td>37.360001</td>\n",
       "      <td>37.700001</td>\n",
       "      <td>503456</td>\n",
       "      <td>0.0</td>\n",
       "      <td>0.0</td>\n",
       "      <td>2024</td>\n",
       "      <td>4</td>\n",
       "      <td>25</td>\n",
       "    </tr>\n",
       "    <tr>\n",
       "      <th>1362</th>\n",
       "      <td>2024-04-26</td>\n",
       "      <td>38.040001</td>\n",
       "      <td>38.080002</td>\n",
       "      <td>37.700001</td>\n",
       "      <td>37.820000</td>\n",
       "      <td>522897</td>\n",
       "      <td>0.0</td>\n",
       "      <td>0.0</td>\n",
       "      <td>2024</td>\n",
       "      <td>4</td>\n",
       "      <td>26</td>\n",
       "    </tr>\n",
       "    <tr>\n",
       "      <th>1363</th>\n",
       "      <td>2024-04-29</td>\n",
       "      <td>37.799999</td>\n",
       "      <td>38.139999</td>\n",
       "      <td>37.799999</td>\n",
       "      <td>37.980000</td>\n",
       "      <td>341569</td>\n",
       "      <td>0.0</td>\n",
       "      <td>0.0</td>\n",
       "      <td>2024</td>\n",
       "      <td>4</td>\n",
       "      <td>29</td>\n",
       "    </tr>\n",
       "  </tbody>\n",
       "</table>\n",
       "<p>1364 rows × 11 columns</p>\n",
       "</div>"
      ],
      "text/plain": [
       "           Date       Open       High        Low      Close   Volume  \\\n",
       "0    2019-01-02  22.949238  22.949238  22.233563  22.656151   579957   \n",
       "1    2019-01-03  22.424411  22.921972  22.356252  22.710680   826120   \n",
       "2    2019-01-04  22.969682  23.167346  22.881075  23.051474   962645   \n",
       "3    2019-01-07  23.242326  23.378644  22.921976  23.126453  1501743   \n",
       "4    2019-01-08  23.119633  23.603565  23.065107  23.365009  1264760   \n",
       "...         ...        ...        ...        ...        ...      ...   \n",
       "1359 2024-04-23  38.500000  38.900002  38.459999  38.480000   391787   \n",
       "1360 2024-04-24  38.520000  38.700001  38.220001  38.360001   732447   \n",
       "1361 2024-04-25  38.480000  38.480000  37.360001  37.700001   503456   \n",
       "1362 2024-04-26  38.040001  38.080002  37.700001  37.820000   522897   \n",
       "1363 2024-04-29  37.799999  38.139999  37.799999  37.980000   341569   \n",
       "\n",
       "      Dividends  Stock Splits  Year  Month  Day  \n",
       "0           0.0           0.0  2019      1    2  \n",
       "1           0.0           0.0  2019      1    3  \n",
       "2           0.0           0.0  2019      1    4  \n",
       "3           0.0           0.0  2019      1    7  \n",
       "4           0.0           0.0  2019      1    8  \n",
       "...         ...           ...   ...    ...  ...  \n",
       "1359        0.0           0.0  2024      4   23  \n",
       "1360        0.0           0.0  2024      4   24  \n",
       "1361        0.0           0.0  2024      4   25  \n",
       "1362        0.0           0.0  2024      4   26  \n",
       "1363        0.0           0.0  2024      4   29  \n",
       "\n",
       "[1364 rows x 11 columns]"
      ]
     },
     "execution_count": 82,
     "metadata": {},
     "output_type": "execute_result"
    }
   ],
   "source": [
    "prices_dates = dataset_empresa\n",
    "\n",
    "prices_dates['Year'] = prices_dates['Date'].dt.year\n",
    "prices_dates['Month'] = prices_dates['Date'].dt.month\n",
    "prices_dates['Day'] = prices_dates['Date'].dt.day\n",
    "prices_dates"
   ]
  },
  {
   "cell_type": "markdown",
   "metadata": {},
   "source": [
    "En los siguientes dos gráficos, se va a proceder a mostrar los promedios de los precios de cierre (Close) divididos en años y meses:"
   ]
  },
  {
   "cell_type": "markdown",
   "metadata": {},
   "source": [
    "Gráfico 1: Por años, en forma de histograma de barras"
   ]
  },
  {
   "cell_type": "code",
   "execution_count": 83,
   "metadata": {},
   "outputs": [
    {
     "data": {
      "image/png": "[encoded data removed]",
      "text/plain": [
       "<Figure size 1000x500 with 1 Axes>"
      ]
     },
     "metadata": {},
     "output_type": "display_data"
    }
   ],
   "source": [
    "avg_year = prices_dates.groupby(['Year'])['Close'].mean().reset_index()\n",
    "\n",
    "# Crear un gráfico de barras con etiquetas de precio\n",
    "plt.figure(figsize=(10, 5))\n",
    "bars = plt.bar(avg_year['Year'], avg_year['Close'])\n",
    "plt.title('Precio de cierre (Close) promedio por años')\n",
    "plt.xlabel('Años')\n",
    "plt.ylabel('Promedio de precio de cierre (Close) de la acción (€)')\n",
    "plt.xticks(fontsize=12)\n",
    "plt.yticks(fontsize=12)\n",
    "\n",
    "# Agregar etiquetas de precio encima de cada barra\n",
    "for bar in bars:\n",
    "    height = bar.get_height()\n",
    "    plt.text(bar.get_x() + bar.get_width() / 2, height, f'{height:.2f}', ha='center', va='bottom', fontsize=10)\n",
    "\n",
    "plt.show()"
   ]
  },
  {
   "cell_type": "markdown",
   "metadata": {},
   "source": [
    "Con un boxplot..."
   ]
  },
  {
   "cell_type": "code",
   "execution_count": 84,
   "metadata": {},
   "outputs": [
    {
     "data": {
      "image/png": "[encoded data removed]",
      "text/plain": [
       "<Figure size 1600x800 with 1 Axes>"
      ]
     },
     "metadata": {},
     "output_type": "display_data"
    }
   ],
   "source": [
    "avg_year_boxplot = prices_dates.groupby(['Year'])['High']\n",
    "\n",
    "plt.figure(figsize=(16, 8))\n",
    "sns.boxplot(data=prices_dates, x='Year', y='High', hue='Year', palette=['lightgreen', 'lightblue'], dodge=False)\n",
    "plt.legend([],[], frameon=False)\n",
    "plt.title('Distribuciones de valores maximos y minimos entre 2019-2023', fontsize=14)\n",
    "plt.xlabel('Años', fontsize=15)\n",
    "plt.ylabel('precio de cierre (Close) de la acción (€)', fontsize=15)\n",
    "plt.xticks(fontsize=12)\n",
    "plt.yticks(fontsize=12)\n",
    "\n",
    "plt.show()"
   ]
  },
  {
   "cell_type": "markdown",
   "metadata": {},
   "source": [
    "Gráfico 2: Por meses, en forma de gráfico de líneas interactivo"
   ]
  },
  {
   "cell_type": "code",
   "execution_count": 85,
   "metadata": {},
   "outputs": [
    {
     "data": {
      "application/vnd.plotly.v1+json": {
       "config": {
        "plotlyServerURL": "https://plot.ly"
       },
       "data": [
        {
         "mode": "lines+markers",
         "name": "2019",
         "type": "scatter",
         "x": [
          1,
          2,
          3,
          4,
          5,
          6,
          7,
          8,
          9,
          10,
          11,
          12
         ],
         "y": [
          23.878614252263848,
          25.532944202423096,
          27.01559030442011,
          27.76702423095703,
          26.12343796816739,
          25.886123943328858,
          26.705828127653703,
          24.402912920171563,
          25.57418968563988,
          25.724101771479067,
          25.385751451764786,
          25.099504470825195
         ]
        },
        {
         "mode": "lines+markers",
         "name": "2020",
         "type": "scatter",
         "x": [
          1,
          2,
          3,
          4,
          5,
          6,
          7,
          8,
          9,
          10,
          11,
          12
         ],
         "y": [
          24.00170863758434,
          21.653066539764403,
          13.365949544039639,
          14.66994342803955,
          16.487612819671632,
          17.681381138888273,
          17.7875860048377,
          16.578671182904923,
          15.792663314125754,
          17.789097785949707,
          19.611675807407924,
          20.9848125631159
         ]
        },
        {
         "mode": "lines+markers",
         "name": "2021",
         "type": "scatter",
         "x": [
          1,
          2,
          3,
          4,
          5,
          6,
          7,
          8,
          9,
          10,
          11,
          12
         ],
         "y": [
          21.694678020477294,
          20.468980979919433,
          21.305157039476477,
          21.868467807769775,
          21.123132160731725,
          19.6623853336681,
          18.535583929582074,
          19.169112812389027,
          19.450301257046785,
          19.02519434974307,
          18.87194416739724,
          18.423681259155273
         ]
        },
        {
         "mode": "lines+markers",
         "name": "2022",
         "type": "scatter",
         "x": [
          1,
          2,
          3,
          4,
          5,
          6,
          7,
          8,
          9,
          10,
          11,
          12
         ],
         "y": [
          19.872427531651088,
          18.976612281799316,
          20.063445298568062,
          20.903893721731084,
          21.412254420193758,
          21.16047330336137,
          19.930688313075475,
          21.32995190827743,
          20.73776271126487,
          21.675181070963543,
          24.099114938215777,
          24.58413941519601
         ]
        },
        {
         "mode": "lines+markers",
         "name": "2023",
         "type": "scatter",
         "x": [
          1,
          2,
          3,
          4,
          5,
          6,
          7,
          8,
          9,
          10,
          11,
          12
         ],
         "y": [
          25.4703856381503,
          25.566661071777343,
          26.62402111551036,
          28.511866993374294,
          29.14040010625666,
          29.20048392902721,
          29.667833873203822,
          30.93391517970873,
          32.51268759227934,
          32.308471939780496,
          34.197162801569156,
          37.783635791979336
         ]
        },
        {
         "mode": "lines+markers",
         "name": "2024",
         "type": "scatter",
         "x": [
          1,
          2,
          3,
          4
         ],
         "y": [
          38.69909529252486,
          36.70476150512695,
          39.37200012207031,
          38.089999961853025
         ]
        }
       ],
       "layout": {
        "template": {
         "data": {
          "bar": [
           {
            "error_x": {
             "color": "#2a3f5f"
            },
            "error_y": {
             "color": "#2a3f5f"
            },
            "marker": {
             "line": {
              "color": "#E5ECF6",
              "width": 0.5
             },
             "pattern": {
              "fillmode": "overlay",
              "size": 10,
              "solidity": 0.2
             }
            },
            "type": "bar"
           }
          ],
          "barpolar": [
           {
            "marker": {
             "line": {
              "color": "#E5ECF6",
              "width": 0.5
             },
             "pattern": {
              "fillmode": "overlay",
              "size": 10,
              "solidity": 0.2
             }
            },
            "type": "barpolar"
           }
          ],
          "carpet": [
           {
            "aaxis": {
             "endlinecolor": "#2a3f5f",
             "gridcolor": "white",
             "linecolor": "white",
             "minorgridcolor": "white",
             "startlinecolor": "#2a3f5f"
            },
            "baxis": {
             "endlinecolor": "#2a3f5f",
             "gridcolor": "white",
             "linecolor": "white",
             "minorgridcolor": "white",
             "startlinecolor": "#2a3f5f"
            },
            "type": "carpet"
           }
          ],
          "choropleth": [
           {
            "colorbar": {
             "outlinewidth": 0,
             "ticks": ""
            },
            "type": "choropleth"
           }
          ],
          "contour": [
           {
            "colorbar": {
             "outlinewidth": 0,
             "ticks": ""
            },
            "colorscale": [
             [
              0,
              "#0d0887"
             ],
             [
              0.1111111111111111,
              "#46039f"
             ],
             [
              0.2222222222222222,
              "#7201a8"
             ],
             [
              0.3333333333333333,
              "#9c179e"
             ],
             [
              0.4444444444444444,
              "#bd3786"
             ],
             [
              0.5555555555555556,
              "#d8576b"
             ],
             [
              0.6666666666666666,
              "#ed7953"
             ],
             [
              0.7777777777777778,
              "#fb9f3a"
             ],
             [
              0.8888888888888888,
              "#fdca26"
             ],
             [
              1,
              "#f0f921"
             ]
            ],
            "type": "contour"
           }
          ],
          "contourcarpet": [
           {
            "colorbar": {
             "outlinewidth": 0,
             "ticks": ""
            },
            "type": "contourcarpet"
           }
          ],
          "heatmap": [
           {
            "colorbar": {
             "outlinewidth": 0,
             "ticks": ""
            },
            "colorscale": [
             [
              0,
              "#0d0887"
             ],
             [
              0.1111111111111111,
              "#46039f"
             ],
             [
              0.2222222222222222,
              "#7201a8"
             ],
             [
              0.3333333333333333,
              "#9c179e"
             ],
             [
              0.4444444444444444,
              "#bd3786"
             ],
             [
              0.5555555555555556,
              "#d8576b"
             ],
             [
              0.6666666666666666,
              "#ed7953"
             ],
             [
              0.7777777777777778,
              "#fb9f3a"
             ],
             [
              0.8888888888888888,
              "#fdca26"
             ],
             [
              1,
              "#f0f921"
             ]
            ],
            "type": "heatmap"
           }
          ],
          "heatmapgl": [
           {
            "colorbar": {
             "outlinewidth": 0,
             "ticks": ""
            },
            "colorscale": [
             [
              0,
              "#0d0887"
             ],
             [
              0.1111111111111111,
              "#46039f"
             ],
             [
              0.2222222222222222,
              "#7201a8"
             ],
             [
              0.3333333333333333,
              "#9c179e"
             ],
             [
              0.4444444444444444,
              "#bd3786"
             ],
             [
              0.5555555555555556,
              "#d8576b"
             ],
             [
              0.6666666666666666,
              "#ed7953"
             ],
             [
              0.7777777777777778,
              "#fb9f3a"
             ],
             [
              0.8888888888888888,
              "#fdca26"
             ],
             [
              1,
              "#f0f921"
             ]
            ],
            "type": "heatmapgl"
           }
          ],
          "histogram": [
           {
            "marker": {
             "pattern": {
              "fillmode": "overlay",
              "size": 10,
              "solidity": 0.2
             }
            },
            "type": "histogram"
           }
          ],
          "histogram2d": [
           {
            "colorbar": {
             "outlinewidth": 0,
             "ticks": ""
            },
            "colorscale": [
             [
              0,
              "#0d0887"
             ],
             [
              0.1111111111111111,
              "#46039f"
             ],
             [
              0.2222222222222222,
              "#7201a8"
             ],
             [
              0.3333333333333333,
              "#9c179e"
             ],
             [
              0.4444444444444444,
              "#bd3786"
             ],
             [
              0.5555555555555556,
              "#d8576b"
             ],
             [
              0.6666666666666666,
              "#ed7953"
             ],
             [
              0.7777777777777778,
              "#fb9f3a"
             ],
             [
              0.8888888888888888,
              "#fdca26"
             ],
             [
              1,
              "#f0f921"
             ]
            ],
            "type": "histogram2d"
           }
          ],
          "histogram2dcontour": [
           {
            "colorbar": {
             "outlinewidth": 0,
             "ticks": ""
            },
            "colorscale": [
             [
              0,
              "#0d0887"
             ],
             [
              0.1111111111111111,
              "#46039f"
             ],
             [
              0.2222222222222222,
              "#7201a8"
             ],
             [
              0.3333333333333333,
              "#9c179e"
             ],
             [
              0.4444444444444444,
              "#bd3786"
             ],
             [
              0.5555555555555556,
              "#d8576b"
             ],
             [
              0.6666666666666666,
              "#ed7953"
             ],
             [
              0.7777777777777778,
              "#fb9f3a"
             ],
             [
              0.8888888888888888,
              "#fdca26"
             ],
             [
              1,
              "#f0f921"
             ]
            ],
            "type": "histogram2dcontour"
           }
          ],
          "mesh3d": [
           {
            "colorbar": {
             "outlinewidth": 0,
             "ticks": ""
            },
            "type": "mesh3d"
           }
          ],
          "parcoords": [
           {
            "line": {
             "colorbar": {
              "outlinewidth": 0,
              "ticks": ""
             }
            },
            "type": "parcoords"
           }
          ],
          "pie": [
           {
            "automargin": true,
            "type": "pie"
           }
          ],
          "scatter": [
           {
            "fillpattern": {
             "fillmode": "overlay",
             "size": 10,
             "solidity": 0.2
            },
            "type": "scatter"
           }
          ],
          "scatter3d": [
           {
            "line": {
             "colorbar": {
              "outlinewidth": 0,
              "ticks": ""
             }
            },
            "marker": {
             "colorbar": {
              "outlinewidth": 0,
              "ticks": ""
             }
            },
            "type": "scatter3d"
           }
          ],
          "scattercarpet": [
           {
            "marker": {
             "colorbar": {
              "outlinewidth": 0,
              "ticks": ""
             }
            },
            "type": "scattercarpet"
           }
          ],
          "scattergeo": [
           {
            "marker": {
             "colorbar": {
              "outlinewidth": 0,
              "ticks": ""
             }
            },
            "type": "scattergeo"
           }
          ],
          "scattergl": [
           {
            "marker": {
             "colorbar": {
              "outlinewidth": 0,
              "ticks": ""
             }
            },
            "type": "scattergl"
           }
          ],
          "scattermapbox": [
           {
            "marker": {
             "colorbar": {
              "outlinewidth": 0,
              "ticks": ""
             }
            },
            "type": "scattermapbox"
           }
          ],
          "scatterpolar": [
           {
            "marker": {
             "colorbar": {
              "outlinewidth": 0,
              "ticks": ""
             }
            },
            "type": "scatterpolar"
           }
          ],
          "scatterpolargl": [
           {
            "marker": {
             "colorbar": {
              "outlinewidth": 0,
              "ticks": ""
             }
            },
            "type": "scatterpolargl"
           }
          ],
          "scatterternary": [
           {
            "marker": {
             "colorbar": {
              "outlinewidth": 0,
              "ticks": ""
             }
            },
            "type": "scatterternary"
           }
          ],
          "surface": [
           {
            "colorbar": {
             "outlinewidth": 0,
             "ticks": ""
            },
            "colorscale": [
             [
              0,
              "#0d0887"
             ],
             [
              0.1111111111111111,
              "#46039f"
             ],
             [
              0.2222222222222222,
              "#7201a8"
             ],
             [
              0.3333333333333333,
              "#9c179e"
             ],
             [
              0.4444444444444444,
              "#bd3786"
             ],
             [
              0.5555555555555556,
              "#d8576b"
             ],
             [
              0.6666666666666666,
              "#ed7953"
             ],
             [
              0.7777777777777778,
              "#fb9f3a"
             ],
             [
              0.8888888888888888,
              "#fdca26"
             ],
             [
              1,
              "#f0f921"
             ]
            ],
            "type": "surface"
           }
          ],
          "table": [
           {
            "cells": {
             "fill": {
              "color": "#EBF0F8"
             },
             "line": {
              "color": "white"
             }
            },
            "header": {
             "fill": {
              "color": "#C8D4E3"
             },
             "line": {
              "color": "white"
             }
            },
            "type": "table"
           }
          ]
         },
         "layout": {
          "annotationdefaults": {
           "arrowcolor": "#2a3f5f",
           "arrowhead": 0,
           "arrowwidth": 1
          },
          "autotypenumbers": "strict",
          "coloraxis": {
           "colorbar": {
            "outlinewidth": 0,
            "ticks": ""
           }
          },
          "colorscale": {
           "diverging": [
            [
             0,
             "#8e0152"
            ],
            [
             0.1,
             "#c51b7d"
            ],
            [
             0.2,
             "#de77ae"
            ],
            [
             0.3,
             "#f1b6da"
            ],
            [
             0.4,
             "#fde0ef"
            ],
            [
             0.5,
             "#f7f7f7"
            ],
            [
             0.6,
             "#e6f5d0"
            ],
            [
             0.7,
             "#b8e186"
            ],
            [
             0.8,
             "#7fbc41"
            ],
            [
             0.9,
             "#4d9221"
            ],
            [
             1,
             "#276419"
            ]
           ],
           "sequential": [
            [
             0,
             "#0d0887"
            ],
            [
             0.1111111111111111,
             "#46039f"
            ],
            [
             0.2222222222222222,
             "#7201a8"
            ],
            [
             0.3333333333333333,
             "#9c179e"
            ],
            [
             0.4444444444444444,
             "#bd3786"
            ],
            [
             0.5555555555555556,
             "#d8576b"
            ],
            [
             0.6666666666666666,
             "#ed7953"
            ],
            [
             0.7777777777777778,
             "#fb9f3a"
            ],
            [
             0.8888888888888888,
             "#fdca26"
            ],
            [
             1,
             "#f0f921"
            ]
           ],
           "sequentialminus": [
            [
             0,
             "#0d0887"
            ],
            [
             0.1111111111111111,
             "#46039f"
            ],
            [
             0.2222222222222222,
             "#7201a8"
            ],
            [
             0.3333333333333333,
             "#9c179e"
            ],
            [
             0.4444444444444444,
             "#bd3786"
            ],
            [
             0.5555555555555556,
             "#d8576b"
            ],
            [
             0.6666666666666666,
             "#ed7953"
            ],
            [
             0.7777777777777778,
             "#fb9f3a"
            ],
            [
             0.8888888888888888,
             "#fdca26"
            ],
            [
             1,
             "#f0f921"
            ]
           ]
          },
          "colorway": [
           "#636efa",
           "#EF553B",
           "#00cc96",
           "#ab63fa",
           "#FFA15A",
           "#19d3f3",
           "#FF6692",
           "#B6E880",
           "#FF97FF",
           "#FECB52"
          ],
          "font": {
           "color": "#2a3f5f"
          },
          "geo": {
           "bgcolor": "white",
           "lakecolor": "white",
           "landcolor": "#E5ECF6",
           "showlakes": true,
           "showland": true,
           "subunitcolor": "white"
          },
          "hoverlabel": {
           "align": "left"
          },
          "hovermode": "closest",
          "mapbox": {
           "style": "light"
          },
          "paper_bgcolor": "white",
          "plot_bgcolor": "#E5ECF6",
          "polar": {
           "angularaxis": {
            "gridcolor": "white",
            "linecolor": "white",
            "ticks": ""
           },
           "bgcolor": "#E5ECF6",
           "radialaxis": {
            "gridcolor": "white",
            "linecolor": "white",
            "ticks": ""
           }
          },
          "scene": {
           "xaxis": {
            "backgroundcolor": "#E5ECF6",
            "gridcolor": "white",
            "gridwidth": 2,
            "linecolor": "white",
            "showbackground": true,
            "ticks": "",
            "zerolinecolor": "white"
           },
           "yaxis": {
            "backgroundcolor": "#E5ECF6",
            "gridcolor": "white",
            "gridwidth": 2,
            "linecolor": "white",
            "showbackground": true,
            "ticks": "",
            "zerolinecolor": "white"
           },
           "zaxis": {
            "backgroundcolor": "#E5ECF6",
            "gridcolor": "white",
            "gridwidth": 2,
            "linecolor": "white",
            "showbackground": true,
            "ticks": "",
            "zerolinecolor": "white"
           }
          },
          "shapedefaults": {
           "line": {
            "color": "#2a3f5f"
           }
          },
          "ternary": {
           "aaxis": {
            "gridcolor": "white",
            "linecolor": "white",
            "ticks": ""
           },
           "baxis": {
            "gridcolor": "white",
            "linecolor": "white",
            "ticks": ""
           },
           "bgcolor": "#E5ECF6",
           "caxis": {
            "gridcolor": "white",
            "linecolor": "white",
            "ticks": ""
           }
          },
          "title": {
           "x": 0.05
          },
          "xaxis": {
           "automargin": true,
           "gridcolor": "white",
           "linecolor": "white",
           "ticks": "",
           "title": {
            "standoff": 15
           },
           "zerolinecolor": "white",
           "zerolinewidth": 2
          },
          "yaxis": {
           "automargin": true,
           "gridcolor": "white",
           "linecolor": "white",
           "ticks": "",
           "title": {
            "standoff": 15
           },
           "zerolinecolor": "white",
           "zerolinewidth": 2
          }
         }
        },
        "title": {
         "text": "Promedio de Precios de Cierre por Meses (Agrupados por Años)"
        },
        "xaxis": {
         "ticktext": [
          "Ene",
          "Feb",
          "Mar",
          "Abr",
          "May",
          "Jun",
          "Jul",
          "Ago",
          "Sep",
          "Oct",
          "Nov",
          "Dic"
         ],
         "tickvals": [
          1,
          2,
          3,
          4,
          5,
          6,
          7,
          8,
          9,
          10,
          11,
          12
         ],
         "title": {
          "text": "Meses"
         }
        },
        "yaxis": {
         "title": {
          "text": "Promedio de Precio de Cierre (€)"
         }
        }
       }
      }
     },
     "metadata": {},
     "output_type": "display_data"
    }
   ],
   "source": [
    "import plotly.graph_objs as go\n",
    "\n",
    "avg_month = prices_dates.groupby(['Year', 'Month'])['Close'].mean().reset_index()\n",
    "\n",
    "fig = go.Figure()\n",
    "\n",
    "for year in avg_month['Year'].unique():\n",
    "    year_data = avg_month[avg_month['Year'] == year]\n",
    "    fig.add_trace(go.Scatter(\n",
    "                                x=year_data['Month'],\n",
    "                                y=year_data['Close'],\n",
    "                                mode='lines+markers',\n",
    "                                name=str(year)\n",
    "                            ))\n",
    "\n",
    "fig.update_layout(\n",
    "    title='Promedio de Precios de Cierre por Meses (Agrupados por Años)',\n",
    "    xaxis=dict(title='Meses'),\n",
    "    yaxis=dict(title='Promedio de Precio de Cierre (€)'),\n",
    "    xaxis_tickvals=list(range(1, 13)),\n",
    "    xaxis_ticktext=['Ene', 'Feb', 'Mar', 'Abr', 'May', 'Jun', 'Jul', 'Ago', 'Sep', 'Oct', 'Nov', 'Dic']\n",
    ")\n",
    "\n",
    "fig.show()"
   ]
  },
  {
   "cell_type": "markdown",
   "metadata": {},
   "source": [
    "### 3.2.4- Analisis de correlaciones"
   ]
  },
  {
   "cell_type": "code",
   "execution_count": 86,
   "metadata": {},
   "outputs": [
    {
     "data": {
      "text/html": [
       "<div>\n",
       "<style scoped>\n",
       "    .dataframe tbody tr th:only-of-type {\n",
       "        vertical-align: middle;\n",
       "    }\n",
       "\n",
       "    .dataframe tbody tr th {\n",
       "        vertical-align: top;\n",
       "    }\n",
       "\n",
       "    .dataframe thead th {\n",
       "        text-align: right;\n",
       "    }\n",
       "</style>\n",
       "<table border=\"1\" class=\"dataframe\">\n",
       "  <thead>\n",
       "    <tr style=\"text-align: right;\">\n",
       "      <th></th>\n",
       "      <th>Date</th>\n",
       "      <th>Open</th>\n",
       "      <th>High</th>\n",
       "      <th>Low</th>\n",
       "      <th>Close</th>\n",
       "      <th>Volume</th>\n",
       "      <th>Dividends</th>\n",
       "      <th>Stock Splits</th>\n",
       "      <th>Year</th>\n",
       "      <th>Month</th>\n",
       "      <th>Day</th>\n",
       "    </tr>\n",
       "  </thead>\n",
       "  <tbody>\n",
       "    <tr>\n",
       "      <th>0</th>\n",
       "      <td>2019-01-02</td>\n",
       "      <td>22.949238</td>\n",
       "      <td>22.949238</td>\n",
       "      <td>22.233563</td>\n",
       "      <td>22.656151</td>\n",
       "      <td>579957</td>\n",
       "      <td>0.0</td>\n",
       "      <td>0.0</td>\n",
       "      <td>2019</td>\n",
       "      <td>1</td>\n",
       "      <td>2</td>\n",
       "    </tr>\n",
       "    <tr>\n",
       "      <th>1</th>\n",
       "      <td>2019-01-03</td>\n",
       "      <td>22.424411</td>\n",
       "      <td>22.921972</td>\n",
       "      <td>22.356252</td>\n",
       "      <td>22.710680</td>\n",
       "      <td>826120</td>\n",
       "      <td>0.0</td>\n",
       "      <td>0.0</td>\n",
       "      <td>2019</td>\n",
       "      <td>1</td>\n",
       "      <td>3</td>\n",
       "    </tr>\n",
       "    <tr>\n",
       "      <th>2</th>\n",
       "      <td>2019-01-04</td>\n",
       "      <td>22.969682</td>\n",
       "      <td>23.167346</td>\n",
       "      <td>22.881075</td>\n",
       "      <td>23.051474</td>\n",
       "      <td>962645</td>\n",
       "      <td>0.0</td>\n",
       "      <td>0.0</td>\n",
       "      <td>2019</td>\n",
       "      <td>1</td>\n",
       "      <td>4</td>\n",
       "    </tr>\n",
       "    <tr>\n",
       "      <th>3</th>\n",
       "      <td>2019-01-07</td>\n",
       "      <td>23.242326</td>\n",
       "      <td>23.378644</td>\n",
       "      <td>22.921976</td>\n",
       "      <td>23.126453</td>\n",
       "      <td>1501743</td>\n",
       "      <td>0.0</td>\n",
       "      <td>0.0</td>\n",
       "      <td>2019</td>\n",
       "      <td>1</td>\n",
       "      <td>7</td>\n",
       "    </tr>\n",
       "    <tr>\n",
       "      <th>4</th>\n",
       "      <td>2019-01-08</td>\n",
       "      <td>23.119633</td>\n",
       "      <td>23.603565</td>\n",
       "      <td>23.065107</td>\n",
       "      <td>23.365009</td>\n",
       "      <td>1264760</td>\n",
       "      <td>0.0</td>\n",
       "      <td>0.0</td>\n",
       "      <td>2019</td>\n",
       "      <td>1</td>\n",
       "      <td>8</td>\n",
       "    </tr>\n",
       "  </tbody>\n",
       "</table>\n",
       "</div>"
      ],
      "text/plain": [
       "        Date       Open       High        Low      Close   Volume  Dividends  \\\n",
       "0 2019-01-02  22.949238  22.949238  22.233563  22.656151   579957        0.0   \n",
       "1 2019-01-03  22.424411  22.921972  22.356252  22.710680   826120        0.0   \n",
       "2 2019-01-04  22.969682  23.167346  22.881075  23.051474   962645        0.0   \n",
       "3 2019-01-07  23.242326  23.378644  22.921976  23.126453  1501743        0.0   \n",
       "4 2019-01-08  23.119633  23.603565  23.065107  23.365009  1264760        0.0   \n",
       "\n",
       "   Stock Splits  Year  Month  Day  \n",
       "0           0.0  2019      1    2  \n",
       "1           0.0  2019      1    3  \n",
       "2           0.0  2019      1    4  \n",
       "3           0.0  2019      1    7  \n",
       "4           0.0  2019      1    8  "
      ]
     },
     "execution_count": 86,
     "metadata": {},
     "output_type": "execute_result"
    }
   ],
   "source": [
    "dataset_empresa.head(5)"
   ]
  },
  {
   "cell_type": "markdown",
   "metadata": {},
   "source": [
    "A continuación, se va a proceder a elaborar una matriz de correlaciones. En esta matriz, se tendrá en cuenta las columnas del dataset de la empresa a analizar.\n",
    "\n",
    "Para esta matriz, vamos a quitar las columnas de Year, Month y Day. Ya que teníamos ya la de Date.\n",
    "\n",
    "Por otra parte, al no existir datos dentro de Stock Splits, quitamos también esta columna."
   ]
  },
  {
   "cell_type": "code",
   "execution_count": 87,
   "metadata": {},
   "outputs": [
    {
     "data": {
      "text/html": [
       "<div>\n",
       "<style scoped>\n",
       "    .dataframe tbody tr th:only-of-type {\n",
       "        vertical-align: middle;\n",
       "    }\n",
       "\n",
       "    .dataframe tbody tr th {\n",
       "        vertical-align: top;\n",
       "    }\n",
       "\n",
       "    .dataframe thead th {\n",
       "        text-align: right;\n",
       "    }\n",
       "</style>\n",
       "<table border=\"1\" class=\"dataframe\">\n",
       "  <thead>\n",
       "    <tr style=\"text-align: right;\">\n",
       "      <th></th>\n",
       "      <th>Date</th>\n",
       "      <th>Open</th>\n",
       "      <th>High</th>\n",
       "      <th>Low</th>\n",
       "      <th>Close</th>\n",
       "      <th>Volume</th>\n",
       "      <th>Dividends</th>\n",
       "    </tr>\n",
       "  </thead>\n",
       "  <tbody>\n",
       "    <tr>\n",
       "      <th>Date</th>\n",
       "      <td>1.000000</td>\n",
       "      <td>0.504766</td>\n",
       "      <td>0.504999</td>\n",
       "      <td>0.507024</td>\n",
       "      <td>0.507693</td>\n",
       "      <td>-0.239698</td>\n",
       "      <td>-0.007372</td>\n",
       "    </tr>\n",
       "    <tr>\n",
       "      <th>Open</th>\n",
       "      <td>0.504766</td>\n",
       "      <td>1.000000</td>\n",
       "      <td>0.999220</td>\n",
       "      <td>0.998974</td>\n",
       "      <td>0.998088</td>\n",
       "      <td>-0.331514</td>\n",
       "      <td>-0.006221</td>\n",
       "    </tr>\n",
       "    <tr>\n",
       "      <th>High</th>\n",
       "      <td>0.504999</td>\n",
       "      <td>0.999220</td>\n",
       "      <td>1.000000</td>\n",
       "      <td>0.998844</td>\n",
       "      <td>0.999097</td>\n",
       "      <td>-0.324702</td>\n",
       "      <td>-0.006998</td>\n",
       "    </tr>\n",
       "    <tr>\n",
       "      <th>Low</th>\n",
       "      <td>0.507024</td>\n",
       "      <td>0.998974</td>\n",
       "      <td>0.998844</td>\n",
       "      <td>1.000000</td>\n",
       "      <td>0.999184</td>\n",
       "      <td>-0.343494</td>\n",
       "      <td>-0.006694</td>\n",
       "    </tr>\n",
       "    <tr>\n",
       "      <th>Close</th>\n",
       "      <td>0.507693</td>\n",
       "      <td>0.998088</td>\n",
       "      <td>0.999097</td>\n",
       "      <td>0.999184</td>\n",
       "      <td>1.000000</td>\n",
       "      <td>-0.335098</td>\n",
       "      <td>-0.007639</td>\n",
       "    </tr>\n",
       "    <tr>\n",
       "      <th>Volume</th>\n",
       "      <td>-0.239698</td>\n",
       "      <td>-0.331514</td>\n",
       "      <td>-0.324702</td>\n",
       "      <td>-0.343494</td>\n",
       "      <td>-0.335098</td>\n",
       "      <td>1.000000</td>\n",
       "      <td>0.005539</td>\n",
       "    </tr>\n",
       "    <tr>\n",
       "      <th>Dividends</th>\n",
       "      <td>-0.007372</td>\n",
       "      <td>-0.006221</td>\n",
       "      <td>-0.006998</td>\n",
       "      <td>-0.006694</td>\n",
       "      <td>-0.007639</td>\n",
       "      <td>0.005539</td>\n",
       "      <td>1.000000</td>\n",
       "    </tr>\n",
       "  </tbody>\n",
       "</table>\n",
       "</div>"
      ],
      "text/plain": [
       "               Date      Open      High       Low     Close    Volume  \\\n",
       "Date       1.000000  0.504766  0.504999  0.507024  0.507693 -0.239698   \n",
       "Open       0.504766  1.000000  0.999220  0.998974  0.998088 -0.331514   \n",
       "High       0.504999  0.999220  1.000000  0.998844  0.999097 -0.324702   \n",
       "Low        0.507024  0.998974  0.998844  1.000000  0.999184 -0.343494   \n",
       "Close      0.507693  0.998088  0.999097  0.999184  1.000000 -0.335098   \n",
       "Volume    -0.239698 -0.331514 -0.324702 -0.343494 -0.335098  1.000000   \n",
       "Dividends -0.007372 -0.006221 -0.006998 -0.006694 -0.007639  0.005539   \n",
       "\n",
       "           Dividends  \n",
       "Date       -0.007372  \n",
       "Open       -0.006221  \n",
       "High       -0.006998  \n",
       "Low        -0.006694  \n",
       "Close      -0.007639  \n",
       "Volume      0.005539  \n",
       "Dividends   1.000000  "
      ]
     },
     "execution_count": 87,
     "metadata": {},
     "output_type": "execute_result"
    }
   ],
   "source": [
    "\n",
    "df_filtered = dataset_empresa.drop(columns=['Year', 'Month', 'Day', 'Stock Splits'])\n",
    "#Tabla de correlaciones\n",
    "df_filtered.corr()"
   ]
  },
  {
   "cell_type": "code",
   "execution_count": 88,
   "metadata": {},
   "outputs": [
    {
     "data": {
      "image/png": "[encoded data removed]",
      "text/plain": [
       "<Figure size 1600x600 with 2 Axes>"
      ]
     },
     "metadata": {},
     "output_type": "display_data"
    }
   ],
   "source": [
    "plt.figure(figsize=(16, 6))\n",
    "ax = sns.heatmap(df_filtered.corr(), vmin=-1, vmax=1, annot=True, cmap=\"Spectral\", linewidths=.5);"
   ]
  },
  {
   "cell_type": "markdown",
   "metadata": {},
   "source": [
    "## 3.3- Variaciones importantes de precios dentro de los años 2019-2024 de la empresa a analizar"
   ]
  },
  {
   "cell_type": "markdown",
   "metadata": {},
   "source": [
    "A lo largo del período 2019-2023, las acciones de la empresa a analizar han debido de tener fluctuaciones con una mayor o menor volatilidad. Gracias a la exposición de estos datos, podemos identificar fechas clave en las que han podido suceder eventos o acontecimientos que hayan provocado una mayor volatilidad en los precios de las acciones.\n",
    "\n",
    "A través de esta sección, van a identificarse:\n",
    "\n",
    "1- Las variaciones porcentuales más altas en positivo en el precio de cierre de un día respecto al anterior. \n",
    "Se tendrá en cuenta la variación porcentual más alta por cada mes de cada año.\n",
    "\n",
    "2- Las variaciones porcentuales más altas en positivo en el precio de cierre de un día respecto al anterior. \n",
    "Se tendrá en cuenta 5 días de cada año, los cuales han tenido las 5 mayores variaciones más altas en cada año.\n",
    "\n",
    "3- Las variaciones porcentuales más altas en negativo en el precio de cierre de un día respecto al anterior. \n",
    "Se tendrá en cuenta la variación porcentual más alta en negativo por cada mes de cada año.\n",
    "\n",
    "4- Las variaciones porcentuales más altas en negativo en el precio de cierre de un día respecto al anterior. \n",
    "Se tendrá en cuenta 5 días de cada año, los cuales han tenido las 5 mayores variaciones más altas en cada año."
   ]
  },
  {
   "cell_type": "markdown",
   "metadata": {},
   "source": [
    "Antes que nada, vamos a proceder a generar una nueva columna, la cual mostrará la variación porcentual del precio de cierre (Close) de un día respecto al día anterior. Esta variación porcentual se muestra ya en forma porcentual, en otras palabras, cada número de var_close está expresado en porcentaje con dos decimales."
   ]
  },
  {
   "cell_type": "code",
   "execution_count": 89,
   "metadata": {},
   "outputs": [
    {
     "data": {
      "text/html": [
       "<div>\n",
       "<style scoped>\n",
       "    .dataframe tbody tr th:only-of-type {\n",
       "        vertical-align: middle;\n",
       "    }\n",
       "\n",
       "    .dataframe tbody tr th {\n",
       "        vertical-align: top;\n",
       "    }\n",
       "\n",
       "    .dataframe thead th {\n",
       "        text-align: right;\n",
       "    }\n",
       "</style>\n",
       "<table border=\"1\" class=\"dataframe\">\n",
       "  <thead>\n",
       "    <tr style=\"text-align: right;\">\n",
       "      <th></th>\n",
       "      <th>Date</th>\n",
       "      <th>Open</th>\n",
       "      <th>High</th>\n",
       "      <th>Low</th>\n",
       "      <th>Close</th>\n",
       "      <th>Volume</th>\n",
       "      <th>Dividends</th>\n",
       "      <th>Stock Splits</th>\n",
       "      <th>Year</th>\n",
       "      <th>Month</th>\n",
       "      <th>Day</th>\n",
       "      <th>var_close</th>\n",
       "    </tr>\n",
       "  </thead>\n",
       "  <tbody>\n",
       "    <tr>\n",
       "      <th>0</th>\n",
       "      <td>2019-01-02</td>\n",
       "      <td>22.949238</td>\n",
       "      <td>22.949238</td>\n",
       "      <td>22.233563</td>\n",
       "      <td>22.656151</td>\n",
       "      <td>579957</td>\n",
       "      <td>0.0</td>\n",
       "      <td>0.0</td>\n",
       "      <td>2019</td>\n",
       "      <td>1</td>\n",
       "      <td>2</td>\n",
       "      <td>NaN</td>\n",
       "    </tr>\n",
       "    <tr>\n",
       "      <th>1</th>\n",
       "      <td>2019-01-03</td>\n",
       "      <td>22.424411</td>\n",
       "      <td>22.921972</td>\n",
       "      <td>22.356252</td>\n",
       "      <td>22.710680</td>\n",
       "      <td>826120</td>\n",
       "      <td>0.0</td>\n",
       "      <td>0.0</td>\n",
       "      <td>2019</td>\n",
       "      <td>1</td>\n",
       "      <td>3</td>\n",
       "      <td>0.24</td>\n",
       "    </tr>\n",
       "    <tr>\n",
       "      <th>2</th>\n",
       "      <td>2019-01-04</td>\n",
       "      <td>22.969682</td>\n",
       "      <td>23.167346</td>\n",
       "      <td>22.881075</td>\n",
       "      <td>23.051474</td>\n",
       "      <td>962645</td>\n",
       "      <td>0.0</td>\n",
       "      <td>0.0</td>\n",
       "      <td>2019</td>\n",
       "      <td>1</td>\n",
       "      <td>4</td>\n",
       "      <td>1.50</td>\n",
       "    </tr>\n",
       "    <tr>\n",
       "      <th>3</th>\n",
       "      <td>2019-01-07</td>\n",
       "      <td>23.242326</td>\n",
       "      <td>23.378644</td>\n",
       "      <td>22.921976</td>\n",
       "      <td>23.126453</td>\n",
       "      <td>1501743</td>\n",
       "      <td>0.0</td>\n",
       "      <td>0.0</td>\n",
       "      <td>2019</td>\n",
       "      <td>1</td>\n",
       "      <td>7</td>\n",
       "      <td>0.33</td>\n",
       "    </tr>\n",
       "    <tr>\n",
       "      <th>4</th>\n",
       "      <td>2019-01-08</td>\n",
       "      <td>23.119633</td>\n",
       "      <td>23.603565</td>\n",
       "      <td>23.065107</td>\n",
       "      <td>23.365009</td>\n",
       "      <td>1264760</td>\n",
       "      <td>0.0</td>\n",
       "      <td>0.0</td>\n",
       "      <td>2019</td>\n",
       "      <td>1</td>\n",
       "      <td>8</td>\n",
       "      <td>1.03</td>\n",
       "    </tr>\n",
       "  </tbody>\n",
       "</table>\n",
       "</div>"
      ],
      "text/plain": [
       "        Date       Open       High        Low      Close   Volume  Dividends  \\\n",
       "0 2019-01-02  22.949238  22.949238  22.233563  22.656151   579957        0.0   \n",
       "1 2019-01-03  22.424411  22.921972  22.356252  22.710680   826120        0.0   \n",
       "2 2019-01-04  22.969682  23.167346  22.881075  23.051474   962645        0.0   \n",
       "3 2019-01-07  23.242326  23.378644  22.921976  23.126453  1501743        0.0   \n",
       "4 2019-01-08  23.119633  23.603565  23.065107  23.365009  1264760        0.0   \n",
       "\n",
       "   Stock Splits  Year  Month  Day  var_close  \n",
       "0           0.0  2019      1    2        NaN  \n",
       "1           0.0  2019      1    3       0.24  \n",
       "2           0.0  2019      1    4       1.50  \n",
       "3           0.0  2019      1    7       0.33  \n",
       "4           0.0  2019      1    8       1.03  "
      ]
     },
     "execution_count": 89,
     "metadata": {},
     "output_type": "execute_result"
    }
   ],
   "source": [
    "dataset_empresa['var_close'] = (dataset_empresa['Close'].pct_change() * 100).round(2)\n",
    "dataset_empresa.head()"
   ]
  },
  {
   "cell_type": "markdown",
   "metadata": {},
   "source": [
    "Tenemos un NaN en la primera fila, puesto que no puede coger datos del día anterior. Lo sustituimos por 0."
   ]
  },
  {
   "cell_type": "code",
   "execution_count": 90,
   "metadata": {},
   "outputs": [
    {
     "data": {
      "text/html": [
       "<div>\n",
       "<style scoped>\n",
       "    .dataframe tbody tr th:only-of-type {\n",
       "        vertical-align: middle;\n",
       "    }\n",
       "\n",
       "    .dataframe tbody tr th {\n",
       "        vertical-align: top;\n",
       "    }\n",
       "\n",
       "    .dataframe thead th {\n",
       "        text-align: right;\n",
       "    }\n",
       "</style>\n",
       "<table border=\"1\" class=\"dataframe\">\n",
       "  <thead>\n",
       "    <tr style=\"text-align: right;\">\n",
       "      <th></th>\n",
       "      <th>Date</th>\n",
       "      <th>Open</th>\n",
       "      <th>High</th>\n",
       "      <th>Low</th>\n",
       "      <th>Close</th>\n",
       "      <th>Volume</th>\n",
       "      <th>Dividends</th>\n",
       "      <th>Stock Splits</th>\n",
       "      <th>Year</th>\n",
       "      <th>Month</th>\n",
       "      <th>Day</th>\n",
       "      <th>var_close</th>\n",
       "    </tr>\n",
       "  </thead>\n",
       "  <tbody>\n",
       "    <tr>\n",
       "      <th>0</th>\n",
       "      <td>2019-01-02</td>\n",
       "      <td>22.949238</td>\n",
       "      <td>22.949238</td>\n",
       "      <td>22.233563</td>\n",
       "      <td>22.656151</td>\n",
       "      <td>579957</td>\n",
       "      <td>0.0</td>\n",
       "      <td>0.0</td>\n",
       "      <td>2019</td>\n",
       "      <td>1</td>\n",
       "      <td>2</td>\n",
       "      <td>0.00</td>\n",
       "    </tr>\n",
       "    <tr>\n",
       "      <th>1</th>\n",
       "      <td>2019-01-03</td>\n",
       "      <td>22.424411</td>\n",
       "      <td>22.921972</td>\n",
       "      <td>22.356252</td>\n",
       "      <td>22.710680</td>\n",
       "      <td>826120</td>\n",
       "      <td>0.0</td>\n",
       "      <td>0.0</td>\n",
       "      <td>2019</td>\n",
       "      <td>1</td>\n",
       "      <td>3</td>\n",
       "      <td>0.24</td>\n",
       "    </tr>\n",
       "    <tr>\n",
       "      <th>2</th>\n",
       "      <td>2019-01-04</td>\n",
       "      <td>22.969682</td>\n",
       "      <td>23.167346</td>\n",
       "      <td>22.881075</td>\n",
       "      <td>23.051474</td>\n",
       "      <td>962645</td>\n",
       "      <td>0.0</td>\n",
       "      <td>0.0</td>\n",
       "      <td>2019</td>\n",
       "      <td>1</td>\n",
       "      <td>4</td>\n",
       "      <td>1.50</td>\n",
       "    </tr>\n",
       "    <tr>\n",
       "      <th>3</th>\n",
       "      <td>2019-01-07</td>\n",
       "      <td>23.242326</td>\n",
       "      <td>23.378644</td>\n",
       "      <td>22.921976</td>\n",
       "      <td>23.126453</td>\n",
       "      <td>1501743</td>\n",
       "      <td>0.0</td>\n",
       "      <td>0.0</td>\n",
       "      <td>2019</td>\n",
       "      <td>1</td>\n",
       "      <td>7</td>\n",
       "      <td>0.33</td>\n",
       "    </tr>\n",
       "    <tr>\n",
       "      <th>4</th>\n",
       "      <td>2019-01-08</td>\n",
       "      <td>23.119633</td>\n",
       "      <td>23.603565</td>\n",
       "      <td>23.065107</td>\n",
       "      <td>23.365009</td>\n",
       "      <td>1264760</td>\n",
       "      <td>0.0</td>\n",
       "      <td>0.0</td>\n",
       "      <td>2019</td>\n",
       "      <td>1</td>\n",
       "      <td>8</td>\n",
       "      <td>1.03</td>\n",
       "    </tr>\n",
       "  </tbody>\n",
       "</table>\n",
       "</div>"
      ],
      "text/plain": [
       "        Date       Open       High        Low      Close   Volume  Dividends  \\\n",
       "0 2019-01-02  22.949238  22.949238  22.233563  22.656151   579957        0.0   \n",
       "1 2019-01-03  22.424411  22.921972  22.356252  22.710680   826120        0.0   \n",
       "2 2019-01-04  22.969682  23.167346  22.881075  23.051474   962645        0.0   \n",
       "3 2019-01-07  23.242326  23.378644  22.921976  23.126453  1501743        0.0   \n",
       "4 2019-01-08  23.119633  23.603565  23.065107  23.365009  1264760        0.0   \n",
       "\n",
       "   Stock Splits  Year  Month  Day  var_close  \n",
       "0           0.0  2019      1    2       0.00  \n",
       "1           0.0  2019      1    3       0.24  \n",
       "2           0.0  2019      1    4       1.50  \n",
       "3           0.0  2019      1    7       0.33  \n",
       "4           0.0  2019      1    8       1.03  "
      ]
     },
     "execution_count": 90,
     "metadata": {},
     "output_type": "execute_result"
    }
   ],
   "source": [
    "dataset_empresa['var_close'].fillna(0, inplace=True)\n",
    "dataset_empresa.head()"
   ]
  },
  {
   "cell_type": "code",
   "execution_count": 91,
   "metadata": {},
   "outputs": [],
   "source": [
    "dataset_empresa['Year'] = dataset_empresa['Date'].dt.year"
   ]
  },
  {
   "cell_type": "markdown",
   "metadata": {},
   "source": [
    "### 3.3.1- Mayores incrementos de precio de cierre por mes de cada año"
   ]
  },
  {
   "cell_type": "markdown",
   "metadata": {},
   "source": [
    "Se muestra dentro de las variaciones porcentuales de var_close, los mayores incrementos que ha habido en un día respecto al anterior por mes de cada año."
   ]
  },
  {
   "cell_type": "code",
   "execution_count": 92,
   "metadata": {},
   "outputs": [
    {
     "data": {
      "text/html": [
       "<div>\n",
       "<style scoped>\n",
       "    .dataframe tbody tr th:only-of-type {\n",
       "        vertical-align: middle;\n",
       "    }\n",
       "\n",
       "    .dataframe tbody tr th {\n",
       "        vertical-align: top;\n",
       "    }\n",
       "\n",
       "    .dataframe thead th {\n",
       "        text-align: right;\n",
       "    }\n",
       "</style>\n",
       "<table border=\"1\" class=\"dataframe\">\n",
       "  <thead>\n",
       "    <tr style=\"text-align: right;\">\n",
       "      <th></th>\n",
       "      <th>Year</th>\n",
       "      <th>Month</th>\n",
       "      <th>var_close</th>\n",
       "    </tr>\n",
       "  </thead>\n",
       "  <tbody>\n",
       "    <tr>\n",
       "      <th>0</th>\n",
       "      <td>2019</td>\n",
       "      <td>1</td>\n",
       "      <td>2.53</td>\n",
       "    </tr>\n",
       "    <tr>\n",
       "      <th>1</th>\n",
       "      <td>2019</td>\n",
       "      <td>2</td>\n",
       "      <td>1.85</td>\n",
       "    </tr>\n",
       "    <tr>\n",
       "      <th>2</th>\n",
       "      <td>2019</td>\n",
       "      <td>3</td>\n",
       "      <td>2.28</td>\n",
       "    </tr>\n",
       "    <tr>\n",
       "      <th>3</th>\n",
       "      <td>2019</td>\n",
       "      <td>4</td>\n",
       "      <td>2.69</td>\n",
       "    </tr>\n",
       "    <tr>\n",
       "      <th>4</th>\n",
       "      <td>2019</td>\n",
       "      <td>5</td>\n",
       "      <td>1.62</td>\n",
       "    </tr>\n",
       "    <tr>\n",
       "      <th>...</th>\n",
       "      <td>...</td>\n",
       "      <td>...</td>\n",
       "      <td>...</td>\n",
       "    </tr>\n",
       "    <tr>\n",
       "      <th>59</th>\n",
       "      <td>2023</td>\n",
       "      <td>12</td>\n",
       "      <td>2.87</td>\n",
       "    </tr>\n",
       "    <tr>\n",
       "      <th>60</th>\n",
       "      <td>2024</td>\n",
       "      <td>1</td>\n",
       "      <td>1.76</td>\n",
       "    </tr>\n",
       "    <tr>\n",
       "      <th>61</th>\n",
       "      <td>2024</td>\n",
       "      <td>2</td>\n",
       "      <td>1.60</td>\n",
       "    </tr>\n",
       "    <tr>\n",
       "      <th>62</th>\n",
       "      <td>2024</td>\n",
       "      <td>3</td>\n",
       "      <td>2.28</td>\n",
       "    </tr>\n",
       "    <tr>\n",
       "      <th>63</th>\n",
       "      <td>2024</td>\n",
       "      <td>4</td>\n",
       "      <td>1.36</td>\n",
       "    </tr>\n",
       "  </tbody>\n",
       "</table>\n",
       "<p>64 rows × 3 columns</p>\n",
       "</div>"
      ],
      "text/plain": [
       "    Year  Month  var_close\n",
       "0   2019      1       2.53\n",
       "1   2019      2       1.85\n",
       "2   2019      3       2.28\n",
       "3   2019      4       2.69\n",
       "4   2019      5       1.62\n",
       "..   ...    ...        ...\n",
       "59  2023     12       2.87\n",
       "60  2024      1       1.76\n",
       "61  2024      2       1.60\n",
       "62  2024      3       2.28\n",
       "63  2024      4       1.36\n",
       "\n",
       "[64 rows x 3 columns]"
      ]
     },
     "execution_count": 92,
     "metadata": {},
     "output_type": "execute_result"
    }
   ],
   "source": [
    "mayor_var_close_mes_positivo = dataset_empresa.groupby(['Year','Month'])['var_close'].max().reset_index()\n",
    "mayor_var_close_mes_positivo"
   ]
  },
  {
   "cell_type": "markdown",
   "metadata": {},
   "source": [
    "Se muestra de forma gráfica estos valores:"
   ]
  },
  {
   "cell_type": "code",
   "execution_count": 93,
   "metadata": {},
   "outputs": [
    {
     "data": {
      "application/vnd.plotly.v1+json": {
       "config": {
        "plotlyServerURL": "https://plot.ly"
       },
       "data": [
        {
         "branchvalues": "total",
         "domain": {
          "x": [
           0,
           1
          ],
          "y": [
           0,
           1
          ]
         },
         "hovertemplate": "labels=%{label}<br>var_close=%{value}<br>parent=%{parent}<br>id=%{id}<extra></extra>",
         "ids": [
          "2019/11/1.26",
          "2021/4/1.34",
          "2024/4/1.36",
          "2023/8/1.37",
          "2022/11/1.42",
          "2023/6/1.45",
          "2024/2/1.6",
          "2019/5/1.62",
          "2023/5/1.63",
          "2021/6/1.64",
          "2024/1/1.76",
          "2023/1/1.79",
          "2022/12/1.83",
          "2019/2/1.85",
          "2023/4/1.87",
          "2022/8/1.87",
          "2023/9/1.87",
          "2019/12/1.91",
          "2021/8/1.94",
          "2021/10/1.97",
          "2022/6/2.13",
          "2022/4/2.21",
          "2023/11/2.21",
          "2022/1/2.23",
          "2019/6/2.25",
          "2019/3/2.28",
          "2024/3/2.28",
          "2022/9/2.3",
          "2019/1/2.53",
          "2023/3/2.54",
          "2021/12/2.64",
          "2021/2/2.68",
          "2019/4/2.69",
          "2021/5/2.75",
          "2022/10/2.78",
          "2023/10/2.78",
          "2023/12/2.87",
          "2019/9/2.92",
          "2022/5/2.97",
          "2020/1/3.0",
          "2019/8/3.09",
          "2019/10/3.11",
          "2023/7/3.17",
          "2019/7/3.19",
          "2022/2/3.26",
          "2020/12/3.34",
          "2021/1/3.55",
          "2022/7/3.63",
          "2021/7/3.68",
          "2020/2/3.75",
          "2023/2/3.85",
          "2021/9/4.0",
          "2021/3/4.42",
          "2022/3/4.61",
          "2021/11/4.72",
          "2020/9/4.81",
          "2020/7/5.02",
          "2020/8/5.39",
          "2020/6/6.95",
          "2020/4/9.22",
          "2020/5/9.7",
          "2020/11/10.25",
          "2020/3/16.86",
          "2020/10/25.85",
          "2019/1",
          "2020/1",
          "2021/1",
          "2022/1",
          "2023/1",
          "2024/1",
          "2019/2",
          "2020/2",
          "2021/2",
          "2022/2",
          "2023/2",
          "2024/2",
          "2019/3",
          "2020/3",
          "2021/3",
          "2022/3",
          "2023/3",
          "2024/3",
          "2019/4",
          "2020/4",
          "2021/4",
          "2022/4",
          "2023/4",
          "2024/4",
          "2019/5",
          "2020/5",
          "2021/5",
          "2022/5",
          "2023/5",
          "2019/6",
          "2020/6",
          "2021/6",
          "2022/6",
          "2023/6",
          "2019/7",
          "2020/7",
          "2021/7",
          "2022/7",
          "2023/7",
          "2019/8",
          "2020/8",
          "2021/8",
          "2022/8",
          "2023/8",
          "2019/9",
          "2020/9",
          "2021/9",
          "2022/9",
          "2023/9",
          "2019/10",
          "2020/10",
          "2021/10",
          "2022/10",
          "2023/10",
          "2019/11",
          "2020/11",
          "2021/11",
          "2022/11",
          "2023/11",
          "2019/12",
          "2020/12",
          "2021/12",
          "2022/12",
          "2023/12",
          "2019",
          "2020",
          "2021",
          "2022",
          "2023",
          "2024"
         ],
         "labels": [
          "1.26",
          "1.34",
          "1.36",
          "1.37",
          "1.42",
          "1.45",
          "1.6",
          "1.62",
          "1.63",
          "1.64",
          "1.76",
          "1.79",
          "1.83",
          "1.85",
          "1.87",
          "1.87",
          "1.87",
          "1.91",
          "1.94",
          "1.97",
          "2.13",
          "2.21",
          "2.21",
          "2.23",
          "2.25",
          "2.28",
          "2.28",
          "2.3",
          "2.53",
          "2.54",
          "2.64",
          "2.68",
          "2.69",
          "2.75",
          "2.78",
          "2.78",
          "2.87",
          "2.92",
          "2.97",
          "3.0",
          "3.09",
          "3.11",
          "3.17",
          "3.19",
          "3.26",
          "3.34",
          "3.55",
          "3.63",
          "3.68",
          "3.75",
          "3.85",
          "4.0",
          "4.42",
          "4.61",
          "4.72",
          "4.81",
          "5.02",
          "5.39",
          "6.95",
          "9.22",
          "9.7",
          "10.25",
          "16.86",
          "25.85",
          "1",
          "1",
          "1",
          "1",
          "1",
          "1",
          "2",
          "2",
          "2",
          "2",
          "2",
          "2",
          "3",
          "3",
          "3",
          "3",
          "3",
          "3",
          "4",
          "4",
          "4",
          "4",
          "4",
          "4",
          "5",
          "5",
          "5",
          "5",
          "5",
          "6",
          "6",
          "6",
          "6",
          "6",
          "7",
          "7",
          "7",
          "7",
          "7",
          "8",
          "8",
          "8",
          "8",
          "8",
          "9",
          "9",
          "9",
          "9",
          "9",
          "10",
          "10",
          "10",
          "10",
          "10",
          "11",
          "11",
          "11",
          "11",
          "11",
          "12",
          "12",
          "12",
          "12",
          "12",
          "2019",
          "2020",
          "2021",
          "2022",
          "2023",
          "2024"
         ],
         "name": "",
         "parents": [
          "2019/11",
          "2021/4",
          "2024/4",
          "2023/8",
          "2022/11",
          "2023/6",
          "2024/2",
          "2019/5",
          "2023/5",
          "2021/6",
          "2024/1",
          "2023/1",
          "2022/12",
          "2019/2",
          "2023/4",
          "2022/8",
          "2023/9",
          "2019/12",
          "2021/8",
          "2021/10",
          "2022/6",
          "2022/4",
          "2023/11",
          "2022/1",
          "2019/6",
          "2019/3",
          "2024/3",
          "2022/9",
          "2019/1",
          "2023/3",
          "2021/12",
          "2021/2",
          "2019/4",
          "2021/5",
          "2022/10",
          "2023/10",
          "2023/12",
          "2019/9",
          "2022/5",
          "2020/1",
          "2019/8",
          "2019/10",
          "2023/7",
          "2019/7",
          "2022/2",
          "2020/12",
          "2021/1",
          "2022/7",
          "2021/7",
          "2020/2",
          "2023/2",
          "2021/9",
          "2021/3",
          "2022/3",
          "2021/11",
          "2020/9",
          "2020/7",
          "2020/8",
          "2020/6",
          "2020/4",
          "2020/5",
          "2020/11",
          "2020/3",
          "2020/10",
          "2019",
          "2020",
          "2021",
          "2022",
          "2023",
          "2024",
          "2019",
          "2020",
          "2021",
          "2022",
          "2023",
          "2024",
          "2019",
          "2020",
          "2021",
          "2022",
          "2023",
          "2024",
          "2019",
          "2020",
          "2021",
          "2022",
          "2023",
          "2024",
          "2019",
          "2020",
          "2021",
          "2022",
          "2023",
          "2019",
          "2020",
          "2021",
          "2022",
          "2023",
          "2019",
          "2020",
          "2021",
          "2022",
          "2023",
          "2019",
          "2020",
          "2021",
          "2022",
          "2023",
          "2019",
          "2020",
          "2021",
          "2022",
          "2023",
          "2019",
          "2020",
          "2021",
          "2022",
          "2023",
          "2019",
          "2020",
          "2021",
          "2022",
          "2023",
          "2019",
          "2020",
          "2021",
          "2022",
          "2023",
          "",
          "",
          "",
          "",
          "",
          ""
         ],
         "type": "treemap",
         "values": [
          1.26,
          1.34,
          1.36,
          1.37,
          1.42,
          1.45,
          1.6,
          1.62,
          1.63,
          1.64,
          1.76,
          1.79,
          1.83,
          1.85,
          1.87,
          1.87,
          1.87,
          1.91,
          1.94,
          1.97,
          2.13,
          2.21,
          2.21,
          2.23,
          2.25,
          2.28,
          2.28,
          2.3,
          2.53,
          2.54,
          2.64,
          2.68,
          2.69,
          2.75,
          2.78,
          2.78,
          2.87,
          2.92,
          2.97,
          3,
          3.09,
          3.11,
          3.17,
          3.19,
          3.26,
          3.34,
          3.55,
          3.63,
          3.68,
          3.75,
          3.85,
          4,
          4.42,
          4.61,
          4.72,
          4.81,
          5.02,
          5.39,
          6.95,
          9.22,
          9.7,
          10.25,
          16.86,
          25.85,
          2.53,
          3,
          3.55,
          2.23,
          1.79,
          1.76,
          1.85,
          3.75,
          2.68,
          3.26,
          3.85,
          1.6,
          2.28,
          16.86,
          4.42,
          4.61,
          2.54,
          2.28,
          2.69,
          9.22,
          1.34,
          2.21,
          1.87,
          1.36,
          1.62,
          9.7,
          2.75,
          2.97,
          1.63,
          2.25,
          6.95,
          1.64,
          2.13,
          1.45,
          3.19,
          5.02,
          3.68,
          3.63,
          3.17,
          3.09,
          5.39,
          1.94,
          1.87,
          1.37,
          2.92,
          4.81,
          4,
          2.3,
          1.87,
          3.11,
          25.85,
          1.97,
          2.78,
          2.78,
          1.26,
          10.25,
          4.72,
          1.42,
          2.21,
          1.91,
          3.34,
          2.64,
          1.83,
          2.87,
          28.7,
          104.14,
          35.33,
          31.24,
          27.4,
          7
         ]
        }
       ],
       "layout": {
        "legend": {
         "tracegroupgap": 0
        },
        "margin": {
         "t": 60
        },
        "template": {
         "data": {
          "bar": [
           {
            "error_x": {
             "color": "#2a3f5f"
            },
            "error_y": {
             "color": "#2a3f5f"
            },
            "marker": {
             "line": {
              "color": "#E5ECF6",
              "width": 0.5
             },
             "pattern": {
              "fillmode": "overlay",
              "size": 10,
              "solidity": 0.2
             }
            },
            "type": "bar"
           }
          ],
          "barpolar": [
           {
            "marker": {
             "line": {
              "color": "#E5ECF6",
              "width": 0.5
             },
             "pattern": {
              "fillmode": "overlay",
              "size": 10,
              "solidity": 0.2
             }
            },
            "type": "barpolar"
           }
          ],
          "carpet": [
           {
            "aaxis": {
             "endlinecolor": "#2a3f5f",
             "gridcolor": "white",
             "linecolor": "white",
             "minorgridcolor": "white",
             "startlinecolor": "#2a3f5f"
            },
            "baxis": {
             "endlinecolor": "#2a3f5f",
             "gridcolor": "white",
             "linecolor": "white",
             "minorgridcolor": "white",
             "startlinecolor": "#2a3f5f"
            },
            "type": "carpet"
           }
          ],
          "choropleth": [
           {
            "colorbar": {
             "outlinewidth": 0,
             "ticks": ""
            },
            "type": "choropleth"
           }
          ],
          "contour": [
           {
            "colorbar": {
             "outlinewidth": 0,
             "ticks": ""
            },
            "colorscale": [
             [
              0,
              "#0d0887"
             ],
             [
              0.1111111111111111,
              "#46039f"
             ],
             [
              0.2222222222222222,
              "#7201a8"
             ],
             [
              0.3333333333333333,
              "#9c179e"
             ],
             [
              0.4444444444444444,
              "#bd3786"
             ],
             [
              0.5555555555555556,
              "#d8576b"
             ],
             [
              0.6666666666666666,
              "#ed7953"
             ],
             [
              0.7777777777777778,
              "#fb9f3a"
             ],
             [
              0.8888888888888888,
              "#fdca26"
             ],
             [
              1,
              "#f0f921"
             ]
            ],
            "type": "contour"
           }
          ],
          "contourcarpet": [
           {
            "colorbar": {
             "outlinewidth": 0,
             "ticks": ""
            },
            "type": "contourcarpet"
           }
          ],
          "heatmap": [
           {
            "colorbar": {
             "outlinewidth": 0,
             "ticks": ""
            },
            "colorscale": [
             [
              0,
              "#0d0887"
             ],
             [
              0.1111111111111111,
              "#46039f"
             ],
             [
              0.2222222222222222,
              "#7201a8"
             ],
             [
              0.3333333333333333,
              "#9c179e"
             ],
             [
              0.4444444444444444,
              "#bd3786"
             ],
             [
              0.5555555555555556,
              "#d8576b"
             ],
             [
              0.6666666666666666,
              "#ed7953"
             ],
             [
              0.7777777777777778,
              "#fb9f3a"
             ],
             [
              0.8888888888888888,
              "#fdca26"
             ],
             [
              1,
              "#f0f921"
             ]
            ],
            "type": "heatmap"
           }
          ],
          "heatmapgl": [
           {
            "colorbar": {
             "outlinewidth": 0,
             "ticks": ""
            },
            "colorscale": [
             [
              0,
              "#0d0887"
             ],
             [
              0.1111111111111111,
              "#46039f"
             ],
             [
              0.2222222222222222,
              "#7201a8"
             ],
             [
              0.3333333333333333,
              "#9c179e"
             ],
             [
              0.4444444444444444,
              "#bd3786"
             ],
             [
              0.5555555555555556,
              "#d8576b"
             ],
             [
              0.6666666666666666,
              "#ed7953"
             ],
             [
              0.7777777777777778,
              "#fb9f3a"
             ],
             [
              0.8888888888888888,
              "#fdca26"
             ],
             [
              1,
              "#f0f921"
             ]
            ],
            "type": "heatmapgl"
           }
          ],
          "histogram": [
           {
            "marker": {
             "pattern": {
              "fillmode": "overlay",
              "size": 10,
              "solidity": 0.2
             }
            },
            "type": "histogram"
           }
          ],
          "histogram2d": [
           {
            "colorbar": {
             "outlinewidth": 0,
             "ticks": ""
            },
            "colorscale": [
             [
              0,
              "#0d0887"
             ],
             [
              0.1111111111111111,
              "#46039f"
             ],
             [
              0.2222222222222222,
              "#7201a8"
             ],
             [
              0.3333333333333333,
              "#9c179e"
             ],
             [
              0.4444444444444444,
              "#bd3786"
             ],
             [
              0.5555555555555556,
              "#d8576b"
             ],
             [
              0.6666666666666666,
              "#ed7953"
             ],
             [
              0.7777777777777778,
              "#fb9f3a"
             ],
             [
              0.8888888888888888,
              "#fdca26"
             ],
             [
              1,
              "#f0f921"
             ]
            ],
            "type": "histogram2d"
           }
          ],
          "histogram2dcontour": [
           {
            "colorbar": {
             "outlinewidth": 0,
             "ticks": ""
            },
            "colorscale": [
             [
              0,
              "#0d0887"
             ],
             [
              0.1111111111111111,
              "#46039f"
             ],
             [
              0.2222222222222222,
              "#7201a8"
             ],
             [
              0.3333333333333333,
              "#9c179e"
             ],
             [
              0.4444444444444444,
              "#bd3786"
             ],
             [
              0.5555555555555556,
              "#d8576b"
             ],
             [
              0.6666666666666666,
              "#ed7953"
             ],
             [
              0.7777777777777778,
              "#fb9f3a"
             ],
             [
              0.8888888888888888,
              "#fdca26"
             ],
             [
              1,
              "#f0f921"
             ]
            ],
            "type": "histogram2dcontour"
           }
          ],
          "mesh3d": [
           {
            "colorbar": {
             "outlinewidth": 0,
             "ticks": ""
            },
            "type": "mesh3d"
           }
          ],
          "parcoords": [
           {
            "line": {
             "colorbar": {
              "outlinewidth": 0,
              "ticks": ""
             }
            },
            "type": "parcoords"
           }
          ],
          "pie": [
           {
            "automargin": true,
            "type": "pie"
           }
          ],
          "scatter": [
           {
            "fillpattern": {
             "fillmode": "overlay",
             "size": 10,
             "solidity": 0.2
            },
            "type": "scatter"
           }
          ],
          "scatter3d": [
           {
            "line": {
             "colorbar": {
              "outlinewidth": 0,
              "ticks": ""
             }
            },
            "marker": {
             "colorbar": {
              "outlinewidth": 0,
              "ticks": ""
             }
            },
            "type": "scatter3d"
           }
          ],
          "scattercarpet": [
           {
            "marker": {
             "colorbar": {
              "outlinewidth": 0,
              "ticks": ""
             }
            },
            "type": "scattercarpet"
           }
          ],
          "scattergeo": [
           {
            "marker": {
             "colorbar": {
              "outlinewidth": 0,
              "ticks": ""
             }
            },
            "type": "scattergeo"
           }
          ],
          "scattergl": [
           {
            "marker": {
             "colorbar": {
              "outlinewidth": 0,
              "ticks": ""
             }
            },
            "type": "scattergl"
           }
          ],
          "scattermapbox": [
           {
            "marker": {
             "colorbar": {
              "outlinewidth": 0,
              "ticks": ""
             }
            },
            "type": "scattermapbox"
           }
          ],
          "scatterpolar": [
           {
            "marker": {
             "colorbar": {
              "outlinewidth": 0,
              "ticks": ""
             }
            },
            "type": "scatterpolar"
           }
          ],
          "scatterpolargl": [
           {
            "marker": {
             "colorbar": {
              "outlinewidth": 0,
              "ticks": ""
             }
            },
            "type": "scatterpolargl"
           }
          ],
          "scatterternary": [
           {
            "marker": {
             "colorbar": {
              "outlinewidth": 0,
              "ticks": ""
             }
            },
            "type": "scatterternary"
           }
          ],
          "surface": [
           {
            "colorbar": {
             "outlinewidth": 0,
             "ticks": ""
            },
            "colorscale": [
             [
              0,
              "#0d0887"
             ],
             [
              0.1111111111111111,
              "#46039f"
             ],
             [
              0.2222222222222222,
              "#7201a8"
             ],
             [
              0.3333333333333333,
              "#9c179e"
             ],
             [
              0.4444444444444444,
              "#bd3786"
             ],
             [
              0.5555555555555556,
              "#d8576b"
             ],
             [
              0.6666666666666666,
              "#ed7953"
             ],
             [
              0.7777777777777778,
              "#fb9f3a"
             ],
             [
              0.8888888888888888,
              "#fdca26"
             ],
             [
              1,
              "#f0f921"
             ]
            ],
            "type": "surface"
           }
          ],
          "table": [
           {
            "cells": {
             "fill": {
              "color": "#EBF0F8"
             },
             "line": {
              "color": "white"
             }
            },
            "header": {
             "fill": {
              "color": "#C8D4E3"
             },
             "line": {
              "color": "white"
             }
            },
            "type": "table"
           }
          ]
         },
         "layout": {
          "annotationdefaults": {
           "arrowcolor": "#2a3f5f",
           "arrowhead": 0,
           "arrowwidth": 1
          },
          "autotypenumbers": "strict",
          "coloraxis": {
           "colorbar": {
            "outlinewidth": 0,
            "ticks": ""
           }
          },
          "colorscale": {
           "diverging": [
            [
             0,
             "#8e0152"
            ],
            [
             0.1,
             "#c51b7d"
            ],
            [
             0.2,
             "#de77ae"
            ],
            [
             0.3,
             "#f1b6da"
            ],
            [
             0.4,
             "#fde0ef"
            ],
            [
             0.5,
             "#f7f7f7"
            ],
            [
             0.6,
             "#e6f5d0"
            ],
            [
             0.7,
             "#b8e186"
            ],
            [
             0.8,
             "#7fbc41"
            ],
            [
             0.9,
             "#4d9221"
            ],
            [
             1,
             "#276419"
            ]
           ],
           "sequential": [
            [
             0,
             "#0d0887"
            ],
            [
             0.1111111111111111,
             "#46039f"
            ],
            [
             0.2222222222222222,
             "#7201a8"
            ],
            [
             0.3333333333333333,
             "#9c179e"
            ],
            [
             0.4444444444444444,
             "#bd3786"
            ],
            [
             0.5555555555555556,
             "#d8576b"
            ],
            [
             0.6666666666666666,
             "#ed7953"
            ],
            [
             0.7777777777777778,
             "#fb9f3a"
            ],
            [
             0.8888888888888888,
             "#fdca26"
            ],
            [
             1,
             "#f0f921"
            ]
           ],
           "sequentialminus": [
            [
             0,
             "#0d0887"
            ],
            [
             0.1111111111111111,
             "#46039f"
            ],
            [
             0.2222222222222222,
             "#7201a8"
            ],
            [
             0.3333333333333333,
             "#9c179e"
            ],
            [
             0.4444444444444444,
             "#bd3786"
            ],
            [
             0.5555555555555556,
             "#d8576b"
            ],
            [
             0.6666666666666666,
             "#ed7953"
            ],
            [
             0.7777777777777778,
             "#fb9f3a"
            ],
            [
             0.8888888888888888,
             "#fdca26"
            ],
            [
             1,
             "#f0f921"
            ]
           ]
          },
          "colorway": [
           "#636efa",
           "#EF553B",
           "#00cc96",
           "#ab63fa",
           "#FFA15A",
           "#19d3f3",
           "#FF6692",
           "#B6E880",
           "#FF97FF",
           "#FECB52"
          ],
          "font": {
           "color": "#2a3f5f"
          },
          "geo": {
           "bgcolor": "white",
           "lakecolor": "white",
           "landcolor": "#E5ECF6",
           "showlakes": true,
           "showland": true,
           "subunitcolor": "white"
          },
          "hoverlabel": {
           "align": "left"
          },
          "hovermode": "closest",
          "mapbox": {
           "style": "light"
          },
          "paper_bgcolor": "white",
          "plot_bgcolor": "#E5ECF6",
          "polar": {
           "angularaxis": {
            "gridcolor": "white",
            "linecolor": "white",
            "ticks": ""
           },
           "bgcolor": "#E5ECF6",
           "radialaxis": {
            "gridcolor": "white",
            "linecolor": "white",
            "ticks": ""
           }
          },
          "scene": {
           "xaxis": {
            "backgroundcolor": "#E5ECF6",
            "gridcolor": "white",
            "gridwidth": 2,
            "linecolor": "white",
            "showbackground": true,
            "ticks": "",
            "zerolinecolor": "white"
           },
           "yaxis": {
            "backgroundcolor": "#E5ECF6",
            "gridcolor": "white",
            "gridwidth": 2,
            "linecolor": "white",
            "showbackground": true,
            "ticks": "",
            "zerolinecolor": "white"
           },
           "zaxis": {
            "backgroundcolor": "#E5ECF6",
            "gridcolor": "white",
            "gridwidth": 2,
            "linecolor": "white",
            "showbackground": true,
            "ticks": "",
            "zerolinecolor": "white"
           }
          },
          "shapedefaults": {
           "line": {
            "color": "#2a3f5f"
           }
          },
          "ternary": {
           "aaxis": {
            "gridcolor": "white",
            "linecolor": "white",
            "ticks": ""
           },
           "baxis": {
            "gridcolor": "white",
            "linecolor": "white",
            "ticks": ""
           },
           "bgcolor": "#E5ECF6",
           "caxis": {
            "gridcolor": "white",
            "linecolor": "white",
            "ticks": ""
           }
          },
          "title": {
           "x": 0.05
          },
          "xaxis": {
           "automargin": true,
           "gridcolor": "white",
           "linecolor": "white",
           "ticks": "",
           "title": {
            "standoff": 15
           },
           "zerolinecolor": "white",
           "zerolinewidth": 2
          },
          "yaxis": {
           "automargin": true,
           "gridcolor": "white",
           "linecolor": "white",
           "ticks": "",
           "title": {
            "standoff": 15
           },
           "zerolinecolor": "white",
           "zerolinewidth": 2
          }
         }
        },
        "title": {
         "font": {
          "size": 19
         },
         "text": "Variaciones de precio de cierre máximas en positivo por año y mes entre 2019-2024"
        }
       }
      }
     },
     "metadata": {},
     "output_type": "display_data"
    }
   ],
   "source": [
    "import plotly.express as px\n",
    "\n",
    "fig = px.treemap(mayor_var_close_mes_positivo, path=['Year', 'Month', 'var_close'], values='var_close')\n",
    "fig.update_layout(\n",
    "    title='Variaciones de precio de cierre máximas en positivo por año y mes entre 2019-2024',\n",
    "    title_font=dict(size=19)\n",
    ")\n",
    "fig.show()"
   ]
  },
  {
   "cell_type": "markdown",
   "metadata": {},
   "source": [
    "### 3.3.2- Mayores 5 incrementos de precio de cierre de cada año"
   ]
  },
  {
   "cell_type": "code",
   "execution_count": 94,
   "metadata": {},
   "outputs": [
    {
     "data": {
      "text/plain": [
       "Year      \n",
       "2019  133      3.19\n",
       "      199      3.11\n",
       "      153      3.09\n",
       "      176      2.92\n",
       "      71       2.69\n",
       "2020  449     25.85\n",
       "      312     16.86\n",
       "      315     11.45\n",
       "      475     10.25\n",
       "      356      9.70\n",
       "2021  730      4.72\n",
       "      553      4.42\n",
       "      691      4.00\n",
       "      653      3.68\n",
       "      519      3.55\n",
       "2022  816      4.61\n",
       "      815      4.37\n",
       "      811      4.14\n",
       "      916      3.63\n",
       "      808      3.26\n",
       "2023  1064     3.85\n",
       "      1170     3.17\n",
       "      1270     2.87\n",
       "      1222     2.78\n",
       "      1077     2.54\n",
       "2024  1332     2.28\n",
       "      1294     1.76\n",
       "      1328     1.69\n",
       "      1325     1.64\n",
       "      1337     1.64\n",
       "Name: var_close, dtype: float64"
      ]
     },
     "execution_count": 94,
     "metadata": {},
     "output_type": "execute_result"
    }
   ],
   "source": [
    "highest_var_close = dataset_empresa.groupby('Year')['var_close'].nlargest(5)\n",
    "highest_var_close"
   ]
  },
  {
   "cell_type": "markdown",
   "metadata": {},
   "source": [
    "Se muestra los 5 mayores incrementos de precio de cierre (€) en positivo en cada año.\n",
    "\n",
    "A continuación se muestran las variaciones en su respectiva fecha, junto con el precio de cierre (€) al que se encontraba en ese momento."
   ]
  },
  {
   "cell_type": "code",
   "execution_count": 95,
   "metadata": {},
   "outputs": [
    {
     "data": {
      "text/html": [
       "<div>\n",
       "<style scoped>\n",
       "    .dataframe tbody tr th:only-of-type {\n",
       "        vertical-align: middle;\n",
       "    }\n",
       "\n",
       "    .dataframe tbody tr th {\n",
       "        vertical-align: top;\n",
       "    }\n",
       "\n",
       "    .dataframe thead th {\n",
       "        text-align: right;\n",
       "    }\n",
       "</style>\n",
       "<table border=\"1\" class=\"dataframe\">\n",
       "  <thead>\n",
       "    <tr style=\"text-align: right;\">\n",
       "      <th></th>\n",
       "      <th>Close</th>\n",
       "      <th>var_close</th>\n",
       "    </tr>\n",
       "    <tr>\n",
       "      <th>Date</th>\n",
       "      <th></th>\n",
       "      <th></th>\n",
       "    </tr>\n",
       "  </thead>\n",
       "  <tbody>\n",
       "    <tr>\n",
       "      <th>2019-04-11</th>\n",
       "      <td>27.978661</td>\n",
       "      <td>2.69</td>\n",
       "    </tr>\n",
       "    <tr>\n",
       "      <th>2019-07-11</th>\n",
       "      <td>27.427443</td>\n",
       "      <td>3.19</td>\n",
       "    </tr>\n",
       "    <tr>\n",
       "      <th>2019-08-08</th>\n",
       "      <td>25.179529</td>\n",
       "      <td>3.09</td>\n",
       "    </tr>\n",
       "    <tr>\n",
       "      <th>2019-09-10</th>\n",
       "      <td>26.098804</td>\n",
       "      <td>2.92</td>\n",
       "    </tr>\n",
       "    <tr>\n",
       "      <th>2019-10-11</th>\n",
       "      <td>25.991079</td>\n",
       "      <td>3.11</td>\n",
       "    </tr>\n",
       "    <tr>\n",
       "      <th>2020-03-20</th>\n",
       "      <td>9.744021</td>\n",
       "      <td>16.86</td>\n",
       "    </tr>\n",
       "    <tr>\n",
       "      <th>2020-03-25</th>\n",
       "      <td>11.772962</td>\n",
       "      <td>11.45</td>\n",
       "    </tr>\n",
       "    <tr>\n",
       "      <th>2020-05-26</th>\n",
       "      <td>17.542883</td>\n",
       "      <td>9.70</td>\n",
       "    </tr>\n",
       "    <tr>\n",
       "      <th>2020-10-02</th>\n",
       "      <td>18.262642</td>\n",
       "      <td>25.85</td>\n",
       "    </tr>\n",
       "    <tr>\n",
       "      <th>2020-11-09</th>\n",
       "      <td>19.284164</td>\n",
       "      <td>10.25</td>\n",
       "    </tr>\n",
       "    <tr>\n",
       "      <th>2021-01-12</th>\n",
       "      <td>22.715231</td>\n",
       "      <td>3.55</td>\n",
       "    </tr>\n",
       "    <tr>\n",
       "      <th>2021-03-01</th>\n",
       "      <td>20.980408</td>\n",
       "      <td>4.42</td>\n",
       "    </tr>\n",
       "    <tr>\n",
       "      <th>2021-07-21</th>\n",
       "      <td>18.139866</td>\n",
       "      <td>3.68</td>\n",
       "    </tr>\n",
       "    <tr>\n",
       "      <th>2021-09-13</th>\n",
       "      <td>19.588041</td>\n",
       "      <td>4.00</td>\n",
       "    </tr>\n",
       "    <tr>\n",
       "      <th>2021-11-05</th>\n",
       "      <td>19.512701</td>\n",
       "      <td>4.72</td>\n",
       "    </tr>\n",
       "    <tr>\n",
       "      <th>2022-02-25</th>\n",
       "      <td>18.640335</td>\n",
       "      <td>3.26</td>\n",
       "    </tr>\n",
       "    <tr>\n",
       "      <th>2022-03-02</th>\n",
       "      <td>19.092688</td>\n",
       "      <td>4.14</td>\n",
       "    </tr>\n",
       "    <tr>\n",
       "      <th>2022-03-08</th>\n",
       "      <td>18.529381</td>\n",
       "      <td>4.37</td>\n",
       "    </tr>\n",
       "    <tr>\n",
       "      <th>2022-03-09</th>\n",
       "      <td>19.382875</td>\n",
       "      <td>4.61</td>\n",
       "    </tr>\n",
       "    <tr>\n",
       "      <th>2022-07-29</th>\n",
       "      <td>21.367161</td>\n",
       "      <td>3.63</td>\n",
       "    </tr>\n",
       "    <tr>\n",
       "      <th>2023-02-23</th>\n",
       "      <td>25.841272</td>\n",
       "      <td>3.85</td>\n",
       "    </tr>\n",
       "    <tr>\n",
       "      <th>2023-03-14</th>\n",
       "      <td>26.725607</td>\n",
       "      <td>2.54</td>\n",
       "    </tr>\n",
       "    <tr>\n",
       "      <th>2023-07-26</th>\n",
       "      <td>30.823898</td>\n",
       "      <td>3.17</td>\n",
       "    </tr>\n",
       "    <tr>\n",
       "      <th>2023-10-06</th>\n",
       "      <td>32.162369</td>\n",
       "      <td>2.78</td>\n",
       "    </tr>\n",
       "    <tr>\n",
       "      <th>2023-12-13</th>\n",
       "      <td>38.170830</td>\n",
       "      <td>2.87</td>\n",
       "    </tr>\n",
       "    <tr>\n",
       "      <th>2024-01-19</th>\n",
       "      <td>39.439999</td>\n",
       "      <td>1.76</td>\n",
       "    </tr>\n",
       "    <tr>\n",
       "      <th>2024-03-04</th>\n",
       "      <td>37.740002</td>\n",
       "      <td>1.64</td>\n",
       "    </tr>\n",
       "    <tr>\n",
       "      <th>2024-03-07</th>\n",
       "      <td>39.150002</td>\n",
       "      <td>1.69</td>\n",
       "    </tr>\n",
       "    <tr>\n",
       "      <th>2024-03-13</th>\n",
       "      <td>39.930000</td>\n",
       "      <td>2.28</td>\n",
       "    </tr>\n",
       "    <tr>\n",
       "      <th>2024-03-20</th>\n",
       "      <td>40.349998</td>\n",
       "      <td>1.64</td>\n",
       "    </tr>\n",
       "  </tbody>\n",
       "</table>\n",
       "</div>"
      ],
      "text/plain": [
       "                Close  var_close\n",
       "Date                            \n",
       "2019-04-11  27.978661       2.69\n",
       "2019-07-11  27.427443       3.19\n",
       "2019-08-08  25.179529       3.09\n",
       "2019-09-10  26.098804       2.92\n",
       "2019-10-11  25.991079       3.11\n",
       "2020-03-20   9.744021      16.86\n",
       "2020-03-25  11.772962      11.45\n",
       "2020-05-26  17.542883       9.70\n",
       "2020-10-02  18.262642      25.85\n",
       "2020-11-09  19.284164      10.25\n",
       "2021-01-12  22.715231       3.55\n",
       "2021-03-01  20.980408       4.42\n",
       "2021-07-21  18.139866       3.68\n",
       "2021-09-13  19.588041       4.00\n",
       "2021-11-05  19.512701       4.72\n",
       "2022-02-25  18.640335       3.26\n",
       "2022-03-02  19.092688       4.14\n",
       "2022-03-08  18.529381       4.37\n",
       "2022-03-09  19.382875       4.61\n",
       "2022-07-29  21.367161       3.63\n",
       "2023-02-23  25.841272       3.85\n",
       "2023-03-14  26.725607       2.54\n",
       "2023-07-26  30.823898       3.17\n",
       "2023-10-06  32.162369       2.78\n",
       "2023-12-13  38.170830       2.87\n",
       "2024-01-19  39.439999       1.76\n",
       "2024-03-04  37.740002       1.64\n",
       "2024-03-07  39.150002       1.69\n",
       "2024-03-13  39.930000       2.28\n",
       "2024-03-20  40.349998       1.64"
      ]
     },
     "execution_count": 95,
     "metadata": {},
     "output_type": "execute_result"
    }
   ],
   "source": [
    "highest_df = dataset_empresa.loc[highest_var_close.index.get_level_values(1)][['Date', 'Close', 'var_close']]\n",
    "highest_df.set_index('Date', inplace=True)\n",
    "highest_df.sort_index(inplace=True)\n",
    "highest_df"
   ]
  },
  {
   "cell_type": "markdown",
   "metadata": {},
   "source": [
    "### 3.3.3- Mayores disminuciones de precio de cierre por mes de cada año"
   ]
  },
  {
   "cell_type": "code",
   "execution_count": 96,
   "metadata": {},
   "outputs": [
    {
     "data": {
      "text/html": [
       "<div>\n",
       "<style scoped>\n",
       "    .dataframe tbody tr th:only-of-type {\n",
       "        vertical-align: middle;\n",
       "    }\n",
       "\n",
       "    .dataframe tbody tr th {\n",
       "        vertical-align: top;\n",
       "    }\n",
       "\n",
       "    .dataframe thead th {\n",
       "        text-align: right;\n",
       "    }\n",
       "</style>\n",
       "<table border=\"1\" class=\"dataframe\">\n",
       "  <thead>\n",
       "    <tr style=\"text-align: right;\">\n",
       "      <th></th>\n",
       "      <th>Year</th>\n",
       "      <th>Month</th>\n",
       "      <th>var_close</th>\n",
       "    </tr>\n",
       "  </thead>\n",
       "  <tbody>\n",
       "    <tr>\n",
       "      <th>0</th>\n",
       "      <td>2019</td>\n",
       "      <td>1</td>\n",
       "      <td>-1.44</td>\n",
       "    </tr>\n",
       "    <tr>\n",
       "      <th>1</th>\n",
       "      <td>2019</td>\n",
       "      <td>2</td>\n",
       "      <td>-1.70</td>\n",
       "    </tr>\n",
       "    <tr>\n",
       "      <th>2</th>\n",
       "      <td>2019</td>\n",
       "      <td>3</td>\n",
       "      <td>-2.44</td>\n",
       "    </tr>\n",
       "    <tr>\n",
       "      <th>3</th>\n",
       "      <td>2019</td>\n",
       "      <td>4</td>\n",
       "      <td>-1.59</td>\n",
       "    </tr>\n",
       "    <tr>\n",
       "      <th>4</th>\n",
       "      <td>2019</td>\n",
       "      <td>5</td>\n",
       "      <td>-3.51</td>\n",
       "    </tr>\n",
       "    <tr>\n",
       "      <th>...</th>\n",
       "      <td>...</td>\n",
       "      <td>...</td>\n",
       "      <td>...</td>\n",
       "    </tr>\n",
       "    <tr>\n",
       "      <th>59</th>\n",
       "      <td>2023</td>\n",
       "      <td>12</td>\n",
       "      <td>-1.21</td>\n",
       "    </tr>\n",
       "    <tr>\n",
       "      <th>60</th>\n",
       "      <td>2024</td>\n",
       "      <td>1</td>\n",
       "      <td>-9.99</td>\n",
       "    </tr>\n",
       "    <tr>\n",
       "      <th>61</th>\n",
       "      <td>2024</td>\n",
       "      <td>2</td>\n",
       "      <td>-1.46</td>\n",
       "    </tr>\n",
       "    <tr>\n",
       "      <th>62</th>\n",
       "      <td>2024</td>\n",
       "      <td>3</td>\n",
       "      <td>-3.15</td>\n",
       "    </tr>\n",
       "    <tr>\n",
       "      <th>63</th>\n",
       "      <td>2024</td>\n",
       "      <td>4</td>\n",
       "      <td>-1.72</td>\n",
       "    </tr>\n",
       "  </tbody>\n",
       "</table>\n",
       "<p>64 rows × 3 columns</p>\n",
       "</div>"
      ],
      "text/plain": [
       "    Year  Month  var_close\n",
       "0   2019      1      -1.44\n",
       "1   2019      2      -1.70\n",
       "2   2019      3      -2.44\n",
       "3   2019      4      -1.59\n",
       "4   2019      5      -3.51\n",
       "..   ...    ...        ...\n",
       "59  2023     12      -1.21\n",
       "60  2024      1      -9.99\n",
       "61  2024      2      -1.46\n",
       "62  2024      3      -3.15\n",
       "63  2024      4      -1.72\n",
       "\n",
       "[64 rows x 3 columns]"
      ]
     },
     "execution_count": 96,
     "metadata": {},
     "output_type": "execute_result"
    }
   ],
   "source": [
    "mayor_var_close_mes_negativo = dataset_empresa.groupby(['Year','Month'])['var_close'].min().reset_index()\n",
    "mayor_var_close_mes_negativo"
   ]
  },
  {
   "cell_type": "code",
   "execution_count": 97,
   "metadata": {},
   "outputs": [],
   "source": [
    "# Creamos una nueva columna con el valor absoluto de la variación de precio de cierre\n",
    "mayor_var_close_mes_negativo['Abs var_close'] = mayor_var_close_mes_negativo['var_close'].abs()"
   ]
  },
  {
   "cell_type": "markdown",
   "metadata": {},
   "source": [
    "Se muestra ahora de forma gráfica estos valores en términos absolutos:"
   ]
  },
  {
   "cell_type": "code",
   "execution_count": 98,
   "metadata": {},
   "outputs": [
    {
     "data": {
      "application/vnd.plotly.v1+json": {
       "config": {
        "plotlyServerURL": "https://plot.ly"
       },
       "data": [
        {
         "branchvalues": "total",
         "domain": {
          "x": [
           0,
           1
          ],
          "y": [
           0,
           1
          ]
         },
         "hovertemplate": "labels=%{label}<br>Abs var_close=%{value}<br>parent=%{parent}<br>id=%{id}<extra></extra>",
         "ids": [
          "2023/9/0.68",
          "2023/8/0.89",
          "2023/11/1.15",
          "2023/12/1.21",
          "2023/4/1.41",
          "2021/12/1.41",
          "2019/1/1.44",
          "2024/2/1.46",
          "2023/5/1.5",
          "2023/6/1.58",
          "2019/4/1.59",
          "2019/2/1.7",
          "2024/4/1.72",
          "2022/12/1.77",
          "2021/10/1.84",
          "2022/10/1.89",
          "2023/7/1.95",
          "2021/8/2.02",
          "2021/6/2.06",
          "2021/9/2.06",
          "2019/9/2.13",
          "2022/9/2.15",
          "2023/1/2.25",
          "2022/11/2.32",
          "2021/3/2.38",
          "2022/5/2.39",
          "2019/3/2.44",
          "2023/2/2.54",
          "2020/11/2.83",
          "2021/5/2.89",
          "2020/12/2.89",
          "2019/12/3.09",
          "2023/3/3.14",
          "2024/3/3.15",
          "2021/7/3.25",
          "2021/2/3.29",
          "2020/8/3.3",
          "2022/3/3.32",
          "2022/8/3.48",
          "2019/5/3.51",
          "2022/1/3.63",
          "2019/6/3.79",
          "2022/4/3.81",
          "2019/11/3.82",
          "2019/8/3.88",
          "2022/2/3.95",
          "2023/10/3.99",
          "2022/7/4.0",
          "2021/4/4.15",
          "2019/7/4.17",
          "2019/10/4.2",
          "2021/1/4.26",
          "2022/6/4.36",
          "2020/4/4.66",
          "2020/2/4.73",
          "2020/10/5.02",
          "2020/7/5.33",
          "2020/1/5.34",
          "2021/11/6.16",
          "2020/6/7.45",
          "2020/5/9.41",
          "2024/1/9.99",
          "2020/9/10.23",
          "2020/3/18.87",
          "2019/1",
          "2020/1",
          "2021/1",
          "2022/1",
          "2023/1",
          "2024/1",
          "2019/2",
          "2020/2",
          "2021/2",
          "2022/2",
          "2023/2",
          "2024/2",
          "2019/3",
          "2020/3",
          "2021/3",
          "2022/3",
          "2023/3",
          "2024/3",
          "2019/4",
          "2020/4",
          "2021/4",
          "2022/4",
          "2023/4",
          "2024/4",
          "2019/5",
          "2020/5",
          "2021/5",
          "2022/5",
          "2023/5",
          "2019/6",
          "2020/6",
          "2021/6",
          "2022/6",
          "2023/6",
          "2019/7",
          "2020/7",
          "2021/7",
          "2022/7",
          "2023/7",
          "2019/8",
          "2020/8",
          "2021/8",
          "2022/8",
          "2023/8",
          "2019/9",
          "2020/9",
          "2021/9",
          "2022/9",
          "2023/9",
          "2019/10",
          "2020/10",
          "2021/10",
          "2022/10",
          "2023/10",
          "2019/11",
          "2020/11",
          "2021/11",
          "2022/11",
          "2023/11",
          "2019/12",
          "2020/12",
          "2021/12",
          "2022/12",
          "2023/12",
          "2019",
          "2020",
          "2021",
          "2022",
          "2023",
          "2024"
         ],
         "labels": [
          "0.68",
          "0.89",
          "1.15",
          "1.21",
          "1.41",
          "1.41",
          "1.44",
          "1.46",
          "1.5",
          "1.58",
          "1.59",
          "1.7",
          "1.72",
          "1.77",
          "1.84",
          "1.89",
          "1.95",
          "2.02",
          "2.06",
          "2.06",
          "2.13",
          "2.15",
          "2.25",
          "2.32",
          "2.38",
          "2.39",
          "2.44",
          "2.54",
          "2.83",
          "2.89",
          "2.89",
          "3.09",
          "3.14",
          "3.15",
          "3.25",
          "3.29",
          "3.3",
          "3.32",
          "3.48",
          "3.51",
          "3.63",
          "3.79",
          "3.81",
          "3.82",
          "3.88",
          "3.95",
          "3.99",
          "4.0",
          "4.15",
          "4.17",
          "4.2",
          "4.26",
          "4.36",
          "4.66",
          "4.73",
          "5.02",
          "5.33",
          "5.34",
          "6.16",
          "7.45",
          "9.41",
          "9.99",
          "10.23",
          "18.87",
          "1",
          "1",
          "1",
          "1",
          "1",
          "1",
          "2",
          "2",
          "2",
          "2",
          "2",
          "2",
          "3",
          "3",
          "3",
          "3",
          "3",
          "3",
          "4",
          "4",
          "4",
          "4",
          "4",
          "4",
          "5",
          "5",
          "5",
          "5",
          "5",
          "6",
          "6",
          "6",
          "6",
          "6",
          "7",
          "7",
          "7",
          "7",
          "7",
          "8",
          "8",
          "8",
          "8",
          "8",
          "9",
          "9",
          "9",
          "9",
          "9",
          "10",
          "10",
          "10",
          "10",
          "10",
          "11",
          "11",
          "11",
          "11",
          "11",
          "12",
          "12",
          "12",
          "12",
          "12",
          "2019",
          "2020",
          "2021",
          "2022",
          "2023",
          "2024"
         ],
         "name": "",
         "parents": [
          "2023/9",
          "2023/8",
          "2023/11",
          "2023/12",
          "2023/4",
          "2021/12",
          "2019/1",
          "2024/2",
          "2023/5",
          "2023/6",
          "2019/4",
          "2019/2",
          "2024/4",
          "2022/12",
          "2021/10",
          "2022/10",
          "2023/7",
          "2021/8",
          "2021/6",
          "2021/9",
          "2019/9",
          "2022/9",
          "2023/1",
          "2022/11",
          "2021/3",
          "2022/5",
          "2019/3",
          "2023/2",
          "2020/11",
          "2021/5",
          "2020/12",
          "2019/12",
          "2023/3",
          "2024/3",
          "2021/7",
          "2021/2",
          "2020/8",
          "2022/3",
          "2022/8",
          "2019/5",
          "2022/1",
          "2019/6",
          "2022/4",
          "2019/11",
          "2019/8",
          "2022/2",
          "2023/10",
          "2022/7",
          "2021/4",
          "2019/7",
          "2019/10",
          "2021/1",
          "2022/6",
          "2020/4",
          "2020/2",
          "2020/10",
          "2020/7",
          "2020/1",
          "2021/11",
          "2020/6",
          "2020/5",
          "2024/1",
          "2020/9",
          "2020/3",
          "2019",
          "2020",
          "2021",
          "2022",
          "2023",
          "2024",
          "2019",
          "2020",
          "2021",
          "2022",
          "2023",
          "2024",
          "2019",
          "2020",
          "2021",
          "2022",
          "2023",
          "2024",
          "2019",
          "2020",
          "2021",
          "2022",
          "2023",
          "2024",
          "2019",
          "2020",
          "2021",
          "2022",
          "2023",
          "2019",
          "2020",
          "2021",
          "2022",
          "2023",
          "2019",
          "2020",
          "2021",
          "2022",
          "2023",
          "2019",
          "2020",
          "2021",
          "2022",
          "2023",
          "2019",
          "2020",
          "2021",
          "2022",
          "2023",
          "2019",
          "2020",
          "2021",
          "2022",
          "2023",
          "2019",
          "2020",
          "2021",
          "2022",
          "2023",
          "2019",
          "2020",
          "2021",
          "2022",
          "2023",
          "",
          "",
          "",
          "",
          "",
          ""
         ],
         "type": "treemap",
         "values": [
          0.68,
          0.89,
          1.15,
          1.21,
          1.41,
          1.41,
          1.44,
          1.46,
          1.5,
          1.58,
          1.59,
          1.7,
          1.72,
          1.77,
          1.84,
          1.89,
          1.95,
          2.02,
          2.06,
          2.06,
          2.13,
          2.15,
          2.25,
          2.32,
          2.38,
          2.39,
          2.44,
          2.54,
          2.83,
          2.89,
          2.89,
          3.09,
          3.14,
          3.15,
          3.25,
          3.29,
          3.3,
          3.32,
          3.48,
          3.51,
          3.63,
          3.79,
          3.81,
          3.82,
          3.88,
          3.95,
          3.99,
          4,
          4.15,
          4.17,
          4.2,
          4.26,
          4.36,
          4.66,
          4.73,
          5.02,
          5.33,
          5.34,
          6.16,
          7.45,
          9.41,
          9.99,
          10.23,
          18.87,
          1.44,
          5.34,
          4.26,
          3.63,
          2.25,
          9.99,
          1.7,
          4.73,
          3.29,
          3.95,
          2.54,
          1.46,
          2.44,
          18.87,
          2.38,
          3.32,
          3.14,
          3.15,
          1.59,
          4.66,
          4.15,
          3.81,
          1.41,
          1.72,
          3.51,
          9.41,
          2.89,
          2.39,
          1.5,
          3.79,
          7.45,
          2.06,
          4.36,
          1.58,
          4.17,
          5.33,
          3.25,
          4,
          1.95,
          3.88,
          3.3,
          2.02,
          3.48,
          0.89,
          2.13,
          10.23,
          2.06,
          2.15,
          0.68,
          4.2,
          5.02,
          1.84,
          1.89,
          3.99,
          3.82,
          2.83,
          6.16,
          2.32,
          1.15,
          3.09,
          2.89,
          1.41,
          1.77,
          1.21,
          35.76,
          80.06,
          35.77,
          37.07,
          22.29,
          16.32
         ]
        }
       ],
       "layout": {
        "legend": {
         "tracegroupgap": 0
        },
        "margin": {
         "t": 60
        },
        "template": {
         "data": {
          "bar": [
           {
            "error_x": {
             "color": "#2a3f5f"
            },
            "error_y": {
             "color": "#2a3f5f"
            },
            "marker": {
             "line": {
              "color": "#E5ECF6",
              "width": 0.5
             },
             "pattern": {
              "fillmode": "overlay",
              "size": 10,
              "solidity": 0.2
             }
            },
            "type": "bar"
           }
          ],
          "barpolar": [
           {
            "marker": {
             "line": {
              "color": "#E5ECF6",
              "width": 0.5
             },
             "pattern": {
              "fillmode": "overlay",
              "size": 10,
              "solidity": 0.2
             }
            },
            "type": "barpolar"
           }
          ],
          "carpet": [
           {
            "aaxis": {
             "endlinecolor": "#2a3f5f",
             "gridcolor": "white",
             "linecolor": "white",
             "minorgridcolor": "white",
             "startlinecolor": "#2a3f5f"
            },
            "baxis": {
             "endlinecolor": "#2a3f5f",
             "gridcolor": "white",
             "linecolor": "white",
             "minorgridcolor": "white",
             "startlinecolor": "#2a3f5f"
            },
            "type": "carpet"
           }
          ],
          "choropleth": [
           {
            "colorbar": {
             "outlinewidth": 0,
             "ticks": ""
            },
            "type": "choropleth"
           }
          ],
          "contour": [
           {
            "colorbar": {
             "outlinewidth": 0,
             "ticks": ""
            },
            "colorscale": [
             [
              0,
              "#0d0887"
             ],
             [
              0.1111111111111111,
              "#46039f"
             ],
             [
              0.2222222222222222,
              "#7201a8"
             ],
             [
              0.3333333333333333,
              "#9c179e"
             ],
             [
              0.4444444444444444,
              "#bd3786"
             ],
             [
              0.5555555555555556,
              "#d8576b"
             ],
             [
              0.6666666666666666,
              "#ed7953"
             ],
             [
              0.7777777777777778,
              "#fb9f3a"
             ],
             [
              0.8888888888888888,
              "#fdca26"
             ],
             [
              1,
              "#f0f921"
             ]
            ],
            "type": "contour"
           }
          ],
          "contourcarpet": [
           {
            "colorbar": {
             "outlinewidth": 0,
             "ticks": ""
            },
            "type": "contourcarpet"
           }
          ],
          "heatmap": [
           {
            "colorbar": {
             "outlinewidth": 0,
             "ticks": ""
            },
            "colorscale": [
             [
              0,
              "#0d0887"
             ],
             [
              0.1111111111111111,
              "#46039f"
             ],
             [
              0.2222222222222222,
              "#7201a8"
             ],
             [
              0.3333333333333333,
              "#9c179e"
             ],
             [
              0.4444444444444444,
              "#bd3786"
             ],
             [
              0.5555555555555556,
              "#d8576b"
             ],
             [
              0.6666666666666666,
              "#ed7953"
             ],
             [
              0.7777777777777778,
              "#fb9f3a"
             ],
             [
              0.8888888888888888,
              "#fdca26"
             ],
             [
              1,
              "#f0f921"
             ]
            ],
            "type": "heatmap"
           }
          ],
          "heatmapgl": [
           {
            "colorbar": {
             "outlinewidth": 0,
             "ticks": ""
            },
            "colorscale": [
             [
              0,
              "#0d0887"
             ],
             [
              0.1111111111111111,
              "#46039f"
             ],
             [
              0.2222222222222222,
              "#7201a8"
             ],
             [
              0.3333333333333333,
              "#9c179e"
             ],
             [
              0.4444444444444444,
              "#bd3786"
             ],
             [
              0.5555555555555556,
              "#d8576b"
             ],
             [
              0.6666666666666666,
              "#ed7953"
             ],
             [
              0.7777777777777778,
              "#fb9f3a"
             ],
             [
              0.8888888888888888,
              "#fdca26"
             ],
             [
              1,
              "#f0f921"
             ]
            ],
            "type": "heatmapgl"
           }
          ],
          "histogram": [
           {
            "marker": {
             "pattern": {
              "fillmode": "overlay",
              "size": 10,
              "solidity": 0.2
             }
            },
            "type": "histogram"
           }
          ],
          "histogram2d": [
           {
            "colorbar": {
             "outlinewidth": 0,
             "ticks": ""
            },
            "colorscale": [
             [
              0,
              "#0d0887"
             ],
             [
              0.1111111111111111,
              "#46039f"
             ],
             [
              0.2222222222222222,
              "#7201a8"
             ],
             [
              0.3333333333333333,
              "#9c179e"
             ],
             [
              0.4444444444444444,
              "#bd3786"
             ],
             [
              0.5555555555555556,
              "#d8576b"
             ],
             [
              0.6666666666666666,
              "#ed7953"
             ],
             [
              0.7777777777777778,
              "#fb9f3a"
             ],
             [
              0.8888888888888888,
              "#fdca26"
             ],
             [
              1,
              "#f0f921"
             ]
            ],
            "type": "histogram2d"
           }
          ],
          "histogram2dcontour": [
           {
            "colorbar": {
             "outlinewidth": 0,
             "ticks": ""
            },
            "colorscale": [
             [
              0,
              "#0d0887"
             ],
             [
              0.1111111111111111,
              "#46039f"
             ],
             [
              0.2222222222222222,
              "#7201a8"
             ],
             [
              0.3333333333333333,
              "#9c179e"
             ],
             [
              0.4444444444444444,
              "#bd3786"
             ],
             [
              0.5555555555555556,
              "#d8576b"
             ],
             [
              0.6666666666666666,
              "#ed7953"
             ],
             [
              0.7777777777777778,
              "#fb9f3a"
             ],
             [
              0.8888888888888888,
              "#fdca26"
             ],
             [
              1,
              "#f0f921"
             ]
            ],
            "type": "histogram2dcontour"
           }
          ],
          "mesh3d": [
           {
            "colorbar": {
             "outlinewidth": 0,
             "ticks": ""
            },
            "type": "mesh3d"
           }
          ],
          "parcoords": [
           {
            "line": {
             "colorbar": {
              "outlinewidth": 0,
              "ticks": ""
             }
            },
            "type": "parcoords"
           }
          ],
          "pie": [
           {
            "automargin": true,
            "type": "pie"
           }
          ],
          "scatter": [
           {
            "fillpattern": {
             "fillmode": "overlay",
             "size": 10,
             "solidity": 0.2
            },
            "type": "scatter"
           }
          ],
          "scatter3d": [
           {
            "line": {
             "colorbar": {
              "outlinewidth": 0,
              "ticks": ""
             }
            },
            "marker": {
             "colorbar": {
              "outlinewidth": 0,
              "ticks": ""
             }
            },
            "type": "scatter3d"
           }
          ],
          "scattercarpet": [
           {
            "marker": {
             "colorbar": {
              "outlinewidth": 0,
              "ticks": ""
             }
            },
            "type": "scattercarpet"
           }
          ],
          "scattergeo": [
           {
            "marker": {
             "colorbar": {
              "outlinewidth": 0,
              "ticks": ""
             }
            },
            "type": "scattergeo"
           }
          ],
          "scattergl": [
           {
            "marker": {
             "colorbar": {
              "outlinewidth": 0,
              "ticks": ""
             }
            },
            "type": "scattergl"
           }
          ],
          "scattermapbox": [
           {
            "marker": {
             "colorbar": {
              "outlinewidth": 0,
              "ticks": ""
             }
            },
            "type": "scattermapbox"
           }
          ],
          "scatterpolar": [
           {
            "marker": {
             "colorbar": {
              "outlinewidth": 0,
              "ticks": ""
             }
            },
            "type": "scatterpolar"
           }
          ],
          "scatterpolargl": [
           {
            "marker": {
             "colorbar": {
              "outlinewidth": 0,
              "ticks": ""
             }
            },
            "type": "scatterpolargl"
           }
          ],
          "scatterternary": [
           {
            "marker": {
             "colorbar": {
              "outlinewidth": 0,
              "ticks": ""
             }
            },
            "type": "scatterternary"
           }
          ],
          "surface": [
           {
            "colorbar": {
             "outlinewidth": 0,
             "ticks": ""
            },
            "colorscale": [
             [
              0,
              "#0d0887"
             ],
             [
              0.1111111111111111,
              "#46039f"
             ],
             [
              0.2222222222222222,
              "#7201a8"
             ],
             [
              0.3333333333333333,
              "#9c179e"
             ],
             [
              0.4444444444444444,
              "#bd3786"
             ],
             [
              0.5555555555555556,
              "#d8576b"
             ],
             [
              0.6666666666666666,
              "#ed7953"
             ],
             [
              0.7777777777777778,
              "#fb9f3a"
             ],
             [
              0.8888888888888888,
              "#fdca26"
             ],
             [
              1,
              "#f0f921"
             ]
            ],
            "type": "surface"
           }
          ],
          "table": [
           {
            "cells": {
             "fill": {
              "color": "#EBF0F8"
             },
             "line": {
              "color": "white"
             }
            },
            "header": {
             "fill": {
              "color": "#C8D4E3"
             },
             "line": {
              "color": "white"
             }
            },
            "type": "table"
           }
          ]
         },
         "layout": {
          "annotationdefaults": {
           "arrowcolor": "#2a3f5f",
           "arrowhead": 0,
           "arrowwidth": 1
          },
          "autotypenumbers": "strict",
          "coloraxis": {
           "colorbar": {
            "outlinewidth": 0,
            "ticks": ""
           }
          },
          "colorscale": {
           "diverging": [
            [
             0,
             "#8e0152"
            ],
            [
             0.1,
             "#c51b7d"
            ],
            [
             0.2,
             "#de77ae"
            ],
            [
             0.3,
             "#f1b6da"
            ],
            [
             0.4,
             "#fde0ef"
            ],
            [
             0.5,
             "#f7f7f7"
            ],
            [
             0.6,
             "#e6f5d0"
            ],
            [
             0.7,
             "#b8e186"
            ],
            [
             0.8,
             "#7fbc41"
            ],
            [
             0.9,
             "#4d9221"
            ],
            [
             1,
             "#276419"
            ]
           ],
           "sequential": [
            [
             0,
             "#0d0887"
            ],
            [
             0.1111111111111111,
             "#46039f"
            ],
            [
             0.2222222222222222,
             "#7201a8"
            ],
            [
             0.3333333333333333,
             "#9c179e"
            ],
            [
             0.4444444444444444,
             "#bd3786"
            ],
            [
             0.5555555555555556,
             "#d8576b"
            ],
            [
             0.6666666666666666,
             "#ed7953"
            ],
            [
             0.7777777777777778,
             "#fb9f3a"
            ],
            [
             0.8888888888888888,
             "#fdca26"
            ],
            [
             1,
             "#f0f921"
            ]
           ],
           "sequentialminus": [
            [
             0,
             "#0d0887"
            ],
            [
             0.1111111111111111,
             "#46039f"
            ],
            [
             0.2222222222222222,
             "#7201a8"
            ],
            [
             0.3333333333333333,
             "#9c179e"
            ],
            [
             0.4444444444444444,
             "#bd3786"
            ],
            [
             0.5555555555555556,
             "#d8576b"
            ],
            [
             0.6666666666666666,
             "#ed7953"
            ],
            [
             0.7777777777777778,
             "#fb9f3a"
            ],
            [
             0.8888888888888888,
             "#fdca26"
            ],
            [
             1,
             "#f0f921"
            ]
           ]
          },
          "colorway": [
           "#636efa",
           "#EF553B",
           "#00cc96",
           "#ab63fa",
           "#FFA15A",
           "#19d3f3",
           "#FF6692",
           "#B6E880",
           "#FF97FF",
           "#FECB52"
          ],
          "font": {
           "color": "#2a3f5f"
          },
          "geo": {
           "bgcolor": "white",
           "lakecolor": "white",
           "landcolor": "#E5ECF6",
           "showlakes": true,
           "showland": true,
           "subunitcolor": "white"
          },
          "hoverlabel": {
           "align": "left"
          },
          "hovermode": "closest",
          "mapbox": {
           "style": "light"
          },
          "paper_bgcolor": "white",
          "plot_bgcolor": "#E5ECF6",
          "polar": {
           "angularaxis": {
            "gridcolor": "white",
            "linecolor": "white",
            "ticks": ""
           },
           "bgcolor": "#E5ECF6",
           "radialaxis": {
            "gridcolor": "white",
            "linecolor": "white",
            "ticks": ""
           }
          },
          "scene": {
           "xaxis": {
            "backgroundcolor": "#E5ECF6",
            "gridcolor": "white",
            "gridwidth": 2,
            "linecolor": "white",
            "showbackground": true,
            "ticks": "",
            "zerolinecolor": "white"
           },
           "yaxis": {
            "backgroundcolor": "#E5ECF6",
            "gridcolor": "white",
            "gridwidth": 2,
            "linecolor": "white",
            "showbackground": true,
            "ticks": "",
            "zerolinecolor": "white"
           },
           "zaxis": {
            "backgroundcolor": "#E5ECF6",
            "gridcolor": "white",
            "gridwidth": 2,
            "linecolor": "white",
            "showbackground": true,
            "ticks": "",
            "zerolinecolor": "white"
           }
          },
          "shapedefaults": {
           "line": {
            "color": "#2a3f5f"
           }
          },
          "ternary": {
           "aaxis": {
            "gridcolor": "white",
            "linecolor": "white",
            "ticks": ""
           },
           "baxis": {
            "gridcolor": "white",
            "linecolor": "white",
            "ticks": ""
           },
           "bgcolor": "#E5ECF6",
           "caxis": {
            "gridcolor": "white",
            "linecolor": "white",
            "ticks": ""
           }
          },
          "title": {
           "x": 0.05
          },
          "xaxis": {
           "automargin": true,
           "gridcolor": "white",
           "linecolor": "white",
           "ticks": "",
           "title": {
            "standoff": 15
           },
           "zerolinecolor": "white",
           "zerolinewidth": 2
          },
          "yaxis": {
           "automargin": true,
           "gridcolor": "white",
           "linecolor": "white",
           "ticks": "",
           "title": {
            "standoff": 15
           },
           "zerolinecolor": "white",
           "zerolinewidth": 2
          }
         }
        },
        "title": {
         "font": {
          "size": 19
         },
         "text": "Variaciones de precio de cierre máximas en negativo por año y mes entre 2019-2024"
        }
       }
      }
     },
     "metadata": {},
     "output_type": "display_data"
    }
   ],
   "source": [
    "fig = px.treemap(mayor_var_close_mes_negativo, path=['Year', 'Month', 'Abs var_close'], values='Abs var_close')\n",
    "fig.update_layout(\n",
    "    title='Variaciones de precio de cierre máximas en negativo por año y mes entre 2019-2024',\n",
    "    title_font=dict(size=19)\n",
    ")\n",
    "fig.show()"
   ]
  },
  {
   "cell_type": "markdown",
   "metadata": {},
   "source": [
    "### 3.3.4- Mayores 5 incrementos en negativo de precio de cierre de cada año"
   ]
  },
  {
   "cell_type": "code",
   "execution_count": 99,
   "metadata": {},
   "outputs": [
    {
     "data": {
      "text/plain": [
       "Year      \n",
       "2019  192     -4.20\n",
       "      138     -4.17\n",
       "      146     -3.99\n",
       "      150     -3.88\n",
       "      222     -3.82\n",
       "2020  306    -18.87\n",
       "      310    -14.68\n",
       "      308    -14.34\n",
       "      440    -10.23\n",
       "      303    -10.01\n",
       "2021  745     -6.16\n",
       "      526     -4.26\n",
       "      587     -4.15\n",
       "      540     -3.29\n",
       "      651     -3.25\n",
       "2022  880     -4.36\n",
       "      898     -4.00\n",
       "      807     -3.95\n",
       "      882     -3.83\n",
       "      836     -3.81\n",
       "2023  1221    -3.99\n",
       "      1085    -3.14\n",
       "      1051    -2.54\n",
       "      1078    -2.37\n",
       "      1041    -2.25\n",
       "2024  1300    -9.99\n",
       "      1343    -3.15\n",
       "      1282    -2.33\n",
       "      1324    -2.13\n",
       "      1361    -1.72\n",
       "Name: var_close, dtype: float64"
      ]
     },
     "execution_count": 99,
     "metadata": {},
     "output_type": "execute_result"
    }
   ],
   "source": [
    "lowest_var_close = dataset_empresa.groupby('Year')['var_close'].nsmallest(5)\n",
    "lowest_var_close"
   ]
  },
  {
   "cell_type": "code",
   "execution_count": 100,
   "metadata": {},
   "outputs": [],
   "source": [
    "lowest_df = dataset_empresa.loc[lowest_var_close.index.get_level_values(1)][['Date', 'Close', 'var_close']]\n",
    "lowest_df.set_index('Date', inplace=True)\n",
    "lowest_df.sort_index(inplace=True)"
   ]
  },
  {
   "cell_type": "markdown",
   "metadata": {},
   "source": [
    "Ahora se muestra los 5 días de cada año en los que ha habido los disminuciones más altas:"
   ]
  },
  {
   "cell_type": "code",
   "execution_count": 101,
   "metadata": {},
   "outputs": [
    {
     "data": {
      "text/html": [
       "<div>\n",
       "<style scoped>\n",
       "    .dataframe tbody tr th:only-of-type {\n",
       "        vertical-align: middle;\n",
       "    }\n",
       "\n",
       "    .dataframe tbody tr th {\n",
       "        vertical-align: top;\n",
       "    }\n",
       "\n",
       "    .dataframe thead th {\n",
       "        text-align: right;\n",
       "    }\n",
       "</style>\n",
       "<table border=\"1\" class=\"dataframe\">\n",
       "  <thead>\n",
       "    <tr style=\"text-align: right;\">\n",
       "      <th></th>\n",
       "      <th>Close</th>\n",
       "      <th>var_close</th>\n",
       "    </tr>\n",
       "    <tr>\n",
       "      <th>Date</th>\n",
       "      <th></th>\n",
       "      <th></th>\n",
       "    </tr>\n",
       "  </thead>\n",
       "  <tbody>\n",
       "    <tr>\n",
       "      <th>2019-07-18</th>\n",
       "      <td>26.256807</td>\n",
       "      <td>-4.17</td>\n",
       "    </tr>\n",
       "    <tr>\n",
       "      <th>2019-07-30</th>\n",
       "      <td>25.919262</td>\n",
       "      <td>-3.99</td>\n",
       "    </tr>\n",
       "    <tr>\n",
       "      <th>2019-08-05</th>\n",
       "      <td>24.569075</td>\n",
       "      <td>-3.88</td>\n",
       "    </tr>\n",
       "    <tr>\n",
       "      <th>2019-10-02</th>\n",
       "      <td>24.899439</td>\n",
       "      <td>-4.20</td>\n",
       "    </tr>\n",
       "    <tr>\n",
       "      <th>2019-11-13</th>\n",
       "      <td>24.597797</td>\n",
       "      <td>-3.82</td>\n",
       "    </tr>\n",
       "    <tr>\n",
       "      <th>2020-03-09</th>\n",
       "      <td>16.180540</td>\n",
       "      <td>-10.01</td>\n",
       "    </tr>\n",
       "    <tr>\n",
       "      <th>2020-03-12</th>\n",
       "      <td>12.057086</td>\n",
       "      <td>-18.87</td>\n",
       "    </tr>\n",
       "    <tr>\n",
       "      <th>2020-03-16</th>\n",
       "      <td>10.355983</td>\n",
       "      <td>-14.34</td>\n",
       "    </tr>\n",
       "    <tr>\n",
       "      <th>2020-03-18</th>\n",
       "      <td>8.469103</td>\n",
       "      <td>-14.68</td>\n",
       "    </tr>\n",
       "    <tr>\n",
       "      <th>2020-09-21</th>\n",
       "      <td>14.196047</td>\n",
       "      <td>-10.23</td>\n",
       "    </tr>\n",
       "    <tr>\n",
       "      <th>2021-01-21</th>\n",
       "      <td>21.545549</td>\n",
       "      <td>-4.26</td>\n",
       "    </tr>\n",
       "    <tr>\n",
       "      <th>2021-02-10</th>\n",
       "      <td>19.806900</td>\n",
       "      <td>-3.29</td>\n",
       "    </tr>\n",
       "    <tr>\n",
       "      <th>2021-04-20</th>\n",
       "      <td>21.583019</td>\n",
       "      <td>-4.15</td>\n",
       "    </tr>\n",
       "    <tr>\n",
       "      <th>2021-07-19</th>\n",
       "      <td>17.419964</td>\n",
       "      <td>-3.25</td>\n",
       "    </tr>\n",
       "    <tr>\n",
       "      <th>2021-11-26</th>\n",
       "      <td>17.595753</td>\n",
       "      <td>-6.16</td>\n",
       "    </tr>\n",
       "    <tr>\n",
       "      <th>2022-02-24</th>\n",
       "      <td>18.051424</td>\n",
       "      <td>-3.95</td>\n",
       "    </tr>\n",
       "    <tr>\n",
       "      <th>2022-04-06</th>\n",
       "      <td>20.022997</td>\n",
       "      <td>-3.81</td>\n",
       "    </tr>\n",
       "    <tr>\n",
       "      <th>2022-06-09</th>\n",
       "      <td>21.883617</td>\n",
       "      <td>-4.36</td>\n",
       "    </tr>\n",
       "    <tr>\n",
       "      <th>2022-06-13</th>\n",
       "      <td>20.782606</td>\n",
       "      <td>-3.83</td>\n",
       "    </tr>\n",
       "    <tr>\n",
       "      <th>2022-07-05</th>\n",
       "      <td>19.076193</td>\n",
       "      <td>-4.00</td>\n",
       "    </tr>\n",
       "    <tr>\n",
       "      <th>2023-01-23</th>\n",
       "      <td>25.096565</td>\n",
       "      <td>-2.25</td>\n",
       "    </tr>\n",
       "    <tr>\n",
       "      <th>2023-02-06</th>\n",
       "      <td>25.375830</td>\n",
       "      <td>-2.54</td>\n",
       "    </tr>\n",
       "    <tr>\n",
       "      <th>2023-03-15</th>\n",
       "      <td>26.092609</td>\n",
       "      <td>-2.37</td>\n",
       "    </tr>\n",
       "    <tr>\n",
       "      <th>2023-03-24</th>\n",
       "      <td>26.139154</td>\n",
       "      <td>-3.14</td>\n",
       "    </tr>\n",
       "    <tr>\n",
       "      <th>2023-10-05</th>\n",
       "      <td>31.292850</td>\n",
       "      <td>-3.99</td>\n",
       "    </tr>\n",
       "    <tr>\n",
       "      <th>2024-01-03</th>\n",
       "      <td>38.503006</td>\n",
       "      <td>-2.33</td>\n",
       "    </tr>\n",
       "    <tr>\n",
       "      <th>2024-01-29</th>\n",
       "      <td>35.660000</td>\n",
       "      <td>-9.99</td>\n",
       "    </tr>\n",
       "    <tr>\n",
       "      <th>2024-03-01</th>\n",
       "      <td>37.130001</td>\n",
       "      <td>-2.13</td>\n",
       "    </tr>\n",
       "    <tr>\n",
       "      <th>2024-03-28</th>\n",
       "      <td>38.779999</td>\n",
       "      <td>-3.15</td>\n",
       "    </tr>\n",
       "    <tr>\n",
       "      <th>2024-04-25</th>\n",
       "      <td>37.700001</td>\n",
       "      <td>-1.72</td>\n",
       "    </tr>\n",
       "  </tbody>\n",
       "</table>\n",
       "</div>"
      ],
      "text/plain": [
       "                Close  var_close\n",
       "Date                            \n",
       "2019-07-18  26.256807      -4.17\n",
       "2019-07-30  25.919262      -3.99\n",
       "2019-08-05  24.569075      -3.88\n",
       "2019-10-02  24.899439      -4.20\n",
       "2019-11-13  24.597797      -3.82\n",
       "2020-03-09  16.180540     -10.01\n",
       "2020-03-12  12.057086     -18.87\n",
       "2020-03-16  10.355983     -14.34\n",
       "2020-03-18   8.469103     -14.68\n",
       "2020-09-21  14.196047     -10.23\n",
       "2021-01-21  21.545549      -4.26\n",
       "2021-02-10  19.806900      -3.29\n",
       "2021-04-20  21.583019      -4.15\n",
       "2021-07-19  17.419964      -3.25\n",
       "2021-11-26  17.595753      -6.16\n",
       "2022-02-24  18.051424      -3.95\n",
       "2022-04-06  20.022997      -3.81\n",
       "2022-06-09  21.883617      -4.36\n",
       "2022-06-13  20.782606      -3.83\n",
       "2022-07-05  19.076193      -4.00\n",
       "2023-01-23  25.096565      -2.25\n",
       "2023-02-06  25.375830      -2.54\n",
       "2023-03-15  26.092609      -2.37\n",
       "2023-03-24  26.139154      -3.14\n",
       "2023-10-05  31.292850      -3.99\n",
       "2024-01-03  38.503006      -2.33\n",
       "2024-01-29  35.660000      -9.99\n",
       "2024-03-01  37.130001      -2.13\n",
       "2024-03-28  38.779999      -3.15\n",
       "2024-04-25  37.700001      -1.72"
      ]
     },
     "execution_count": 101,
     "metadata": {},
     "output_type": "execute_result"
    }
   ],
   "source": [
    "lowest_df"
   ]
  },
  {
   "cell_type": "markdown",
   "metadata": {},
   "source": [
    "# 4- Analisis de rentabilidad de acciones y exposicion de dividendos"
   ]
  },
  {
   "cell_type": "markdown",
   "metadata": {},
   "source": [
    "## 4.1- Analisis de rentabilidad de acciones de la empresa por año"
   ]
  },
  {
   "cell_type": "markdown",
   "metadata": {},
   "source": [
    "### 4.1.1- Ejemplo de la variacion porcentual en el Close que ha habido de una fecha inicial respecto a otra fecha final"
   ]
  },
  {
   "cell_type": "markdown",
   "metadata": {},
   "source": [
    "Antes de analiazar la rentabilidad de las acciones por cada año, vamos a poner un ejemplo de variación porcentual en el Close que ha habido de una fecha inicial respecto a otra fecha final."
   ]
  },
  {
   "cell_type": "code",
   "execution_count": 102,
   "metadata": {},
   "outputs": [
    {
     "data": {
      "text/html": [
       "<div>\n",
       "<style scoped>\n",
       "    .dataframe tbody tr th:only-of-type {\n",
       "        vertical-align: middle;\n",
       "    }\n",
       "\n",
       "    .dataframe tbody tr th {\n",
       "        vertical-align: top;\n",
       "    }\n",
       "\n",
       "    .dataframe thead th {\n",
       "        text-align: right;\n",
       "    }\n",
       "</style>\n",
       "<table border=\"1\" class=\"dataframe\">\n",
       "  <thead>\n",
       "    <tr style=\"text-align: right;\">\n",
       "      <th></th>\n",
       "      <th>Date</th>\n",
       "      <th>Open</th>\n",
       "      <th>High</th>\n",
       "      <th>Low</th>\n",
       "      <th>Close</th>\n",
       "      <th>Volume</th>\n",
       "      <th>Dividends</th>\n",
       "      <th>Stock Splits</th>\n",
       "      <th>Year</th>\n",
       "      <th>Month</th>\n",
       "      <th>Day</th>\n",
       "      <th>var_close</th>\n",
       "    </tr>\n",
       "  </thead>\n",
       "  <tbody>\n",
       "    <tr>\n",
       "      <th>0</th>\n",
       "      <td>2019-01-02</td>\n",
       "      <td>22.949238</td>\n",
       "      <td>22.949238</td>\n",
       "      <td>22.233563</td>\n",
       "      <td>22.656151</td>\n",
       "      <td>579957</td>\n",
       "      <td>0.0</td>\n",
       "      <td>0.0</td>\n",
       "      <td>2019</td>\n",
       "      <td>1</td>\n",
       "      <td>2</td>\n",
       "      <td>0.00</td>\n",
       "    </tr>\n",
       "    <tr>\n",
       "      <th>1</th>\n",
       "      <td>2019-01-03</td>\n",
       "      <td>22.424411</td>\n",
       "      <td>22.921972</td>\n",
       "      <td>22.356252</td>\n",
       "      <td>22.710680</td>\n",
       "      <td>826120</td>\n",
       "      <td>0.0</td>\n",
       "      <td>0.0</td>\n",
       "      <td>2019</td>\n",
       "      <td>1</td>\n",
       "      <td>3</td>\n",
       "      <td>0.24</td>\n",
       "    </tr>\n",
       "    <tr>\n",
       "      <th>2</th>\n",
       "      <td>2019-01-04</td>\n",
       "      <td>22.969682</td>\n",
       "      <td>23.167346</td>\n",
       "      <td>22.881075</td>\n",
       "      <td>23.051474</td>\n",
       "      <td>962645</td>\n",
       "      <td>0.0</td>\n",
       "      <td>0.0</td>\n",
       "      <td>2019</td>\n",
       "      <td>1</td>\n",
       "      <td>4</td>\n",
       "      <td>1.50</td>\n",
       "    </tr>\n",
       "    <tr>\n",
       "      <th>3</th>\n",
       "      <td>2019-01-07</td>\n",
       "      <td>23.242326</td>\n",
       "      <td>23.378644</td>\n",
       "      <td>22.921976</td>\n",
       "      <td>23.126453</td>\n",
       "      <td>1501743</td>\n",
       "      <td>0.0</td>\n",
       "      <td>0.0</td>\n",
       "      <td>2019</td>\n",
       "      <td>1</td>\n",
       "      <td>7</td>\n",
       "      <td>0.33</td>\n",
       "    </tr>\n",
       "    <tr>\n",
       "      <th>4</th>\n",
       "      <td>2019-01-08</td>\n",
       "      <td>23.119633</td>\n",
       "      <td>23.603565</td>\n",
       "      <td>23.065107</td>\n",
       "      <td>23.365009</td>\n",
       "      <td>1264760</td>\n",
       "      <td>0.0</td>\n",
       "      <td>0.0</td>\n",
       "      <td>2019</td>\n",
       "      <td>1</td>\n",
       "      <td>8</td>\n",
       "      <td>1.03</td>\n",
       "    </tr>\n",
       "  </tbody>\n",
       "</table>\n",
       "</div>"
      ],
      "text/plain": [
       "        Date       Open       High        Low      Close   Volume  Dividends  \\\n",
       "0 2019-01-02  22.949238  22.949238  22.233563  22.656151   579957        0.0   \n",
       "1 2019-01-03  22.424411  22.921972  22.356252  22.710680   826120        0.0   \n",
       "2 2019-01-04  22.969682  23.167346  22.881075  23.051474   962645        0.0   \n",
       "3 2019-01-07  23.242326  23.378644  22.921976  23.126453  1501743        0.0   \n",
       "4 2019-01-08  23.119633  23.603565  23.065107  23.365009  1264760        0.0   \n",
       "\n",
       "   Stock Splits  Year  Month  Day  var_close  \n",
       "0           0.0  2019      1    2       0.00  \n",
       "1           0.0  2019      1    3       0.24  \n",
       "2           0.0  2019      1    4       1.50  \n",
       "3           0.0  2019      1    7       0.33  \n",
       "4           0.0  2019      1    8       1.03  "
      ]
     },
     "execution_count": 102,
     "metadata": {},
     "output_type": "execute_result"
    }
   ],
   "source": [
    "dataset_empresa.head()"
   ]
  },
  {
   "cell_type": "code",
   "execution_count": 103,
   "metadata": {},
   "outputs": [],
   "source": [
    "fecha_inicio = \"2019-01-02\" #podemos especificar otra fecha inicial\n",
    "fecha_final = \"2019-01-08\"  #podemos especificar otra fecha final\n",
    "\n",
    "valor_inicial = dataset_empresa.loc[dataset_empresa[\"Date\"] == fecha_inicio, \"Close\"].values[0]\n",
    "valor_final = dataset_empresa.loc[dataset_empresa[\"Date\"] == fecha_final, \"Close\"].values[0]"
   ]
  },
  {
   "cell_type": "code",
   "execution_count": 104,
   "metadata": {},
   "outputs": [
    {
     "name": "stdout",
     "output_type": "stream",
     "text": [
      "El valor inicial de Close correspondiente a la fecha inicial con 3 decimales es: 22.656 €\n"
     ]
    }
   ],
   "source": [
    "valor_inicial.round(3)\n",
    "print(\"El valor inicial de Close correspondiente a la fecha inicial con 3 decimales es:\", valor_inicial.round(3), \"€\")"
   ]
  },
  {
   "cell_type": "code",
   "execution_count": 105,
   "metadata": {},
   "outputs": [
    {
     "name": "stdout",
     "output_type": "stream",
     "text": [
      "El valor inicial de Close correspondiente a la fecha final con 3 decimales es: 23.365 €\n"
     ]
    }
   ],
   "source": [
    "valor_final.round(3)\n",
    "print(\"El valor inicial de Close correspondiente a la fecha final con 3 decimales es:\", valor_final.round(3), \"€\")"
   ]
  },
  {
   "cell_type": "code",
   "execution_count": 106,
   "metadata": {},
   "outputs": [
    {
     "name": "stdout",
     "output_type": "stream",
     "text": [
      "La variación porcentual entre el Close de entre el Close inicial y el Close final es: 3.129 %\n"
     ]
    }
   ],
   "source": [
    "variacion_porcentual = ((valor_final - valor_inicial) / valor_inicial) * 100\n",
    "print(\"La variación porcentual entre el Close de entre el Close inicial y el Close final es:\", variacion_porcentual.round(3), \"%\")"
   ]
  },
  {
   "cell_type": "markdown",
   "metadata": {},
   "source": [
    "El resultado de 3.129 %, nos indica que el precio de la acción ha tenido un rendimiento o rentabilidad positiva del 3,129 % en ese intervalo temporal. De nuevo, esto ha servido como ejemplo."
   ]
  },
  {
   "cell_type": "markdown",
   "metadata": {},
   "source": [
    "### 4.1.2- Rentabilidad de acciones de la empresa en cada mes de cada año"
   ]
  },
  {
   "cell_type": "markdown",
   "metadata": {},
   "source": [
    "En esta sección, se va a proceder a conseguir la variacion porcentual que ha habido en el precio de cierre (Close) entre el primer día de cada mes y el último día de cada mes, por cada año (2019-2023)."
   ]
  },
  {
   "cell_type": "markdown",
   "metadata": {},
   "source": [
    "Antes que nada, vamos a crear una variable paralela a dataset_empresa para poder realizar esta sección:"
   ]
  },
  {
   "cell_type": "code",
   "execution_count": 107,
   "metadata": {},
   "outputs": [
    {
     "data": {
      "text/html": [
       "<div>\n",
       "<style scoped>\n",
       "    .dataframe tbody tr th:only-of-type {\n",
       "        vertical-align: middle;\n",
       "    }\n",
       "\n",
       "    .dataframe tbody tr th {\n",
       "        vertical-align: top;\n",
       "    }\n",
       "\n",
       "    .dataframe thead th {\n",
       "        text-align: right;\n",
       "    }\n",
       "</style>\n",
       "<table border=\"1\" class=\"dataframe\">\n",
       "  <thead>\n",
       "    <tr style=\"text-align: right;\">\n",
       "      <th></th>\n",
       "      <th>Date</th>\n",
       "      <th>Open</th>\n",
       "      <th>High</th>\n",
       "      <th>Low</th>\n",
       "      <th>Close</th>\n",
       "      <th>Volume</th>\n",
       "      <th>Dividends</th>\n",
       "      <th>Stock Splits</th>\n",
       "      <th>Year</th>\n",
       "      <th>Month</th>\n",
       "      <th>Day</th>\n",
       "      <th>var_close</th>\n",
       "    </tr>\n",
       "  </thead>\n",
       "  <tbody>\n",
       "    <tr>\n",
       "      <th>0</th>\n",
       "      <td>2019-01-02</td>\n",
       "      <td>22.949238</td>\n",
       "      <td>22.949238</td>\n",
       "      <td>22.233563</td>\n",
       "      <td>22.656151</td>\n",
       "      <td>579957</td>\n",
       "      <td>0.0</td>\n",
       "      <td>0.0</td>\n",
       "      <td>2019</td>\n",
       "      <td>1</td>\n",
       "      <td>2</td>\n",
       "      <td>0.00</td>\n",
       "    </tr>\n",
       "    <tr>\n",
       "      <th>1</th>\n",
       "      <td>2019-01-03</td>\n",
       "      <td>22.424411</td>\n",
       "      <td>22.921972</td>\n",
       "      <td>22.356252</td>\n",
       "      <td>22.710680</td>\n",
       "      <td>826120</td>\n",
       "      <td>0.0</td>\n",
       "      <td>0.0</td>\n",
       "      <td>2019</td>\n",
       "      <td>1</td>\n",
       "      <td>3</td>\n",
       "      <td>0.24</td>\n",
       "    </tr>\n",
       "    <tr>\n",
       "      <th>2</th>\n",
       "      <td>2019-01-04</td>\n",
       "      <td>22.969682</td>\n",
       "      <td>23.167346</td>\n",
       "      <td>22.881075</td>\n",
       "      <td>23.051474</td>\n",
       "      <td>962645</td>\n",
       "      <td>0.0</td>\n",
       "      <td>0.0</td>\n",
       "      <td>2019</td>\n",
       "      <td>1</td>\n",
       "      <td>4</td>\n",
       "      <td>1.50</td>\n",
       "    </tr>\n",
       "    <tr>\n",
       "      <th>3</th>\n",
       "      <td>2019-01-07</td>\n",
       "      <td>23.242326</td>\n",
       "      <td>23.378644</td>\n",
       "      <td>22.921976</td>\n",
       "      <td>23.126453</td>\n",
       "      <td>1501743</td>\n",
       "      <td>0.0</td>\n",
       "      <td>0.0</td>\n",
       "      <td>2019</td>\n",
       "      <td>1</td>\n",
       "      <td>7</td>\n",
       "      <td>0.33</td>\n",
       "    </tr>\n",
       "    <tr>\n",
       "      <th>4</th>\n",
       "      <td>2019-01-08</td>\n",
       "      <td>23.119633</td>\n",
       "      <td>23.603565</td>\n",
       "      <td>23.065107</td>\n",
       "      <td>23.365009</td>\n",
       "      <td>1264760</td>\n",
       "      <td>0.0</td>\n",
       "      <td>0.0</td>\n",
       "      <td>2019</td>\n",
       "      <td>1</td>\n",
       "      <td>8</td>\n",
       "      <td>1.03</td>\n",
       "    </tr>\n",
       "    <tr>\n",
       "      <th>...</th>\n",
       "      <td>...</td>\n",
       "      <td>...</td>\n",
       "      <td>...</td>\n",
       "      <td>...</td>\n",
       "      <td>...</td>\n",
       "      <td>...</td>\n",
       "      <td>...</td>\n",
       "      <td>...</td>\n",
       "      <td>...</td>\n",
       "      <td>...</td>\n",
       "      <td>...</td>\n",
       "      <td>...</td>\n",
       "    </tr>\n",
       "    <tr>\n",
       "      <th>1359</th>\n",
       "      <td>2024-04-23</td>\n",
       "      <td>38.500000</td>\n",
       "      <td>38.900002</td>\n",
       "      <td>38.459999</td>\n",
       "      <td>38.480000</td>\n",
       "      <td>391787</td>\n",
       "      <td>0.0</td>\n",
       "      <td>0.0</td>\n",
       "      <td>2024</td>\n",
       "      <td>4</td>\n",
       "      <td>23</td>\n",
       "      <td>0.05</td>\n",
       "    </tr>\n",
       "    <tr>\n",
       "      <th>1360</th>\n",
       "      <td>2024-04-24</td>\n",
       "      <td>38.520000</td>\n",
       "      <td>38.700001</td>\n",
       "      <td>38.220001</td>\n",
       "      <td>38.360001</td>\n",
       "      <td>732447</td>\n",
       "      <td>0.0</td>\n",
       "      <td>0.0</td>\n",
       "      <td>2024</td>\n",
       "      <td>4</td>\n",
       "      <td>24</td>\n",
       "      <td>-0.31</td>\n",
       "    </tr>\n",
       "    <tr>\n",
       "      <th>1361</th>\n",
       "      <td>2024-04-25</td>\n",
       "      <td>38.480000</td>\n",
       "      <td>38.480000</td>\n",
       "      <td>37.360001</td>\n",
       "      <td>37.700001</td>\n",
       "      <td>503456</td>\n",
       "      <td>0.0</td>\n",
       "      <td>0.0</td>\n",
       "      <td>2024</td>\n",
       "      <td>4</td>\n",
       "      <td>25</td>\n",
       "      <td>-1.72</td>\n",
       "    </tr>\n",
       "    <tr>\n",
       "      <th>1362</th>\n",
       "      <td>2024-04-26</td>\n",
       "      <td>38.040001</td>\n",
       "      <td>38.080002</td>\n",
       "      <td>37.700001</td>\n",
       "      <td>37.820000</td>\n",
       "      <td>522897</td>\n",
       "      <td>0.0</td>\n",
       "      <td>0.0</td>\n",
       "      <td>2024</td>\n",
       "      <td>4</td>\n",
       "      <td>26</td>\n",
       "      <td>0.32</td>\n",
       "    </tr>\n",
       "    <tr>\n",
       "      <th>1363</th>\n",
       "      <td>2024-04-29</td>\n",
       "      <td>37.799999</td>\n",
       "      <td>38.139999</td>\n",
       "      <td>37.799999</td>\n",
       "      <td>37.980000</td>\n",
       "      <td>341569</td>\n",
       "      <td>0.0</td>\n",
       "      <td>0.0</td>\n",
       "      <td>2024</td>\n",
       "      <td>4</td>\n",
       "      <td>29</td>\n",
       "      <td>0.42</td>\n",
       "    </tr>\n",
       "  </tbody>\n",
       "</table>\n",
       "<p>1364 rows × 12 columns</p>\n",
       "</div>"
      ],
      "text/plain": [
       "           Date       Open       High        Low      Close   Volume  \\\n",
       "0    2019-01-02  22.949238  22.949238  22.233563  22.656151   579957   \n",
       "1    2019-01-03  22.424411  22.921972  22.356252  22.710680   826120   \n",
       "2    2019-01-04  22.969682  23.167346  22.881075  23.051474   962645   \n",
       "3    2019-01-07  23.242326  23.378644  22.921976  23.126453  1501743   \n",
       "4    2019-01-08  23.119633  23.603565  23.065107  23.365009  1264760   \n",
       "...         ...        ...        ...        ...        ...      ...   \n",
       "1359 2024-04-23  38.500000  38.900002  38.459999  38.480000   391787   \n",
       "1360 2024-04-24  38.520000  38.700001  38.220001  38.360001   732447   \n",
       "1361 2024-04-25  38.480000  38.480000  37.360001  37.700001   503456   \n",
       "1362 2024-04-26  38.040001  38.080002  37.700001  37.820000   522897   \n",
       "1363 2024-04-29  37.799999  38.139999  37.799999  37.980000   341569   \n",
       "\n",
       "      Dividends  Stock Splits  Year  Month  Day  var_close  \n",
       "0           0.0           0.0  2019      1    2       0.00  \n",
       "1           0.0           0.0  2019      1    3       0.24  \n",
       "2           0.0           0.0  2019      1    4       1.50  \n",
       "3           0.0           0.0  2019      1    7       0.33  \n",
       "4           0.0           0.0  2019      1    8       1.03  \n",
       "...         ...           ...   ...    ...  ...        ...  \n",
       "1359        0.0           0.0  2024      4   23       0.05  \n",
       "1360        0.0           0.0  2024      4   24      -0.31  \n",
       "1361        0.0           0.0  2024      4   25      -1.72  \n",
       "1362        0.0           0.0  2024      4   26       0.32  \n",
       "1363        0.0           0.0  2024      4   29       0.42  \n",
       "\n",
       "[1364 rows x 12 columns]"
      ]
     },
     "execution_count": 107,
     "metadata": {},
     "output_type": "execute_result"
    }
   ],
   "source": [
    "dataset_para_rentabilidad = dataset_empresa\n",
    "dataset_para_rentabilidad"
   ]
  },
  {
   "cell_type": "code",
   "execution_count": 108,
   "metadata": {},
   "outputs": [
    {
     "data": {
      "text/html": [
       "<div>\n",
       "<style scoped>\n",
       "    .dataframe tbody tr th:only-of-type {\n",
       "        vertical-align: middle;\n",
       "    }\n",
       "\n",
       "    .dataframe tbody tr th {\n",
       "        vertical-align: top;\n",
       "    }\n",
       "\n",
       "    .dataframe thead th {\n",
       "        text-align: right;\n",
       "    }\n",
       "</style>\n",
       "<table border=\"1\" class=\"dataframe\">\n",
       "  <thead>\n",
       "    <tr style=\"text-align: right;\">\n",
       "      <th></th>\n",
       "      <th></th>\n",
       "      <th>first</th>\n",
       "      <th>last</th>\n",
       "      <th>Variation</th>\n",
       "    </tr>\n",
       "    <tr>\n",
       "      <th>Year</th>\n",
       "      <th>Month</th>\n",
       "      <th></th>\n",
       "      <th></th>\n",
       "      <th></th>\n",
       "    </tr>\n",
       "  </thead>\n",
       "  <tbody>\n",
       "    <tr>\n",
       "      <th rowspan=\"5\" valign=\"top\">2019</th>\n",
       "      <th>1</th>\n",
       "      <td>22.656151</td>\n",
       "      <td>24.926693</td>\n",
       "      <td>10.02</td>\n",
       "    </tr>\n",
       "    <tr>\n",
       "      <th>2</th>\n",
       "      <td>25.064791</td>\n",
       "      <td>26.915304</td>\n",
       "      <td>7.38</td>\n",
       "    </tr>\n",
       "    <tr>\n",
       "      <th>3</th>\n",
       "      <td>27.440077</td>\n",
       "      <td>27.039595</td>\n",
       "      <td>-1.46</td>\n",
       "    </tr>\n",
       "    <tr>\n",
       "      <th>4</th>\n",
       "      <td>27.067215</td>\n",
       "      <td>28.261761</td>\n",
       "      <td>4.41</td>\n",
       "    </tr>\n",
       "    <tr>\n",
       "      <th>5</th>\n",
       "      <td>27.916512</td>\n",
       "      <td>25.479088</td>\n",
       "      <td>-8.73</td>\n",
       "    </tr>\n",
       "    <tr>\n",
       "      <th>...</th>\n",
       "      <th>...</th>\n",
       "      <td>...</td>\n",
       "      <td>...</td>\n",
       "      <td>...</td>\n",
       "    </tr>\n",
       "    <tr>\n",
       "      <th>2023</th>\n",
       "      <th>12</th>\n",
       "      <td>36.197319</td>\n",
       "      <td>39.235744</td>\n",
       "      <td>8.39</td>\n",
       "    </tr>\n",
       "    <tr>\n",
       "      <th rowspan=\"4\" valign=\"top\">2024</th>\n",
       "      <th>1</th>\n",
       "      <td>39.421371</td>\n",
       "      <td>36.590000</td>\n",
       "      <td>-7.18</td>\n",
       "    </tr>\n",
       "    <tr>\n",
       "      <th>2</th>\n",
       "      <td>36.610001</td>\n",
       "      <td>37.939999</td>\n",
       "      <td>3.63</td>\n",
       "    </tr>\n",
       "    <tr>\n",
       "      <th>3</th>\n",
       "      <td>37.130001</td>\n",
       "      <td>38.779999</td>\n",
       "      <td>4.44</td>\n",
       "    </tr>\n",
       "    <tr>\n",
       "      <th>4</th>\n",
       "      <td>38.480000</td>\n",
       "      <td>37.980000</td>\n",
       "      <td>-1.30</td>\n",
       "    </tr>\n",
       "  </tbody>\n",
       "</table>\n",
       "<p>64 rows × 3 columns</p>\n",
       "</div>"
      ],
      "text/plain": [
       "                first       last  Variation\n",
       "Year Month                                 \n",
       "2019 1      22.656151  24.926693      10.02\n",
       "     2      25.064791  26.915304       7.38\n",
       "     3      27.440077  27.039595      -1.46\n",
       "     4      27.067215  28.261761       4.41\n",
       "     5      27.916512  25.479088      -8.73\n",
       "...               ...        ...        ...\n",
       "2023 12     36.197319  39.235744       8.39\n",
       "2024 1      39.421371  36.590000      -7.18\n",
       "     2      36.610001  37.939999       3.63\n",
       "     3      37.130001  38.779999       4.44\n",
       "     4      38.480000  37.980000      -1.30\n",
       "\n",
       "[64 rows x 3 columns]"
      ]
     },
     "execution_count": 108,
     "metadata": {},
     "output_type": "execute_result"
    }
   ],
   "source": [
    "monthly_close = dataset_para_rentabilidad.groupby(['Year', 'Month'])['Close'].agg(['first', 'last'])\n",
    "\n",
    "# Calcular la variación porcentual\n",
    "monthly_close['Variation'] = (monthly_close['last'] - monthly_close['first']) / monthly_close['first'] * 100\n",
    "monthly_close['Variation'] = monthly_close['Variation'].round(2)\n",
    "monthly_close"
   ]
  },
  {
   "cell_type": "markdown",
   "metadata": {},
   "source": [
    "Ahora, se va a proceder a mostrar los resultados en forma de gráfico de líneas interactivo:"
   ]
  },
  {
   "cell_type": "code",
   "execution_count": 109,
   "metadata": {},
   "outputs": [
    {
     "data": {
      "application/vnd.plotly.v1+json": {
       "config": {
        "plotlyServerURL": "https://plot.ly"
       },
       "data": [
        {
         "mode": "lines+markers",
         "name": "2019",
         "type": "scatter",
         "x": [
          1,
          2,
          3,
          4,
          5,
          6,
          7,
          8,
          9,
          10,
          11,
          12
         ],
         "y": [
          10.02,
          7.38,
          -1.46,
          4.41,
          -8.73,
          -0.68,
          2.61,
          -6.88,
          6.08,
          0.55,
          -4.12,
          3.03
         ]
        },
        {
         "mode": "lines+markers",
         "name": "2020",
         "type": "scatter",
         "x": [
          1,
          2,
          3,
          4,
          5,
          6,
          7,
          8,
          9,
          10,
          11,
          12
         ],
         "y": [
          -14.66,
          -7.86,
          -33.5,
          34.06,
          2.78,
          -0.01,
          -12.6,
          2.19,
          -5.63,
          9.62,
          20.25,
          2.92
         ]
        },
        {
         "mode": "lines+markers",
         "name": "2021",
         "type": "scatter",
         "x": [
          1,
          2,
          3,
          4,
          5,
          6,
          7,
          8,
          9,
          10,
          11,
          12
         ],
         "y": [
          -3.17,
          -3.32,
          6.8,
          -3.86,
          -5.9,
          -7.24,
          -3.74,
          1.2,
          -0.26,
          -2.62,
          -7.86,
          8.87
         ]
        },
        {
         "mode": "lines+markers",
         "name": "2022",
         "type": "scatter",
         "x": [
          1,
          2,
          3,
          4,
          5,
          6,
          7,
          8,
          9,
          10,
          11,
          12
         ],
         "y": [
          -3.86,
          -3.24,
          14.06,
          0,
          9.05,
          -12.15,
          8.43,
          -2.33,
          3.31,
          12.58,
          4.28,
          -1.44
         ]
        },
        {
         "mode": "lines+markers",
         "name": "2023",
         "type": "scatter",
         "x": [
          1,
          2,
          3,
          4,
          5,
          6,
          7,
          8,
          9,
          10,
          11,
          12
         ],
         "y": [
          1.65,
          4.75,
          1.63,
          6.09,
          0.19,
          1.93,
          5.02,
          2.37,
          5.38,
          1.33,
          7.83,
          8.39
         ]
        },
        {
         "mode": "lines+markers",
         "name": "2024",
         "type": "scatter",
         "x": [
          1,
          2,
          3,
          4
         ],
         "y": [
          -7.18,
          3.63,
          4.44,
          -1.3
         ]
        }
       ],
       "layout": {
        "template": {
         "data": {
          "bar": [
           {
            "error_x": {
             "color": "#2a3f5f"
            },
            "error_y": {
             "color": "#2a3f5f"
            },
            "marker": {
             "line": {
              "color": "#E5ECF6",
              "width": 0.5
             },
             "pattern": {
              "fillmode": "overlay",
              "size": 10,
              "solidity": 0.2
             }
            },
            "type": "bar"
           }
          ],
          "barpolar": [
           {
            "marker": {
             "line": {
              "color": "#E5ECF6",
              "width": 0.5
             },
             "pattern": {
              "fillmode": "overlay",
              "size": 10,
              "solidity": 0.2
             }
            },
            "type": "barpolar"
           }
          ],
          "carpet": [
           {
            "aaxis": {
             "endlinecolor": "#2a3f5f",
             "gridcolor": "white",
             "linecolor": "white",
             "minorgridcolor": "white",
             "startlinecolor": "#2a3f5f"
            },
            "baxis": {
             "endlinecolor": "#2a3f5f",
             "gridcolor": "white",
             "linecolor": "white",
             "minorgridcolor": "white",
             "startlinecolor": "#2a3f5f"
            },
            "type": "carpet"
           }
          ],
          "choropleth": [
           {
            "colorbar": {
             "outlinewidth": 0,
             "ticks": ""
            },
            "type": "choropleth"
           }
          ],
          "contour": [
           {
            "colorbar": {
             "outlinewidth": 0,
             "ticks": ""
            },
            "colorscale": [
             [
              0,
              "#0d0887"
             ],
             [
              0.1111111111111111,
              "#46039f"
             ],
             [
              0.2222222222222222,
              "#7201a8"
             ],
             [
              0.3333333333333333,
              "#9c179e"
             ],
             [
              0.4444444444444444,
              "#bd3786"
             ],
             [
              0.5555555555555556,
              "#d8576b"
             ],
             [
              0.6666666666666666,
              "#ed7953"
             ],
             [
              0.7777777777777778,
              "#fb9f3a"
             ],
             [
              0.8888888888888888,
              "#fdca26"
             ],
             [
              1,
              "#f0f921"
             ]
            ],
            "type": "contour"
           }
          ],
          "contourcarpet": [
           {
            "colorbar": {
             "outlinewidth": 0,
             "ticks": ""
            },
            "type": "contourcarpet"
           }
          ],
          "heatmap": [
           {
            "colorbar": {
             "outlinewidth": 0,
             "ticks": ""
            },
            "colorscale": [
             [
              0,
              "#0d0887"
             ],
             [
              0.1111111111111111,
              "#46039f"
             ],
             [
              0.2222222222222222,
              "#7201a8"
             ],
             [
              0.3333333333333333,
              "#9c179e"
             ],
             [
              0.4444444444444444,
              "#bd3786"
             ],
             [
              0.5555555555555556,
              "#d8576b"
             ],
             [
              0.6666666666666666,
              "#ed7953"
             ],
             [
              0.7777777777777778,
              "#fb9f3a"
             ],
             [
              0.8888888888888888,
              "#fdca26"
             ],
             [
              1,
              "#f0f921"
             ]
            ],
            "type": "heatmap"
           }
          ],
          "heatmapgl": [
           {
            "colorbar": {
             "outlinewidth": 0,
             "ticks": ""
            },
            "colorscale": [
             [
              0,
              "#0d0887"
             ],
             [
              0.1111111111111111,
              "#46039f"
             ],
             [
              0.2222222222222222,
              "#7201a8"
             ],
             [
              0.3333333333333333,
              "#9c179e"
             ],
             [
              0.4444444444444444,
              "#bd3786"
             ],
             [
              0.5555555555555556,
              "#d8576b"
             ],
             [
              0.6666666666666666,
              "#ed7953"
             ],
             [
              0.7777777777777778,
              "#fb9f3a"
             ],
             [
              0.8888888888888888,
              "#fdca26"
             ],
             [
              1,
              "#f0f921"
             ]
            ],
            "type": "heatmapgl"
           }
          ],
          "histogram": [
           {
            "marker": {
             "pattern": {
              "fillmode": "overlay",
              "size": 10,
              "solidity": 0.2
             }
            },
            "type": "histogram"
           }
          ],
          "histogram2d": [
           {
            "colorbar": {
             "outlinewidth": 0,
             "ticks": ""
            },
            "colorscale": [
             [
              0,
              "#0d0887"
             ],
             [
              0.1111111111111111,
              "#46039f"
             ],
             [
              0.2222222222222222,
              "#7201a8"
             ],
             [
              0.3333333333333333,
              "#9c179e"
             ],
             [
              0.4444444444444444,
              "#bd3786"
             ],
             [
              0.5555555555555556,
              "#d8576b"
             ],
             [
              0.6666666666666666,
              "#ed7953"
             ],
             [
              0.7777777777777778,
              "#fb9f3a"
             ],
             [
              0.8888888888888888,
              "#fdca26"
             ],
             [
              1,
              "#f0f921"
             ]
            ],
            "type": "histogram2d"
           }
          ],
          "histogram2dcontour": [
           {
            "colorbar": {
             "outlinewidth": 0,
             "ticks": ""
            },
            "colorscale": [
             [
              0,
              "#0d0887"
             ],
             [
              0.1111111111111111,
              "#46039f"
             ],
             [
              0.2222222222222222,
              "#7201a8"
             ],
             [
              0.3333333333333333,
              "#9c179e"
             ],
             [
              0.4444444444444444,
              "#bd3786"
             ],
             [
              0.5555555555555556,
              "#d8576b"
             ],
             [
              0.6666666666666666,
              "#ed7953"
             ],
             [
              0.7777777777777778,
              "#fb9f3a"
             ],
             [
              0.8888888888888888,
              "#fdca26"
             ],
             [
              1,
              "#f0f921"
             ]
            ],
            "type": "histogram2dcontour"
           }
          ],
          "mesh3d": [
           {
            "colorbar": {
             "outlinewidth": 0,
             "ticks": ""
            },
            "type": "mesh3d"
           }
          ],
          "parcoords": [
           {
            "line": {
             "colorbar": {
              "outlinewidth": 0,
              "ticks": ""
             }
            },
            "type": "parcoords"
           }
          ],
          "pie": [
           {
            "automargin": true,
            "type": "pie"
           }
          ],
          "scatter": [
           {
            "fillpattern": {
             "fillmode": "overlay",
             "size": 10,
             "solidity": 0.2
            },
            "type": "scatter"
           }
          ],
          "scatter3d": [
           {
            "line": {
             "colorbar": {
              "outlinewidth": 0,
              "ticks": ""
             }
            },
            "marker": {
             "colorbar": {
              "outlinewidth": 0,
              "ticks": ""
             }
            },
            "type": "scatter3d"
           }
          ],
          "scattercarpet": [
           {
            "marker": {
             "colorbar": {
              "outlinewidth": 0,
              "ticks": ""
             }
            },
            "type": "scattercarpet"
           }
          ],
          "scattergeo": [
           {
            "marker": {
             "colorbar": {
              "outlinewidth": 0,
              "ticks": ""
             }
            },
            "type": "scattergeo"
           }
          ],
          "scattergl": [
           {
            "marker": {
             "colorbar": {
              "outlinewidth": 0,
              "ticks": ""
             }
            },
            "type": "scattergl"
           }
          ],
          "scattermapbox": [
           {
            "marker": {
             "colorbar": {
              "outlinewidth": 0,
              "ticks": ""
             }
            },
            "type": "scattermapbox"
           }
          ],
          "scatterpolar": [
           {
            "marker": {
             "colorbar": {
              "outlinewidth": 0,
              "ticks": ""
             }
            },
            "type": "scatterpolar"
           }
          ],
          "scatterpolargl": [
           {
            "marker": {
             "colorbar": {
              "outlinewidth": 0,
              "ticks": ""
             }
            },
            "type": "scatterpolargl"
           }
          ],
          "scatterternary": [
           {
            "marker": {
             "colorbar": {
              "outlinewidth": 0,
              "ticks": ""
             }
            },
            "type": "scatterternary"
           }
          ],
          "surface": [
           {
            "colorbar": {
             "outlinewidth": 0,
             "ticks": ""
            },
            "colorscale": [
             [
              0,
              "#0d0887"
             ],
             [
              0.1111111111111111,
              "#46039f"
             ],
             [
              0.2222222222222222,
              "#7201a8"
             ],
             [
              0.3333333333333333,
              "#9c179e"
             ],
             [
              0.4444444444444444,
              "#bd3786"
             ],
             [
              0.5555555555555556,
              "#d8576b"
             ],
             [
              0.6666666666666666,
              "#ed7953"
             ],
             [
              0.7777777777777778,
              "#fb9f3a"
             ],
             [
              0.8888888888888888,
              "#fdca26"
             ],
             [
              1,
              "#f0f921"
             ]
            ],
            "type": "surface"
           }
          ],
          "table": [
           {
            "cells": {
             "fill": {
              "color": "#EBF0F8"
             },
             "line": {
              "color": "white"
             }
            },
            "header": {
             "fill": {
              "color": "#C8D4E3"
             },
             "line": {
              "color": "white"
             }
            },
            "type": "table"
           }
          ]
         },
         "layout": {
          "annotationdefaults": {
           "arrowcolor": "#2a3f5f",
           "arrowhead": 0,
           "arrowwidth": 1
          },
          "autotypenumbers": "strict",
          "coloraxis": {
           "colorbar": {
            "outlinewidth": 0,
            "ticks": ""
           }
          },
          "colorscale": {
           "diverging": [
            [
             0,
             "#8e0152"
            ],
            [
             0.1,
             "#c51b7d"
            ],
            [
             0.2,
             "#de77ae"
            ],
            [
             0.3,
             "#f1b6da"
            ],
            [
             0.4,
             "#fde0ef"
            ],
            [
             0.5,
             "#f7f7f7"
            ],
            [
             0.6,
             "#e6f5d0"
            ],
            [
             0.7,
             "#b8e186"
            ],
            [
             0.8,
             "#7fbc41"
            ],
            [
             0.9,
             "#4d9221"
            ],
            [
             1,
             "#276419"
            ]
           ],
           "sequential": [
            [
             0,
             "#0d0887"
            ],
            [
             0.1111111111111111,
             "#46039f"
            ],
            [
             0.2222222222222222,
             "#7201a8"
            ],
            [
             0.3333333333333333,
             "#9c179e"
            ],
            [
             0.4444444444444444,
             "#bd3786"
            ],
            [
             0.5555555555555556,
             "#d8576b"
            ],
            [
             0.6666666666666666,
             "#ed7953"
            ],
            [
             0.7777777777777778,
             "#fb9f3a"
            ],
            [
             0.8888888888888888,
             "#fdca26"
            ],
            [
             1,
             "#f0f921"
            ]
           ],
           "sequentialminus": [
            [
             0,
             "#0d0887"
            ],
            [
             0.1111111111111111,
             "#46039f"
            ],
            [
             0.2222222222222222,
             "#7201a8"
            ],
            [
             0.3333333333333333,
             "#9c179e"
            ],
            [
             0.4444444444444444,
             "#bd3786"
            ],
            [
             0.5555555555555556,
             "#d8576b"
            ],
            [
             0.6666666666666666,
             "#ed7953"
            ],
            [
             0.7777777777777778,
             "#fb9f3a"
            ],
            [
             0.8888888888888888,
             "#fdca26"
            ],
            [
             1,
             "#f0f921"
            ]
           ]
          },
          "colorway": [
           "#636efa",
           "#EF553B",
           "#00cc96",
           "#ab63fa",
           "#FFA15A",
           "#19d3f3",
           "#FF6692",
           "#B6E880",
           "#FF97FF",
           "#FECB52"
          ],
          "font": {
           "color": "#2a3f5f"
          },
          "geo": {
           "bgcolor": "white",
           "lakecolor": "white",
           "landcolor": "#E5ECF6",
           "showlakes": true,
           "showland": true,
           "subunitcolor": "white"
          },
          "hoverlabel": {
           "align": "left"
          },
          "hovermode": "closest",
          "mapbox": {
           "style": "light"
          },
          "paper_bgcolor": "white",
          "plot_bgcolor": "#E5ECF6",
          "polar": {
           "angularaxis": {
            "gridcolor": "white",
            "linecolor": "white",
            "ticks": ""
           },
           "bgcolor": "#E5ECF6",
           "radialaxis": {
            "gridcolor": "white",
            "linecolor": "white",
            "ticks": ""
           }
          },
          "scene": {
           "xaxis": {
            "backgroundcolor": "#E5ECF6",
            "gridcolor": "white",
            "gridwidth": 2,
            "linecolor": "white",
            "showbackground": true,
            "ticks": "",
            "zerolinecolor": "white"
           },
           "yaxis": {
            "backgroundcolor": "#E5ECF6",
            "gridcolor": "white",
            "gridwidth": 2,
            "linecolor": "white",
            "showbackground": true,
            "ticks": "",
            "zerolinecolor": "white"
           },
           "zaxis": {
            "backgroundcolor": "#E5ECF6",
            "gridcolor": "white",
            "gridwidth": 2,
            "linecolor": "white",
            "showbackground": true,
            "ticks": "",
            "zerolinecolor": "white"
           }
          },
          "shapedefaults": {
           "line": {
            "color": "#2a3f5f"
           }
          },
          "ternary": {
           "aaxis": {
            "gridcolor": "white",
            "linecolor": "white",
            "ticks": ""
           },
           "baxis": {
            "gridcolor": "white",
            "linecolor": "white",
            "ticks": ""
           },
           "bgcolor": "#E5ECF6",
           "caxis": {
            "gridcolor": "white",
            "linecolor": "white",
            "ticks": ""
           }
          },
          "title": {
           "x": 0.05
          },
          "xaxis": {
           "automargin": true,
           "gridcolor": "white",
           "linecolor": "white",
           "ticks": "",
           "title": {
            "standoff": 15
           },
           "zerolinecolor": "white",
           "zerolinewidth": 2
          },
          "yaxis": {
           "automargin": true,
           "gridcolor": "white",
           "linecolor": "white",
           "ticks": "",
           "title": {
            "standoff": 15
           },
           "zerolinecolor": "white",
           "zerolinewidth": 2
          }
         }
        },
        "title": {
         "text": "Variación porcentual mensual en el precio de cierre (Close) entre 2019 y 2024"
        },
        "xaxis": {
         "ticktext": [
          "Ene",
          "Feb",
          "Mar",
          "Abr",
          "May",
          "Jun",
          "Jul",
          "Ago",
          "Sep",
          "Oct",
          "Nov",
          "Dic"
         ],
         "tickvals": [
          1,
          2,
          3,
          4,
          5,
          6,
          7,
          8,
          9,
          10,
          11,
          12
         ],
         "title": {
          "text": "Mes"
         }
        },
        "yaxis": {
         "title": {
          "text": "Variación (%)"
         }
        }
       }
      }
     },
     "metadata": {},
     "output_type": "display_data"
    }
   ],
   "source": [
    "traces = []\n",
    "for year in monthly_close.index.get_level_values('Year').unique():\n",
    "    df_year = monthly_close.loc[year]\n",
    "    trace = go.Scatter(\n",
    "        x=df_year.index.get_level_values('Month'),\n",
    "        y=df_year['Variation'],\n",
    "        mode='lines+markers',\n",
    "        name=str(year)\n",
    "    )\n",
    "    traces.append(trace)\n",
    "\n",
    "# Diseñar el diseño del gráfico\n",
    "layout = go.Layout(\n",
    "    title='Variación porcentual mensual en el precio de cierre (Close) entre 2019 y 2024',\n",
    "    xaxis=dict(\n",
    "        title='Mes',\n",
    "        tickvals=list(range(1, 13)),  # Valores de los meses (1 a 12)\n",
    "        ticktext=['Ene', 'Feb', 'Mar', 'Abr', 'May', 'Jun', 'Jul', 'Ago', 'Sep', 'Oct', 'Nov', 'Dic']  # Etiquetas de los meses\n",
    "    ),\n",
    "    yaxis=dict(title='Variación (%)')\n",
    ")\n",
    "\n",
    "# Crear la figura\n",
    "fig = go.Figure(data=traces, layout=layout)\n",
    "\n",
    "# Mostrar el gráfico interactivo\n",
    "fig.show()"
   ]
  },
  {
   "cell_type": "markdown",
   "metadata": {},
   "source": [
    "## 4.2- Analisis de dividendos de acciones de la empresa por año"
   ]
  },
  {
   "cell_type": "markdown",
   "metadata": {},
   "source": [
    "Primero, pongo como ejemplo los dividendos, que ha habido de una fecha inicial respecto a otra fecha final."
   ]
  },
  {
   "cell_type": "markdown",
   "metadata": {},
   "source": [
    "Antes que nada, vamos a crear una variable paralela a dataset_empresa para poder realizar esta sección:"
   ]
  },
  {
   "cell_type": "code",
   "execution_count": 110,
   "metadata": {},
   "outputs": [
    {
     "data": {
      "text/html": [
       "<div>\n",
       "<style scoped>\n",
       "    .dataframe tbody tr th:only-of-type {\n",
       "        vertical-align: middle;\n",
       "    }\n",
       "\n",
       "    .dataframe tbody tr th {\n",
       "        vertical-align: top;\n",
       "    }\n",
       "\n",
       "    .dataframe thead th {\n",
       "        text-align: right;\n",
       "    }\n",
       "</style>\n",
       "<table border=\"1\" class=\"dataframe\">\n",
       "  <thead>\n",
       "    <tr style=\"text-align: right;\">\n",
       "      <th></th>\n",
       "      <th>Date</th>\n",
       "      <th>Open</th>\n",
       "      <th>High</th>\n",
       "      <th>Low</th>\n",
       "      <th>Close</th>\n",
       "      <th>Volume</th>\n",
       "      <th>Dividends</th>\n",
       "      <th>Stock Splits</th>\n",
       "      <th>Year</th>\n",
       "      <th>Month</th>\n",
       "      <th>Day</th>\n",
       "      <th>var_close</th>\n",
       "    </tr>\n",
       "  </thead>\n",
       "  <tbody>\n",
       "    <tr>\n",
       "      <th>0</th>\n",
       "      <td>2019-01-02</td>\n",
       "      <td>22.949238</td>\n",
       "      <td>22.949238</td>\n",
       "      <td>22.233563</td>\n",
       "      <td>22.656151</td>\n",
       "      <td>579957</td>\n",
       "      <td>0.0</td>\n",
       "      <td>0.0</td>\n",
       "      <td>2019</td>\n",
       "      <td>1</td>\n",
       "      <td>2</td>\n",
       "      <td>0.00</td>\n",
       "    </tr>\n",
       "    <tr>\n",
       "      <th>1</th>\n",
       "      <td>2019-01-03</td>\n",
       "      <td>22.424411</td>\n",
       "      <td>22.921972</td>\n",
       "      <td>22.356252</td>\n",
       "      <td>22.710680</td>\n",
       "      <td>826120</td>\n",
       "      <td>0.0</td>\n",
       "      <td>0.0</td>\n",
       "      <td>2019</td>\n",
       "      <td>1</td>\n",
       "      <td>3</td>\n",
       "      <td>0.24</td>\n",
       "    </tr>\n",
       "    <tr>\n",
       "      <th>2</th>\n",
       "      <td>2019-01-04</td>\n",
       "      <td>22.969682</td>\n",
       "      <td>23.167346</td>\n",
       "      <td>22.881075</td>\n",
       "      <td>23.051474</td>\n",
       "      <td>962645</td>\n",
       "      <td>0.0</td>\n",
       "      <td>0.0</td>\n",
       "      <td>2019</td>\n",
       "      <td>1</td>\n",
       "      <td>4</td>\n",
       "      <td>1.50</td>\n",
       "    </tr>\n",
       "    <tr>\n",
       "      <th>3</th>\n",
       "      <td>2019-01-07</td>\n",
       "      <td>23.242326</td>\n",
       "      <td>23.378644</td>\n",
       "      <td>22.921976</td>\n",
       "      <td>23.126453</td>\n",
       "      <td>1501743</td>\n",
       "      <td>0.0</td>\n",
       "      <td>0.0</td>\n",
       "      <td>2019</td>\n",
       "      <td>1</td>\n",
       "      <td>7</td>\n",
       "      <td>0.33</td>\n",
       "    </tr>\n",
       "    <tr>\n",
       "      <th>4</th>\n",
       "      <td>2019-01-08</td>\n",
       "      <td>23.119633</td>\n",
       "      <td>23.603565</td>\n",
       "      <td>23.065107</td>\n",
       "      <td>23.365009</td>\n",
       "      <td>1264760</td>\n",
       "      <td>0.0</td>\n",
       "      <td>0.0</td>\n",
       "      <td>2019</td>\n",
       "      <td>1</td>\n",
       "      <td>8</td>\n",
       "      <td>1.03</td>\n",
       "    </tr>\n",
       "    <tr>\n",
       "      <th>...</th>\n",
       "      <td>...</td>\n",
       "      <td>...</td>\n",
       "      <td>...</td>\n",
       "      <td>...</td>\n",
       "      <td>...</td>\n",
       "      <td>...</td>\n",
       "      <td>...</td>\n",
       "      <td>...</td>\n",
       "      <td>...</td>\n",
       "      <td>...</td>\n",
       "      <td>...</td>\n",
       "      <td>...</td>\n",
       "    </tr>\n",
       "    <tr>\n",
       "      <th>1359</th>\n",
       "      <td>2024-04-23</td>\n",
       "      <td>38.500000</td>\n",
       "      <td>38.900002</td>\n",
       "      <td>38.459999</td>\n",
       "      <td>38.480000</td>\n",
       "      <td>391787</td>\n",
       "      <td>0.0</td>\n",
       "      <td>0.0</td>\n",
       "      <td>2024</td>\n",
       "      <td>4</td>\n",
       "      <td>23</td>\n",
       "      <td>0.05</td>\n",
       "    </tr>\n",
       "    <tr>\n",
       "      <th>1360</th>\n",
       "      <td>2024-04-24</td>\n",
       "      <td>38.520000</td>\n",
       "      <td>38.700001</td>\n",
       "      <td>38.220001</td>\n",
       "      <td>38.360001</td>\n",
       "      <td>732447</td>\n",
       "      <td>0.0</td>\n",
       "      <td>0.0</td>\n",
       "      <td>2024</td>\n",
       "      <td>4</td>\n",
       "      <td>24</td>\n",
       "      <td>-0.31</td>\n",
       "    </tr>\n",
       "    <tr>\n",
       "      <th>1361</th>\n",
       "      <td>2024-04-25</td>\n",
       "      <td>38.480000</td>\n",
       "      <td>38.480000</td>\n",
       "      <td>37.360001</td>\n",
       "      <td>37.700001</td>\n",
       "      <td>503456</td>\n",
       "      <td>0.0</td>\n",
       "      <td>0.0</td>\n",
       "      <td>2024</td>\n",
       "      <td>4</td>\n",
       "      <td>25</td>\n",
       "      <td>-1.72</td>\n",
       "    </tr>\n",
       "    <tr>\n",
       "      <th>1362</th>\n",
       "      <td>2024-04-26</td>\n",
       "      <td>38.040001</td>\n",
       "      <td>38.080002</td>\n",
       "      <td>37.700001</td>\n",
       "      <td>37.820000</td>\n",
       "      <td>522897</td>\n",
       "      <td>0.0</td>\n",
       "      <td>0.0</td>\n",
       "      <td>2024</td>\n",
       "      <td>4</td>\n",
       "      <td>26</td>\n",
       "      <td>0.32</td>\n",
       "    </tr>\n",
       "    <tr>\n",
       "      <th>1363</th>\n",
       "      <td>2024-04-29</td>\n",
       "      <td>37.799999</td>\n",
       "      <td>38.139999</td>\n",
       "      <td>37.799999</td>\n",
       "      <td>37.980000</td>\n",
       "      <td>341569</td>\n",
       "      <td>0.0</td>\n",
       "      <td>0.0</td>\n",
       "      <td>2024</td>\n",
       "      <td>4</td>\n",
       "      <td>29</td>\n",
       "      <td>0.42</td>\n",
       "    </tr>\n",
       "  </tbody>\n",
       "</table>\n",
       "<p>1364 rows × 12 columns</p>\n",
       "</div>"
      ],
      "text/plain": [
       "           Date       Open       High        Low      Close   Volume  \\\n",
       "0    2019-01-02  22.949238  22.949238  22.233563  22.656151   579957   \n",
       "1    2019-01-03  22.424411  22.921972  22.356252  22.710680   826120   \n",
       "2    2019-01-04  22.969682  23.167346  22.881075  23.051474   962645   \n",
       "3    2019-01-07  23.242326  23.378644  22.921976  23.126453  1501743   \n",
       "4    2019-01-08  23.119633  23.603565  23.065107  23.365009  1264760   \n",
       "...         ...        ...        ...        ...        ...      ...   \n",
       "1359 2024-04-23  38.500000  38.900002  38.459999  38.480000   391787   \n",
       "1360 2024-04-24  38.520000  38.700001  38.220001  38.360001   732447   \n",
       "1361 2024-04-25  38.480000  38.480000  37.360001  37.700001   503456   \n",
       "1362 2024-04-26  38.040001  38.080002  37.700001  37.820000   522897   \n",
       "1363 2024-04-29  37.799999  38.139999  37.799999  37.980000   341569   \n",
       "\n",
       "      Dividends  Stock Splits  Year  Month  Day  var_close  \n",
       "0           0.0           0.0  2019      1    2       0.00  \n",
       "1           0.0           0.0  2019      1    3       0.24  \n",
       "2           0.0           0.0  2019      1    4       1.50  \n",
       "3           0.0           0.0  2019      1    7       0.33  \n",
       "4           0.0           0.0  2019      1    8       1.03  \n",
       "...         ...           ...   ...    ...  ...        ...  \n",
       "1359        0.0           0.0  2024      4   23       0.05  \n",
       "1360        0.0           0.0  2024      4   24      -0.31  \n",
       "1361        0.0           0.0  2024      4   25      -1.72  \n",
       "1362        0.0           0.0  2024      4   26       0.32  \n",
       "1363        0.0           0.0  2024      4   29       0.42  \n",
       "\n",
       "[1364 rows x 12 columns]"
      ]
     },
     "execution_count": 110,
     "metadata": {},
     "output_type": "execute_result"
    }
   ],
   "source": [
    "dividendos_empresa = ACS_dataset\n",
    "dividendos_empresa"
   ]
  },
  {
   "cell_type": "code",
   "execution_count": 111,
   "metadata": {},
   "outputs": [
    {
     "data": {
      "text/html": [
       "<div>\n",
       "<style scoped>\n",
       "    .dataframe tbody tr th:only-of-type {\n",
       "        vertical-align: middle;\n",
       "    }\n",
       "\n",
       "    .dataframe tbody tr th {\n",
       "        vertical-align: top;\n",
       "    }\n",
       "\n",
       "    .dataframe thead th {\n",
       "        text-align: right;\n",
       "    }\n",
       "</style>\n",
       "<table border=\"1\" class=\"dataframe\">\n",
       "  <thead>\n",
       "    <tr style=\"text-align: right;\">\n",
       "      <th></th>\n",
       "      <th>Date</th>\n",
       "      <th>Close</th>\n",
       "      <th>Dividends</th>\n",
       "    </tr>\n",
       "  </thead>\n",
       "  <tbody>\n",
       "    <tr>\n",
       "      <th>0</th>\n",
       "      <td>2019-01-22</td>\n",
       "      <td>24.546923</td>\n",
       "      <td>0.450</td>\n",
       "    </tr>\n",
       "    <tr>\n",
       "      <th>1</th>\n",
       "      <td>2019-06-24</td>\n",
       "      <td>26.084438</td>\n",
       "      <td>1.450</td>\n",
       "    </tr>\n",
       "    <tr>\n",
       "      <th>2</th>\n",
       "      <td>2020-02-18</td>\n",
       "      <td>22.664412</td>\n",
       "      <td>0.449</td>\n",
       "    </tr>\n",
       "    <tr>\n",
       "      <th>3</th>\n",
       "      <td>2020-06-23</td>\n",
       "      <td>17.744349</td>\n",
       "      <td>1.380</td>\n",
       "    </tr>\n",
       "    <tr>\n",
       "      <th>4</th>\n",
       "      <td>2020-07-02</td>\n",
       "      <td>18.317226</td>\n",
       "      <td>0.160</td>\n",
       "    </tr>\n",
       "    <tr>\n",
       "      <th>5</th>\n",
       "      <td>2021-01-22</td>\n",
       "      <td>21.408579</td>\n",
       "      <td>0.452</td>\n",
       "    </tr>\n",
       "    <tr>\n",
       "      <th>6</th>\n",
       "      <td>2021-06-22</td>\n",
       "      <td>19.202978</td>\n",
       "      <td>1.270</td>\n",
       "    </tr>\n",
       "    <tr>\n",
       "      <th>7</th>\n",
       "      <td>2022-01-14</td>\n",
       "      <td>20.475348</td>\n",
       "      <td>0.468</td>\n",
       "    </tr>\n",
       "    <tr>\n",
       "      <th>8</th>\n",
       "      <td>2022-07-01</td>\n",
       "      <td>19.705980</td>\n",
       "      <td>1.484</td>\n",
       "    </tr>\n",
       "    <tr>\n",
       "      <th>9</th>\n",
       "      <td>2022-08-02</td>\n",
       "      <td>21.121965</td>\n",
       "      <td>0.050</td>\n",
       "    </tr>\n",
       "    <tr>\n",
       "      <th>10</th>\n",
       "      <td>2023-01-20</td>\n",
       "      <td>25.673712</td>\n",
       "      <td>0.480</td>\n",
       "    </tr>\n",
       "    <tr>\n",
       "      <th>11</th>\n",
       "      <td>2023-07-04</td>\n",
       "      <td>29.426807</td>\n",
       "      <td>1.482</td>\n",
       "    </tr>\n",
       "    <tr>\n",
       "      <th>12</th>\n",
       "      <td>2024-01-19</td>\n",
       "      <td>39.439999</td>\n",
       "      <td>0.457</td>\n",
       "    </tr>\n",
       "  </tbody>\n",
       "</table>\n",
       "</div>"
      ],
      "text/plain": [
       "         Date      Close  Dividends\n",
       "0  2019-01-22  24.546923      0.450\n",
       "1  2019-06-24  26.084438      1.450\n",
       "2  2020-02-18  22.664412      0.449\n",
       "3  2020-06-23  17.744349      1.380\n",
       "4  2020-07-02  18.317226      0.160\n",
       "5  2021-01-22  21.408579      0.452\n",
       "6  2021-06-22  19.202978      1.270\n",
       "7  2022-01-14  20.475348      0.468\n",
       "8  2022-07-01  19.705980      1.484\n",
       "9  2022-08-02  21.121965      0.050\n",
       "10 2023-01-20  25.673712      0.480\n",
       "11 2023-07-04  29.426807      1.482\n",
       "12 2024-01-19  39.439999      0.457"
      ]
     },
     "execution_count": 111,
     "metadata": {},
     "output_type": "execute_result"
    }
   ],
   "source": [
    "dividendos_empresa = dividendos_empresa[dividendos_empresa['Dividends'] > 0]\n",
    "\n",
    "tabla_dividendos = dividendos_empresa[['Date', 'Close', 'Dividends']]\n",
    "tabla_dividendos = tabla_dividendos.reset_index(drop=True)\n",
    "tabla_dividendos"
   ]
  },
  {
   "cell_type": "code",
   "execution_count": 112,
   "metadata": {},
   "outputs": [
    {
     "data": {
      "text/html": [
       "<div>\n",
       "<style scoped>\n",
       "    .dataframe tbody tr th:only-of-type {\n",
       "        vertical-align: middle;\n",
       "    }\n",
       "\n",
       "    .dataframe tbody tr th {\n",
       "        vertical-align: top;\n",
       "    }\n",
       "\n",
       "    .dataframe thead th {\n",
       "        text-align: right;\n",
       "    }\n",
       "</style>\n",
       "<table border=\"1\" class=\"dataframe\">\n",
       "  <thead>\n",
       "    <tr style=\"text-align: right;\">\n",
       "      <th></th>\n",
       "      <th>Date</th>\n",
       "      <th>Close</th>\n",
       "      <th>Dividends</th>\n",
       "      <th>Proportion</th>\n",
       "    </tr>\n",
       "  </thead>\n",
       "  <tbody>\n",
       "    <tr>\n",
       "      <th>0</th>\n",
       "      <td>2019-01-22</td>\n",
       "      <td>24.546923</td>\n",
       "      <td>0.450</td>\n",
       "      <td>1.833</td>\n",
       "    </tr>\n",
       "    <tr>\n",
       "      <th>1</th>\n",
       "      <td>2019-06-24</td>\n",
       "      <td>26.084438</td>\n",
       "      <td>1.450</td>\n",
       "      <td>5.559</td>\n",
       "    </tr>\n",
       "    <tr>\n",
       "      <th>2</th>\n",
       "      <td>2020-02-18</td>\n",
       "      <td>22.664412</td>\n",
       "      <td>0.449</td>\n",
       "      <td>1.981</td>\n",
       "    </tr>\n",
       "    <tr>\n",
       "      <th>3</th>\n",
       "      <td>2020-06-23</td>\n",
       "      <td>17.744349</td>\n",
       "      <td>1.380</td>\n",
       "      <td>7.777</td>\n",
       "    </tr>\n",
       "    <tr>\n",
       "      <th>4</th>\n",
       "      <td>2020-07-02</td>\n",
       "      <td>18.317226</td>\n",
       "      <td>0.160</td>\n",
       "      <td>0.873</td>\n",
       "    </tr>\n",
       "    <tr>\n",
       "      <th>5</th>\n",
       "      <td>2021-01-22</td>\n",
       "      <td>21.408579</td>\n",
       "      <td>0.452</td>\n",
       "      <td>2.111</td>\n",
       "    </tr>\n",
       "    <tr>\n",
       "      <th>6</th>\n",
       "      <td>2021-06-22</td>\n",
       "      <td>19.202978</td>\n",
       "      <td>1.270</td>\n",
       "      <td>6.614</td>\n",
       "    </tr>\n",
       "    <tr>\n",
       "      <th>7</th>\n",
       "      <td>2022-01-14</td>\n",
       "      <td>20.475348</td>\n",
       "      <td>0.468</td>\n",
       "      <td>2.286</td>\n",
       "    </tr>\n",
       "    <tr>\n",
       "      <th>8</th>\n",
       "      <td>2022-07-01</td>\n",
       "      <td>19.705980</td>\n",
       "      <td>1.484</td>\n",
       "      <td>7.531</td>\n",
       "    </tr>\n",
       "    <tr>\n",
       "      <th>9</th>\n",
       "      <td>2022-08-02</td>\n",
       "      <td>21.121965</td>\n",
       "      <td>0.050</td>\n",
       "      <td>0.237</td>\n",
       "    </tr>\n",
       "    <tr>\n",
       "      <th>10</th>\n",
       "      <td>2023-01-20</td>\n",
       "      <td>25.673712</td>\n",
       "      <td>0.480</td>\n",
       "      <td>1.870</td>\n",
       "    </tr>\n",
       "    <tr>\n",
       "      <th>11</th>\n",
       "      <td>2023-07-04</td>\n",
       "      <td>29.426807</td>\n",
       "      <td>1.482</td>\n",
       "      <td>5.036</td>\n",
       "    </tr>\n",
       "    <tr>\n",
       "      <th>12</th>\n",
       "      <td>2024-01-19</td>\n",
       "      <td>39.439999</td>\n",
       "      <td>0.457</td>\n",
       "      <td>1.159</td>\n",
       "    </tr>\n",
       "  </tbody>\n",
       "</table>\n",
       "</div>"
      ],
      "text/plain": [
       "         Date      Close  Dividends  Proportion\n",
       "0  2019-01-22  24.546923      0.450       1.833\n",
       "1  2019-06-24  26.084438      1.450       5.559\n",
       "2  2020-02-18  22.664412      0.449       1.981\n",
       "3  2020-06-23  17.744349      1.380       7.777\n",
       "4  2020-07-02  18.317226      0.160       0.873\n",
       "5  2021-01-22  21.408579      0.452       2.111\n",
       "6  2021-06-22  19.202978      1.270       6.614\n",
       "7  2022-01-14  20.475348      0.468       2.286\n",
       "8  2022-07-01  19.705980      1.484       7.531\n",
       "9  2022-08-02  21.121965      0.050       0.237\n",
       "10 2023-01-20  25.673712      0.480       1.870\n",
       "11 2023-07-04  29.426807      1.482       5.036\n",
       "12 2024-01-19  39.439999      0.457       1.159"
      ]
     },
     "execution_count": 112,
     "metadata": {},
     "output_type": "execute_result"
    }
   ],
   "source": [
    "tabla_dividendos['Proportion'] = (tabla_dividendos['Dividends'] / tabla_dividendos['Close']) * 100\n",
    "tabla_dividendos['Proportion'] = tabla_dividendos['Proportion'].round(3)\n",
    "tabla_dividendos"
   ]
  },
  {
   "cell_type": "markdown",
   "metadata": {},
   "source": [
    "Ahora, se mostrará de forma gráfica estos datos:"
   ]
  },
  {
   "cell_type": "code",
   "execution_count": 115,
   "metadata": {},
   "outputs": [
    {
     "data": {
      "application/vnd.plotly.v1+json": {
       "config": {
        "plotlyServerURL": "https://plot.ly"
       },
       "data": [
        {
         "hovertemplate": "Date=%{x}<br>Dividends=%{y}<br>Proportion (%)=%{text}<extra></extra>",
         "legendgroup": "",
         "marker": {
          "color": "blue",
          "size": 10,
          "symbol": "circle"
         },
         "mode": "markers+text",
         "name": "",
         "orientation": "v",
         "showlegend": false,
         "text": [
          1.833,
          5.559,
          1.981,
          7.777,
          0.873,
          2.111,
          6.614,
          2.286,
          7.531,
          0.237,
          1.87,
          5.036,
          1.159
         ],
         "textposition": "top center",
         "texttemplate": "%{text}<br>%{x|%d-%m-%Y}",
         "type": "scatter",
         "x": [
          "2019-01-22T00:00:00",
          "2019-06-24T00:00:00",
          "2020-02-18T00:00:00",
          "2020-06-23T00:00:00",
          "2020-07-02T00:00:00",
          "2021-01-22T00:00:00",
          "2021-06-22T00:00:00",
          "2022-01-14T00:00:00",
          "2022-07-01T00:00:00",
          "2022-08-02T00:00:00",
          "2023-01-20T00:00:00",
          "2023-07-04T00:00:00",
          "2024-01-19T00:00:00"
         ],
         "xaxis": "x",
         "y": [
          0.45,
          1.45,
          0.449,
          1.38,
          0.16,
          0.452,
          1.27,
          0.468,
          1.484,
          0.05,
          0.48,
          1.482,
          0.457
         ],
         "yaxis": "y"
        }
       ],
       "layout": {
        "legend": {
         "tracegroupgap": 0
        },
        "template": {
         "data": {
          "bar": [
           {
            "error_x": {
             "color": "#2a3f5f"
            },
            "error_y": {
             "color": "#2a3f5f"
            },
            "marker": {
             "line": {
              "color": "#E5ECF6",
              "width": 0.5
             },
             "pattern": {
              "fillmode": "overlay",
              "size": 10,
              "solidity": 0.2
             }
            },
            "type": "bar"
           }
          ],
          "barpolar": [
           {
            "marker": {
             "line": {
              "color": "#E5ECF6",
              "width": 0.5
             },
             "pattern": {
              "fillmode": "overlay",
              "size": 10,
              "solidity": 0.2
             }
            },
            "type": "barpolar"
           }
          ],
          "carpet": [
           {
            "aaxis": {
             "endlinecolor": "#2a3f5f",
             "gridcolor": "white",
             "linecolor": "white",
             "minorgridcolor": "white",
             "startlinecolor": "#2a3f5f"
            },
            "baxis": {
             "endlinecolor": "#2a3f5f",
             "gridcolor": "white",
             "linecolor": "white",
             "minorgridcolor": "white",
             "startlinecolor": "#2a3f5f"
            },
            "type": "carpet"
           }
          ],
          "choropleth": [
           {
            "colorbar": {
             "outlinewidth": 0,
             "ticks": ""
            },
            "type": "choropleth"
           }
          ],
          "contour": [
           {
            "colorbar": {
             "outlinewidth": 0,
             "ticks": ""
            },
            "colorscale": [
             [
              0,
              "#0d0887"
             ],
             [
              0.1111111111111111,
              "#46039f"
             ],
             [
              0.2222222222222222,
              "#7201a8"
             ],
             [
              0.3333333333333333,
              "#9c179e"
             ],
             [
              0.4444444444444444,
              "#bd3786"
             ],
             [
              0.5555555555555556,
              "#d8576b"
             ],
             [
              0.6666666666666666,
              "#ed7953"
             ],
             [
              0.7777777777777778,
              "#fb9f3a"
             ],
             [
              0.8888888888888888,
              "#fdca26"
             ],
             [
              1,
              "#f0f921"
             ]
            ],
            "type": "contour"
           }
          ],
          "contourcarpet": [
           {
            "colorbar": {
             "outlinewidth": 0,
             "ticks": ""
            },
            "type": "contourcarpet"
           }
          ],
          "heatmap": [
           {
            "colorbar": {
             "outlinewidth": 0,
             "ticks": ""
            },
            "colorscale": [
             [
              0,
              "#0d0887"
             ],
             [
              0.1111111111111111,
              "#46039f"
             ],
             [
              0.2222222222222222,
              "#7201a8"
             ],
             [
              0.3333333333333333,
              "#9c179e"
             ],
             [
              0.4444444444444444,
              "#bd3786"
             ],
             [
              0.5555555555555556,
              "#d8576b"
             ],
             [
              0.6666666666666666,
              "#ed7953"
             ],
             [
              0.7777777777777778,
              "#fb9f3a"
             ],
             [
              0.8888888888888888,
              "#fdca26"
             ],
             [
              1,
              "#f0f921"
             ]
            ],
            "type": "heatmap"
           }
          ],
          "heatmapgl": [
           {
            "colorbar": {
             "outlinewidth": 0,
             "ticks": ""
            },
            "colorscale": [
             [
              0,
              "#0d0887"
             ],
             [
              0.1111111111111111,
              "#46039f"
             ],
             [
              0.2222222222222222,
              "#7201a8"
             ],
             [
              0.3333333333333333,
              "#9c179e"
             ],
             [
              0.4444444444444444,
              "#bd3786"
             ],
             [
              0.5555555555555556,
              "#d8576b"
             ],
             [
              0.6666666666666666,
              "#ed7953"
             ],
             [
              0.7777777777777778,
              "#fb9f3a"
             ],
             [
              0.8888888888888888,
              "#fdca26"
             ],
             [
              1,
              "#f0f921"
             ]
            ],
            "type": "heatmapgl"
           }
          ],
          "histogram": [
           {
            "marker": {
             "pattern": {
              "fillmode": "overlay",
              "size": 10,
              "solidity": 0.2
             }
            },
            "type": "histogram"
           }
          ],
          "histogram2d": [
           {
            "colorbar": {
             "outlinewidth": 0,
             "ticks": ""
            },
            "colorscale": [
             [
              0,
              "#0d0887"
             ],
             [
              0.1111111111111111,
              "#46039f"
             ],
             [
              0.2222222222222222,
              "#7201a8"
             ],
             [
              0.3333333333333333,
              "#9c179e"
             ],
             [
              0.4444444444444444,
              "#bd3786"
             ],
             [
              0.5555555555555556,
              "#d8576b"
             ],
             [
              0.6666666666666666,
              "#ed7953"
             ],
             [
              0.7777777777777778,
              "#fb9f3a"
             ],
             [
              0.8888888888888888,
              "#fdca26"
             ],
             [
              1,
              "#f0f921"
             ]
            ],
            "type": "histogram2d"
           }
          ],
          "histogram2dcontour": [
           {
            "colorbar": {
             "outlinewidth": 0,
             "ticks": ""
            },
            "colorscale": [
             [
              0,
              "#0d0887"
             ],
             [
              0.1111111111111111,
              "#46039f"
             ],
             [
              0.2222222222222222,
              "#7201a8"
             ],
             [
              0.3333333333333333,
              "#9c179e"
             ],
             [
              0.4444444444444444,
              "#bd3786"
             ],
             [
              0.5555555555555556,
              "#d8576b"
             ],
             [
              0.6666666666666666,
              "#ed7953"
             ],
             [
              0.7777777777777778,
              "#fb9f3a"
             ],
             [
              0.8888888888888888,
              "#fdca26"
             ],
             [
              1,
              "#f0f921"
             ]
            ],
            "type": "histogram2dcontour"
           }
          ],
          "mesh3d": [
           {
            "colorbar": {
             "outlinewidth": 0,
             "ticks": ""
            },
            "type": "mesh3d"
           }
          ],
          "parcoords": [
           {
            "line": {
             "colorbar": {
              "outlinewidth": 0,
              "ticks": ""
             }
            },
            "type": "parcoords"
           }
          ],
          "pie": [
           {
            "automargin": true,
            "type": "pie"
           }
          ],
          "scatter": [
           {
            "fillpattern": {
             "fillmode": "overlay",
             "size": 10,
             "solidity": 0.2
            },
            "type": "scatter"
           }
          ],
          "scatter3d": [
           {
            "line": {
             "colorbar": {
              "outlinewidth": 0,
              "ticks": ""
             }
            },
            "marker": {
             "colorbar": {
              "outlinewidth": 0,
              "ticks": ""
             }
            },
            "type": "scatter3d"
           }
          ],
          "scattercarpet": [
           {
            "marker": {
             "colorbar": {
              "outlinewidth": 0,
              "ticks": ""
             }
            },
            "type": "scattercarpet"
           }
          ],
          "scattergeo": [
           {
            "marker": {
             "colorbar": {
              "outlinewidth": 0,
              "ticks": ""
             }
            },
            "type": "scattergeo"
           }
          ],
          "scattergl": [
           {
            "marker": {
             "colorbar": {
              "outlinewidth": 0,
              "ticks": ""
             }
            },
            "type": "scattergl"
           }
          ],
          "scattermapbox": [
           {
            "marker": {
             "colorbar": {
              "outlinewidth": 0,
              "ticks": ""
             }
            },
            "type": "scattermapbox"
           }
          ],
          "scatterpolar": [
           {
            "marker": {
             "colorbar": {
              "outlinewidth": 0,
              "ticks": ""
             }
            },
            "type": "scatterpolar"
           }
          ],
          "scatterpolargl": [
           {
            "marker": {
             "colorbar": {
              "outlinewidth": 0,
              "ticks": ""
             }
            },
            "type": "scatterpolargl"
           }
          ],
          "scatterternary": [
           {
            "marker": {
             "colorbar": {
              "outlinewidth": 0,
              "ticks": ""
             }
            },
            "type": "scatterternary"
           }
          ],
          "surface": [
           {
            "colorbar": {
             "outlinewidth": 0,
             "ticks": ""
            },
            "colorscale": [
             [
              0,
              "#0d0887"
             ],
             [
              0.1111111111111111,
              "#46039f"
             ],
             [
              0.2222222222222222,
              "#7201a8"
             ],
             [
              0.3333333333333333,
              "#9c179e"
             ],
             [
              0.4444444444444444,
              "#bd3786"
             ],
             [
              0.5555555555555556,
              "#d8576b"
             ],
             [
              0.6666666666666666,
              "#ed7953"
             ],
             [
              0.7777777777777778,
              "#fb9f3a"
             ],
             [
              0.8888888888888888,
              "#fdca26"
             ],
             [
              1,
              "#f0f921"
             ]
            ],
            "type": "surface"
           }
          ],
          "table": [
           {
            "cells": {
             "fill": {
              "color": "#EBF0F8"
             },
             "line": {
              "color": "white"
             }
            },
            "header": {
             "fill": {
              "color": "#C8D4E3"
             },
             "line": {
              "color": "white"
             }
            },
            "type": "table"
           }
          ]
         },
         "layout": {
          "annotationdefaults": {
           "arrowcolor": "#2a3f5f",
           "arrowhead": 0,
           "arrowwidth": 1
          },
          "autotypenumbers": "strict",
          "coloraxis": {
           "colorbar": {
            "outlinewidth": 0,
            "ticks": ""
           }
          },
          "colorscale": {
           "diverging": [
            [
             0,
             "#8e0152"
            ],
            [
             0.1,
             "#c51b7d"
            ],
            [
             0.2,
             "#de77ae"
            ],
            [
             0.3,
             "#f1b6da"
            ],
            [
             0.4,
             "#fde0ef"
            ],
            [
             0.5,
             "#f7f7f7"
            ],
            [
             0.6,
             "#e6f5d0"
            ],
            [
             0.7,
             "#b8e186"
            ],
            [
             0.8,
             "#7fbc41"
            ],
            [
             0.9,
             "#4d9221"
            ],
            [
             1,
             "#276419"
            ]
           ],
           "sequential": [
            [
             0,
             "#0d0887"
            ],
            [
             0.1111111111111111,
             "#46039f"
            ],
            [
             0.2222222222222222,
             "#7201a8"
            ],
            [
             0.3333333333333333,
             "#9c179e"
            ],
            [
             0.4444444444444444,
             "#bd3786"
            ],
            [
             0.5555555555555556,
             "#d8576b"
            ],
            [
             0.6666666666666666,
             "#ed7953"
            ],
            [
             0.7777777777777778,
             "#fb9f3a"
            ],
            [
             0.8888888888888888,
             "#fdca26"
            ],
            [
             1,
             "#f0f921"
            ]
           ],
           "sequentialminus": [
            [
             0,
             "#0d0887"
            ],
            [
             0.1111111111111111,
             "#46039f"
            ],
            [
             0.2222222222222222,
             "#7201a8"
            ],
            [
             0.3333333333333333,
             "#9c179e"
            ],
            [
             0.4444444444444444,
             "#bd3786"
            ],
            [
             0.5555555555555556,
             "#d8576b"
            ],
            [
             0.6666666666666666,
             "#ed7953"
            ],
            [
             0.7777777777777778,
             "#fb9f3a"
            ],
            [
             0.8888888888888888,
             "#fdca26"
            ],
            [
             1,
             "#f0f921"
            ]
           ]
          },
          "colorway": [
           "#636efa",
           "#EF553B",
           "#00cc96",
           "#ab63fa",
           "#FFA15A",
           "#19d3f3",
           "#FF6692",
           "#B6E880",
           "#FF97FF",
           "#FECB52"
          ],
          "font": {
           "color": "#2a3f5f"
          },
          "geo": {
           "bgcolor": "white",
           "lakecolor": "white",
           "landcolor": "#E5ECF6",
           "showlakes": true,
           "showland": true,
           "subunitcolor": "white"
          },
          "hoverlabel": {
           "align": "left"
          },
          "hovermode": "closest",
          "mapbox": {
           "style": "light"
          },
          "paper_bgcolor": "white",
          "plot_bgcolor": "#E5ECF6",
          "polar": {
           "angularaxis": {
            "gridcolor": "white",
            "linecolor": "white",
            "ticks": ""
           },
           "bgcolor": "#E5ECF6",
           "radialaxis": {
            "gridcolor": "white",
            "linecolor": "white",
            "ticks": ""
           }
          },
          "scene": {
           "xaxis": {
            "backgroundcolor": "#E5ECF6",
            "gridcolor": "white",
            "gridwidth": 2,
            "linecolor": "white",
            "showbackground": true,
            "ticks": "",
            "zerolinecolor": "white"
           },
           "yaxis": {
            "backgroundcolor": "#E5ECF6",
            "gridcolor": "white",
            "gridwidth": 2,
            "linecolor": "white",
            "showbackground": true,
            "ticks": "",
            "zerolinecolor": "white"
           },
           "zaxis": {
            "backgroundcolor": "#E5ECF6",
            "gridcolor": "white",
            "gridwidth": 2,
            "linecolor": "white",
            "showbackground": true,
            "ticks": "",
            "zerolinecolor": "white"
           }
          },
          "shapedefaults": {
           "line": {
            "color": "#2a3f5f"
           }
          },
          "ternary": {
           "aaxis": {
            "gridcolor": "white",
            "linecolor": "white",
            "ticks": ""
           },
           "baxis": {
            "gridcolor": "white",
            "linecolor": "white",
            "ticks": ""
           },
           "bgcolor": "#E5ECF6",
           "caxis": {
            "gridcolor": "white",
            "linecolor": "white",
            "ticks": ""
           }
          },
          "title": {
           "x": 0.05
          },
          "xaxis": {
           "automargin": true,
           "gridcolor": "white",
           "linecolor": "white",
           "ticks": "",
           "title": {
            "standoff": 15
           },
           "zerolinecolor": "white",
           "zerolinewidth": 2
          },
          "yaxis": {
           "automargin": true,
           "gridcolor": "white",
           "linecolor": "white",
           "ticks": "",
           "title": {
            "standoff": 15
           },
           "zerolinecolor": "white",
           "zerolinewidth": 2
          }
         }
        },
        "title": {
         "text": "Dividendos emitidos por acción entre 2019-2024, junto a la proporcion respecto al Close"
        },
        "xaxis": {
         "anchor": "y",
         "domain": [
          0,
          1
         ],
         "title": {
          "text": "Fechas"
         }
        },
        "yaxis": {
         "anchor": "x",
         "domain": [
          0,
          1
         ],
         "title": {
          "text": "Importe de Dividendo (€)"
         }
        }
       }
      }
     },
     "metadata": {},
     "output_type": "display_data"
    }
   ],
   "source": [
    "fig = px.scatter(tabla_dividendos, x='Date', y='Dividends', text='Proportion',\n",
    "                 title='Dividendos emitidos por acción entre 2019-2024, junto a la proporcion respecto al Close',\n",
    "                 labels={'Dividends': 'Dividends',\n",
    "                          'Proportion': 'Proportion (%)',})\n",
    "\n",
    "fig.update_traces(textposition='top center', marker=dict(size=10, color='blue'), showlegend=False)\n",
    "# Agregar día, mes y año en cada punto\n",
    "fig.update_traces(texttemplate='%{text}<br>%{x|%d-%m-%Y}')\n",
    "\n",
    "fig.update_xaxes(title_text='Fechas')\n",
    "fig.update_yaxes(title_text='Importe de Dividendo (€)')\n",
    "\n",
    "fig.show()"
   ]
  }
 ],
 "metadata": {
  "kernelspec": {
   "display_name": "Python 3",
   "language": "python",
   "name": "python3"
  },
  "language_info": {
   "codemirror_mode": {
    "name": "ipython",
    "version": 3
   },
   "file_extension": ".py",
   "mimetype": "text/x-python",
   "name": "python",
   "nbconvert_exporter": "python",
   "pygments_lexer": "ipython3",
   "version": "3.12.1"
  }
 },
 "nbformat": 4,
 "nbformat_minor": 2
}
