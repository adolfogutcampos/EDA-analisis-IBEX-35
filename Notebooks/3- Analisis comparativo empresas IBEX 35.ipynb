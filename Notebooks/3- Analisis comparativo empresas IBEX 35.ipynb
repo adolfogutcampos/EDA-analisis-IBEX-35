{
 "cells": [
  {
   "cell_type": "markdown",
   "metadata": {},
   "source": [
    "# Indice:\n",
    "\n",
    "\n",
    "- [0- Introduccion](#0--introduccion)\n",
    "- [1- Importar librerias necesarias](#1--importar-librerias-necesarias)\n",
    "    - [1.1- Importar datasets de archivos del repositorio](#11--importar-datasets-de-archivos-del-repositorio)\n",
    "- [2- Analisis comparativo de empresas del IBEX 35](#2--analisis-comparativo-de-empresas-del-ibex-35)\n",
    "- [2.1- Comparar rentabilidad de acciones de empresas del IBEX 35](#21--comparar-rentabilidad-de-acciones-de-empresas-del-ibex-35)"
   ]
  },
  {
   "cell_type": "markdown",
   "metadata": {},
   "source": [
    "# 0- Introduccion\n",
    "\n",
    "En este archivo, se va a proceder a analizar los datos financieros del precio de las acciones de las empresas del IBEX-35, tomando los datos de entre 01/01/2019 y 30/04/2024. Es decir, una serie temporal de 5 años y 4 meses.\n",
    "\n",
    "Pese a que el contenido de este archivo es breve, se realizará un análisis más exhaustivo en un proyecto venidero."
   ]
  },
  {
   "cell_type": "markdown",
   "metadata": {},
   "source": [
    "# 1- Importar librerias necesarias"
   ]
  },
  {
   "cell_type": "code",
   "execution_count": 1,
   "metadata": {},
   "outputs": [],
   "source": [
    "import pandas as pd\n",
    "import matplotlib.pyplot as plt\n",
    "import seaborn as sns\n",
    "import numpy as np\n",
    "\n",
    "import plotly as pl\n",
    "from plotly.offline import iplot\n",
    "import plotly.graph_objs as go\n",
    "import plotly.express as px\n",
    "\n",
    "from scipy import stats\n",
    "from scipy.stats import skew, kurtosis\n",
    "\n",
    "import warnings\n",
    "warnings.filterwarnings('ignore')"
   ]
  },
  {
   "cell_type": "markdown",
   "metadata": {},
   "source": [
    "## 1.1- Importar datasets de archivos del repositorio\n",
    "\n",
    "Aquí vamos a realizar la lectura (pd.read_csv) de los datasets de las 35 empresas.\n",
    "\n",
    "Vamos a enumerar de nuevo cada empresa..."
   ]
  },
  {
   "cell_type": "code",
   "execution_count": 2,
   "metadata": {},
   "outputs": [],
   "source": [
    "#1 Acciona\n",
    "ANA_dataset = pd.read_csv('../data/ANA_dataset.csv')\n",
    "#2 Acciona Energías\n",
    "ANE_dataset = pd.read_csv('../data/ANE_dataset.csv')\n",
    "#3 ACS\n",
    "ACS_dataset = pd.read_csv('../data/ACS_dataset.csv')\n",
    "#4 Acerinox\n",
    "ACX_dataset = pd.read_csv('../data/ACX_dataset.csv')\n",
    "#5 Aena\n",
    "AENA_dataset = pd.read_csv('../data/AENA_dataset.csv')\n",
    "#6 Amadeus\n",
    "AMS_dataset = pd.read_csv('../data/AMS_dataset.csv')\n",
    "#7 ArcelorMittal\n",
    "MTS_dataset = pd.read_csv('../data/MTS_dataset.csv')\n",
    "#8 Banco Sabadell\n",
    "SAB_dataset = pd.read_csv('../data/SAB_dataset.csv')\n",
    "#9 Banco Santander\n",
    "SAN_dataset = pd.read_csv('../data/SAN_dataset.csv')\n",
    "#10 Bankinter\n",
    "BKT_dataset = pd.read_csv('../data/BKT_dataset.csv')\n",
    "#11 BBVA\n",
    "BBVA_dataset = pd.read_csv('../data/BBVA_dataset.csv')\n",
    "#12 CaixaBank\n",
    "CABK_dataset = pd.read_csv('../data/CABK_dataset.csv')\n",
    "#13 Cellnex\n",
    "CLNX_dataset = pd.read_csv('../data/CLNX_dataset.csv')\n",
    "#14 Colonial\n",
    "COL_dataset = pd.read_csv('../data/COL_dataset.csv')\n",
    "#15 Enagás\n",
    "ENG_dataset = pd.read_csv('../data/ENG_dataset.csv')\n",
    "#16 Endesa\t\n",
    "ELE_dataset = pd.read_csv('../data/ELE_dataset.csv')\n",
    "#17 Ferrovial\n",
    "FER_dataset = pd.read_csv('../data/FER_dataset.csv')\n",
    "#18 Fluidra\n",
    "FDR_dataset = pd.read_csv('../data/FDR_dataset.csv')\n",
    "#19 Grifols\n",
    "GRF_dataset = pd.read_csv('../data/GRF_dataset.csv')\n",
    "#20 IAG\t\n",
    "IAG_dataset = pd.read_csv('../data/IAG_dataset.csv')\n",
    "#21 Iberdrola\n",
    "IBE_dataset = pd.read_csv('../data/IBE_dataset.csv')\n",
    "#22 Indra\n",
    "IDR_dataset = pd.read_csv('../data/IDR_dataset.csv')\n",
    "#23 Inditex\n",
    "ITX_dataset = pd.read_csv('../data/ITX_dataset.csv')\n",
    "#24 Logista\n",
    "LOG_dataset = pd.read_csv('../data/LOG_dataset.csv')\n",
    "#25 Mapfre\n",
    "MAP_dataset = pd.read_csv('../data/MAP_dataset.csv')\n",
    "#26 Meliá\n",
    "MEL_dataset = pd.read_csv('../data/MEL_dataset.csv')\n",
    "#27 Merlin Properties\n",
    "MRL_dataset = pd.read_csv('../data/MRL_dataset.csv')\n",
    "#28 Naturgy\n",
    "NTGY_dataset = pd.read_csv('../data/NTGY_dataset.csv')\n",
    "#29 Redeia\n",
    "RED_dataset = pd.read_csv('../data/RED_dataset.csv')\n",
    "#30 Repsol\n",
    "REP_dataset = pd.read_csv('../data/REP_dataset.csv')\n",
    "#31 Rovi\n",
    "ROVI_dataset = pd.read_csv('../data/ROVI_dataset.csv')\n",
    "#32 Sacyr\n",
    "SCYR_dataset = pd.read_csv('../data/SCYR_dataset.csv')\n",
    "#33 Solaria\n",
    "SLR_dataset = pd.read_csv('../data/SLR_dataset.csv')\n",
    "#34 Telefónica\n",
    "TEF_dataset = pd.read_csv('../data/TEF_dataset.csv')\n",
    "#35 Unicaja\n",
    "UNI_dataset = pd.read_csv('../data/UNI_dataset.csv')"
   ]
  },
  {
   "cell_type": "markdown",
   "metadata": {},
   "source": [
    "# 2- Analisis comparativo de empresas del IBEX 35"
   ]
  },
  {
   "cell_type": "markdown",
   "metadata": {},
   "source": [
    "Antes que nada, vamos a establecer un intervalo temporal para el posterior analisis comparativo, teniendo en cuenta una fecha inicial y fecha final.\n",
    "\n",
    "Por defecto, definimos las siguientes fechas, ya que entran dentro de los intervalos temporales dentro de los 35 archivos csv.\n",
    "\n",
    "De todas formas, es posible modificar estas fechas en la siguiente celda. No obstante, es posible que al ejecutar de error por varios motivos:\n",
    "- La empresa ANE (Acciona Energia) empezó a cotizar en agosto del 2021, por lo que rompe con las demás cotizaciones, en las cuales hay disponibilidad de datos desde 01/01/2019 en adelante. Por ello, no se va a tener en cuenta la rentabilidad de ANE para que no afecte al conjunto de empresas restantes.\n",
    "- Hay ausencia de datos en sus fechas correspondientes, tanto en la fecha inicial como en la fecha final. Esto se debe a que a lo largo de cada año, el IBEX 35 sólo está abierto de lunes a viernes, además de que hay días festivos a lo largo del año."
   ]
  },
  {
   "cell_type": "code",
   "execution_count": 3,
   "metadata": {},
   "outputs": [],
   "source": [
    "# Definir las fechas inicial y final (puedes modificarlas según sea necesario)\n",
    "fecha_inicial = '2019-01-02'\n",
    "fecha_final = '2024-04-29'"
   ]
  },
  {
   "cell_type": "markdown",
   "metadata": {},
   "source": [
    "# 2.1- Comparar rentabilidad de acciones de empresas del IBEX 35\n",
    "\n",
    "Una vez establecidas la fecha inicial y final, vamos a realizar la comparación de rentabilidad de acciones de las empresas del IBEX 35.\n",
    "\n",
    "Para la comparación, se tendrá en cuenta el precio de cierre (Close). Es decir, la rentabilidad es la variación porcentual entre el Close de la fecha final respecto al Close de la fecha inicial"
   ]
  },
  {
   "cell_type": "code",
   "execution_count": 4,
   "metadata": {},
   "outputs": [],
   "source": [
    "# Lista para almacenar las tablas de rentabilidad de cada empresa\n",
    "tablas_rentabilidad = []"
   ]
  },
  {
   "cell_type": "code",
   "execution_count": 5,
   "metadata": {},
   "outputs": [],
   "source": [
    "# Calcular la rentabilidad para cada empresa\n",
    "for empresa, dataset in zip(['ANA', 'ACS', 'ACX', 'AENA', 'AMS', 'MTS', 'SAB', 'SAN', 'BKT', 'BBVA', 'CABK', 'CLNX', 'COL', 'ENG', 'ELE', 'FER', 'FDR', 'GRF', 'IAG', 'IBE', 'IDR', 'ITX', 'LOG', 'MAP', 'MEL', 'MRL', 'NTGY', 'RED', 'REP', 'ROVI', 'SCYR', 'SLR', 'TEF', 'UNI'], [ANA_dataset, ACS_dataset, ACX_dataset, AENA_dataset, AMS_dataset, MTS_dataset, SAB_dataset, SAN_dataset, BKT_dataset, BBVA_dataset, CABK_dataset, CLNX_dataset, COL_dataset, ENG_dataset, ELE_dataset, FER_dataset, FDR_dataset, GRF_dataset, IAG_dataset, IBE_dataset, IDR_dataset, ITX_dataset, LOG_dataset, MAP_dataset, MEL_dataset, MRL_dataset, NTGY_dataset, RED_dataset, REP_dataset, ROVI_dataset, SCYR_dataset, SLR_dataset, TEF_dataset, UNI_dataset]):\n",
    "    precio_cierre_inicial = dataset.loc[dataset['Date'] == fecha_inicial, 'Close'].values[0]\n",
    "    precio_cierre_final = dataset.loc[dataset['Date'] == fecha_final, 'Close'].values[0]\n",
    "    rentabilidad = ((precio_cierre_final - precio_cierre_inicial) / precio_cierre_inicial) * 100\n",
    "    tabla_rentabilidad = pd.DataFrame({\n",
    "        'Empresa': [empresa],\n",
    "        'Fecha inicial': [fecha_inicial],\n",
    "        'Fecha final': [fecha_final],\n",
    "        'Rentabilidad (%)': [rentabilidad]\n",
    "    })\n",
    "    tablas_rentabilidad.append(tabla_rentabilidad)"
   ]
  },
  {
   "cell_type": "code",
   "execution_count": 6,
   "metadata": {},
   "outputs": [],
   "source": [
    "# Concatenar todas las tablas de rentabilidad en una sola\n",
    "tabla_rentabilidad_completa = pd.concat(tablas_rentabilidad, ignore_index=True)"
   ]
  },
  {
   "cell_type": "markdown",
   "metadata": {},
   "source": [
    "Tras haber realizado el código, a continuación se muestra la tabla comparativa de rentabilidades. Como podemos observar, se muestra:\n",
    "- En la primera columna la empresa. Recordar que la empresa ANE se ha descartado del listado.\n",
    "- La fecha inicial y fecha final que se ha establecido previamente, para escoger sus respectivos Close.\n",
    "- La rentabilidad obtenida, entre el Close de la fecha inicial y el Close de la fecha final."
   ]
  },
  {
   "cell_type": "code",
   "execution_count": 7,
   "metadata": {},
   "outputs": [
    {
     "data": {
      "text/html": [
       "<div>\n",
       "<style scoped>\n",
       "    .dataframe tbody tr th:only-of-type {\n",
       "        vertical-align: middle;\n",
       "    }\n",
       "\n",
       "    .dataframe tbody tr th {\n",
       "        vertical-align: top;\n",
       "    }\n",
       "\n",
       "    .dataframe thead th {\n",
       "        text-align: right;\n",
       "    }\n",
       "</style>\n",
       "<table border=\"1\" class=\"dataframe\">\n",
       "  <thead>\n",
       "    <tr style=\"text-align: right;\">\n",
       "      <th></th>\n",
       "      <th>Empresa</th>\n",
       "      <th>Fecha inicial</th>\n",
       "      <th>Fecha final</th>\n",
       "      <th>Rentabilidad (%)</th>\n",
       "    </tr>\n",
       "  </thead>\n",
       "  <tbody>\n",
       "    <tr>\n",
       "      <th>0</th>\n",
       "      <td>ANA</td>\n",
       "      <td>2019-01-02</td>\n",
       "      <td>2024-04-29</td>\n",
       "      <td>71.760468</td>\n",
       "    </tr>\n",
       "    <tr>\n",
       "      <th>1</th>\n",
       "      <td>ACS</td>\n",
       "      <td>2019-01-02</td>\n",
       "      <td>2024-04-29</td>\n",
       "      <td>67.636594</td>\n",
       "    </tr>\n",
       "    <tr>\n",
       "      <th>2</th>\n",
       "      <td>ACX</td>\n",
       "      <td>2019-01-02</td>\n",
       "      <td>2024-04-29</td>\n",
       "      <td>62.894317</td>\n",
       "    </tr>\n",
       "    <tr>\n",
       "      <th>3</th>\n",
       "      <td>AENA</td>\n",
       "      <td>2019-01-02</td>\n",
       "      <td>2024-04-29</td>\n",
       "      <td>38.121221</td>\n",
       "    </tr>\n",
       "    <tr>\n",
       "      <th>4</th>\n",
       "      <td>AMS</td>\n",
       "      <td>2019-01-02</td>\n",
       "      <td>2024-04-29</td>\n",
       "      <td>1.067326</td>\n",
       "    </tr>\n",
       "    <tr>\n",
       "      <th>5</th>\n",
       "      <td>MTS</td>\n",
       "      <td>2019-01-02</td>\n",
       "      <td>2024-04-29</td>\n",
       "      <td>44.160625</td>\n",
       "    </tr>\n",
       "    <tr>\n",
       "      <th>6</th>\n",
       "      <td>SAB</td>\n",
       "      <td>2019-01-02</td>\n",
       "      <td>2024-04-29</td>\n",
       "      <td>115.534167</td>\n",
       "    </tr>\n",
       "    <tr>\n",
       "      <th>7</th>\n",
       "      <td>SAN</td>\n",
       "      <td>2019-01-02</td>\n",
       "      <td>2024-04-29</td>\n",
       "      <td>49.256830</td>\n",
       "    </tr>\n",
       "    <tr>\n",
       "      <th>8</th>\n",
       "      <td>BKT</td>\n",
       "      <td>2019-01-02</td>\n",
       "      <td>2024-04-29</td>\n",
       "      <td>97.929310</td>\n",
       "    </tr>\n",
       "    <tr>\n",
       "      <th>9</th>\n",
       "      <td>BBVA</td>\n",
       "      <td>2019-01-02</td>\n",
       "      <td>2024-04-29</td>\n",
       "      <td>218.335301</td>\n",
       "    </tr>\n",
       "    <tr>\n",
       "      <th>10</th>\n",
       "      <td>CABK</td>\n",
       "      <td>2019-01-02</td>\n",
       "      <td>2024-04-29</td>\n",
       "      <td>117.206711</td>\n",
       "    </tr>\n",
       "    <tr>\n",
       "      <th>11</th>\n",
       "      <td>CLNX</td>\n",
       "      <td>2019-01-02</td>\n",
       "      <td>2024-04-29</td>\n",
       "      <td>85.728010</td>\n",
       "    </tr>\n",
       "    <tr>\n",
       "      <th>12</th>\n",
       "      <td>COL</td>\n",
       "      <td>2019-01-02</td>\n",
       "      <td>2024-04-29</td>\n",
       "      <td>-18.598659</td>\n",
       "    </tr>\n",
       "    <tr>\n",
       "      <th>13</th>\n",
       "      <td>ENG</td>\n",
       "      <td>2019-01-02</td>\n",
       "      <td>2024-04-29</td>\n",
       "      <td>-15.069950</td>\n",
       "    </tr>\n",
       "    <tr>\n",
       "      <th>14</th>\n",
       "      <td>ELE</td>\n",
       "      <td>2019-01-02</td>\n",
       "      <td>2024-04-29</td>\n",
       "      <td>22.710685</td>\n",
       "    </tr>\n",
       "    <tr>\n",
       "      <th>15</th>\n",
       "      <td>FER</td>\n",
       "      <td>2019-01-02</td>\n",
       "      <td>2024-04-29</td>\n",
       "      <td>116.995575</td>\n",
       "    </tr>\n",
       "    <tr>\n",
       "      <th>16</th>\n",
       "      <td>FDR</td>\n",
       "      <td>2019-01-02</td>\n",
       "      <td>2024-04-29</td>\n",
       "      <td>136.119970</td>\n",
       "    </tr>\n",
       "    <tr>\n",
       "      <th>17</th>\n",
       "      <td>GRF</td>\n",
       "      <td>2019-01-02</td>\n",
       "      <td>2024-04-29</td>\n",
       "      <td>-61.481362</td>\n",
       "    </tr>\n",
       "    <tr>\n",
       "      <th>18</th>\n",
       "      <td>IAG</td>\n",
       "      <td>2019-01-02</td>\n",
       "      <td>2024-04-29</td>\n",
       "      <td>-48.941271</td>\n",
       "    </tr>\n",
       "    <tr>\n",
       "      <th>19</th>\n",
       "      <td>IBE</td>\n",
       "      <td>2019-01-02</td>\n",
       "      <td>2024-04-29</td>\n",
       "      <td>109.090346</td>\n",
       "    </tr>\n",
       "    <tr>\n",
       "      <th>20</th>\n",
       "      <td>IDR</td>\n",
       "      <td>2019-01-02</td>\n",
       "      <td>2024-04-29</td>\n",
       "      <td>131.703621</td>\n",
       "    </tr>\n",
       "    <tr>\n",
       "      <th>21</th>\n",
       "      <td>ITX</td>\n",
       "      <td>2019-01-02</td>\n",
       "      <td>2024-04-29</td>\n",
       "      <td>125.145509</td>\n",
       "    </tr>\n",
       "    <tr>\n",
       "      <th>22</th>\n",
       "      <td>LOG</td>\n",
       "      <td>2019-01-02</td>\n",
       "      <td>2024-04-29</td>\n",
       "      <td>73.967240</td>\n",
       "    </tr>\n",
       "    <tr>\n",
       "      <th>23</th>\n",
       "      <td>MAP</td>\n",
       "      <td>2019-01-02</td>\n",
       "      <td>2024-04-29</td>\n",
       "      <td>48.991330</td>\n",
       "    </tr>\n",
       "    <tr>\n",
       "      <th>24</th>\n",
       "      <td>MEL</td>\n",
       "      <td>2019-01-02</td>\n",
       "      <td>2024-04-29</td>\n",
       "      <td>-8.277502</td>\n",
       "    </tr>\n",
       "    <tr>\n",
       "      <th>25</th>\n",
       "      <td>MRL</td>\n",
       "      <td>2019-01-02</td>\n",
       "      <td>2024-04-29</td>\n",
       "      <td>31.517690</td>\n",
       "    </tr>\n",
       "    <tr>\n",
       "      <th>26</th>\n",
       "      <td>NTGY</td>\n",
       "      <td>2019-01-02</td>\n",
       "      <td>2024-04-29</td>\n",
       "      <td>46.624557</td>\n",
       "    </tr>\n",
       "    <tr>\n",
       "      <th>27</th>\n",
       "      <td>RED</td>\n",
       "      <td>2019-01-02</td>\n",
       "      <td>2024-04-29</td>\n",
       "      <td>8.362180</td>\n",
       "    </tr>\n",
       "    <tr>\n",
       "      <th>28</th>\n",
       "      <td>REP</td>\n",
       "      <td>2019-01-02</td>\n",
       "      <td>2024-04-29</td>\n",
       "      <td>44.315438</td>\n",
       "    </tr>\n",
       "    <tr>\n",
       "      <th>29</th>\n",
       "      <td>ROVI</td>\n",
       "      <td>2019-01-02</td>\n",
       "      <td>2024-04-29</td>\n",
       "      <td>408.779317</td>\n",
       "    </tr>\n",
       "    <tr>\n",
       "      <th>30</th>\n",
       "      <td>SCYR</td>\n",
       "      <td>2019-01-02</td>\n",
       "      <td>2024-04-29</td>\n",
       "      <td>147.529239</td>\n",
       "    </tr>\n",
       "    <tr>\n",
       "      <th>31</th>\n",
       "      <td>SLR</td>\n",
       "      <td>2019-01-02</td>\n",
       "      <td>2024-04-29</td>\n",
       "      <td>129.377203</td>\n",
       "    </tr>\n",
       "    <tr>\n",
       "      <th>32</th>\n",
       "      <td>TEF</td>\n",
       "      <td>2019-01-02</td>\n",
       "      <td>2024-04-29</td>\n",
       "      <td>-15.255927</td>\n",
       "    </tr>\n",
       "    <tr>\n",
       "      <th>33</th>\n",
       "      <td>UNI</td>\n",
       "      <td>2019-01-02</td>\n",
       "      <td>2024-04-29</td>\n",
       "      <td>26.914859</td>\n",
       "    </tr>\n",
       "  </tbody>\n",
       "</table>\n",
       "</div>"
      ],
      "text/plain": [
       "   Empresa Fecha inicial Fecha final  Rentabilidad (%)\n",
       "0      ANA    2019-01-02  2024-04-29         71.760468\n",
       "1      ACS    2019-01-02  2024-04-29         67.636594\n",
       "2      ACX    2019-01-02  2024-04-29         62.894317\n",
       "3     AENA    2019-01-02  2024-04-29         38.121221\n",
       "4      AMS    2019-01-02  2024-04-29          1.067326\n",
       "5      MTS    2019-01-02  2024-04-29         44.160625\n",
       "6      SAB    2019-01-02  2024-04-29        115.534167\n",
       "7      SAN    2019-01-02  2024-04-29         49.256830\n",
       "8      BKT    2019-01-02  2024-04-29         97.929310\n",
       "9     BBVA    2019-01-02  2024-04-29        218.335301\n",
       "10    CABK    2019-01-02  2024-04-29        117.206711\n",
       "11    CLNX    2019-01-02  2024-04-29         85.728010\n",
       "12     COL    2019-01-02  2024-04-29        -18.598659\n",
       "13     ENG    2019-01-02  2024-04-29        -15.069950\n",
       "14     ELE    2019-01-02  2024-04-29         22.710685\n",
       "15     FER    2019-01-02  2024-04-29        116.995575\n",
       "16     FDR    2019-01-02  2024-04-29        136.119970\n",
       "17     GRF    2019-01-02  2024-04-29        -61.481362\n",
       "18     IAG    2019-01-02  2024-04-29        -48.941271\n",
       "19     IBE    2019-01-02  2024-04-29        109.090346\n",
       "20     IDR    2019-01-02  2024-04-29        131.703621\n",
       "21     ITX    2019-01-02  2024-04-29        125.145509\n",
       "22     LOG    2019-01-02  2024-04-29         73.967240\n",
       "23     MAP    2019-01-02  2024-04-29         48.991330\n",
       "24     MEL    2019-01-02  2024-04-29         -8.277502\n",
       "25     MRL    2019-01-02  2024-04-29         31.517690\n",
       "26    NTGY    2019-01-02  2024-04-29         46.624557\n",
       "27     RED    2019-01-02  2024-04-29          8.362180\n",
       "28     REP    2019-01-02  2024-04-29         44.315438\n",
       "29    ROVI    2019-01-02  2024-04-29        408.779317\n",
       "30    SCYR    2019-01-02  2024-04-29        147.529239\n",
       "31     SLR    2019-01-02  2024-04-29        129.377203\n",
       "32     TEF    2019-01-02  2024-04-29        -15.255927\n",
       "33     UNI    2019-01-02  2024-04-29         26.914859"
      ]
     },
     "execution_count": 7,
     "metadata": {},
     "output_type": "execute_result"
    }
   ],
   "source": [
    "tabla_rentabilidad_completa"
   ]
  },
  {
   "cell_type": "markdown",
   "metadata": {},
   "source": [
    "De forma que se pueda ver los datos de forma interactiva, se muestra a continuación un gráfico interactivo:"
   ]
  },
  {
   "cell_type": "code",
   "execution_count": 10,
   "metadata": {},
   "outputs": [
    {
     "data": {
      "application/vnd.plotly.v1+json": {
       "config": {
        "plotlyServerURL": "https://plot.ly"
       },
       "data": [
        {
         "marker": {
          "color": "skyblue"
         },
         "type": "bar",
         "x": [
          "ANA",
          "ACS",
          "ACX",
          "AENA",
          "AMS",
          "MTS",
          "SAB",
          "SAN",
          "BKT",
          "BBVA",
          "CABK",
          "CLNX",
          "COL",
          "ENG",
          "ELE",
          "FER",
          "FDR",
          "GRF",
          "IAG",
          "IBE",
          "IDR",
          "ITX",
          "LOG",
          "MAP",
          "MEL",
          "MRL",
          "NTGY",
          "RED",
          "REP",
          "ROVI",
          "SCYR",
          "SLR",
          "TEF",
          "UNI"
         ],
         "y": [
          71.76046826600826,
          67.63659391019694,
          62.894316521046655,
          38.12122084998618,
          1.0673255147001708,
          44.16062548384509,
          115.53416708016849,
          49.256829899484615,
          97.92931047130749,
          218.3353005060244,
          117.20671078436233,
          85.72801047520693,
          -18.598658572258685,
          -15.069949906254877,
          22.710684752850728,
          116.9955746671838,
          136.11996994004988,
          -61.481361787281905,
          -48.94127132084775,
          109.09034605293661,
          131.7036211136951,
          125.14550926971867,
          73.96723986020626,
          48.991330221392744,
          -8.27750191468878,
          31.517690108364416,
          46.62455661434899,
          8.362180028341932,
          44.315437854982406,
          408.7793166157539,
          147.52923931068614,
          129.3772025001283,
          -15.255927289455446,
          26.914859413208227
         ]
        }
       ],
       "layout": {
        "annotations": [
         {
          "font": {
           "size": 10
          },
          "showarrow": false,
          "text": "71.76%",
          "x": "ANA",
          "y": 71.76046826600826
         },
         {
          "font": {
           "size": 10
          },
          "showarrow": false,
          "text": "67.64%",
          "x": "ACS",
          "y": 67.63659391019694
         },
         {
          "font": {
           "size": 10
          },
          "showarrow": false,
          "text": "62.89%",
          "x": "ACX",
          "y": 62.894316521046655
         },
         {
          "font": {
           "size": 10
          },
          "showarrow": false,
          "text": "38.12%",
          "x": "AENA",
          "y": 38.12122084998618
         },
         {
          "font": {
           "size": 10
          },
          "showarrow": false,
          "text": "1.07%",
          "x": "AMS",
          "y": 1.0673255147001708
         },
         {
          "font": {
           "size": 10
          },
          "showarrow": false,
          "text": "44.16%",
          "x": "MTS",
          "y": 44.16062548384509
         },
         {
          "font": {
           "size": 10
          },
          "showarrow": false,
          "text": "115.53%",
          "x": "SAB",
          "y": 115.53416708016849
         },
         {
          "font": {
           "size": 10
          },
          "showarrow": false,
          "text": "49.26%",
          "x": "SAN",
          "y": 49.256829899484615
         },
         {
          "font": {
           "size": 10
          },
          "showarrow": false,
          "text": "97.93%",
          "x": "BKT",
          "y": 97.92931047130749
         },
         {
          "font": {
           "size": 10
          },
          "showarrow": false,
          "text": "218.34%",
          "x": "BBVA",
          "y": 218.3353005060244
         },
         {
          "font": {
           "size": 10
          },
          "showarrow": false,
          "text": "117.21%",
          "x": "CABK",
          "y": 117.20671078436233
         },
         {
          "font": {
           "size": 10
          },
          "showarrow": false,
          "text": "85.73%",
          "x": "CLNX",
          "y": 85.72801047520693
         },
         {
          "font": {
           "size": 10
          },
          "showarrow": false,
          "text": "-18.6%",
          "x": "COL",
          "y": -18.598658572258685
         },
         {
          "font": {
           "size": 10
          },
          "showarrow": false,
          "text": "-15.07%",
          "x": "ENG",
          "y": -15.069949906254877
         },
         {
          "font": {
           "size": 10
          },
          "showarrow": false,
          "text": "22.71%",
          "x": "ELE",
          "y": 22.710684752850728
         },
         {
          "font": {
           "size": 10
          },
          "showarrow": false,
          "text": "117.0%",
          "x": "FER",
          "y": 116.9955746671838
         },
         {
          "font": {
           "size": 10
          },
          "showarrow": false,
          "text": "136.12%",
          "x": "FDR",
          "y": 136.11996994004988
         },
         {
          "font": {
           "size": 10
          },
          "showarrow": false,
          "text": "-61.48%",
          "x": "GRF",
          "y": -61.481361787281905
         },
         {
          "font": {
           "size": 10
          },
          "showarrow": false,
          "text": "-48.94%",
          "x": "IAG",
          "y": -48.94127132084775
         },
         {
          "font": {
           "size": 10
          },
          "showarrow": false,
          "text": "109.09%",
          "x": "IBE",
          "y": 109.09034605293661
         },
         {
          "font": {
           "size": 10
          },
          "showarrow": false,
          "text": "131.7%",
          "x": "IDR",
          "y": 131.7036211136951
         },
         {
          "font": {
           "size": 10
          },
          "showarrow": false,
          "text": "125.15%",
          "x": "ITX",
          "y": 125.14550926971867
         },
         {
          "font": {
           "size": 10
          },
          "showarrow": false,
          "text": "73.97%",
          "x": "LOG",
          "y": 73.96723986020626
         },
         {
          "font": {
           "size": 10
          },
          "showarrow": false,
          "text": "48.99%",
          "x": "MAP",
          "y": 48.991330221392744
         },
         {
          "font": {
           "size": 10
          },
          "showarrow": false,
          "text": "-8.28%",
          "x": "MEL",
          "y": -8.27750191468878
         },
         {
          "font": {
           "size": 10
          },
          "showarrow": false,
          "text": "31.52%",
          "x": "MRL",
          "y": 31.517690108364416
         },
         {
          "font": {
           "size": 10
          },
          "showarrow": false,
          "text": "46.62%",
          "x": "NTGY",
          "y": 46.62455661434899
         },
         {
          "font": {
           "size": 10
          },
          "showarrow": false,
          "text": "8.36%",
          "x": "RED",
          "y": 8.362180028341932
         },
         {
          "font": {
           "size": 10
          },
          "showarrow": false,
          "text": "44.32%",
          "x": "REP",
          "y": 44.315437854982406
         },
         {
          "font": {
           "size": 10
          },
          "showarrow": false,
          "text": "408.78%",
          "x": "ROVI",
          "y": 408.7793166157539
         },
         {
          "font": {
           "size": 10
          },
          "showarrow": false,
          "text": "147.53%",
          "x": "SCYR",
          "y": 147.52923931068614
         },
         {
          "font": {
           "size": 10
          },
          "showarrow": false,
          "text": "129.38%",
          "x": "SLR",
          "y": 129.3772025001283
         },
         {
          "font": {
           "size": 10
          },
          "showarrow": false,
          "text": "-15.26%",
          "x": "TEF",
          "y": -15.255927289455446
         },
         {
          "font": {
           "size": 10
          },
          "showarrow": false,
          "text": "26.91%",
          "x": "UNI",
          "y": 26.914859413208227
         }
        ],
        "height": 600,
        "template": {
         "data": {
          "bar": [
           {
            "error_x": {
             "color": "#2a3f5f"
            },
            "error_y": {
             "color": "#2a3f5f"
            },
            "marker": {
             "line": {
              "color": "#E5ECF6",
              "width": 0.5
             },
             "pattern": {
              "fillmode": "overlay",
              "size": 10,
              "solidity": 0.2
             }
            },
            "type": "bar"
           }
          ],
          "barpolar": [
           {
            "marker": {
             "line": {
              "color": "#E5ECF6",
              "width": 0.5
             },
             "pattern": {
              "fillmode": "overlay",
              "size": 10,
              "solidity": 0.2
             }
            },
            "type": "barpolar"
           }
          ],
          "carpet": [
           {
            "aaxis": {
             "endlinecolor": "#2a3f5f",
             "gridcolor": "white",
             "linecolor": "white",
             "minorgridcolor": "white",
             "startlinecolor": "#2a3f5f"
            },
            "baxis": {
             "endlinecolor": "#2a3f5f",
             "gridcolor": "white",
             "linecolor": "white",
             "minorgridcolor": "white",
             "startlinecolor": "#2a3f5f"
            },
            "type": "carpet"
           }
          ],
          "choropleth": [
           {
            "colorbar": {
             "outlinewidth": 0,
             "ticks": ""
            },
            "type": "choropleth"
           }
          ],
          "contour": [
           {
            "colorbar": {
             "outlinewidth": 0,
             "ticks": ""
            },
            "colorscale": [
             [
              0,
              "#0d0887"
             ],
             [
              0.1111111111111111,
              "#46039f"
             ],
             [
              0.2222222222222222,
              "#7201a8"
             ],
             [
              0.3333333333333333,
              "#9c179e"
             ],
             [
              0.4444444444444444,
              "#bd3786"
             ],
             [
              0.5555555555555556,
              "#d8576b"
             ],
             [
              0.6666666666666666,
              "#ed7953"
             ],
             [
              0.7777777777777778,
              "#fb9f3a"
             ],
             [
              0.8888888888888888,
              "#fdca26"
             ],
             [
              1,
              "#f0f921"
             ]
            ],
            "type": "contour"
           }
          ],
          "contourcarpet": [
           {
            "colorbar": {
             "outlinewidth": 0,
             "ticks": ""
            },
            "type": "contourcarpet"
           }
          ],
          "heatmap": [
           {
            "colorbar": {
             "outlinewidth": 0,
             "ticks": ""
            },
            "colorscale": [
             [
              0,
              "#0d0887"
             ],
             [
              0.1111111111111111,
              "#46039f"
             ],
             [
              0.2222222222222222,
              "#7201a8"
             ],
             [
              0.3333333333333333,
              "#9c179e"
             ],
             [
              0.4444444444444444,
              "#bd3786"
             ],
             [
              0.5555555555555556,
              "#d8576b"
             ],
             [
              0.6666666666666666,
              "#ed7953"
             ],
             [
              0.7777777777777778,
              "#fb9f3a"
             ],
             [
              0.8888888888888888,
              "#fdca26"
             ],
             [
              1,
              "#f0f921"
             ]
            ],
            "type": "heatmap"
           }
          ],
          "heatmapgl": [
           {
            "colorbar": {
             "outlinewidth": 0,
             "ticks": ""
            },
            "colorscale": [
             [
              0,
              "#0d0887"
             ],
             [
              0.1111111111111111,
              "#46039f"
             ],
             [
              0.2222222222222222,
              "#7201a8"
             ],
             [
              0.3333333333333333,
              "#9c179e"
             ],
             [
              0.4444444444444444,
              "#bd3786"
             ],
             [
              0.5555555555555556,
              "#d8576b"
             ],
             [
              0.6666666666666666,
              "#ed7953"
             ],
             [
              0.7777777777777778,
              "#fb9f3a"
             ],
             [
              0.8888888888888888,
              "#fdca26"
             ],
             [
              1,
              "#f0f921"
             ]
            ],
            "type": "heatmapgl"
           }
          ],
          "histogram": [
           {
            "marker": {
             "pattern": {
              "fillmode": "overlay",
              "size": 10,
              "solidity": 0.2
             }
            },
            "type": "histogram"
           }
          ],
          "histogram2d": [
           {
            "colorbar": {
             "outlinewidth": 0,
             "ticks": ""
            },
            "colorscale": [
             [
              0,
              "#0d0887"
             ],
             [
              0.1111111111111111,
              "#46039f"
             ],
             [
              0.2222222222222222,
              "#7201a8"
             ],
             [
              0.3333333333333333,
              "#9c179e"
             ],
             [
              0.4444444444444444,
              "#bd3786"
             ],
             [
              0.5555555555555556,
              "#d8576b"
             ],
             [
              0.6666666666666666,
              "#ed7953"
             ],
             [
              0.7777777777777778,
              "#fb9f3a"
             ],
             [
              0.8888888888888888,
              "#fdca26"
             ],
             [
              1,
              "#f0f921"
             ]
            ],
            "type": "histogram2d"
           }
          ],
          "histogram2dcontour": [
           {
            "colorbar": {
             "outlinewidth": 0,
             "ticks": ""
            },
            "colorscale": [
             [
              0,
              "#0d0887"
             ],
             [
              0.1111111111111111,
              "#46039f"
             ],
             [
              0.2222222222222222,
              "#7201a8"
             ],
             [
              0.3333333333333333,
              "#9c179e"
             ],
             [
              0.4444444444444444,
              "#bd3786"
             ],
             [
              0.5555555555555556,
              "#d8576b"
             ],
             [
              0.6666666666666666,
              "#ed7953"
             ],
             [
              0.7777777777777778,
              "#fb9f3a"
             ],
             [
              0.8888888888888888,
              "#fdca26"
             ],
             [
              1,
              "#f0f921"
             ]
            ],
            "type": "histogram2dcontour"
           }
          ],
          "mesh3d": [
           {
            "colorbar": {
             "outlinewidth": 0,
             "ticks": ""
            },
            "type": "mesh3d"
           }
          ],
          "parcoords": [
           {
            "line": {
             "colorbar": {
              "outlinewidth": 0,
              "ticks": ""
             }
            },
            "type": "parcoords"
           }
          ],
          "pie": [
           {
            "automargin": true,
            "type": "pie"
           }
          ],
          "scatter": [
           {
            "fillpattern": {
             "fillmode": "overlay",
             "size": 10,
             "solidity": 0.2
            },
            "type": "scatter"
           }
          ],
          "scatter3d": [
           {
            "line": {
             "colorbar": {
              "outlinewidth": 0,
              "ticks": ""
             }
            },
            "marker": {
             "colorbar": {
              "outlinewidth": 0,
              "ticks": ""
             }
            },
            "type": "scatter3d"
           }
          ],
          "scattercarpet": [
           {
            "marker": {
             "colorbar": {
              "outlinewidth": 0,
              "ticks": ""
             }
            },
            "type": "scattercarpet"
           }
          ],
          "scattergeo": [
           {
            "marker": {
             "colorbar": {
              "outlinewidth": 0,
              "ticks": ""
             }
            },
            "type": "scattergeo"
           }
          ],
          "scattergl": [
           {
            "marker": {
             "colorbar": {
              "outlinewidth": 0,
              "ticks": ""
             }
            },
            "type": "scattergl"
           }
          ],
          "scattermapbox": [
           {
            "marker": {
             "colorbar": {
              "outlinewidth": 0,
              "ticks": ""
             }
            },
            "type": "scattermapbox"
           }
          ],
          "scatterpolar": [
           {
            "marker": {
             "colorbar": {
              "outlinewidth": 0,
              "ticks": ""
             }
            },
            "type": "scatterpolar"
           }
          ],
          "scatterpolargl": [
           {
            "marker": {
             "colorbar": {
              "outlinewidth": 0,
              "ticks": ""
             }
            },
            "type": "scatterpolargl"
           }
          ],
          "scatterternary": [
           {
            "marker": {
             "colorbar": {
              "outlinewidth": 0,
              "ticks": ""
             }
            },
            "type": "scatterternary"
           }
          ],
          "surface": [
           {
            "colorbar": {
             "outlinewidth": 0,
             "ticks": ""
            },
            "colorscale": [
             [
              0,
              "#0d0887"
             ],
             [
              0.1111111111111111,
              "#46039f"
             ],
             [
              0.2222222222222222,
              "#7201a8"
             ],
             [
              0.3333333333333333,
              "#9c179e"
             ],
             [
              0.4444444444444444,
              "#bd3786"
             ],
             [
              0.5555555555555556,
              "#d8576b"
             ],
             [
              0.6666666666666666,
              "#ed7953"
             ],
             [
              0.7777777777777778,
              "#fb9f3a"
             ],
             [
              0.8888888888888888,
              "#fdca26"
             ],
             [
              1,
              "#f0f921"
             ]
            ],
            "type": "surface"
           }
          ],
          "table": [
           {
            "cells": {
             "fill": {
              "color": "#EBF0F8"
             },
             "line": {
              "color": "white"
             }
            },
            "header": {
             "fill": {
              "color": "#C8D4E3"
             },
             "line": {
              "color": "white"
             }
            },
            "type": "table"
           }
          ]
         },
         "layout": {
          "annotationdefaults": {
           "arrowcolor": "#2a3f5f",
           "arrowhead": 0,
           "arrowwidth": 1
          },
          "autotypenumbers": "strict",
          "coloraxis": {
           "colorbar": {
            "outlinewidth": 0,
            "ticks": ""
           }
          },
          "colorscale": {
           "diverging": [
            [
             0,
             "#8e0152"
            ],
            [
             0.1,
             "#c51b7d"
            ],
            [
             0.2,
             "#de77ae"
            ],
            [
             0.3,
             "#f1b6da"
            ],
            [
             0.4,
             "#fde0ef"
            ],
            [
             0.5,
             "#f7f7f7"
            ],
            [
             0.6,
             "#e6f5d0"
            ],
            [
             0.7,
             "#b8e186"
            ],
            [
             0.8,
             "#7fbc41"
            ],
            [
             0.9,
             "#4d9221"
            ],
            [
             1,
             "#276419"
            ]
           ],
           "sequential": [
            [
             0,
             "#0d0887"
            ],
            [
             0.1111111111111111,
             "#46039f"
            ],
            [
             0.2222222222222222,
             "#7201a8"
            ],
            [
             0.3333333333333333,
             "#9c179e"
            ],
            [
             0.4444444444444444,
             "#bd3786"
            ],
            [
             0.5555555555555556,
             "#d8576b"
            ],
            [
             0.6666666666666666,
             "#ed7953"
            ],
            [
             0.7777777777777778,
             "#fb9f3a"
            ],
            [
             0.8888888888888888,
             "#fdca26"
            ],
            [
             1,
             "#f0f921"
            ]
           ],
           "sequentialminus": [
            [
             0,
             "#0d0887"
            ],
            [
             0.1111111111111111,
             "#46039f"
            ],
            [
             0.2222222222222222,
             "#7201a8"
            ],
            [
             0.3333333333333333,
             "#9c179e"
            ],
            [
             0.4444444444444444,
             "#bd3786"
            ],
            [
             0.5555555555555556,
             "#d8576b"
            ],
            [
             0.6666666666666666,
             "#ed7953"
            ],
            [
             0.7777777777777778,
             "#fb9f3a"
            ],
            [
             0.8888888888888888,
             "#fdca26"
            ],
            [
             1,
             "#f0f921"
            ]
           ]
          },
          "colorway": [
           "#636efa",
           "#EF553B",
           "#00cc96",
           "#ab63fa",
           "#FFA15A",
           "#19d3f3",
           "#FF6692",
           "#B6E880",
           "#FF97FF",
           "#FECB52"
          ],
          "font": {
           "color": "#2a3f5f"
          },
          "geo": {
           "bgcolor": "white",
           "lakecolor": "white",
           "landcolor": "#E5ECF6",
           "showlakes": true,
           "showland": true,
           "subunitcolor": "white"
          },
          "hoverlabel": {
           "align": "left"
          },
          "hovermode": "closest",
          "mapbox": {
           "style": "light"
          },
          "paper_bgcolor": "white",
          "plot_bgcolor": "#E5ECF6",
          "polar": {
           "angularaxis": {
            "gridcolor": "white",
            "linecolor": "white",
            "ticks": ""
           },
           "bgcolor": "#E5ECF6",
           "radialaxis": {
            "gridcolor": "white",
            "linecolor": "white",
            "ticks": ""
           }
          },
          "scene": {
           "xaxis": {
            "backgroundcolor": "#E5ECF6",
            "gridcolor": "white",
            "gridwidth": 2,
            "linecolor": "white",
            "showbackground": true,
            "ticks": "",
            "zerolinecolor": "white"
           },
           "yaxis": {
            "backgroundcolor": "#E5ECF6",
            "gridcolor": "white",
            "gridwidth": 2,
            "linecolor": "white",
            "showbackground": true,
            "ticks": "",
            "zerolinecolor": "white"
           },
           "zaxis": {
            "backgroundcolor": "#E5ECF6",
            "gridcolor": "white",
            "gridwidth": 2,
            "linecolor": "white",
            "showbackground": true,
            "ticks": "",
            "zerolinecolor": "white"
           }
          },
          "shapedefaults": {
           "line": {
            "color": "#2a3f5f"
           }
          },
          "ternary": {
           "aaxis": {
            "gridcolor": "white",
            "linecolor": "white",
            "ticks": ""
           },
           "baxis": {
            "gridcolor": "white",
            "linecolor": "white",
            "ticks": ""
           },
           "bgcolor": "#E5ECF6",
           "caxis": {
            "gridcolor": "white",
            "linecolor": "white",
            "ticks": ""
           }
          },
          "title": {
           "x": 0.05
          },
          "xaxis": {
           "automargin": true,
           "gridcolor": "white",
           "linecolor": "white",
           "ticks": "",
           "title": {
            "standoff": 15
           },
           "zerolinecolor": "white",
           "zerolinewidth": 2
          },
          "yaxis": {
           "automargin": true,
           "gridcolor": "white",
           "linecolor": "white",
           "ticks": "",
           "title": {
            "standoff": 15
           },
           "zerolinecolor": "white",
           "zerolinewidth": 2
          }
         }
        },
        "title": {
         "text": "Rentabilidad de las empresas del IBEX 35 en el intervalo especificado"
        },
        "width": 1000,
        "xaxis": {
         "tickangle": 45,
         "tickfont": {
          "size": 12
         },
         "title": {
          "text": "Empresa"
         }
        },
        "yaxis": {
         "tickfont": {
          "size": 12
         },
         "title": {
          "text": "Rentabilidad (%)"
         }
        }
       }
      }
     },
     "metadata": {},
     "output_type": "display_data"
    }
   ],
   "source": [
    "import plotly.graph_objects as go\n",
    "\n",
    "# Crear el gráfico de barras interactivo\n",
    "fig = go.Figure(data=[go.Bar(x=tabla_rentabilidad_completa['Empresa'], \n",
    "                             y=tabla_rentabilidad_completa['Rentabilidad (%)'],\n",
    "                             marker_color='skyblue')])\n",
    "\n",
    "# Agregar texto con el valor de rentabilidad encima de cada barra\n",
    "for i, rentabilidad in enumerate(tabla_rentabilidad_completa['Rentabilidad (%)']):\n",
    "    fig.add_annotation(x=tabla_rentabilidad_completa['Empresa'][i], y=rentabilidad,\n",
    "                       text=str(round(rentabilidad, 2)) + '%',\n",
    "                       font=dict(size=10),\n",
    "                       showarrow=False)\n",
    "\n",
    "# Diseño del gráfico\n",
    "fig.update_layout(title='Rentabilidad de las empresas del IBEX 35 en el intervalo especificado',\n",
    "                  xaxis=dict(title='Empresa', tickangle=45, tickfont=dict(size=12)),\n",
    "                  yaxis=dict(title='Rentabilidad (%)', tickfont=dict(size=12)),\n",
    "                  height=600, width=1000)\n",
    "\n",
    "fig.show()"
   ]
  }
 ],
 "metadata": {
  "kernelspec": {
   "display_name": "Python 3",
   "language": "python",
   "name": "python3"
  },
  "language_info": {
   "codemirror_mode": {
    "name": "ipython",
    "version": 3
   },
   "file_extension": ".py",
   "mimetype": "text/x-python",
   "name": "python",
   "nbconvert_exporter": "python",
   "pygments_lexer": "ipython3",
   "version": "3.12.1"
  }
 },
 "nbformat": 4,
 "nbformat_minor": 2
}
